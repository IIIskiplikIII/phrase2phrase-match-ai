{
 "cells": [
  {
   "cell_type": "markdown",
   "metadata": {},
   "source": [
    "# Introduction"
   ]
  },
  {
   "cell_type": "markdown",
   "metadata": {},
   "source": [
    "# Imports and Datasets"
   ]
  },
  {
   "cell_type": "code",
   "execution_count": 1,
   "metadata": {},
   "outputs": [
    {
     "name": "stderr",
     "output_type": "stream",
     "text": [
      "d:\\anaconda3\\envs\\wingpuflake_keras_GPU\\lib\\site-packages\\tqdm\\auto.py:22: TqdmWarning: IProgress not found. Please update jupyter and ipywidgets. See https://ipywidgets.readthedocs.io/en/stable/user_install.html\n",
      "  from .autonotebook import tqdm as notebook_tqdm\n"
     ]
    },
    {
     "name": "stdout",
     "output_type": "stream",
     "text": [
      "Tensorflow Version: 2.8.0\n",
      "Keras Version: 2.8.0\n",
      "---Tensorflow is running with GPU Power now---\n",
      "Device mapping:\n",
      "/job:localhost/replica:0/task:0/device:GPU:0 -> device: 0, name: NVIDIA GeForce RTX 2080 Ti, pci bus id: 0000:04:00.0, compute capability: 7.5\n",
      "/job:localhost/replica:0/task:0/device:GPU:1 -> device: 1, name: NVIDIA GeForce RTX 2080 Ti, pci bus id: 0000:09:00.0, compute capability: 7.5\n",
      "\n",
      "f:\\python-workspace\\phrase2phrase-match-ai\\data\\input\\us-patent-phrase-to-phrase-matching\\sample_submission.csv\n",
      "f:\\python-workspace\\phrase2phrase-match-ai\\data\\input\\us-patent-phrase-to-phrase-matching\\test.csv\n",
      "f:\\python-workspace\\phrase2phrase-match-ai\\data\\input\\us-patent-phrase-to-phrase-matching\\train.csv\n"
     ]
    }
   ],
   "source": [
    "import sys\n",
    "assert sys.version_info >= (3,5)\n",
    "import os\n",
    "import pathlib\n",
    "\n",
    "# Is this notebook running on Colab or Kaggle?\n",
    "IS_COLAB = \"google.colab\" in sys.modules\n",
    "IS_KAGGLE = \"kaggle_secrets\" in sys.modules\n",
    "\n",
    "import numpy as np\n",
    "import pandas as pd\n",
    "import matplotlib.pyplot as plt\n",
    "from functools import partial\n",
    "import seaborn as sns\n",
    "\n",
    "from sklearn.model_selection import train_test_split\n",
    "from sklearn.pipeline import Pipeline\n",
    "from sklearn.preprocessing import StandardScaler\n",
    "from sklearn.preprocessing import Normalizer\n",
    "from sklearn.preprocessing import LabelEncoder\n",
    "\n",
    "import nltk\n",
    "from string import punctuation\n",
    "from collections import Counter\n",
    "\n",
    "from scipy.spatial.distance import cosine\n",
    "\n",
    "import tensorflow as tf\n",
    "from tensorflow import keras\n",
    "from keras.preprocessing.text import Tokenizer\n",
    "from keras.preprocessing.sequence import pad_sequences\n",
    "from keras import layers\n",
    "from keras.layers import Embedding, LSTM, Dense, Dropout, CuDNNLSTM, Bidirectional\n",
    "from keras.layers.merge import concatenate\n",
    "from transformers import BertTokenizer, TFDebertaModel\n",
    "\n",
    "#import mlflow\n",
    "#from mlflow import log_metric, log_param, log_artifacts\n",
    "#import mlflow.tensorflow\n",
    "#from mlflow import pyfunc\n",
    "\n",
    "assert tf.__version__ >= \"2.0\"\n",
    "\n",
    "print(f\"Tensorflow Version: {tf.__version__}\")\n",
    "print(f\"Keras Version: {keras.__version__}\")\n",
    "\n",
    "if not tf.config.list_physical_devices('GPU'):\n",
    "    print(\"No GPU was detected. LSTMs and CNNs can be very slow without a GPU.\")\n",
    "    if IS_COLAB:\n",
    "        print(\"Go to Runtime > Change runtime and select a GPU hardware accelerator.\")\n",
    "    if IS_KAGGLE:\n",
    "        print(\"Go to Settings > Accelerator and select GPU.\")\n",
    "else:\n",
    "    print(f'---Tensorflow is running with GPU Power now---')\n",
    "    sess = tf.compat.v1.Session(config=tf.compat.v1.ConfigProto(log_device_placement=True))\n",
    "    \n",
    "\n",
    "\n",
    "random_state=42\n",
    "tf.random.set_seed(random_state)\n",
    "np.random.seed(random_state)\n",
    "\n",
    "iskaggle = os.environ.get('KAGGLE_KERNEL_RUN_TYPE','')\n",
    "#kaggle = 0 # Kaggle path active = 1\n",
    "\n",
    "MAIN_PATH = os.getcwd()\n",
    "\n",
    "# change your local path here\n",
    "if iskaggle:\n",
    "    DATA_PATH = os.path.join(MAIN_PATH, 'input')\n",
    "    PHRASES_PATH = os.path.join(DATA_PATH, 'us-patent-phrase-to-phrase-matching')\n",
    "else:\n",
    "    DATA_PATH = os.path.join(MAIN_PATH, 'data')\n",
    "    PHRASES_PATH = os.path.join(DATA_PATH,'input\\\\us-patent-phrase-to-phrase-matching')\n",
    "\n",
    "\n",
    "\n",
    "for dirname, _, filenames in os.walk(PHRASES_PATH): \n",
    "    for filename in filenames:\n",
    "        print(os.path.join(dirname, filename))\n",
    "        "
   ]
  },
  {
   "cell_type": "code",
   "execution_count": 2,
   "metadata": {},
   "outputs": [
    {
     "data": {
      "text/plain": [
       "'f:\\\\python-workspace\\\\phrase2phrase-match-ai\\\\data'"
      ]
     },
     "execution_count": 2,
     "metadata": {},
     "output_type": "execute_result"
    }
   ],
   "source": [
    "DATA_PATH"
   ]
  },
  {
   "cell_type": "markdown",
   "metadata": {},
   "source": [
    "# Get the Data"
   ]
  },
  {
   "cell_type": "code",
   "execution_count": 3,
   "metadata": {},
   "outputs": [
    {
     "name": "stdout",
     "output_type": "stream",
     "text": [
      "Length of loaded trainset: 36473\n",
      "Length of loaded testset: 36\n",
      "Length of loaded competition file: 36\n",
      "Length of loaded cpc_codeset: 260476\n"
     ]
    }
   ],
   "source": [
    "# Data path and file\n",
    "CSV_FILE_TRAIN='train.csv'\n",
    "CSV_FILE_TEST='test.csv'\n",
    "CSV_FILE_COMF='sample_submission.csv'\n",
    "CSV_FILE_CPC='titles.csv'\n",
    "CPC_PATH='input\\\\cpc-codes'\n",
    "\n",
    "def load_csv_data(path, csv_file):\n",
    "    csv_path = os.path.join(path, csv_file)\n",
    "    return pd.read_csv(csv_path)\n",
    "\n",
    "def load_csv_data_manuel(path, csv_file):\n",
    "    csv_path = os.path.join(path, csv_file)\n",
    "    csv_file = open(csv_path, 'r')\n",
    "    csv_data = csv_file.readlines()\n",
    "    csv_file.close()\n",
    "    return csv_data\n",
    "    \n",
    "\n",
    "train = load_csv_data(PHRASES_PATH,CSV_FILE_TRAIN)\n",
    "test = load_csv_data(PHRASES_PATH,CSV_FILE_TEST)\n",
    "competition_file = load_csv_data(PHRASES_PATH,CSV_FILE_COMF)\n",
    "cpc_code = load_csv_data(os.path.join(DATA_PATH, CPC_PATH), CSV_FILE_CPC)\n",
    "\n",
    "\n",
    "print(f'Length of loaded trainset: {len(train)}')\n",
    "print(f'Length of loaded testset: {len(test)}')\n",
    "print(f'Length of loaded competition file: {len(competition_file)}')\n",
    "print(f'Length of loaded cpc_codeset: {len(cpc_code)}')"
   ]
  },
  {
   "cell_type": "code",
   "execution_count": 4,
   "metadata": {},
   "outputs": [],
   "source": [
    "train = train.join(cpc_code.set_index('code'), on = 'context')\n",
    "test = test.join(cpc_code.set_index('code'), on = 'context')"
   ]
  },
  {
   "cell_type": "markdown",
   "metadata": {},
   "source": [
    "# Data Understanding"
   ]
  },
  {
   "cell_type": "markdown",
   "metadata": {},
   "source": [
    "## Given Attributes\n",
    "- id - a unique identifier for a pair of phrases\n",
    "- anchor - the first phrase\n",
    "- target - the second phrase\n",
    "- context - the CPC classification (version 2021.05), which indicates the subject within which the similarity is to be scored\n",
    "- score - the similarity. This is sourced from a combination of one or more manual expert ratings.\n",
    "\n",
    "\n",
    "## Score\n",
    "The scores are in the 0-1 range with increments of 0.25 with the following meanings:\n",
    "\n",
    "- 1.0 - Very close match. This is typically an exact match except possibly for differences in conjugation, quantity (e.g. singular vs. plural), and addition or removal of stopwords (e.g. “the”, “and”, “or”).\n",
    "- 0.75 - Close synonym, e.g. “mobile phone” vs. “cellphone”. This also includes abbreviations, e.g. \"TCP\" -> \"transmission control protocol\".\n",
    "- 0.5 - Synonyms which don’t have the same meaning (same function, same properties). This includes broad-narrow (hyponym) and narrow-broad (hypernym) matches.\n",
    "- 0.25 - Somewhat related, e.g. the two phrases are in the same high level domain but are not synonyms. This also includes antonyms.\n",
    "- 0.0 - Unrelated."
   ]
  },
  {
   "cell_type": "code",
   "execution_count": 5,
   "metadata": {},
   "outputs": [
    {
     "data": {
      "text/plain": [
       "component composite coating              152\n",
       "sheet supply roller                      150\n",
       "source voltage                           140\n",
       "perfluoroalkyl group                     136\n",
       "el display                               135\n",
       "                                        ... \n",
       "plug nozzle                                2\n",
       "shannon                                    2\n",
       "dry coating composition1                   2\n",
       "peripheral nervous system stimulation      1\n",
       "conduct conducting material                1\n",
       "Name: anchor, Length: 733, dtype: int64"
      ]
     },
     "execution_count": 5,
     "metadata": {},
     "output_type": "execute_result"
    }
   ],
   "source": [
    "train['anchor'].value_counts(dropna=False)"
   ]
  },
  {
   "cell_type": "markdown",
   "metadata": {},
   "source": [
    "The anchor value has 733 different values. Lets look at the target value."
   ]
  },
  {
   "cell_type": "code",
   "execution_count": 6,
   "metadata": {},
   "outputs": [
    {
     "data": {
      "text/plain": [
       "composition                    24\n",
       "data                           22\n",
       "metal                          22\n",
       "motor                          22\n",
       "assembly                       21\n",
       "                               ..\n",
       "switching switch over valve     1\n",
       "switching switch off valve      1\n",
       "switching over valve            1\n",
       "switching off valve             1\n",
       "wooden substrate                1\n",
       "Name: target, Length: 29340, dtype: int64"
      ]
     },
     "execution_count": 6,
     "metadata": {},
     "output_type": "execute_result"
    }
   ],
   "source": [
    "train['target'].value_counts(dropna=False)"
   ]
  },
  {
   "cell_type": "markdown",
   "metadata": {},
   "source": [
    "The target looks a little bit different. Here we have 29,340 different values."
   ]
  },
  {
   "cell_type": "code",
   "execution_count": 7,
   "metadata": {},
   "outputs": [
    {
     "data": {
      "text/plain": [
       "0.50    12300\n",
       "0.25    11519\n",
       "0.00     7471\n",
       "0.75     4029\n",
       "1.00     1154\n",
       "Name: score, dtype: int64"
      ]
     },
     "execution_count": 7,
     "metadata": {},
     "output_type": "execute_result"
    }
   ],
   "source": [
    "train['score'].value_counts(dropna=False)"
   ]
  },
  {
   "cell_type": "code",
   "execution_count": 8,
   "metadata": {},
   "outputs": [
    {
     "data": {
      "text/plain": [
       "<AxesSubplot:>"
      ]
     },
     "execution_count": 8,
     "metadata": {},
     "output_type": "execute_result"
    },
    {
     "data": {
      "image/png": "[encoded data removed]",
      "text/plain": [
       "<Figure size 432x288 with 1 Axes>"
      ]
     },
     "metadata": {
      "needs_background": "light"
     },
     "output_type": "display_data"
    }
   ],
   "source": [
    "train['score'].value_counts(dropna=False).sort_index().plot.bar()"
   ]
  },
  {
   "cell_type": "code",
   "execution_count": 9,
   "metadata": {},
   "outputs": [
    {
     "data": {
      "text/html": [
       "<div>\n",
       "<style scoped>\n",
       "    .dataframe tbody tr th:only-of-type {\n",
       "        vertical-align: middle;\n",
       "    }\n",
       "\n",
       "    .dataframe tbody tr th {\n",
       "        vertical-align: top;\n",
       "    }\n",
       "\n",
       "    .dataframe thead th {\n",
       "        text-align: right;\n",
       "    }\n",
       "</style>\n",
       "<table border=\"1\" class=\"dataframe\">\n",
       "  <thead>\n",
       "    <tr style=\"text-align: right;\">\n",
       "      <th></th>\n",
       "      <th></th>\n",
       "      <th>id</th>\n",
       "      <th>target</th>\n",
       "      <th>score</th>\n",
       "      <th>title</th>\n",
       "      <th>section</th>\n",
       "      <th>class</th>\n",
       "      <th>subclass</th>\n",
       "      <th>group</th>\n",
       "      <th>main_group</th>\n",
       "    </tr>\n",
       "    <tr>\n",
       "      <th>anchor</th>\n",
       "      <th>context</th>\n",
       "      <th></th>\n",
       "      <th></th>\n",
       "      <th></th>\n",
       "      <th></th>\n",
       "      <th></th>\n",
       "      <th></th>\n",
       "      <th></th>\n",
       "      <th></th>\n",
       "      <th></th>\n",
       "    </tr>\n",
       "  </thead>\n",
       "  <tbody>\n",
       "    <tr>\n",
       "      <th rowspan=\"5\" valign=\"top\">abatement</th>\n",
       "      <th>A47</th>\n",
       "      <td>21</td>\n",
       "      <td>21</td>\n",
       "      <td>21</td>\n",
       "      <td>21</td>\n",
       "      <td>21</td>\n",
       "      <td>21</td>\n",
       "      <td>0</td>\n",
       "      <td>0</td>\n",
       "      <td>0</td>\n",
       "    </tr>\n",
       "    <tr>\n",
       "      <th>A61</th>\n",
       "      <td>3</td>\n",
       "      <td>3</td>\n",
       "      <td>3</td>\n",
       "      <td>3</td>\n",
       "      <td>3</td>\n",
       "      <td>3</td>\n",
       "      <td>0</td>\n",
       "      <td>0</td>\n",
       "      <td>0</td>\n",
       "    </tr>\n",
       "    <tr>\n",
       "      <th>A62</th>\n",
       "      <td>1</td>\n",
       "      <td>1</td>\n",
       "      <td>1</td>\n",
       "      <td>1</td>\n",
       "      <td>1</td>\n",
       "      <td>1</td>\n",
       "      <td>0</td>\n",
       "      <td>0</td>\n",
       "      <td>0</td>\n",
       "    </tr>\n",
       "    <tr>\n",
       "      <th>C01</th>\n",
       "      <td>1</td>\n",
       "      <td>1</td>\n",
       "      <td>1</td>\n",
       "      <td>1</td>\n",
       "      <td>1</td>\n",
       "      <td>1</td>\n",
       "      <td>0</td>\n",
       "      <td>0</td>\n",
       "      <td>0</td>\n",
       "    </tr>\n",
       "    <tr>\n",
       "      <th>F16</th>\n",
       "      <td>1</td>\n",
       "      <td>1</td>\n",
       "      <td>1</td>\n",
       "      <td>1</td>\n",
       "      <td>1</td>\n",
       "      <td>1</td>\n",
       "      <td>0</td>\n",
       "      <td>0</td>\n",
       "      <td>0</td>\n",
       "    </tr>\n",
       "    <tr>\n",
       "      <th>...</th>\n",
       "      <th>...</th>\n",
       "      <td>...</td>\n",
       "      <td>...</td>\n",
       "      <td>...</td>\n",
       "      <td>...</td>\n",
       "      <td>...</td>\n",
       "      <td>...</td>\n",
       "      <td>...</td>\n",
       "      <td>...</td>\n",
       "      <td>...</td>\n",
       "    </tr>\n",
       "    <tr>\n",
       "      <th rowspan=\"2\" valign=\"top\">wiring trough</th>\n",
       "      <th>F16</th>\n",
       "      <td>27</td>\n",
       "      <td>27</td>\n",
       "      <td>27</td>\n",
       "      <td>27</td>\n",
       "      <td>27</td>\n",
       "      <td>27</td>\n",
       "      <td>0</td>\n",
       "      <td>0</td>\n",
       "      <td>0</td>\n",
       "    </tr>\n",
       "    <tr>\n",
       "      <th>H02</th>\n",
       "      <td>18</td>\n",
       "      <td>18</td>\n",
       "      <td>18</td>\n",
       "      <td>18</td>\n",
       "      <td>18</td>\n",
       "      <td>18</td>\n",
       "      <td>0</td>\n",
       "      <td>0</td>\n",
       "      <td>0</td>\n",
       "    </tr>\n",
       "    <tr>\n",
       "      <th rowspan=\"3\" valign=\"top\">wood article</th>\n",
       "      <th>B05</th>\n",
       "      <td>28</td>\n",
       "      <td>28</td>\n",
       "      <td>28</td>\n",
       "      <td>28</td>\n",
       "      <td>28</td>\n",
       "      <td>28</td>\n",
       "      <td>0</td>\n",
       "      <td>0</td>\n",
       "      <td>0</td>\n",
       "    </tr>\n",
       "    <tr>\n",
       "      <th>B27</th>\n",
       "      <td>1</td>\n",
       "      <td>1</td>\n",
       "      <td>1</td>\n",
       "      <td>1</td>\n",
       "      <td>1</td>\n",
       "      <td>1</td>\n",
       "      <td>0</td>\n",
       "      <td>0</td>\n",
       "      <td>0</td>\n",
       "    </tr>\n",
       "    <tr>\n",
       "      <th>B44</th>\n",
       "      <td>27</td>\n",
       "      <td>27</td>\n",
       "      <td>27</td>\n",
       "      <td>27</td>\n",
       "      <td>27</td>\n",
       "      <td>27</td>\n",
       "      <td>0</td>\n",
       "      <td>0</td>\n",
       "      <td>0</td>\n",
       "    </tr>\n",
       "  </tbody>\n",
       "</table>\n",
       "<p>1699 rows × 9 columns</p>\n",
       "</div>"
      ],
      "text/plain": [
       "                       id  target  score  title  section  class  subclass  \\\n",
       "anchor        context                                                       \n",
       "abatement     A47      21      21     21     21       21     21         0   \n",
       "              A61       3       3      3      3        3      3         0   \n",
       "              A62       1       1      1      1        1      1         0   \n",
       "              C01       1       1      1      1        1      1         0   \n",
       "              F16       1       1      1      1        1      1         0   \n",
       "...                    ..     ...    ...    ...      ...    ...       ...   \n",
       "wiring trough F16      27      27     27     27       27     27         0   \n",
       "              H02      18      18     18     18       18     18         0   \n",
       "wood article  B05      28      28     28     28       28     28         0   \n",
       "              B27       1       1      1      1        1      1         0   \n",
       "              B44      27      27     27     27       27     27         0   \n",
       "\n",
       "                       group  main_group  \n",
       "anchor        context                     \n",
       "abatement     A47          0           0  \n",
       "              A61          0           0  \n",
       "              A62          0           0  \n",
       "              C01          0           0  \n",
       "              F16          0           0  \n",
       "...                      ...         ...  \n",
       "wiring trough F16          0           0  \n",
       "              H02          0           0  \n",
       "wood article  B05          0           0  \n",
       "              B27          0           0  \n",
       "              B44          0           0  \n",
       "\n",
       "[1699 rows x 9 columns]"
      ]
     },
     "execution_count": 9,
     "metadata": {},
     "output_type": "execute_result"
    }
   ],
   "source": [
    "train.groupby(['anchor', 'context']).count()"
   ]
  },
  {
   "cell_type": "markdown",
   "metadata": {},
   "source": [
    "# Data Preparation"
   ]
  },
  {
   "cell_type": "code",
   "execution_count": 10,
   "metadata": {},
   "outputs": [],
   "source": [
    "# Preparing cpc text \n",
    "# Build a function around it ?????? !!!!!!!!!!!!!!!!!\n",
    "train['title'] = train.title.apply(lambda text: text.split(';'))\n",
    "train['title'] = train.title.apply(lambda context: ' '.join(context))\n",
    "\n",
    "#train.title.apply(lambda text: (lambda text: text.split(';'))(' '.join(text)))"
   ]
  },
  {
   "cell_type": "code",
   "execution_count": 11,
   "metadata": {},
   "outputs": [],
   "source": [
    "train['corpus'] = train['anchor'] + ' ' + train['target']\n",
    "train['corpus_w_context'] = train['corpus'] + ' ' +  train['context']\n",
    "train['corpus_w_full_context'] = train['corpus'] + ' ' + train['title']\n",
    "\n",
    "test['corpus'] = test['anchor'] + ' ' + test['target']\n",
    "test['corpus_w_full_context'] = train['corpus'] + ' ' + train['title']"
   ]
  },
  {
   "cell_type": "markdown",
   "metadata": {},
   "source": [
    "#### Identifing the features and the target."
   ]
  },
  {
   "cell_type": "code",
   "execution_count": 12,
   "metadata": {},
   "outputs": [],
   "source": [
    "y = train[['id','score']].copy()\n",
    "X = train[['id','anchor','target','context', 'corpus', 'title', 'corpus_w_context', 'corpus_w_full_context']].copy()"
   ]
  },
  {
   "cell_type": "markdown",
   "metadata": {},
   "source": [
    "## Training - Validation Split"
   ]
  },
  {
   "cell_type": "code",
   "execution_count": 13,
   "metadata": {},
   "outputs": [],
   "source": [
    "X_train, X_val, y_train, y_val = train_test_split(X, y, test_size=0.3, stratify=y['score'])"
   ]
  },
  {
   "cell_type": "code",
   "execution_count": 14,
   "metadata": {},
   "outputs": [
    {
     "name": "stdout",
     "output_type": "stream",
     "text": [
      "Length of training_target - list: 25531\n",
      "Length of training_content - list: 25531\n",
      "Length of training_content_w_context - list: 25531\n",
      "Length of training_content_full - list: 25531\n",
      "Length of validating_content - list: 10942\n",
      "Length of validating_content_w_context - list: 10942\n",
      "Length of validating_content_full - list: 10942\n",
      "Length of test_content - list: 36\n",
      "Length of test_content_full - list: 36\n"
     ]
    }
   ],
   "source": [
    "training_target = X_train['target']\n",
    "print(f'Length of training_target - list: {len(training_target)}')\n",
    "\n",
    "training_content = X_train['corpus']\n",
    "print(f'Length of training_content - list: {len(training_content)}')\n",
    "\n",
    "training_content_w_context = X_train['corpus_w_context']\n",
    "print(f'Length of training_content_w_context - list: {len(training_content_w_context)}')\n",
    "\n",
    "training_content_full = X_train['corpus_w_full_context']\n",
    "print(f'Length of training_content_full - list: {len(training_content_full)}')\n",
    "\n",
    "\n",
    "validating_content = X_val['corpus']\n",
    "print(f'Length of validating_content - list: {len(validating_content)}')\n",
    "\n",
    "validating_content_w_context = X_val['corpus_w_context']\n",
    "print(f'Length of validating_content_w_context - list: {len(validating_content_w_context)}')\n",
    "\n",
    "validating_content_full = X_val['corpus_w_full_context']\n",
    "print(f'Length of validating_content_full - list: {len(validating_content_full)}')\n",
    "\n",
    "\n",
    "test_content = test['corpus']\n",
    "print(f'Length of test_content - list: {len(test_content)}')\n",
    "\n",
    "test_content_full = test['corpus_w_full_context']\n",
    "print(f'Length of test_content_full - list: {len(test_content_full)}')\n",
    "\n",
    "training_labels = y_train['score']\n",
    "validating_labels = y_val['score']\n",
    "\n",
    "training_labels = np.asarray(training_labels)\n",
    "validating_labels = np.asarray(validating_labels)"
   ]
  },
  {
   "cell_type": "markdown",
   "metadata": {},
   "source": [
    "#### Label Encoding"
   ]
  },
  {
   "cell_type": "code",
   "execution_count": 15,
   "metadata": {},
   "outputs": [],
   "source": [
    "encoder = LabelEncoder()\n",
    "encoder.fit(y_train['score'])\n",
    "\n",
    "training_labels = encoder.transform(training_labels)\n",
    "validating_labels = encoder.transform(validating_labels)\n",
    "\n",
    "training_labels = training_labels.reshape(-1, 1)\n",
    "validating_labels = validating_labels.reshape(-1, 1)"
   ]
  },
  {
   "cell_type": "markdown",
   "metadata": {},
   "source": [
    "## Data Cleaning"
   ]
  },
  {
   "cell_type": "markdown",
   "metadata": {},
   "source": [
    "### Tokenization, Encoding and Padding"
   ]
  },
  {
   "cell_type": "code",
   "execution_count": 16,
   "metadata": {},
   "outputs": [],
   "source": [
    "def extract_words(document, alpha=True):\n",
    "    '''Extracing words from a sentence or full text.\n",
    "\n",
    "    Parameters\n",
    "    ----------\n",
    "    document: str\n",
    "        Text that needs to be tokenized by nltk word_tokenize.\n",
    "    alpha: bool\n",
    "        Keep only letters or not. \n",
    "    \n",
    "    Returns\n",
    "    -------\n",
    "    set\n",
    "        A set of words from the given text.\n",
    "    '''\n",
    "    if alpha == True:\n",
    "        return set(\n",
    "            word.lower() for word in nltk.word_tokenize(document)\n",
    "            if any(c.isalpha() for c in word)\n",
    "        )\n",
    "    else:\n",
    "        return set(\n",
    "            word.lower() for word in nltk.word_tokenize(document)\n",
    "        )\n"
   ]
  },
  {
   "cell_type": "code",
   "execution_count": 17,
   "metadata": {},
   "outputs": [],
   "source": [
    "def process_docs(docs):\n",
    "    content = []\n",
    "    for doc in docs:\n",
    "        content.append(extract_words(doc))\n",
    "    return content\n",
    "\n",
    "def max_length(lines):\n",
    "    return max([len(s.split()) for s in lines])"
   ]
  },
  {
   "cell_type": "code",
   "execution_count": 18,
   "metadata": {},
   "outputs": [],
   "source": [
    "def create_tokenizer(lines):\n",
    "    tokenizer = Tokenizer()\n",
    "    tokenizer.fit_on_texts(lines)\n",
    "    return tokenizer\n",
    "\n",
    "def encode_text(tokenizer, lines, length):\n",
    "    sequences = tokenizer.texts_to_sequences(lines)\n",
    "    padded = pad_sequences(sequences, maxlen=length)\n",
    "    return padded\n"
   ]
  },
  {
   "cell_type": "code",
   "execution_count": 19,
   "metadata": {},
   "outputs": [],
   "source": [
    "tokenizer = create_tokenizer(training_content_full)"
   ]
  },
  {
   "cell_type": "code",
   "execution_count": 20,
   "metadata": {},
   "outputs": [],
   "source": [
    "vocab_size = len(tokenizer.word_index) + 1\n",
    "max_line_length = max_length(training_content_full)\n",
    "word_count = tokenizer.word_counts\n",
    "word_index = tokenizer.word_index\n",
    "oov_tok = \"<OOV>\"\n"
   ]
  },
  {
   "cell_type": "code",
   "execution_count": 21,
   "metadata": {},
   "outputs": [
    {
     "name": "stdout",
     "output_type": "stream",
     "text": [
      "Shape training set (encoded): (25531, 51)\n",
      "Shape validating set (encoded): (10942, 51)\n",
      "Vocabulary size: 7750\n",
      "Max line lenght: 51\n"
     ]
    }
   ],
   "source": [
    "training_content_enc = encode_text(tokenizer, training_content_full, max_line_length)\n",
    "print(f'Shape training set (encoded): {training_content_enc.shape}')\n",
    "\n",
    "validating_content_enc = encode_text(tokenizer, validating_content_full, max_line_length)\n",
    "print(f'Shape validating set (encoded): {validating_content_enc.shape}')\n",
    "\n",
    "print(f'Vocabulary size: {vocab_size}')\n",
    "print(f'Max line lenght: {max_line_length}')"
   ]
  },
  {
   "cell_type": "markdown",
   "metadata": {},
   "source": [
    "# Model Development Based on Glove"
   ]
  },
  {
   "cell_type": "markdown",
   "metadata": {},
   "source": [
    "## Pre-Trained Embeddings Load"
   ]
  },
  {
   "cell_type": "code",
   "execution_count": 22,
   "metadata": {},
   "outputs": [],
   "source": [
    "path_to_glove_file = os.path.join(\n",
    "    os.getcwd(), \"data\\\\glove.6B\\\\glove.6B.300d.txt\"\n",
    ")"
   ]
  },
  {
   "cell_type": "code",
   "execution_count": 23,
   "metadata": {},
   "outputs": [
    {
     "name": "stdout",
     "output_type": "stream",
     "text": [
      "Found 400000 word vectors.\n"
     ]
    }
   ],
   "source": [
    "embeddings_index = {}\n",
    "with open(path_to_glove_file ,encoding=\"utf8\") as f:\n",
    "    for line in f:\n",
    "        word, coefs = line.split(maxsplit=1)\n",
    "        coefs = np.fromstring(coefs, \"f\", sep=\" \")\n",
    "        embeddings_index[word] = coefs\n",
    "\n",
    "print(f\"Found {len(embeddings_index)} word vectors.\")"
   ]
  },
  {
   "cell_type": "markdown",
   "metadata": {},
   "source": [
    "Params for the Glove based model"
   ]
  },
  {
   "cell_type": "code",
   "execution_count": 24,
   "metadata": {},
   "outputs": [],
   "source": [
    "# Main params for the model\n",
    "embedding_dim = 300 # according to the pretrained network\n",
    "hits = 0\n",
    "misses = 0\n",
    "lr = 0.000008\n",
    "batch_size = 512\n",
    "num_epochs = 50"
   ]
  },
  {
   "cell_type": "markdown",
   "metadata": {},
   "source": [
    "Preparing a corresponding embedding matrix for the Embedding layer in Keras.\n",
    "\n",
    "According to the choosen pre-trained embedding matrix we need to set the embedding dimension on 100."
   ]
  },
  {
   "cell_type": "code",
   "execution_count": 25,
   "metadata": {},
   "outputs": [
    {
     "name": "stdout",
     "output_type": "stream",
     "text": [
      "Converted 7245 words (504 misses)\n"
     ]
    }
   ],
   "source": [
    "embedding_matrix = np.zeros((vocab_size, embedding_dim))\n",
    "for word, i in tokenizer.word_index.items():\n",
    "    embedding_vector = embeddings_index.get(word)\n",
    "    if embedding_vector is not None:\n",
    "        embedding_matrix[i] = embedding_vector\n",
    "        hits += 1\n",
    "    else:\n",
    "        misses += 1\n",
    "\n",
    "print(f\"Converted {hits} words ({misses} misses)\")"
   ]
  },
  {
   "cell_type": "markdown",
   "metadata": {},
   "source": [
    "### The new Embedding Layer\n",
    "Now loading the pre-trained word embedding matrix into the embedding layer. According to the pre-trained embedding load the trainable param needst to be set on \"False\"."
   ]
  },
  {
   "cell_type": "markdown",
   "metadata": {},
   "source": [
    "## Model Building"
   ]
  },
  {
   "cell_type": "code",
   "execution_count": 114,
   "metadata": {},
   "outputs": [],
   "source": [
    "model = tf.keras.models.Sequential(\n",
    "    [\n",
    "    keras.layers.Embedding(    \n",
    "        vocab_size,\n",
    "        embedding_dim,\n",
    "        input_shape = [None],\n",
    "        input_length=max_line_length,\n",
    "        mask_zero=True,\n",
    "        weights=[embedding_matrix],\n",
    "        trainable = False),\n",
    "    keras.layers.SpatialDropout1D(0.3),\n",
    "    #keras.layers.LayerNormalization(),\n",
    "    #Bidirectional(keras.layers.LSTM(300, return_sequences=True)),\n",
    "    #keras.layers.LSTM(300),\n",
    "    #keras.layers.MultiHeadAttention(key_dim=254, num_heads=4, value_dim=20, dropout=0.25),\n",
    "    keras.layers.LSTM(300, return_sequences=True),\n",
    "    keras.layers.LSTM(300),\n",
    "    #keras.layers.Bidirectional(tf.keras.layers.LSTM(50)),\n",
    "    #keras.layers.BatchNormalization(),\n",
    "    #keras.layers.Dropout(0.5), \n",
    "    #keras.layers.Dense(128),\n",
    "    keras.layers.BatchNormalization(),\n",
    "    keras.layers.Activation('relu'),\n",
    "    keras.layers.Dropout(0.5),\n",
    "    keras.layers.Dense(5, activation='softmax' )\n",
    "    ]\n",
    ")\n"
   ]
  },
  {
   "cell_type": "code",
   "execution_count": 115,
   "metadata": {},
   "outputs": [],
   "source": [
    "model.compile(loss='sparse_categorical_crossentropy',\n",
    "                #optimizer=keras.optimizers.Nadam(learning_rate=lr, beta_1=mmt),\n",
    "                optimizer=keras.optimizers.Adam(),\n",
    "                metrics=['accuracy']\n",
    "                )"
   ]
  },
  {
   "cell_type": "code",
   "execution_count": 116,
   "metadata": {},
   "outputs": [
    {
     "name": "stdout",
     "output_type": "stream",
     "text": [
      "Model: \"sequential\"\n",
      "_________________________________________________________________\n",
      " Layer (type)                Output Shape              Param #   \n",
      "=================================================================\n",
      " embedding (Embedding)       (None, None, 300)         2325000   \n",
      "                                                                 \n",
      " spatial_dropout1d (SpatialD  (None, None, 300)        0         \n",
      " ropout1D)                                                       \n",
      "                                                                 \n",
      " lstm (LSTM)                 (None, None, 300)         721200    \n",
      "                                                                 \n",
      " lstm_1 (LSTM)               (None, 300)               721200    \n",
      "                                                                 \n",
      " batch_normalization_1 (Batc  (None, 300)              1200      \n",
      " hNormalization)                                                 \n",
      "                                                                 \n",
      " activation (Activation)     (None, 300)               0         \n",
      "                                                                 \n",
      " dropout_1 (Dropout)         (None, 300)               0         \n",
      "                                                                 \n",
      " dense_1 (Dense)             (None, 5)                 1505      \n",
      "                                                                 \n",
      "=================================================================\n",
      "Total params: 3,770,105\n",
      "Trainable params: 1,444,505\n",
      "Non-trainable params: 2,325,600\n",
      "_________________________________________________________________\n"
     ]
    }
   ],
   "source": [
    "model.summary()"
   ]
  },
  {
   "cell_type": "code",
   "execution_count": 117,
   "metadata": {},
   "outputs": [
    {
     "name": "stdout",
     "output_type": "stream",
     "text": [
      "You must install pydot (`pip install pydot`) and install graphviz (see instructions at https://graphviz.gitlab.io/download/) for plot_model/model_to_dot to work.\n"
     ]
    }
   ],
   "source": [
    "tf.keras.utils.plot_model(model, show_shapes=True, to_file='multichannel.png')"
   ]
  },
  {
   "cell_type": "code",
   "execution_count": 104,
   "metadata": {},
   "outputs": [],
   "source": [
    "from keras.callbacks import ReduceLROnPlateau\n",
    "\n",
    "# Tensorboard logging structure function\n",
    "root_logdir = \"../../tensorboard-logs\"\n",
    "\n",
    "def get_run_logdir(root_logdir, project):\n",
    "    '''\n",
    "    Returns logdir to the Tensorboard log for a specific project.\n",
    "\n",
    "            Parameters:\n",
    "                    root_logdir (str) : basic logdir from Tensorboard\n",
    "                    project (str): projectname that will be logged in TB\n",
    "\n",
    "            Returns:\n",
    "                    os.path (str): Path to the final logdir\n",
    "    '''\n",
    "    import time\n",
    "    run_id = time.strftime(\"run_%Y_%m_%d-%H_%M_%S\")\n",
    "    project_logdir = os.path.join(root_logdir,project)\n",
    "    return os.path.join(project_logdir, run_id)\n",
    "\n",
    "\n",
    "def lr_scheduler(epoch):\n",
    "  \"\"\"\n",
    "  Returns a custom learning rate that decreases as epochs progress.\n",
    "  \"\"\"\n",
    "  decay = 1\n",
    "  init_lr = lr \n",
    "  learning_rate = init_lr * (1 / (1 + decay * epoch))\n",
    "\n",
    "  ##learning_rate = lr\n",
    "  ##if epoch < 1:\n",
    "  ##  learning_rate = 0.0000008\n",
    "  ##if epoch >= 2:\n",
    "  ##  learning_rate = 0.0000006\n",
    "\n",
    "  tf.summary.scalar('learning rate', data=learning_rate, step=epoch)\n",
    "  return learning_rate\n",
    "\n",
    "rlrop = ReduceLROnPlateau(monitor='val_loss', factor=0.1, patience=2)\n",
    "\n",
    "tensorboard_callback = tf.keras.callbacks.TensorBoard(log_dir=get_run_logdir(root_logdir,\"nlp_phrase2phrase\"), histogram_freq=1)\n",
    "tensorboard_callback_deberta = tf.keras.callbacks.TensorBoard(log_dir=get_run_logdir(root_logdir,\"nlp_phrase2phrase_deberta\"), histogram_freq=1)\n",
    "lr_callback = tf.keras.callbacks.LearningRateScheduler(lr_scheduler)"
   ]
  },
  {
   "cell_type": "code",
   "execution_count": 123,
   "metadata": {},
   "outputs": [
    {
     "data": {
      "text/plain": [
       "[<matplotlib.lines.Line2D at 0x1f7f11f6e50>]"
      ]
     },
     "execution_count": 123,
     "metadata": {},
     "output_type": "execute_result"
    },
    {
     "data": {
      "image/png": "[encoded data removed]",
      "text/plain": [
       "<Figure size 432x288 with 1 Axes>"
      ]
     },
     "metadata": {
      "needs_background": "light"
     },
     "output_type": "display_data"
    }
   ],
   "source": [
    "plt.plot([lr_scheduler(e) for e in range(4)])"
   ]
  },
  {
   "cell_type": "code",
   "execution_count": 147,
   "metadata": {},
   "outputs": [
    {
     "name": "stdout",
     "output_type": "stream",
     "text": [
      "Epoch 1/50\n",
      "50/50 [==============================] - 26s 401ms/step - loss: 1.6401 - accuracy: 0.3201 - val_loss: 1.5247 - val_accuracy: 0.3522\n",
      "Epoch 2/50\n",
      "50/50 [==============================] - 18s 368ms/step - loss: 1.4410 - accuracy: 0.3567 - val_loss: 1.4983 - val_accuracy: 0.3599\n",
      "Epoch 3/50\n",
      "50/50 [==============================] - 18s 359ms/step - loss: 1.3816 - accuracy: 0.3817 - val_loss: 1.4925 - val_accuracy: 0.3388\n",
      "Epoch 4/50\n",
      "50/50 [==============================] - 18s 365ms/step - loss: 1.3577 - accuracy: 0.3944 - val_loss: 1.4865 - val_accuracy: 0.3625\n",
      "Epoch 5/50\n",
      "50/50 [==============================] - 18s 363ms/step - loss: 1.3438 - accuracy: 0.4066 - val_loss: 1.4833 - val_accuracy: 0.3463\n",
      "Epoch 6/50\n",
      "50/50 [==============================] - 18s 365ms/step - loss: 1.3295 - accuracy: 0.4169 - val_loss: 1.4579 - val_accuracy: 0.3743\n",
      "Epoch 7/50\n",
      "50/50 [==============================] - 18s 354ms/step - loss: 1.3149 - accuracy: 0.4283 - val_loss: 1.4484 - val_accuracy: 0.3923\n",
      "Epoch 8/50\n",
      "50/50 [==============================] - 18s 359ms/step - loss: 1.2963 - accuracy: 0.4389 - val_loss: 1.3998 - val_accuracy: 0.3992\n",
      "Epoch 9/50\n",
      "50/50 [==============================] - 18s 361ms/step - loss: 1.2794 - accuracy: 0.4484 - val_loss: 1.3562 - val_accuracy: 0.4113\n",
      "Epoch 10/50\n",
      "50/50 [==============================] - 18s 360ms/step - loss: 1.2608 - accuracy: 0.4590 - val_loss: 1.3548 - val_accuracy: 0.4128\n",
      "Epoch 11/50\n",
      "50/50 [==============================] - 18s 354ms/step - loss: 1.2453 - accuracy: 0.4665 - val_loss: 1.3104 - val_accuracy: 0.4174\n",
      "Epoch 12/50\n",
      "50/50 [==============================] - 18s 371ms/step - loss: 1.2199 - accuracy: 0.4781 - val_loss: 1.2847 - val_accuracy: 0.4559\n",
      "Epoch 13/50\n",
      "50/50 [==============================] - 18s 359ms/step - loss: 1.1967 - accuracy: 0.4913 - val_loss: 1.2662 - val_accuracy: 0.4604\n",
      "Epoch 14/50\n",
      "50/50 [==============================] - 18s 356ms/step - loss: 1.1735 - accuracy: 0.5028 - val_loss: 1.2669 - val_accuracy: 0.4621\n",
      "Epoch 15/50\n",
      "50/50 [==============================] - 18s 367ms/step - loss: 1.1496 - accuracy: 0.5203 - val_loss: 1.2795 - val_accuracy: 0.4563\n",
      "Epoch 16/50\n",
      "50/50 [==============================] - 18s 357ms/step - loss: 1.1247 - accuracy: 0.5303 - val_loss: 1.3110 - val_accuracy: 0.4447\n",
      "Epoch 17/50\n",
      "50/50 [==============================] - 18s 360ms/step - loss: 1.1003 - accuracy: 0.5439 - val_loss: 1.2467 - val_accuracy: 0.4763\n",
      "Epoch 18/50\n",
      "50/50 [==============================] - 18s 355ms/step - loss: 1.0728 - accuracy: 0.5548 - val_loss: 1.2059 - val_accuracy: 0.4979\n",
      "Epoch 19/50\n",
      "50/50 [==============================] - 18s 362ms/step - loss: 1.0396 - accuracy: 0.5724 - val_loss: 1.2199 - val_accuracy: 0.5024\n",
      "Epoch 20/50\n",
      "50/50 [==============================] - 18s 355ms/step - loss: 1.0214 - accuracy: 0.5792 - val_loss: 1.2043 - val_accuracy: 0.5058\n",
      "Epoch 21/50\n",
      "50/50 [==============================] - 18s 367ms/step - loss: 0.9874 - accuracy: 0.5914 - val_loss: 1.2298 - val_accuracy: 0.5202\n",
      "Epoch 22/50\n",
      "50/50 [==============================] - 18s 351ms/step - loss: 0.9595 - accuracy: 0.6070 - val_loss: 1.2092 - val_accuracy: 0.5249\n",
      "Epoch 23/50\n",
      "50/50 [==============================] - 18s 364ms/step - loss: 0.9323 - accuracy: 0.6173 - val_loss: 1.2592 - val_accuracy: 0.5187\n",
      "Epoch 24/50\n",
      "50/50 [==============================] - 18s 357ms/step - loss: 0.9017 - accuracy: 0.6326 - val_loss: 1.2046 - val_accuracy: 0.5296\n",
      "Epoch 25/50\n",
      "50/50 [==============================] - 18s 358ms/step - loss: 0.8684 - accuracy: 0.6470 - val_loss: 1.1993 - val_accuracy: 0.5387\n",
      "Epoch 26/50\n",
      "50/50 [==============================] - 18s 370ms/step - loss: 0.8483 - accuracy: 0.6567 - val_loss: 1.2589 - val_accuracy: 0.5313\n",
      "Epoch 27/50\n",
      "50/50 [==============================] - 18s 368ms/step - loss: 0.8213 - accuracy: 0.6661 - val_loss: 1.1750 - val_accuracy: 0.5475\n",
      "Epoch 28/50\n",
      "50/50 [==============================] - 18s 366ms/step - loss: 0.7939 - accuracy: 0.6759 - val_loss: 1.2034 - val_accuracy: 0.5539\n",
      "Epoch 29/50\n",
      "50/50 [==============================] - 18s 360ms/step - loss: 0.7670 - accuracy: 0.6871 - val_loss: 1.3167 - val_accuracy: 0.5481\n",
      "Epoch 30/50\n",
      "50/50 [==============================] - 18s 365ms/step - loss: 0.7362 - accuracy: 0.7029 - val_loss: 1.2488 - val_accuracy: 0.5568\n",
      "Epoch 31/50\n",
      "50/50 [==============================] - 18s 362ms/step - loss: 0.7026 - accuracy: 0.7167 - val_loss: 1.3171 - val_accuracy: 0.5616\n",
      "Epoch 32/50\n",
      "50/50 [==============================] - 18s 366ms/step - loss: 0.6919 - accuracy: 0.7185 - val_loss: 1.2209 - val_accuracy: 0.5693\n",
      "Epoch 33/50\n",
      "50/50 [==============================] - 18s 369ms/step - loss: 0.6636 - accuracy: 0.7313 - val_loss: 1.2505 - val_accuracy: 0.5631\n",
      "Epoch 34/50\n",
      "50/50 [==============================] - 18s 356ms/step - loss: 0.6392 - accuracy: 0.7425 - val_loss: 1.2676 - val_accuracy: 0.5623\n",
      "Epoch 35/50\n",
      "50/50 [==============================] - 18s 360ms/step - loss: 0.6131 - accuracy: 0.7556 - val_loss: 1.2937 - val_accuracy: 0.5629\n",
      "Epoch 36/50\n",
      "50/50 [==============================] - 18s 363ms/step - loss: 0.5969 - accuracy: 0.7596 - val_loss: 1.2993 - val_accuracy: 0.5727\n",
      "Epoch 37/50\n",
      "50/50 [==============================] - 18s 368ms/step - loss: 0.5787 - accuracy: 0.7711 - val_loss: 1.3096 - val_accuracy: 0.5606\n",
      "Epoch 38/50\n",
      "50/50 [==============================] - 18s 370ms/step - loss: 0.5548 - accuracy: 0.7812 - val_loss: 1.3494 - val_accuracy: 0.5685\n",
      "Epoch 39/50\n",
      "50/50 [==============================] - 18s 353ms/step - loss: 0.5320 - accuracy: 0.7903 - val_loss: 1.3453 - val_accuracy: 0.5764\n",
      "Epoch 40/50\n",
      "50/50 [==============================] - 18s 352ms/step - loss: 0.5194 - accuracy: 0.7920 - val_loss: 1.3008 - val_accuracy: 0.5749\n",
      "Epoch 41/50\n",
      "50/50 [==============================] - 18s 366ms/step - loss: 0.4984 - accuracy: 0.8027 - val_loss: 1.4825 - val_accuracy: 0.5712\n",
      "Epoch 42/50\n",
      "50/50 [==============================] - 18s 360ms/step - loss: 0.4871 - accuracy: 0.8089 - val_loss: 1.4455 - val_accuracy: 0.5781\n",
      "Epoch 43/50\n",
      "50/50 [==============================] - 18s 360ms/step - loss: 0.4637 - accuracy: 0.8178 - val_loss: 1.4274 - val_accuracy: 0.5811\n",
      "Epoch 44/50\n",
      "50/50 [==============================] - 18s 353ms/step - loss: 0.4429 - accuracy: 0.8267 - val_loss: 1.5984 - val_accuracy: 0.5768\n",
      "Epoch 45/50\n",
      "50/50 [==============================] - 18s 362ms/step - loss: 0.4232 - accuracy: 0.8336 - val_loss: 1.5813 - val_accuracy: 0.5769\n",
      "Epoch 46/50\n",
      "50/50 [==============================] - 17s 350ms/step - loss: 0.4223 - accuracy: 0.8348 - val_loss: 1.5684 - val_accuracy: 0.5813\n",
      "Epoch 47/50\n",
      "50/50 [==============================] - 18s 360ms/step - loss: 0.3971 - accuracy: 0.8458 - val_loss: 1.6044 - val_accuracy: 0.5739\n",
      "Epoch 48/50\n",
      "50/50 [==============================] - 18s 358ms/step - loss: 0.3861 - accuracy: 0.8487 - val_loss: 1.5085 - val_accuracy: 0.5838\n",
      "Epoch 49/50\n",
      "50/50 [==============================] - 18s 356ms/step - loss: 0.3719 - accuracy: 0.8534 - val_loss: 1.5124 - val_accuracy: 0.5832\n",
      "Epoch 50/50\n",
      "50/50 [==============================] - 18s 362ms/step - loss: 0.3643 - accuracy: 0.8593 - val_loss: 1.6320 - val_accuracy: 0.5788\n"
     ]
    }
   ],
   "source": [
    "history = model.fit(\n",
    "    np.asarray(training_content_enc),\n",
    "    np.asarray(training_labels),\n",
    "    batch_size=batch_size,      # small batch size are better but costs a lot of time\n",
    "    epochs=num_epochs,\n",
    "    validation_data=(\n",
    "        np.asarray(validating_content_enc),\n",
    "        np.asarray(validating_labels)),\n",
    "    verbose=1,\n",
    "    callbacks=[tensorboard_callback])"
   ]
  },
  {
   "cell_type": "code",
   "execution_count": 69,
   "metadata": {},
   "outputs": [],
   "source": [
    "model.save(\"LSTM_model_label_encoding_4.h5\")"
   ]
  },
  {
   "cell_type": "markdown",
   "metadata": {},
   "source": [
    "# Model based on Deberta 🤗"
   ]
  },
  {
   "cell_type": "code",
   "execution_count": 124,
   "metadata": {},
   "outputs": [],
   "source": [
    "#from transformers import DebertaV2Tokenizer, TFDebertaV2Model\n",
    "\n",
    "from transformers import AutoTokenizer\n",
    "from transformers import TFAutoModelForSequenceClassification"
   ]
  },
  {
   "cell_type": "code",
   "execution_count": 125,
   "metadata": {},
   "outputs": [],
   "source": [
    "tokenizer_bert = AutoTokenizer.from_pretrained(\"microsoft/deberta-base\")"
   ]
  },
  {
   "cell_type": "code",
   "execution_count": 126,
   "metadata": {},
   "outputs": [
    {
     "name": "stderr",
     "output_type": "stream",
     "text": [
      "All model checkpoint layers were used when initializing TFDebertaForSequenceClassification.\n",
      "\n",
      "Some layers of TFDebertaForSequenceClassification were not initialized from the model checkpoint at microsoft/deberta-base and are newly initialized: ['classifier', 'pooler', 'cls_dropout']\n",
      "You should probably TRAIN this model on a down-stream task to be able to use it for predictions and inference.\n"
     ]
    }
   ],
   "source": [
    "model_deberta = TFAutoModelForSequenceClassification.from_pretrained(\"microsoft/deberta-base\", trainable=True, return_dict=True, num_labels=5, output_hidden_states=True)"
   ]
  },
  {
   "cell_type": "markdown",
   "metadata": {},
   "source": [
    "## Trying around Huggingfaces Model and Tokenizer Structure\n",
    "The following small try and errors for getting familiar with this framework is based on this huggingface documentation: https://huggingface.co/docs/transformers/glossary#:~:text=token%3A%20a%20part%20of%20a,based%20deep%20learning%20model%20architecture.\n",
    "\n",
    "And this might be interesting for the Tokenizer topic as well: https://huggingface.co/docs/transformers/preprocessing\n"
   ]
  },
  {
   "cell_type": "markdown",
   "metadata": {},
   "source": [
    "### Experiments with Deberta Tokenizer (🤗)\n",
    "Converting a test sentence with doberta tokenizer"
   ]
  },
  {
   "cell_type": "code",
   "execution_count": 127,
   "metadata": {},
   "outputs": [],
   "source": [
    "test_text_tok = tokenizer_bert('This is a Test')"
   ]
  },
  {
   "cell_type": "markdown",
   "metadata": {},
   "source": [
    "Printing the results"
   ]
  },
  {
   "cell_type": "code",
   "execution_count": 128,
   "metadata": {},
   "outputs": [
    {
     "data": {
      "text/plain": [
       "{'input_ids': [1, 713, 16, 10, 4500, 2], 'token_type_ids': [0, 0, 0, 0, 0, 0], 'attention_mask': [1, 1, 1, 1, 1, 1]}"
      ]
     },
     "execution_count": 128,
     "metadata": {},
     "output_type": "execute_result"
    }
   ],
   "source": [
    "test_text_tok"
   ]
  },
  {
   "cell_type": "markdown",
   "metadata": {},
   "source": [
    "Printing the encoded results of the test sentence"
   ]
  },
  {
   "cell_type": "code",
   "execution_count": 129,
   "metadata": {},
   "outputs": [
    {
     "data": {
      "text/plain": [
       "[1, 713, 16, 10, 4500, 2]"
      ]
     },
     "execution_count": 129,
     "metadata": {},
     "output_type": "execute_result"
    }
   ],
   "source": [
    "test_text_tok[\"input_ids\"]"
   ]
  },
  {
   "cell_type": "markdown",
   "metadata": {},
   "source": [
    "Decoding the encoded test sentence back to its original form"
   ]
  },
  {
   "cell_type": "code",
   "execution_count": 130,
   "metadata": {},
   "outputs": [
    {
     "data": {
      "text/plain": [
       "'[CLS]This is a Test[SEP]'"
      ]
     },
     "execution_count": 130,
     "metadata": {},
     "output_type": "execute_result"
    }
   ],
   "source": [
    "tokenizer_bert.decode(test_text_tok[\"input_ids\"])"
   ]
  },
  {
   "cell_type": "markdown",
   "metadata": {},
   "source": [
    "#### Attention Mask"
   ]
  },
  {
   "cell_type": "code",
   "execution_count": 131,
   "metadata": {},
   "outputs": [],
   "source": [
    "sentence_a = \"This is a test\"\n",
    "sentence_b = \"This is a test as well but its longer, much longer, longer than any other test could be\""
   ]
  },
  {
   "cell_type": "markdown",
   "metadata": {},
   "source": [
    "Encoding both sentences and retrieving the ids only"
   ]
  },
  {
   "cell_type": "code",
   "execution_count": 132,
   "metadata": {},
   "outputs": [
    {
     "name": "stdout",
     "output_type": "stream",
     "text": [
      "sentence a encoded: [1, 713, 16, 10, 1296, 2]\n",
      "sentence b encoded: [1, 713, 16, 10, 1296, 25, 157, 53, 63, 1181, 6, 203, 1181, 6, 1181, 87, 143, 97, 1296, 115, 28, 2]\n"
     ]
    }
   ],
   "source": [
    "encoded_sen_a = tokenizer_bert(sentence_a)[\"input_ids\"]\n",
    "encoded_sen_b = tokenizer_bert(sentence_b)[\"input_ids\"]\n",
    "\n",
    "print(f'sentence a encoded: {encoded_sen_a}')\n",
    "print(f'sentence b encoded: {encoded_sen_b}')"
   ]
  },
  {
   "cell_type": "markdown",
   "metadata": {},
   "source": [
    "Once again tokenizing the sentences but with padding activated"
   ]
  },
  {
   "cell_type": "code",
   "execution_count": 133,
   "metadata": {},
   "outputs": [
    {
     "name": "stdout",
     "output_type": "stream",
     "text": [
      "Sentences encoded: [[1, 713, 16, 10, 1296, 2, 0, 0, 0, 0, 0, 0, 0, 0, 0, 0, 0, 0, 0, 0, 0, 0], [1, 713, 16, 10, 1296, 25, 157, 53, 63, 1181, 6, 203, 1181, 6, 1181, 87, 143, 97, 1296, 115, 28, 2]]\n",
      "Sentences att.msk: [[1, 1, 1, 1, 1, 1, 0, 0, 0, 0, 0, 0, 0, 0, 0, 0, 0, 0, 0, 0, 0, 0], [1, 1, 1, 1, 1, 1, 1, 1, 1, 1, 1, 1, 1, 1, 1, 1, 1, 1, 1, 1, 1, 1]]\n"
     ]
    }
   ],
   "source": [
    "padded_sentences = tokenizer_bert([sentence_a, sentence_b], padding=True)\n",
    "\n",
    "print(f'Sentences encoded: {padded_sentences[\"input_ids\"]}')\n",
    "print(f'Sentences att.msk: {padded_sentences[\"attention_mask\"]}')"
   ]
  },
  {
   "cell_type": "markdown",
   "metadata": {},
   "source": [
    "### Processing the Data for Deberta Model"
   ]
  },
  {
   "cell_type": "code",
   "execution_count": 134,
   "metadata": {},
   "outputs": [
    {
     "name": "stdout",
     "output_type": "stream",
     "text": [
      "Maximum sentence length is: 127\n"
     ]
    }
   ],
   "source": [
    "MAX_LINE_LENGTH_BERT = len(tokenizer_bert(X_train['corpus_w_full_context'].tolist(), padding=True, truncation=True, return_tensors=\"tf\")[1])\n",
    "print(f\"Maximum sentence length is: {MAX_LINE_LENGTH_BERT}\")"
   ]
  },
  {
   "cell_type": "code",
   "execution_count": 135,
   "metadata": {},
   "outputs": [],
   "source": [
    "def preprocess_function(examples):\n",
    "    return tokenizer_bert(examples['corpus_w_full_context'].tolist(), padding='max_length', truncation=True, return_tensors=\"tf\", max_length=MAX_LINE_LENGTH_BERT)"
   ]
  },
  {
   "cell_type": "code",
   "execution_count": 136,
   "metadata": {},
   "outputs": [
    {
     "name": "stdout",
     "output_type": "stream",
     "text": [
      "Length of the train-sentences [padded]: 127\n",
      "Length of the val-sentences [padded]: 127\n"
     ]
    }
   ],
   "source": [
    "#X_train.map(preprocess_function, batched=True)\n",
    "train_encoded = preprocess_function(X_train)\n",
    "val_encoded = preprocess_function(X_val)\n",
    "\n",
    "print(f'Length of the train-sentences [padded]: {train_encoded[\"input_ids\"].shape[1]}')\n",
    "print(f'Length of the val-sentences [padded]: {val_encoded[\"input_ids\"].shape[1]}')"
   ]
  },
  {
   "cell_type": "markdown",
   "metadata": {},
   "source": [
    "### Model Build\n"
   ]
  },
  {
   "cell_type": "code",
   "execution_count": 137,
   "metadata": {},
   "outputs": [
    {
     "name": "stdout",
     "output_type": "stream",
     "text": [
      "Number of labels, that came from deberta model: 5\n"
     ]
    }
   ],
   "source": [
    "print(f'Number of labels, that came from deberta model: {model_deberta.num_labels}')"
   ]
  },
  {
   "cell_type": "code",
   "execution_count": 138,
   "metadata": {},
   "outputs": [],
   "source": [
    "_input_ids_ = tf.keras.Input(shape = (MAX_LINE_LENGTH_BERT, ), dtype = tf.int32)\n",
    "_attention_mask_ = tf.keras.Input(shape = (MAX_LINE_LENGTH_BERT, ), dtype = tf.int32)\n",
    "\n",
    "x = model_deberta(\n",
    "                input_ids = _input_ids_,\n",
    "                attention_mask = _attention_mask_,\n",
    "                output_hidden_states=True\n",
    "                ),\n",
    "#print(x[0])\n",
    "#print('-----------------------------------')\n",
    "#print(x[0].hidden_states)\n",
    "#print('-----------------------------------')\n",
    "#print(x[0].hidden_states[-1])\n",
    "x = tf.keras.layers.GlobalAveragePooling1D()(x[0].hidden_states[-1])\n",
    "#x = tf.keras.layers.BatchNormalization()(x)\n",
    "x = tf.keras.layers.Dropout(0.3)(x)\n",
    "output = tf.keras.layers.Dense(5, activation='softmax')(x)\n",
    "\n",
    "model2 = tf.keras.Model(inputs = [_input_ids_, _attention_mask_], \n",
    "                        outputs = output\n",
    "                        )"
   ]
  },
  {
   "cell_type": "markdown",
   "metadata": {},
   "source": [
    "### Model Fit"
   ]
  },
  {
   "cell_type": "code",
   "execution_count": 139,
   "metadata": {},
   "outputs": [],
   "source": [
    "model2.compile(loss='sparse_categorical_crossentropy', optimizer='Nadam', metrics=['accuracy'])"
   ]
  },
  {
   "cell_type": "code",
   "execution_count": 140,
   "metadata": {},
   "outputs": [
    {
     "name": "stdout",
     "output_type": "stream",
     "text": [
      "Model: \"model_5\"\n",
      "__________________________________________________________________________________________________\n",
      " Layer (type)                   Output Shape         Param #     Connected to                     \n",
      "==================================================================================================\n",
      " input_11 (InputLayer)          [(None, 127)]        0           []                               \n",
      "                                                                                                  \n",
      " input_12 (InputLayer)          [(None, 127)]        0           []                               \n",
      "                                                                                                  \n",
      " tf_deberta_for_sequence_classi  TFSequenceClassifie  139196165  ['input_11[0][0]',               \n",
      " fication_3 (TFDebertaForSequen  rOutput(loss=None,               'input_12[0][0]']               \n",
      " ceClassification)              logits=(None, 5),                                                 \n",
      "                                 hidden_states=((No                                               \n",
      "                                ne, 127, 768),                                                    \n",
      "                                 (None, 127, 768),                                                \n",
      "                                 (None, 127, 768),                                                \n",
      "                                 (None, 127, 768),                                                \n",
      "                                 (None, 127, 768),                                                \n",
      "                                 (None, 127, 768),                                                \n",
      "                                 (None, 127, 768),                                                \n",
      "                                 (None, 127, 768),                                                \n",
      "                                 (None, 127, 768),                                                \n",
      "                                 (None, 127, 768),                                                \n",
      "                                 (None, 127, 768),                                                \n",
      "                                 (None, 127, 768),                                                \n",
      "                                 (None, 127, 768)),                                               \n",
      "                                 attentions=None)                                                 \n",
      "                                                                                                  \n",
      " global_average_pooling1d_5 (Gl  (None, 768)         0           ['tf_deberta_for_sequence_classif\n",
      " obalAveragePooling1D)                                           ication_3[0][12]']               \n",
      "                                                                                                  \n",
      " dropout_5 (Dropout)            (None, 768)          0           ['global_average_pooling1d_5[0][0\n",
      "                                                                 ]']                              \n",
      "                                                                                                  \n",
      " dense_5 (Dense)                (None, 5)            3845        ['dropout_5[0][0]']              \n",
      "                                                                                                  \n",
      "==================================================================================================\n",
      "Total params: 139,200,010\n",
      "Trainable params: 139,200,010\n",
      "Non-trainable params: 0\n",
      "__________________________________________________________________________________________________\n"
     ]
    }
   ],
   "source": [
    "model2.summary()"
   ]
  },
  {
   "cell_type": "code",
   "execution_count": 141,
   "metadata": {},
   "outputs": [
    {
     "name": "stdout",
     "output_type": "stream",
     "text": [
      "Epoch 1/3\n",
      "WARNING:tensorflow:Gradients do not exist for variables ['tf_deberta_for_sequence_classification_3/pooler/dense/kernel:0', 'tf_deberta_for_sequence_classification_3/pooler/dense/bias:0', 'tf_deberta_for_sequence_classification_3/classifier/kernel:0', 'tf_deberta_for_sequence_classification_3/classifier/bias:0'] when minimizing the loss. If you're using `model.compile()`, did you forget to provide a `loss`argument?\n",
      "WARNING:tensorflow:Gradients do not exist for variables ['tf_deberta_for_sequence_classification_3/pooler/dense/kernel:0', 'tf_deberta_for_sequence_classification_3/pooler/dense/bias:0', 'tf_deberta_for_sequence_classification_3/classifier/kernel:0', 'tf_deberta_for_sequence_classification_3/classifier/bias:0'] when minimizing the loss. If you're using `model.compile()`, did you forget to provide a `loss`argument?\n",
      "3192/3192 [==============================] - 1403s 427ms/step - loss: 1.1848 - accuracy: 0.4960 - val_loss: 0.9417 - val_accuracy: 0.6322 - lr: 1.0000e-05\n",
      "Epoch 2/3\n",
      "3192/3192 [==============================] - 1367s 428ms/step - loss: 0.9107 - accuracy: 0.6295 - val_loss: 0.9381 - val_accuracy: 0.6406 - lr: 5.0000e-06\n",
      "Epoch 3/3\n",
      "3192/3192 [==============================] - 1362s 427ms/step - loss: 0.8118 - accuracy: 0.6762 - val_loss: 0.8317 - val_accuracy: 0.6785 - lr: 3.3333e-06\n"
     ]
    }
   ],
   "source": [
    "history_deberta = model2.fit(x=(np.asarray(train_encoded['input_ids']),\n",
    "                                np.asarray(train_encoded['attention_mask'])\n",
    "                                ),\n",
    "                                y=np.asarray(training_labels),\n",
    "                                validation_data=((np.asarray(val_encoded['input_ids']),\n",
    "                                                  np.asarray(val_encoded['attention_mask'])),\n",
    "                                                np.asarray(validating_labels)\n",
    "                                                ),\n",
    "                                epochs=3,\n",
    "                                batch_size=8,\n",
    "                                callbacks =[tensorboard_callback_deberta, lr_callback]) #lr_callback rlrop"
   ]
  },
  {
   "cell_type": "code",
   "execution_count": 142,
   "metadata": {},
   "outputs": [],
   "source": [
    "model2.save(\"deberta_trained_3_epochs_decay_lr.h5\")"
   ]
  },
  {
   "cell_type": "code",
   "execution_count": 40,
   "metadata": {},
   "outputs": [],
   "source": [
    "#from keras.models import load_model\n",
    "#model2.load_weights('deberta_trained_4_runden.h5')"
   ]
  },
  {
   "cell_type": "code",
   "execution_count": 42,
   "metadata": {},
   "outputs": [
    {
     "data": {
      "text/plain": [
       "<tf.Tensor: shape=(127,), dtype=int32, numpy=\n",
       "array([    1, 41328,  3940,  3858, 30438,  1862,    12, 47233, 32870,\n",
       "           2,     0,     0,     0,     0,     0,     0,     0,     0,\n",
       "           0,     0,     0,     0,     0,     0,     0,     0,     0,\n",
       "           0,     0,     0,     0,     0,     0,     0,     0,     0,\n",
       "           0,     0,     0,     0,     0,     0,     0,     0,     0,\n",
       "           0,     0,     0,     0,     0,     0,     0,     0,     0,\n",
       "           0,     0,     0,     0,     0,     0,     0,     0,     0,\n",
       "           0,     0,     0,     0,     0,     0,     0,     0,     0,\n",
       "           0,     0,     0,     0,     0,     0,     0,     0,     0,\n",
       "           0,     0,     0,     0,     0,     0,     0,     0,     0,\n",
       "           0,     0,     0,     0,     0,     0,     0,     0,     0,\n",
       "           0,     0,     0,     0,     0,     0,     0,     0,     0,\n",
       "           0,     0,     0,     0,     0,     0,     0,     0,     0,\n",
       "           0,     0,     0,     0,     0,     0,     0,     0,     0,\n",
       "           0])>"
      ]
     },
     "execution_count": 42,
     "metadata": {},
     "output_type": "execute_result"
    }
   ],
   "source": [
    "val_encoded['input_ids'][1]"
   ]
  },
  {
   "cell_type": "code",
   "execution_count": 47,
   "metadata": {},
   "outputs": [
    {
     "name": "stdout",
     "output_type": "stream",
     "text": [
      "WARNING:tensorflow:Model was constructed with shape (None, 127) for input KerasTensor(type_spec=TensorSpec(shape=(None, 127), dtype=tf.int32, name='input_1'), name='input_1', description=\"created by layer 'input_1'\"), but it was called on an input with incompatible shape (None,).\n",
      "WARNING:tensorflow:Model was constructed with shape (None, 127) for input KerasTensor(type_spec=TensorSpec(shape=(None, 127), dtype=tf.int32, name='input_2'), name='input_2', description=\"created by layer 'input_2'\"), but it was called on an input with incompatible shape (None,).\n"
     ]
    },
    {
     "ename": "StagingError",
     "evalue": "in user code:\n\n    File \"d:\\anaconda3\\envs\\wingpuflake_keras_GPU\\lib\\site-packages\\keras\\engine\\training.py\", line 1801, in predict_function  *\n        return step_function(self, iterator)\n    File \"d:\\anaconda3\\envs\\wingpuflake_keras_GPU\\lib\\site-packages\\keras\\engine\\training.py\", line 1790, in step_function  **\n        outputs = model.distribute_strategy.run(run_step, args=(data,))\n    File \"d:\\anaconda3\\envs\\wingpuflake_keras_GPU\\lib\\site-packages\\keras\\engine\\training.py\", line 1783, in run_step  **\n        outputs = model.predict_step(data)\n    File \"d:\\anaconda3\\envs\\wingpuflake_keras_GPU\\lib\\site-packages\\keras\\engine\\training.py\", line 1751, in predict_step\n        return self(x, training=False)\n    File \"d:\\anaconda3\\envs\\wingpuflake_keras_GPU\\lib\\site-packages\\keras\\utils\\traceback_utils.py\", line 67, in error_handler\n        raise e.with_traceback(filtered_tb) from None\n\n    StagingError: Exception encountered when calling layer \"tf_deberta_for_sequence_classification\" (type TFDebertaForSequenceClassification).\n    \n    in user code:\n    \n        File \"d:\\anaconda3\\envs\\wingpuflake_keras_GPU\\lib\\site-packages\\transformers\\modeling_tf_utils.py\", line 1236, in run_call_with_unpacked_inputs  *\n            return func(self, **unpacked_inputs)\n        File \"d:\\anaconda3\\envs\\wingpuflake_keras_GPU\\lib\\site-packages\\transformers\\models\\deberta\\modeling_tf_deberta.py\", line 1249, in call  *\n            outputs = self.deberta(\n        File \"d:\\anaconda3\\envs\\wingpuflake_keras_GPU\\lib\\site-packages\\keras\\utils\\traceback_utils.py\", line 67, in error_handler  **\n            raise e.with_traceback(filtered_tb) from None\n    \n        StagingError: Exception encountered when calling layer \"deberta\" (type TFDebertaMainLayer).\n        \n        in user code:\n        \n            File \"d:\\anaconda3\\envs\\wingpuflake_keras_GPU\\lib\\site-packages\\transformers\\modeling_tf_utils.py\", line 1236, in run_call_with_unpacked_inputs  *\n                return func(self, **unpacked_inputs)\n            File \"d:\\anaconda3\\envs\\wingpuflake_keras_GPU\\lib\\site-packages\\transformers\\models\\deberta\\modeling_tf_deberta.py\", line 948, in call  *\n                embedding_output = self.embeddings(\n            File \"d:\\anaconda3\\envs\\wingpuflake_keras_GPU\\lib\\site-packages\\keras\\utils\\traceback_utils.py\", line 67, in error_handler  **\n                raise e.with_traceback(filtered_tb) from None\n        \n            StagingError: Exception encountered when calling layer \"embeddings\" (type TFDebertaEmbeddings).\n            \n            in user code:\n            \n                File \"d:\\anaconda3\\envs\\wingpuflake_keras_GPU\\lib\\site-packages\\transformers\\models\\deberta\\modeling_tf_deberta.py\", line 800, in call  *\n                    final_embeddings = self.LayerNorm(final_embeddings)\n                File \"d:\\anaconda3\\envs\\wingpuflake_keras_GPU\\lib\\site-packages\\keras\\utils\\traceback_utils.py\", line 67, in error_handler  **\n                    raise e.with_traceback(filtered_tb) from None\n                File \"d:\\anaconda3\\envs\\wingpuflake_keras_GPU\\lib\\site-packages\\keras\\layers\\normalization\\layer_normalization.py\", line 270, in call\n                    broadcast_shape[dim] = input_shape.dims[dim].value\n            \n                IndexError: Exception encountered when calling layer \"LayerNorm\" (type LayerNormalization).\n                \n                list index out of range\n                \n                Call arguments received:\n                  • inputs=tf.Tensor(shape=(None, 768), dtype=float32)\n            \n            \n            Call arguments received:\n              • input_ids=tf.Tensor(shape=(None,), dtype=int32)\n              • position_ids=None\n              • token_type_ids=tf.Tensor(shape=(None,), dtype=int32)\n              • inputs_embeds=None\n              • mask=tf.Tensor(shape=(None,), dtype=int32)\n              • training=False\n        \n        \n        Call arguments received:\n          • self=tf.Tensor(shape=(None,), dtype=int32)\n          • input_ids=None\n          • attention_mask=tf.Tensor(shape=(None,), dtype=int32)\n          • token_type_ids=None\n          • position_ids=None\n          • inputs_embeds=None\n          • output_attentions=False\n          • output_hidden_states=True\n          • return_dict=True\n          • training=False\n    \n    \n    Call arguments received:\n      • self=tf.Tensor(shape=(None,), dtype=int32)\n      • input_ids=None\n      • attention_mask=tf.Tensor(shape=(None,), dtype=int32)\n      • token_type_ids=None\n      • position_ids=None\n      • inputs_embeds=None\n      • output_attentions=None\n      • output_hidden_states=True\n      • return_dict=None\n      • labels=None\n      • training=False\n",
     "output_type": "error",
     "traceback": [
      "\u001b[1;31m---------------------------------------------------------------------------\u001b[0m",
      "\u001b[1;31mStagingError\u001b[0m                              Traceback (most recent call last)",
      "\u001b[1;32mf:\\python-workspace\\phrase2phrase-match-ai\\phrase_2_phrase_matching.ipynb Cell 86'\u001b[0m in \u001b[0;36m<cell line: 1>\u001b[1;34m()\u001b[0m\n\u001b[1;32m----> <a href='vscode-notebook-cell:/f%3A/python-workspace/phrase2phrase-match-ai/phrase_2_phrase_matching.ipynb#ch0000085?line=0'>1</a>\u001b[0m model2\u001b[39m.\u001b[39;49mpredict((np\u001b[39m.\u001b[39;49masarray(val_encoded[\u001b[39m'\u001b[39;49m\u001b[39minput_ids\u001b[39;49m\u001b[39m'\u001b[39;49m][\u001b[39m1\u001b[39;49m]),\n\u001b[0;32m      <a href='vscode-notebook-cell:/f%3A/python-workspace/phrase2phrase-match-ai/phrase_2_phrase_matching.ipynb#ch0000085?line=1'>2</a>\u001b[0m                        np\u001b[39m.\u001b[39;49masarray(val_encoded[\u001b[39m'\u001b[39;49m\u001b[39mattention_mask\u001b[39;49m\u001b[39m'\u001b[39;49m][\u001b[39m1\u001b[39;49m])),\n\u001b[0;32m      <a href='vscode-notebook-cell:/f%3A/python-workspace/phrase2phrase-match-ai/phrase_2_phrase_matching.ipynb#ch0000085?line=2'>3</a>\u001b[0m                     )\n",
      "File \u001b[1;32md:\\anaconda3\\envs\\wingpuflake_keras_GPU\\lib\\site-packages\\keras\\utils\\traceback_utils.py:67\u001b[0m, in \u001b[0;36mfilter_traceback.<locals>.error_handler\u001b[1;34m(*args, **kwargs)\u001b[0m\n\u001b[0;32m     65\u001b[0m \u001b[39mexcept\u001b[39;00m \u001b[39mException\u001b[39;00m \u001b[39mas\u001b[39;00m e:  \u001b[39m# pylint: disable=broad-except\u001b[39;00m\n\u001b[0;32m     66\u001b[0m   filtered_tb \u001b[39m=\u001b[39m _process_traceback_frames(e\u001b[39m.\u001b[39m__traceback__)\n\u001b[1;32m---> 67\u001b[0m   \u001b[39mraise\u001b[39;00m e\u001b[39m.\u001b[39mwith_traceback(filtered_tb) \u001b[39mfrom\u001b[39;00m \u001b[39mNone\u001b[39m\n\u001b[0;32m     68\u001b[0m \u001b[39mfinally\u001b[39;00m:\n\u001b[0;32m     69\u001b[0m   \u001b[39mdel\u001b[39;00m filtered_tb\n",
      "File \u001b[1;32md:\\anaconda3\\envs\\wingpuflake_keras_GPU\\lib\\site-packages\\tensorflow\\python\\framework\\func_graph.py:1147\u001b[0m, in \u001b[0;36mfunc_graph_from_py_func.<locals>.autograph_handler\u001b[1;34m(*args, **kwargs)\u001b[0m\n\u001b[0;32m   1145\u001b[0m \u001b[39mexcept\u001b[39;00m \u001b[39mException\u001b[39;00m \u001b[39mas\u001b[39;00m e:  \u001b[39m# pylint:disable=broad-except\u001b[39;00m\n\u001b[0;32m   1146\u001b[0m   \u001b[39mif\u001b[39;00m \u001b[39mhasattr\u001b[39m(e, \u001b[39m\"\u001b[39m\u001b[39mag_error_metadata\u001b[39m\u001b[39m\"\u001b[39m):\n\u001b[1;32m-> 1147\u001b[0m     \u001b[39mraise\u001b[39;00m e\u001b[39m.\u001b[39mag_error_metadata\u001b[39m.\u001b[39mto_exception(e)\n\u001b[0;32m   1148\u001b[0m   \u001b[39melse\u001b[39;00m:\n\u001b[0;32m   1149\u001b[0m     \u001b[39mraise\u001b[39;00m\n",
      "\u001b[1;31mStagingError\u001b[0m: in user code:\n\n    File \"d:\\anaconda3\\envs\\wingpuflake_keras_GPU\\lib\\site-packages\\keras\\engine\\training.py\", line 1801, in predict_function  *\n        return step_function(self, iterator)\n    File \"d:\\anaconda3\\envs\\wingpuflake_keras_GPU\\lib\\site-packages\\keras\\engine\\training.py\", line 1790, in step_function  **\n        outputs = model.distribute_strategy.run(run_step, args=(data,))\n    File \"d:\\anaconda3\\envs\\wingpuflake_keras_GPU\\lib\\site-packages\\keras\\engine\\training.py\", line 1783, in run_step  **\n        outputs = model.predict_step(data)\n    File \"d:\\anaconda3\\envs\\wingpuflake_keras_GPU\\lib\\site-packages\\keras\\engine\\training.py\", line 1751, in predict_step\n        return self(x, training=False)\n    File \"d:\\anaconda3\\envs\\wingpuflake_keras_GPU\\lib\\site-packages\\keras\\utils\\traceback_utils.py\", line 67, in error_handler\n        raise e.with_traceback(filtered_tb) from None\n\n    StagingError: Exception encountered when calling layer \"tf_deberta_for_sequence_classification\" (type TFDebertaForSequenceClassification).\n    \n    in user code:\n    \n        File \"d:\\anaconda3\\envs\\wingpuflake_keras_GPU\\lib\\site-packages\\transformers\\modeling_tf_utils.py\", line 1236, in run_call_with_unpacked_inputs  *\n            return func(self, **unpacked_inputs)\n        File \"d:\\anaconda3\\envs\\wingpuflake_keras_GPU\\lib\\site-packages\\transformers\\models\\deberta\\modeling_tf_deberta.py\", line 1249, in call  *\n            outputs = self.deberta(\n        File \"d:\\anaconda3\\envs\\wingpuflake_keras_GPU\\lib\\site-packages\\keras\\utils\\traceback_utils.py\", line 67, in error_handler  **\n            raise e.with_traceback(filtered_tb) from None\n    \n        StagingError: Exception encountered when calling layer \"deberta\" (type TFDebertaMainLayer).\n        \n        in user code:\n        \n            File \"d:\\anaconda3\\envs\\wingpuflake_keras_GPU\\lib\\site-packages\\transformers\\modeling_tf_utils.py\", line 1236, in run_call_with_unpacked_inputs  *\n                return func(self, **unpacked_inputs)\n            File \"d:\\anaconda3\\envs\\wingpuflake_keras_GPU\\lib\\site-packages\\transformers\\models\\deberta\\modeling_tf_deberta.py\", line 948, in call  *\n                embedding_output = self.embeddings(\n            File \"d:\\anaconda3\\envs\\wingpuflake_keras_GPU\\lib\\site-packages\\keras\\utils\\traceback_utils.py\", line 67, in error_handler  **\n                raise e.with_traceback(filtered_tb) from None\n        \n            StagingError: Exception encountered when calling layer \"embeddings\" (type TFDebertaEmbeddings).\n            \n            in user code:\n            \n                File \"d:\\anaconda3\\envs\\wingpuflake_keras_GPU\\lib\\site-packages\\transformers\\models\\deberta\\modeling_tf_deberta.py\", line 800, in call  *\n                    final_embeddings = self.LayerNorm(final_embeddings)\n                File \"d:\\anaconda3\\envs\\wingpuflake_keras_GPU\\lib\\site-packages\\keras\\utils\\traceback_utils.py\", line 67, in error_handler  **\n                    raise e.with_traceback(filtered_tb) from None\n                File \"d:\\anaconda3\\envs\\wingpuflake_keras_GPU\\lib\\site-packages\\keras\\layers\\normalization\\layer_normalization.py\", line 270, in call\n                    broadcast_shape[dim] = input_shape.dims[dim].value\n            \n                IndexError: Exception encountered when calling layer \"LayerNorm\" (type LayerNormalization).\n                \n                list index out of range\n                \n                Call arguments received:\n                  • inputs=tf.Tensor(shape=(None, 768), dtype=float32)\n            \n            \n            Call arguments received:\n              • input_ids=tf.Tensor(shape=(None,), dtype=int32)\n              • position_ids=None\n              • token_type_ids=tf.Tensor(shape=(None,), dtype=int32)\n              • inputs_embeds=None\n              • mask=tf.Tensor(shape=(None,), dtype=int32)\n              • training=False\n        \n        \n        Call arguments received:\n          • self=tf.Tensor(shape=(None,), dtype=int32)\n          • input_ids=None\n          • attention_mask=tf.Tensor(shape=(None,), dtype=int32)\n          • token_type_ids=None\n          • position_ids=None\n          • inputs_embeds=None\n          • output_attentions=False\n          • output_hidden_states=True\n          • return_dict=True\n          • training=False\n    \n    \n    Call arguments received:\n      • self=tf.Tensor(shape=(None,), dtype=int32)\n      • input_ids=None\n      • attention_mask=tf.Tensor(shape=(None,), dtype=int32)\n      • token_type_ids=None\n      • position_ids=None\n      • inputs_embeds=None\n      • output_attentions=None\n      • output_hidden_states=True\n      • return_dict=None\n      • labels=None\n      • training=False\n"
     ]
    }
   ],
   "source": [
    "model2.predict((np.asarray(val_encoded['input_ids'][1]),\n",
    "                       np.asarray(val_encoded['attention_mask'][1])),\n",
    "                    )"
   ]
  },
  {
   "cell_type": "code",
   "execution_count": 80,
   "metadata": {},
   "outputs": [
    {
     "data": {
      "text/plain": [
       "'abatement act of abating FURNITURE  DOMESTIC ARTICLES OR APPLIANCES  COFFEE MILLS  SPICE MILLS  SUCTION CLEANERS IN GENERAL'"
      ]
     },
     "execution_count": 80,
     "metadata": {},
     "output_type": "execute_result"
    }
   ],
   "source": [
    "train['corpus_w_full_context'][1]"
   ]
  },
  {
   "cell_type": "markdown",
   "metadata": {},
   "source": [
    "# Evaluation"
   ]
  },
  {
   "cell_type": "markdown",
   "metadata": {},
   "source": [
    "## Single Value Test (Validation Data)"
   ]
  },
  {
   "cell_type": "code",
   "execution_count": 48,
   "metadata": {},
   "outputs": [
    {
     "name": "stdout",
     "output_type": "stream",
     "text": [
      "Decoded value of the validation label: [0.5]\n"
     ]
    }
   ],
   "source": [
    "print(f'Decoded value of the validation label: {encoder.inverse_transform(validating_labels[2486])}')"
   ]
  },
  {
   "cell_type": "code",
   "execution_count": 49,
   "metadata": {},
   "outputs": [
    {
     "ename": "ValueError",
     "evalue": "in user code:\n\n    File \"d:\\anaconda3\\envs\\wingpuflake_keras_GPU\\lib\\site-packages\\keras\\engine\\training.py\", line 1801, in predict_function  *\n        return step_function(self, iterator)\n    File \"d:\\anaconda3\\envs\\wingpuflake_keras_GPU\\lib\\site-packages\\keras\\engine\\training.py\", line 1790, in step_function  **\n        outputs = model.distribute_strategy.run(run_step, args=(data,))\n    File \"d:\\anaconda3\\envs\\wingpuflake_keras_GPU\\lib\\site-packages\\keras\\engine\\training.py\", line 1783, in run_step  **\n        outputs = model.predict_step(data)\n    File \"d:\\anaconda3\\envs\\wingpuflake_keras_GPU\\lib\\site-packages\\keras\\engine\\training.py\", line 1751, in predict_step\n        return self(x, training=False)\n    File \"d:\\anaconda3\\envs\\wingpuflake_keras_GPU\\lib\\site-packages\\keras\\utils\\traceback_utils.py\", line 67, in error_handler\n        raise e.with_traceback(filtered_tb) from None\n    File \"d:\\anaconda3\\envs\\wingpuflake_keras_GPU\\lib\\site-packages\\keras\\engine\\input_spec.py\", line 200, in assert_input_compatibility\n        raise ValueError(f'Layer \"{layer_name}\" expects {len(input_spec)} input(s),'\n\n    ValueError: Layer \"model\" expects 2 input(s), but it received 1 input tensors. Inputs received: [<tf.Tensor 'IteratorGetNext:0' shape=(None, 51) dtype=int32>]\n",
     "output_type": "error",
     "traceback": [
      "\u001b[1;31m---------------------------------------------------------------------------\u001b[0m",
      "\u001b[1;31mValueError\u001b[0m                                Traceback (most recent call last)",
      "\u001b[1;32mf:\\python-workspace\\phrase2phrase-match-ai\\phrase_2_phrase_matching.ipynb Cell 91'\u001b[0m in \u001b[0;36m<cell line: 1>\u001b[1;34m()\u001b[0m\n\u001b[1;32m----> <a href='vscode-notebook-cell:/f%3A/python-workspace/phrase2phrase-match-ai/phrase_2_phrase_matching.ipynb#ch0000090?line=0'>1</a>\u001b[0m prediction_value \u001b[39m=\u001b[39m np\u001b[39m.\u001b[39margmax(model2\u001b[39m.\u001b[39;49mpredict(validating_content_enc[np\u001b[39m.\u001b[39;49mnewaxis , \u001b[39m2486\u001b[39;49m]))\n\u001b[0;32m      <a href='vscode-notebook-cell:/f%3A/python-workspace/phrase2phrase-match-ai/phrase_2_phrase_matching.ipynb#ch0000090?line=1'>2</a>\u001b[0m \u001b[39mprint\u001b[39m(\u001b[39mf\u001b[39m\u001b[39m'\u001b[39m\u001b[39mModels prediciton for this single validation data is: \u001b[39m\u001b[39m{\u001b[39;00mencoder\u001b[39m.\u001b[39minverse_transform([prediction_value])\u001b[39m}\u001b[39;00m\u001b[39m'\u001b[39m)\n",
      "File \u001b[1;32md:\\anaconda3\\envs\\wingpuflake_keras_GPU\\lib\\site-packages\\keras\\utils\\traceback_utils.py:67\u001b[0m, in \u001b[0;36mfilter_traceback.<locals>.error_handler\u001b[1;34m(*args, **kwargs)\u001b[0m\n\u001b[0;32m     65\u001b[0m \u001b[39mexcept\u001b[39;00m \u001b[39mException\u001b[39;00m \u001b[39mas\u001b[39;00m e:  \u001b[39m# pylint: disable=broad-except\u001b[39;00m\n\u001b[0;32m     66\u001b[0m   filtered_tb \u001b[39m=\u001b[39m _process_traceback_frames(e\u001b[39m.\u001b[39m__traceback__)\n\u001b[1;32m---> 67\u001b[0m   \u001b[39mraise\u001b[39;00m e\u001b[39m.\u001b[39mwith_traceback(filtered_tb) \u001b[39mfrom\u001b[39;00m \u001b[39mNone\u001b[39m\n\u001b[0;32m     68\u001b[0m \u001b[39mfinally\u001b[39;00m:\n\u001b[0;32m     69\u001b[0m   \u001b[39mdel\u001b[39;00m filtered_tb\n",
      "File \u001b[1;32md:\\anaconda3\\envs\\wingpuflake_keras_GPU\\lib\\site-packages\\tensorflow\\python\\framework\\func_graph.py:1147\u001b[0m, in \u001b[0;36mfunc_graph_from_py_func.<locals>.autograph_handler\u001b[1;34m(*args, **kwargs)\u001b[0m\n\u001b[0;32m   1145\u001b[0m \u001b[39mexcept\u001b[39;00m \u001b[39mException\u001b[39;00m \u001b[39mas\u001b[39;00m e:  \u001b[39m# pylint:disable=broad-except\u001b[39;00m\n\u001b[0;32m   1146\u001b[0m   \u001b[39mif\u001b[39;00m \u001b[39mhasattr\u001b[39m(e, \u001b[39m\"\u001b[39m\u001b[39mag_error_metadata\u001b[39m\u001b[39m\"\u001b[39m):\n\u001b[1;32m-> 1147\u001b[0m     \u001b[39mraise\u001b[39;00m e\u001b[39m.\u001b[39mag_error_metadata\u001b[39m.\u001b[39mto_exception(e)\n\u001b[0;32m   1148\u001b[0m   \u001b[39melse\u001b[39;00m:\n\u001b[0;32m   1149\u001b[0m     \u001b[39mraise\u001b[39;00m\n",
      "\u001b[1;31mValueError\u001b[0m: in user code:\n\n    File \"d:\\anaconda3\\envs\\wingpuflake_keras_GPU\\lib\\site-packages\\keras\\engine\\training.py\", line 1801, in predict_function  *\n        return step_function(self, iterator)\n    File \"d:\\anaconda3\\envs\\wingpuflake_keras_GPU\\lib\\site-packages\\keras\\engine\\training.py\", line 1790, in step_function  **\n        outputs = model.distribute_strategy.run(run_step, args=(data,))\n    File \"d:\\anaconda3\\envs\\wingpuflake_keras_GPU\\lib\\site-packages\\keras\\engine\\training.py\", line 1783, in run_step  **\n        outputs = model.predict_step(data)\n    File \"d:\\anaconda3\\envs\\wingpuflake_keras_GPU\\lib\\site-packages\\keras\\engine\\training.py\", line 1751, in predict_step\n        return self(x, training=False)\n    File \"d:\\anaconda3\\envs\\wingpuflake_keras_GPU\\lib\\site-packages\\keras\\utils\\traceback_utils.py\", line 67, in error_handler\n        raise e.with_traceback(filtered_tb) from None\n    File \"d:\\anaconda3\\envs\\wingpuflake_keras_GPU\\lib\\site-packages\\keras\\engine\\input_spec.py\", line 200, in assert_input_compatibility\n        raise ValueError(f'Layer \"{layer_name}\" expects {len(input_spec)} input(s),'\n\n    ValueError: Layer \"model\" expects 2 input(s), but it received 1 input tensors. Inputs received: [<tf.Tensor 'IteratorGetNext:0' shape=(None, 51) dtype=int32>]\n"
     ]
    }
   ],
   "source": [
    "prediction_value = np.argmax(model2.predict(validating_content_enc[np.newaxis , 2486]))\n",
    "print(f'Models prediciton for this single validation data is: {encoder.inverse_transform([prediction_value])}')"
   ]
  },
  {
   "cell_type": "markdown",
   "metadata": {},
   "source": [
    "## Test with all Validation Data"
   ]
  },
  {
   "cell_type": "code",
   "execution_count": 50,
   "metadata": {},
   "outputs": [
    {
     "ename": "ValueError",
     "evalue": "Cannot generate a hashable key for IteratorSpec(({'input_ids': TensorSpec(shape=(None, 127), dtype=tf.int32, name=None), 'token_type_ids': TensorSpec(shape=(None, 127), dtype=tf.int32, name=None), 'attention_mask': TensorSpec(shape=(None, 127), dtype=tf.int32, name=None)},),) because the _serialize() method returned an unsupproted value of type <class 'transformers.tokenization_utils_base.BatchEncoding'>",
     "output_type": "error",
     "traceback": [
      "\u001b[1;31m---------------------------------------------------------------------------\u001b[0m",
      "\u001b[1;31mValueError\u001b[0m                                Traceback (most recent call last)",
      "\u001b[1;32mf:\\python-workspace\\phrase2phrase-match-ai\\phrase_2_phrase_matching.ipynb Cell 93'\u001b[0m in \u001b[0;36m<cell line: 1>\u001b[1;34m()\u001b[0m\n\u001b[1;32m----> <a href='vscode-notebook-cell:/f%3A/python-workspace/phrase2phrase-match-ai/phrase_2_phrase_matching.ipynb#ch0000092?line=0'>1</a>\u001b[0m predictions \u001b[39m=\u001b[39m model2\u001b[39m.\u001b[39;49mpredict(val_encoded)\n",
      "File \u001b[1;32md:\\anaconda3\\envs\\wingpuflake_keras_GPU\\lib\\site-packages\\keras\\utils\\traceback_utils.py:67\u001b[0m, in \u001b[0;36mfilter_traceback.<locals>.error_handler\u001b[1;34m(*args, **kwargs)\u001b[0m\n\u001b[0;32m     65\u001b[0m \u001b[39mexcept\u001b[39;00m \u001b[39mException\u001b[39;00m \u001b[39mas\u001b[39;00m e:  \u001b[39m# pylint: disable=broad-except\u001b[39;00m\n\u001b[0;32m     66\u001b[0m   filtered_tb \u001b[39m=\u001b[39m _process_traceback_frames(e\u001b[39m.\u001b[39m__traceback__)\n\u001b[1;32m---> 67\u001b[0m   \u001b[39mraise\u001b[39;00m e\u001b[39m.\u001b[39mwith_traceback(filtered_tb) \u001b[39mfrom\u001b[39;00m \u001b[39mNone\u001b[39m\n\u001b[0;32m     68\u001b[0m \u001b[39mfinally\u001b[39;00m:\n\u001b[0;32m     69\u001b[0m   \u001b[39mdel\u001b[39;00m filtered_tb\n",
      "File \u001b[1;32md:\\anaconda3\\envs\\wingpuflake_keras_GPU\\lib\\site-packages\\tensorflow\\python\\framework\\type_spec.py:426\u001b[0m, in \u001b[0;36mTypeSpec.__make_cmp_key\u001b[1;34m(self, value)\u001b[0m\n\u001b[0;32m    423\u001b[0m \u001b[39mif\u001b[39;00m \u001b[39misinstance\u001b[39m(value, np\u001b[39m.\u001b[39mndarray):\n\u001b[0;32m    424\u001b[0m   \u001b[39mreturn\u001b[39;00m (np\u001b[39m.\u001b[39mndarray, value\u001b[39m.\u001b[39mshape,\n\u001b[0;32m    425\u001b[0m           TypeSpec\u001b[39m.\u001b[39m__nested_list_to_tuple(value\u001b[39m.\u001b[39mtolist()))\n\u001b[1;32m--> 426\u001b[0m \u001b[39mraise\u001b[39;00m \u001b[39mValueError\u001b[39;00m(\u001b[39mf\u001b[39m\u001b[39m\"\u001b[39m\u001b[39mCannot generate a hashable key for \u001b[39m\u001b[39m{\u001b[39;00m\u001b[39mself\u001b[39m\u001b[39m}\u001b[39;00m\u001b[39m because \u001b[39m\u001b[39m\"\u001b[39m\n\u001b[0;32m    427\u001b[0m                  \u001b[39mf\u001b[39m\u001b[39m\"\u001b[39m\u001b[39mthe _serialize() method \u001b[39m\u001b[39m\"\u001b[39m\n\u001b[0;32m    428\u001b[0m                  \u001b[39mf\u001b[39m\u001b[39m\"\u001b[39m\u001b[39mreturned an unsupproted value of type \u001b[39m\u001b[39m{\u001b[39;00m\u001b[39mtype\u001b[39m(value)\u001b[39m}\u001b[39;00m\u001b[39m\"\u001b[39m)\n",
      "\u001b[1;31mValueError\u001b[0m: Cannot generate a hashable key for IteratorSpec(({'input_ids': TensorSpec(shape=(None, 127), dtype=tf.int32, name=None), 'token_type_ids': TensorSpec(shape=(None, 127), dtype=tf.int32, name=None), 'attention_mask': TensorSpec(shape=(None, 127), dtype=tf.int32, name=None)},),) because the _serialize() method returned an unsupproted value of type <class 'transformers.tokenization_utils_base.BatchEncoding'>"
     ]
    }
   ],
   "source": [
    "predictions = model2.predict(val_encoded)"
   ]
  },
  {
   "cell_type": "code",
   "execution_count": 144,
   "metadata": {},
   "outputs": [],
   "source": [
    "evaluation = model2.evaluate((np.asarray(val_encoded['input_ids']),\n",
    "                              np.asarray(val_encoded['attention_mask']),\n",
    "                             ),\n",
    "                             validating_labels, verbose=0)\n",
    "\n",
    "print(f'Models validation loss: {evaluation[0]} - Models validation accuracy: {evaluation[1]}')"
   ]
  },
  {
   "cell_type": "code",
   "execution_count": 143,
   "metadata": {},
   "outputs": [
    {
     "data": {
      "text/plain": [
       "[<matplotlib.lines.Line2D at 0x1f790da36a0>]"
      ]
     },
     "execution_count": 143,
     "metadata": {},
     "output_type": "execute_result"
    },
    {
     "data": {
      "image/png": "[encoded data removed]",
      "text/plain": [
       "<Figure size 432x288 with 1 Axes>"
      ]
     },
     "metadata": {
      "needs_background": "light"
     },
     "output_type": "display_data"
    }
   ],
   "source": [
    "plt.plot(history_deberta.history['loss'])\n",
    "plt.plot(history_deberta.history['val_loss'])"
   ]
  },
  {
   "cell_type": "markdown",
   "metadata": {},
   "source": [
    "# Submission File"
   ]
  },
  {
   "cell_type": "markdown",
   "metadata": {},
   "source": [
    "## Training on all Data"
   ]
  },
  {
   "cell_type": "markdown",
   "metadata": {},
   "source": [
    "## Prediction of Test File Values"
   ]
  },
  {
   "cell_type": "code",
   "execution_count": 61,
   "metadata": {},
   "outputs": [],
   "source": [
    "competition_file = pd.DataFrame(columns=['score'])"
   ]
  },
  {
   "cell_type": "code",
   "execution_count": 67,
   "metadata": {},
   "outputs": [],
   "source": [
    "test_encoded = preprocess_function(train)"
   ]
  },
  {
   "cell_type": "code",
   "execution_count": 69,
   "metadata": {},
   "outputs": [],
   "source": [
    "test_prediction = model2.predict((np.asarray(test_encoded['input_ids']),\n",
    "                                  np.asarray(test_encoded['attention_mask']) \n",
    "                                  ))"
   ]
  },
  {
   "cell_type": "code",
   "execution_count": 81,
   "metadata": {},
   "outputs": [],
   "source": [
    "competition_file['score'] = encoder.inverse_transform(np.argmax(test_prediction, axis=1))"
   ]
  },
  {
   "cell_type": "code",
   "execution_count": 83,
   "metadata": {},
   "outputs": [
    {
     "data": {
      "text/plain": [
       "<AxesSubplot:>"
      ]
     },
     "execution_count": 83,
     "metadata": {},
     "output_type": "execute_result"
    },
    {
     "data": {
      "image/png": "[encoded data removed]",
      "text/plain": [
       "<Figure size 432x288 with 1 Axes>"
      ]
     },
     "metadata": {
      "needs_background": "light"
     },
     "output_type": "display_data"
    }
   ],
   "source": [
    "competition_file['score'].hist()"
   ]
  },
  {
   "cell_type": "code",
   "execution_count": null,
   "metadata": {},
   "outputs": [],
   "source": [
    "competition_file.to_csv('submission.csv', index=False)"
   ]
  }
 ],
 "metadata": {
  "interpreter": {
   "hash": "9f886a0e7e4bdf7e8f253b33537ca1c5dcae8e086cc45ba5445b111bc8663c61"
  },
  "kernelspec": {
   "display_name": "Python 3 (ipykernel)",
   "language": "python",
   "name": "python3"
  },
  "language_info": {
   "codemirror_mode": {
    "name": "ipython",
    "version": 3
   },
   "file_extension": ".py",
   "mimetype": "text/x-python",
   "name": "python",
   "nbconvert_exporter": "python",
   "pygments_lexer": "ipython3",
   "version": "3.8.13"
  }
 },
 "nbformat": 4,
 "nbformat_minor": 2
}
