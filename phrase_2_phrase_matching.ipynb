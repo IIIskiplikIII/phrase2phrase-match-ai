{
 "cells": [
  {
   "cell_type": "markdown",
   "id": "8ec671fa",
   "metadata": {
    "papermill": {
     "duration": 0.022206,
     "end_time": "2022-06-21T07:11:02.021009",
     "exception": false,
     "start_time": "2022-06-21T07:11:01.998803",
     "status": "completed"
    },
    "tags": []
   },
   "source": [
    "# Introduction\n",
    "Hi visitor,\n",
    "this is my first NLP project and my first competition on Kaggle. I am familliar with the theoretical basics of NLP but never did a project on this topics especially with some pretrained models. So this is it. \n",
    "\n",
    "In this project I tried two approaches of pre-trained model us. One where I load the pre-trained model manually in the embeddings layer and use that layer as a part of my model (glove) and the other one based on Huggingfaces🤗 framework, where I use the from_pretrained() function which loads the whole model (with all layers).\n",
    "\n",
    "After the Competition:\n",
    "For a better learning process I recaped my work and compared it with other competitions contributors work. One main notebook here was Jeremy Howards \"Iterate like a grandmaster!\". I used a lot of his approaches in this notebook in the recap phase. If you want to see my initial approach where I got around 70% accuracy you should take a look at version 14. This was the version that I submitted to the competition. All work after this version is part of the recap phase and therefore full of inspiring code parts of other contributors\n",
    "\n",
    "INFO: According to the Kaggle dataset situation, I could find the Deberta base model there for Tensorflow therefore I needed to choose the roBerta model. So it could therefore occur the situation you find some variable / model / checkpoint names that are still named after deberta and not roberta. I will try to fix this one after the other.\n",
    "And according to the current state of competition I focused on the Deberta/Roberta approach only which made my comment out the Glove model section. I will reactivate it in the final version of this notebook.\n",
    "\n",
    "I thereforce ask you to bear with?! 🤗"
   ]
  },
  {
   "cell_type": "markdown",
   "id": "dea160ea",
   "metadata": {
    "papermill": {
     "duration": 0.02074,
     "end_time": "2022-06-21T07:11:02.063820",
     "exception": false,
     "start_time": "2022-06-21T07:11:02.043080",
     "status": "completed"
    },
    "tags": []
   },
   "source": [
    "# Imports and Datasets"
   ]
  },
  {
   "cell_type": "code",
   "execution_count": 84,
   "id": "fad67e2f",
   "metadata": {
    "execution": {
     "iopub.execute_input": "2022-06-21T07:11:02.107160Z",
     "iopub.status.busy": "2022-06-21T07:11:02.106365Z",
     "iopub.status.idle": "2022-06-21T07:11:16.532330Z",
     "shell.execute_reply": "2022-06-21T07:11:16.531564Z"
    },
    "papermill": {
     "duration": 14.449925,
     "end_time": "2022-06-21T07:11:16.534173",
     "exception": false,
     "start_time": "2022-06-21T07:11:02.084248",
     "status": "completed"
    },
    "tags": []
   },
   "outputs": [
    {
     "name": "stdout",
     "output_type": "stream",
     "text": [
      "Tensorflow Version: 2.8.0\n",
      "Keras Version: 2.8.0\n",
      "---Tensorflow is running with GPU Power now---\n",
      "Device mapping:\n",
      "/job:localhost/replica:0/task:0/device:GPU:0 -> device: 0, name: NVIDIA GeForce RTX 2080 Ti, pci bus id: 0000:04:00.0, compute capability: 7.5\n",
      "/job:localhost/replica:0/task:0/device:GPU:1 -> device: 1, name: NVIDIA GeForce RTX 2080 Ti, pci bus id: 0000:09:00.0, compute capability: 7.5\n",
      "\n",
      "f:\\python-workspace\\phrase2phrase-match-ai\\data\\input\\us-patent-phrase-to-phrase-matching\\sample_submission.csv\n",
      "f:\\python-workspace\\phrase2phrase-match-ai\\data\\input\\us-patent-phrase-to-phrase-matching\\test.csv\n",
      "f:\\python-workspace\\phrase2phrase-match-ai\\data\\input\\us-patent-phrase-to-phrase-matching\\train.csv\n"
     ]
    }
   ],
   "source": [
    "import sys\n",
    "assert sys.version_info >= (3,5)\n",
    "import os\n",
    "import pathlib\n",
    "\n",
    "# Is this notebook running on Colab or Kaggle?\n",
    "IS_COLAB = \"google.colab\" in sys.modules\n",
    "IS_KAGGLE = \"kaggle_secrets\" in sys.modules\n",
    "\n",
    "import numpy as np\n",
    "import pandas as pd\n",
    "import matplotlib.pyplot as plt\n",
    "from functools import partial\n",
    "import seaborn as sns\n",
    "from datasets import Dataset\n",
    "from datasets import DatasetDict\n",
    "\n",
    "from sklearn.model_selection import train_test_split\n",
    "from sklearn.pipeline import Pipeline\n",
    "from sklearn.preprocessing import StandardScaler\n",
    "from sklearn.preprocessing import Normalizer\n",
    "from sklearn.preprocessing import LabelEncoder\n",
    "\n",
    "import nltk\n",
    "from string import punctuation\n",
    "from collections import Counter\n",
    "\n",
    "from scipy.spatial.distance import cosine\n",
    "\n",
    "import tensorflow as tf\n",
    "from tensorflow import keras\n",
    "import tensorflow_datasets as tfds\n",
    "from keras.preprocessing.text import Tokenizer\n",
    "from keras.preprocessing.sequence import pad_sequences\n",
    "from keras import layers\n",
    "from keras.layers import Embedding, LSTM, Dense, Dropout, CuDNNLSTM, Bidirectional\n",
    "from keras.layers.merge import concatenate\n",
    "from transformers import TrainingArguments\n",
    "from transformers import BertTokenizer, TFDebertaModel\n",
    "from transformers import RobertaTokenizer, TFRobertaModel, TFRobertaForSequenceClassification\n",
    "from transformers import TFAutoModel\n",
    "\n",
    "#import mlflow\n",
    "#from mlflow import log_metric, log_param, log_artifacts\n",
    "#import mlflow.tensorflow\n",
    "#from mlflow import pyfunc\n",
    "\n",
    "assert tf.__version__ >= \"2.0\"\n",
    "\n",
    "print(f\"Tensorflow Version: {tf.__version__}\")\n",
    "print(f\"Keras Version: {keras.__version__}\")\n",
    "\n",
    "if not tf.config.list_physical_devices('GPU'):\n",
    "    print(\"No GPU was detected. LSTMs and CNNs can be very slow without a GPU.\")\n",
    "    if IS_COLAB:\n",
    "        print(\"Go to Runtime > Change runtime and select a GPU hardware accelerator.\")\n",
    "    if IS_KAGGLE:\n",
    "        print(\"Go to Settings > Accelerator and select GPU.\")\n",
    "else:\n",
    "    print(f'---Tensorflow is running with GPU Power now---')\n",
    "    sess = tf.compat.v1.Session(config=tf.compat.v1.ConfigProto(log_device_placement=True))\n",
    "    \n",
    "\n",
    "\n",
    "random_state=42\n",
    "tf.random.set_seed(random_state)\n",
    "np.random.seed(random_state)\n",
    "\n",
    "iskaggle = os.environ.get('KAGGLE_KERNEL_RUN_TYPE','')\n",
    "#kaggle = 0 # Kaggle path active = 1\n",
    "\n",
    "MAIN_PATH = os.getcwd()\n",
    "\n",
    "# change your local path here\n",
    "if iskaggle:\n",
    "    DATA_PATH = os.path.join(MAIN_PATH, '../input')\n",
    "    PHRASES_PATH = os.path.join(DATA_PATH, 'us-patent-phrase-to-phrase-matching')\n",
    "else:\n",
    "    DATA_PATH = os.path.join(MAIN_PATH, 'data')\n",
    "    PHRASES_PATH = os.path.join(DATA_PATH,'input\\\\us-patent-phrase-to-phrase-matching')\n",
    "\n",
    "\n",
    "\n",
    "for dirname, _, filenames in os.walk(PHRASES_PATH): \n",
    "    for filename in filenames:\n",
    "        print(os.path.join(dirname, filename))\n",
    "        "
   ]
  },
  {
   "cell_type": "markdown",
   "id": "966ccef5",
   "metadata": {
    "papermill": {
     "duration": 0.021357,
     "end_time": "2022-06-21T07:11:16.576849",
     "exception": false,
     "start_time": "2022-06-21T07:11:16.555492",
     "status": "completed"
    },
    "tags": []
   },
   "source": [
    "# Get the Data"
   ]
  },
  {
   "cell_type": "code",
   "execution_count": 85,
   "id": "34d141f8",
   "metadata": {
    "execution": {
     "iopub.execute_input": "2022-06-21T07:11:16.619305Z",
     "iopub.status.busy": "2022-06-21T07:11:16.618758Z",
     "iopub.status.idle": "2022-06-21T07:11:17.384724Z",
     "shell.execute_reply": "2022-06-21T07:11:17.383675Z"
    },
    "papermill": {
     "duration": 0.789531,
     "end_time": "2022-06-21T07:11:17.386787",
     "exception": false,
     "start_time": "2022-06-21T07:11:16.597256",
     "status": "completed"
    },
    "tags": []
   },
   "outputs": [
    {
     "name": "stdout",
     "output_type": "stream",
     "text": [
      "Length of loaded trainset: 36473\n",
      "Length of loaded testset: 36\n",
      "Length of loaded competition file: 36\n",
      "Length of loaded cpc_codeset: 260476\n"
     ]
    }
   ],
   "source": [
    "# Data path and file\n",
    "CSV_FILE_TRAIN='train.csv'\n",
    "CSV_FILE_TEST='test.csv'\n",
    "CSV_FILE_COMF='sample_submission.csv'\n",
    "CSV_FILE_CPC='titles.csv'\n",
    "CPC_PATH='cpc-codes'\n",
    "DEBERTA_PATH='huggingface-deberta-variants'\n",
    "ROBERTA_PATH='roberta-base'\n",
    "\n",
    "def load_csv_data(path, csv_file):\n",
    "    csv_path = os.path.join(path, csv_file)\n",
    "    return pd.read_csv(csv_path)\n",
    "\n",
    "def load_csv_data_manuel(path, csv_file):\n",
    "    csv_path = os.path.join(path, csv_file)\n",
    "    csv_file = open(csv_path, 'r')\n",
    "    csv_data = csv_file.readlines()\n",
    "    csv_file.close()\n",
    "    return csv_data\n",
    "    \n",
    "\n",
    "train = load_csv_data(PHRASES_PATH,CSV_FILE_TRAIN)\n",
    "test = load_csv_data(PHRASES_PATH,CSV_FILE_TEST)\n",
    "competition_file = load_csv_data(PHRASES_PATH,CSV_FILE_COMF)\n",
    "cpc_code = load_csv_data(os.path.join(DATA_PATH, CPC_PATH), CSV_FILE_CPC)\n",
    "\n",
    "\n",
    "print(f'Length of loaded trainset: {len(train)}')\n",
    "print(f'Length of loaded testset: {len(test)}')\n",
    "print(f'Length of loaded competition file: {len(competition_file)}')\n",
    "print(f'Length of loaded cpc_codeset: {len(cpc_code)}')"
   ]
  },
  {
   "cell_type": "code",
   "execution_count": 86,
   "id": "121f94ac",
   "metadata": {
    "execution": {
     "iopub.execute_input": "2022-06-21T07:11:17.430575Z",
     "iopub.status.busy": "2022-06-21T07:11:17.429720Z",
     "iopub.status.idle": "2022-06-21T07:11:17.597165Z",
     "shell.execute_reply": "2022-06-21T07:11:17.596374Z"
    },
    "papermill": {
     "duration": 0.191338,
     "end_time": "2022-06-21T07:11:17.599201",
     "exception": false,
     "start_time": "2022-06-21T07:11:17.407863",
     "status": "completed"
    },
    "tags": []
   },
   "outputs": [],
   "source": [
    "train = train.join(cpc_code.set_index('code'), on = 'context')\n",
    "test = test.join(cpc_code.set_index('code'), on = 'context')"
   ]
  },
  {
   "cell_type": "markdown",
   "id": "c0aabd2b",
   "metadata": {
    "papermill": {
     "duration": 0.020359,
     "end_time": "2022-06-21T07:11:17.640941",
     "exception": false,
     "start_time": "2022-06-21T07:11:17.620582",
     "status": "completed"
    },
    "tags": []
   },
   "source": [
    "## Loading Model Files"
   ]
  },
  {
   "cell_type": "code",
   "execution_count": 87,
   "id": "232e14dd",
   "metadata": {
    "execution": {
     "iopub.execute_input": "2022-06-21T07:11:17.683069Z",
     "iopub.status.busy": "2022-06-21T07:11:17.682738Z",
     "iopub.status.idle": "2022-06-21T07:11:17.687276Z",
     "shell.execute_reply": "2022-06-21T07:11:17.686461Z"
    },
    "papermill": {
     "duration": 0.027769,
     "end_time": "2022-06-21T07:11:17.688916",
     "exception": false,
     "start_time": "2022-06-21T07:11:17.661147",
     "status": "completed"
    },
    "tags": []
   },
   "outputs": [],
   "source": [
    "# change your local path here\n",
    "if iskaggle:\n",
    "    path_to_glove_file = os.path.join(DATA_PATH, 'glove6b/glove.6B.300d.txt') # kaggle datasource location\n",
    "else:\n",
    "    path_to_glove_file = os.path.join(DATA_PATH,'glove.6B\\\\glove.6B.300d.txt')"
   ]
  },
  {
   "cell_type": "code",
   "execution_count": 88,
   "id": "373c51f3",
   "metadata": {
    "execution": {
     "iopub.execute_input": "2022-06-21T07:11:17.730625Z",
     "iopub.status.busy": "2022-06-21T07:11:17.730352Z",
     "iopub.status.idle": "2022-06-21T07:11:17.734146Z",
     "shell.execute_reply": "2022-06-21T07:11:17.733465Z"
    },
    "papermill": {
     "duration": 0.026451,
     "end_time": "2022-06-21T07:11:17.735809",
     "exception": false,
     "start_time": "2022-06-21T07:11:17.709358",
     "status": "completed"
    },
    "tags": []
   },
   "outputs": [],
   "source": [
    "if iskaggle:\n",
    "    DEBERTA_BASE = os.path.join(DATA_PATH, DEBERTA_PATH + '/deberta-base/deberta-base') # kaggle datasource location\n",
    "else:\n",
    "    DEBERTA_BASE = 'microsoft/deberta-base'"
   ]
  },
  {
   "cell_type": "code",
   "execution_count": 89,
   "id": "1ade49a6",
   "metadata": {
    "execution": {
     "iopub.execute_input": "2022-06-21T07:11:17.778079Z",
     "iopub.status.busy": "2022-06-21T07:11:17.777834Z",
     "iopub.status.idle": "2022-06-21T07:11:17.781701Z",
     "shell.execute_reply": "2022-06-21T07:11:17.780885Z"
    },
    "papermill": {
     "duration": 0.027393,
     "end_time": "2022-06-21T07:11:17.783566",
     "exception": false,
     "start_time": "2022-06-21T07:11:17.756173",
     "status": "completed"
    },
    "tags": []
   },
   "outputs": [],
   "source": [
    "if iskaggle:\n",
    "    ROBERTA_BASE = os.path.join(DATA_PATH, ROBERTA_PATH) # kaggle datasource location\n",
    "else:\n",
    "    ROBERTA_BASE = 'roberta-base'"
   ]
  },
  {
   "cell_type": "markdown",
   "id": "924a8e2e",
   "metadata": {
    "papermill": {
     "duration": 0.020152,
     "end_time": "2022-06-21T07:11:17.824009",
     "exception": false,
     "start_time": "2022-06-21T07:11:17.803857",
     "status": "completed"
    },
    "tags": []
   },
   "source": [
    "# Data Understanding"
   ]
  },
  {
   "cell_type": "markdown",
   "id": "660e29b2",
   "metadata": {
    "papermill": {
     "duration": 0.020289,
     "end_time": "2022-06-21T07:11:17.864877",
     "exception": false,
     "start_time": "2022-06-21T07:11:17.844588",
     "status": "completed"
    },
    "tags": []
   },
   "source": [
    "## Given Attributes\n",
    "- id - a unique identifier for a pair of phrases\n",
    "- anchor - the first phrase\n",
    "- target - the second phrase\n",
    "- context - the CPC classification (version 2021.05), which indicates the subject within which the similarity is to be scored\n",
    "- score - the similarity. This is sourced from a combination of one or more manual expert ratings.\n",
    "\n",
    "\n",
    "## Score\n",
    "The scores are in the 0-1 range with increments of 0.25 with the following meanings:\n",
    "\n",
    "- 1.0 - Very close match. This is typically an exact match except possibly for differences in conjugation, quantity (e.g. singular vs. plural), and addition or removal of stopwords (e.g. “the”, “and”, “or”).\n",
    "- 0.75 - Close synonym, e.g. “mobile phone” vs. “cellphone”. This also includes abbreviations, e.g. \"TCP\" -> \"transmission control protocol\".\n",
    "- 0.5 - Synonyms which don’t have the same meaning (same function, same properties). This includes broad-narrow (hyponym) and narrow-broad (hypernym) matches.\n",
    "- 0.25 - Somewhat related, e.g. the two phrases are in the same high level domain but are not synonyms. This also includes antonyms.\n",
    "- 0.0 - Unrelated."
   ]
  },
  {
   "cell_type": "code",
   "execution_count": 90,
   "id": "2b2be211",
   "metadata": {
    "execution": {
     "iopub.execute_input": "2022-06-21T07:11:17.907158Z",
     "iopub.status.busy": "2022-06-21T07:11:17.906820Z",
     "iopub.status.idle": "2022-06-21T07:11:17.924971Z",
     "shell.execute_reply": "2022-06-21T07:11:17.924208Z"
    },
    "papermill": {
     "duration": 0.04155,
     "end_time": "2022-06-21T07:11:17.926609",
     "exception": false,
     "start_time": "2022-06-21T07:11:17.885059",
     "status": "completed"
    },
    "tags": []
   },
   "outputs": [
    {
     "data": {
      "text/plain": [
       "component composite coating              152\n",
       "sheet supply roller                      150\n",
       "source voltage                           140\n",
       "perfluoroalkyl group                     136\n",
       "el display                               135\n",
       "                                        ... \n",
       "plug nozzle                                2\n",
       "shannon                                    2\n",
       "dry coating composition1                   2\n",
       "peripheral nervous system stimulation      1\n",
       "conduct conducting material                1\n",
       "Name: anchor, Length: 733, dtype: int64"
      ]
     },
     "execution_count": 90,
     "metadata": {},
     "output_type": "execute_result"
    }
   ],
   "source": [
    "train['anchor'].value_counts(dropna=False)"
   ]
  },
  {
   "cell_type": "markdown",
   "id": "9967916c",
   "metadata": {
    "papermill": {
     "duration": 0.021466,
     "end_time": "2022-06-21T07:11:17.968895",
     "exception": false,
     "start_time": "2022-06-21T07:11:17.947429",
     "status": "completed"
    },
    "tags": []
   },
   "source": [
    "The anchor value has 733 different values. Lets look at the target value."
   ]
  },
  {
   "cell_type": "code",
   "execution_count": 91,
   "id": "67cf0c11",
   "metadata": {
    "execution": {
     "iopub.execute_input": "2022-06-21T07:11:18.011661Z",
     "iopub.status.busy": "2022-06-21T07:11:18.011166Z",
     "iopub.status.idle": "2022-06-21T07:11:18.034816Z",
     "shell.execute_reply": "2022-06-21T07:11:18.033973Z"
    },
    "papermill": {
     "duration": 0.047146,
     "end_time": "2022-06-21T07:11:18.036461",
     "exception": false,
     "start_time": "2022-06-21T07:11:17.989315",
     "status": "completed"
    },
    "tags": []
   },
   "outputs": [
    {
     "data": {
      "text/plain": [
       "composition                    24\n",
       "data                           22\n",
       "metal                          22\n",
       "motor                          22\n",
       "assembly                       21\n",
       "                               ..\n",
       "switching switch over valve     1\n",
       "switching switch off valve      1\n",
       "switching over valve            1\n",
       "switching off valve             1\n",
       "wooden substrate                1\n",
       "Name: target, Length: 29340, dtype: int64"
      ]
     },
     "execution_count": 91,
     "metadata": {},
     "output_type": "execute_result"
    }
   ],
   "source": [
    "train['target'].value_counts(dropna=False)"
   ]
  },
  {
   "cell_type": "markdown",
   "id": "010842e0",
   "metadata": {
    "papermill": {
     "duration": 0.020871,
     "end_time": "2022-06-21T07:11:18.077783",
     "exception": false,
     "start_time": "2022-06-21T07:11:18.056912",
     "status": "completed"
    },
    "tags": []
   },
   "source": [
    "The target looks a little bit different. Here we have 29,340 different values."
   ]
  },
  {
   "cell_type": "code",
   "execution_count": 92,
   "id": "97d1727d",
   "metadata": {
    "execution": {
     "iopub.execute_input": "2022-06-21T07:11:18.120115Z",
     "iopub.status.busy": "2022-06-21T07:11:18.119767Z",
     "iopub.status.idle": "2022-06-21T07:11:18.130134Z",
     "shell.execute_reply": "2022-06-21T07:11:18.129130Z"
    },
    "papermill": {
     "duration": 0.033853,
     "end_time": "2022-06-21T07:11:18.132060",
     "exception": false,
     "start_time": "2022-06-21T07:11:18.098207",
     "status": "completed"
    },
    "tags": []
   },
   "outputs": [
    {
     "data": {
      "text/plain": [
       "0.50    12300\n",
       "0.25    11519\n",
       "0.00     7471\n",
       "0.75     4029\n",
       "1.00     1154\n",
       "Name: score, dtype: int64"
      ]
     },
     "execution_count": 92,
     "metadata": {},
     "output_type": "execute_result"
    }
   ],
   "source": [
    "train['score'].value_counts(dropna=False)"
   ]
  },
  {
   "cell_type": "code",
   "execution_count": 93,
   "id": "e47499a6",
   "metadata": {
    "execution": {
     "iopub.execute_input": "2022-06-21T07:11:18.175891Z",
     "iopub.status.busy": "2022-06-21T07:11:18.175448Z",
     "iopub.status.idle": "2022-06-21T07:11:18.376762Z",
     "shell.execute_reply": "2022-06-21T07:11:18.376031Z"
    },
    "papermill": {
     "duration": 0.22489,
     "end_time": "2022-06-21T07:11:18.378471",
     "exception": false,
     "start_time": "2022-06-21T07:11:18.153581",
     "status": "completed"
    },
    "tags": []
   },
   "outputs": [
    {
     "data": {
      "text/plain": [
       "<AxesSubplot:>"
      ]
     },
     "execution_count": 93,
     "metadata": {},
     "output_type": "execute_result"
    },
    {
     "data": {
      "image/png": "[encoded data removed]",
      "text/plain": [
       "<Figure size 432x288 with 1 Axes>"
      ]
     },
     "metadata": {
      "needs_background": "light"
     },
     "output_type": "display_data"
    }
   ],
   "source": [
    "train['score'].value_counts(dropna=False).sort_index().plot.bar()"
   ]
  },
  {
   "cell_type": "code",
   "execution_count": 94,
   "id": "991fb035",
   "metadata": {
    "execution": {
     "iopub.execute_input": "2022-06-21T07:11:18.423877Z",
     "iopub.status.busy": "2022-06-21T07:11:18.423020Z",
     "iopub.status.idle": "2022-06-21T07:11:18.471563Z",
     "shell.execute_reply": "2022-06-21T07:11:18.470647Z"
    },
    "papermill": {
     "duration": 0.073728,
     "end_time": "2022-06-21T07:11:18.474055",
     "exception": false,
     "start_time": "2022-06-21T07:11:18.400327",
     "status": "completed"
    },
    "tags": []
   },
   "outputs": [
    {
     "data": {
      "text/html": [
       "<div>\n",
       "<style scoped>\n",
       "    .dataframe tbody tr th:only-of-type {\n",
       "        vertical-align: middle;\n",
       "    }\n",
       "\n",
       "    .dataframe tbody tr th {\n",
       "        vertical-align: top;\n",
       "    }\n",
       "\n",
       "    .dataframe thead th {\n",
       "        text-align: right;\n",
       "    }\n",
       "</style>\n",
       "<table border=\"1\" class=\"dataframe\">\n",
       "  <thead>\n",
       "    <tr style=\"text-align: right;\">\n",
       "      <th></th>\n",
       "      <th></th>\n",
       "      <th>id</th>\n",
       "      <th>target</th>\n",
       "      <th>score</th>\n",
       "      <th>title</th>\n",
       "      <th>section</th>\n",
       "      <th>class</th>\n",
       "      <th>subclass</th>\n",
       "      <th>group</th>\n",
       "      <th>main_group</th>\n",
       "    </tr>\n",
       "    <tr>\n",
       "      <th>anchor</th>\n",
       "      <th>context</th>\n",
       "      <th></th>\n",
       "      <th></th>\n",
       "      <th></th>\n",
       "      <th></th>\n",
       "      <th></th>\n",
       "      <th></th>\n",
       "      <th></th>\n",
       "      <th></th>\n",
       "      <th></th>\n",
       "    </tr>\n",
       "  </thead>\n",
       "  <tbody>\n",
       "    <tr>\n",
       "      <th rowspan=\"5\" valign=\"top\">abatement</th>\n",
       "      <th>A47</th>\n",
       "      <td>21</td>\n",
       "      <td>21</td>\n",
       "      <td>21</td>\n",
       "      <td>21</td>\n",
       "      <td>21</td>\n",
       "      <td>21</td>\n",
       "      <td>0</td>\n",
       "      <td>0</td>\n",
       "      <td>0</td>\n",
       "    </tr>\n",
       "    <tr>\n",
       "      <th>A61</th>\n",
       "      <td>3</td>\n",
       "      <td>3</td>\n",
       "      <td>3</td>\n",
       "      <td>3</td>\n",
       "      <td>3</td>\n",
       "      <td>3</td>\n",
       "      <td>0</td>\n",
       "      <td>0</td>\n",
       "      <td>0</td>\n",
       "    </tr>\n",
       "    <tr>\n",
       "      <th>A62</th>\n",
       "      <td>1</td>\n",
       "      <td>1</td>\n",
       "      <td>1</td>\n",
       "      <td>1</td>\n",
       "      <td>1</td>\n",
       "      <td>1</td>\n",
       "      <td>0</td>\n",
       "      <td>0</td>\n",
       "      <td>0</td>\n",
       "    </tr>\n",
       "    <tr>\n",
       "      <th>C01</th>\n",
       "      <td>1</td>\n",
       "      <td>1</td>\n",
       "      <td>1</td>\n",
       "      <td>1</td>\n",
       "      <td>1</td>\n",
       "      <td>1</td>\n",
       "      <td>0</td>\n",
       "      <td>0</td>\n",
       "      <td>0</td>\n",
       "    </tr>\n",
       "    <tr>\n",
       "      <th>F16</th>\n",
       "      <td>1</td>\n",
       "      <td>1</td>\n",
       "      <td>1</td>\n",
       "      <td>1</td>\n",
       "      <td>1</td>\n",
       "      <td>1</td>\n",
       "      <td>0</td>\n",
       "      <td>0</td>\n",
       "      <td>0</td>\n",
       "    </tr>\n",
       "    <tr>\n",
       "      <th>...</th>\n",
       "      <th>...</th>\n",
       "      <td>...</td>\n",
       "      <td>...</td>\n",
       "      <td>...</td>\n",
       "      <td>...</td>\n",
       "      <td>...</td>\n",
       "      <td>...</td>\n",
       "      <td>...</td>\n",
       "      <td>...</td>\n",
       "      <td>...</td>\n",
       "    </tr>\n",
       "    <tr>\n",
       "      <th rowspan=\"2\" valign=\"top\">wiring trough</th>\n",
       "      <th>F16</th>\n",
       "      <td>27</td>\n",
       "      <td>27</td>\n",
       "      <td>27</td>\n",
       "      <td>27</td>\n",
       "      <td>27</td>\n",
       "      <td>27</td>\n",
       "      <td>0</td>\n",
       "      <td>0</td>\n",
       "      <td>0</td>\n",
       "    </tr>\n",
       "    <tr>\n",
       "      <th>H02</th>\n",
       "      <td>18</td>\n",
       "      <td>18</td>\n",
       "      <td>18</td>\n",
       "      <td>18</td>\n",
       "      <td>18</td>\n",
       "      <td>18</td>\n",
       "      <td>0</td>\n",
       "      <td>0</td>\n",
       "      <td>0</td>\n",
       "    </tr>\n",
       "    <tr>\n",
       "      <th rowspan=\"3\" valign=\"top\">wood article</th>\n",
       "      <th>B05</th>\n",
       "      <td>28</td>\n",
       "      <td>28</td>\n",
       "      <td>28</td>\n",
       "      <td>28</td>\n",
       "      <td>28</td>\n",
       "      <td>28</td>\n",
       "      <td>0</td>\n",
       "      <td>0</td>\n",
       "      <td>0</td>\n",
       "    </tr>\n",
       "    <tr>\n",
       "      <th>B27</th>\n",
       "      <td>1</td>\n",
       "      <td>1</td>\n",
       "      <td>1</td>\n",
       "      <td>1</td>\n",
       "      <td>1</td>\n",
       "      <td>1</td>\n",
       "      <td>0</td>\n",
       "      <td>0</td>\n",
       "      <td>0</td>\n",
       "    </tr>\n",
       "    <tr>\n",
       "      <th>B44</th>\n",
       "      <td>27</td>\n",
       "      <td>27</td>\n",
       "      <td>27</td>\n",
       "      <td>27</td>\n",
       "      <td>27</td>\n",
       "      <td>27</td>\n",
       "      <td>0</td>\n",
       "      <td>0</td>\n",
       "      <td>0</td>\n",
       "    </tr>\n",
       "  </tbody>\n",
       "</table>\n",
       "<p>1699 rows × 9 columns</p>\n",
       "</div>"
      ],
      "text/plain": [
       "                       id  target  score  title  section  class  subclass  \\\n",
       "anchor        context                                                       \n",
       "abatement     A47      21      21     21     21       21     21         0   \n",
       "              A61       3       3      3      3        3      3         0   \n",
       "              A62       1       1      1      1        1      1         0   \n",
       "              C01       1       1      1      1        1      1         0   \n",
       "              F16       1       1      1      1        1      1         0   \n",
       "...                    ..     ...    ...    ...      ...    ...       ...   \n",
       "wiring trough F16      27      27     27     27       27     27         0   \n",
       "              H02      18      18     18     18       18     18         0   \n",
       "wood article  B05      28      28     28     28       28     28         0   \n",
       "              B27       1       1      1      1        1      1         0   \n",
       "              B44      27      27     27     27       27     27         0   \n",
       "\n",
       "                       group  main_group  \n",
       "anchor        context                     \n",
       "abatement     A47          0           0  \n",
       "              A61          0           0  \n",
       "              A62          0           0  \n",
       "              C01          0           0  \n",
       "              F16          0           0  \n",
       "...                      ...         ...  \n",
       "wiring trough F16          0           0  \n",
       "              H02          0           0  \n",
       "wood article  B05          0           0  \n",
       "              B27          0           0  \n",
       "              B44          0           0  \n",
       "\n",
       "[1699 rows x 9 columns]"
      ]
     },
     "execution_count": 94,
     "metadata": {},
     "output_type": "execute_result"
    }
   ],
   "source": [
    "train.groupby(['anchor', 'context']).count()"
   ]
  },
  {
   "cell_type": "markdown",
   "id": "82f18484",
   "metadata": {},
   "source": [
    "### Configuration"
   ]
  },
  {
   "cell_type": "code",
   "execution_count": 95,
   "id": "c8cfa83e",
   "metadata": {},
   "outputs": [],
   "source": [
    "class Config():\n",
    "    learning_rate = 8e-6\n",
    "    num_epochs = 4\n",
    "    batch_size = 128\n",
    "    decay = 0.01\n",
    "    max_line_length = 135\n",
    "\n",
    "    base_model = ROBERTA_BASE\n",
    "\n",
    "    root_logdir_tb = \"../../tensorboard-logs\"   # tensorboard logdir\n",
    "\n",
    "    def __init__(self, **kwargs):\n",
    "        for k, v in kwargs.items():\n",
    "            if k in self.__dict__:\n",
    "                setattr(self, k, v)\n",
    "            else:\n",
    "                raise KeyError(k)\n",
    "        \n",
    "\n",
    "\n",
    "config = Config()"
   ]
  },
  {
   "cell_type": "markdown",
   "id": "1c9fd976",
   "metadata": {
    "papermill": {
     "duration": 0.02174,
     "end_time": "2022-06-21T07:11:18.517959",
     "exception": false,
     "start_time": "2022-06-21T07:11:18.496219",
     "status": "completed"
    },
    "tags": []
   },
   "source": [
    "# Data Preparation"
   ]
  },
  {
   "cell_type": "markdown",
   "id": "6dcb4855",
   "metadata": {},
   "source": [
    "#### Loading Model"
   ]
  },
  {
   "cell_type": "code",
   "execution_count": 96,
   "id": "942fd052",
   "metadata": {
    "execution": {
     "iopub.execute_input": "2022-06-21T07:25:28.701418Z",
     "iopub.status.busy": "2022-06-21T07:25:28.701060Z",
     "iopub.status.idle": "2022-06-21T07:25:28.716955Z",
     "shell.execute_reply": "2022-06-21T07:25:28.716216Z"
    },
    "papermill": {
     "duration": 0.198283,
     "end_time": "2022-06-21T07:25:28.718853",
     "exception": false,
     "start_time": "2022-06-21T07:25:28.520570",
     "status": "completed"
    },
    "tags": []
   },
   "outputs": [],
   "source": [
    "from transformers import AutoTokenizer\n",
    "from transformers import TFAutoModelForSequenceClassification"
   ]
  },
  {
   "cell_type": "code",
   "execution_count": 97,
   "id": "2b502bd4",
   "metadata": {
    "execution": {
     "iopub.execute_input": "2022-06-21T07:25:29.085564Z",
     "iopub.status.busy": "2022-06-21T07:25:29.085202Z",
     "iopub.status.idle": "2022-06-21T07:25:29.220069Z",
     "shell.execute_reply": "2022-06-21T07:25:29.219283Z"
    },
    "papermill": {
     "duration": 0.321003,
     "end_time": "2022-06-21T07:25:29.221858",
     "exception": false,
     "start_time": "2022-06-21T07:25:28.900855",
     "status": "completed"
    },
    "tags": []
   },
   "outputs": [],
   "source": [
    "tokenizer = AutoTokenizer.from_pretrained(config.base_model)"
   ]
  },
  {
   "cell_type": "code",
   "execution_count": 98,
   "id": "48d08205",
   "metadata": {
    "execution": {
     "iopub.execute_input": "2022-06-21T07:25:29.586346Z",
     "iopub.status.busy": "2022-06-21T07:25:29.585948Z",
     "iopub.status.idle": "2022-06-21T07:25:36.969555Z",
     "shell.execute_reply": "2022-06-21T07:25:36.968755Z"
    },
    "papermill": {
     "duration": 7.567751,
     "end_time": "2022-06-21T07:25:36.971557",
     "exception": false,
     "start_time": "2022-06-21T07:25:29.403806",
     "status": "completed"
    },
    "tags": []
   },
   "outputs": [
    {
     "name": "stderr",
     "output_type": "stream",
     "text": [
      "All model checkpoint layers were used when initializing TFRobertaForSequenceClassification.\n",
      "\n",
      "Some layers of TFRobertaForSequenceClassification were not initialized from the model checkpoint at roberta-base and are newly initialized: ['classifier']\n",
      "You should probably TRAIN this model on a down-stream task to be able to use it for predictions and inference.\n"
     ]
    }
   ],
   "source": [
    "model_pretrained = TFAutoModelForSequenceClassification.from_pretrained(config.base_model, trainable=True, return_dict=True, num_labels=5, output_hidden_states=True)"
   ]
  },
  {
   "cell_type": "code",
   "execution_count": 99,
   "id": "cddaed5b",
   "metadata": {},
   "outputs": [],
   "source": [
    "#tokenizer.add_special_tokens({'additional_special_tokens': context_list})"
   ]
  },
  {
   "cell_type": "markdown",
   "id": "9f0bc05a",
   "metadata": {},
   "source": [
    "#### Building the Input Value for the Model - The Text Corpus"
   ]
  },
  {
   "cell_type": "markdown",
   "id": "4a779b6a",
   "metadata": {},
   "source": [
    "Seperating the loaded cpc titles. They are concatenated by \";\".  "
   ]
  },
  {
   "cell_type": "code",
   "execution_count": 100,
   "id": "108644b0",
   "metadata": {},
   "outputs": [],
   "source": [
    "# Seperating the cpc titles\n",
    "train['title'] = train.title.apply(lambda text: text.split(';'))\n",
    "train['title'] = train.title.apply(lambda context: ' '.join(context))"
   ]
  },
  {
   "cell_type": "markdown",
   "id": "600fdcab",
   "metadata": {
    "papermill": {
     "duration": 0.021974,
     "end_time": "2022-06-21T07:11:18.561571",
     "exception": false,
     "start_time": "2022-06-21T07:11:18.539597",
     "status": "completed"
    },
    "tags": []
   },
   "source": [
    "#### Special Tokens"
   ]
  },
  {
   "cell_type": "code",
   "execution_count": 101,
   "id": "703a57ac",
   "metadata": {},
   "outputs": [
    {
     "name": "stdout",
     "output_type": "stream",
     "text": [
      "Seperater Token: </s>\n"
     ]
    }
   ],
   "source": [
    "sep_token = tokenizer.sep_token\n",
    "print(f'Seperater Token: {sep_token}')"
   ]
  },
  {
   "cell_type": "code",
   "execution_count": 102,
   "id": "3836b316",
   "metadata": {},
   "outputs": [
    {
     "data": {
      "text/plain": [
       "['<s>', '</s>', '<unk>', '<pad>', '<mask>']"
      ]
     },
     "execution_count": 102,
     "metadata": {},
     "output_type": "execute_result"
    }
   ],
   "source": [
    "tokenizer.all_special_tokens"
   ]
  },
  {
   "cell_type": "markdown",
   "id": "7c77ef0d",
   "metadata": {},
   "source": [
    "Defining the context as special token for the Tokenizer"
   ]
  },
  {
   "cell_type": "code",
   "execution_count": 103,
   "id": "3d32ba65",
   "metadata": {
    "execution": {
     "iopub.execute_input": "2022-06-21T07:11:18.606825Z",
     "iopub.status.busy": "2022-06-21T07:11:18.606042Z",
     "iopub.status.idle": "2022-06-21T07:11:18.623976Z",
     "shell.execute_reply": "2022-06-21T07:11:18.623217Z"
    },
    "papermill": {
     "duration": 0.042642,
     "end_time": "2022-06-21T07:11:18.625622",
     "exception": false,
     "start_time": "2022-06-21T07:11:18.582980",
     "status": "completed"
    },
    "tags": []
   },
   "outputs": [],
   "source": [
    "train['context_token'] = '[' + train['context'] + ']'\n",
    "test['context_token'] = '[' + test['context'] + ']'\n",
    "context_list = list(train['context_token'].unique())"
   ]
  },
  {
   "cell_type": "code",
   "execution_count": 104,
   "id": "9e7be38e",
   "metadata": {},
   "outputs": [],
   "source": [
    "train['corpus'] = train['anchor'] + sep_token + train['target']\n",
    "train['corpus_w_context'] = train['context_token'] + sep_token + train['corpus']\n",
    "train['corpus_w_full_context'] = train['context_token'] + sep_token + train['corpus'] + sep_token + train['title']\n",
    "\n",
    "test['corpus'] = test['anchor'] + sep_token + test['target']\n",
    "test['corpus_w_context'] = test['context_token'] + sep_token + test['corpus']\n",
    "test['corpus_w_full_context'] = train['context_token'] + sep_token + test['corpus'] + sep_token + test['title']"
   ]
  },
  {
   "cell_type": "markdown",
   "id": "1a675782",
   "metadata": {},
   "source": [
    "#### Train / Test / Val Data\n"
   ]
  },
  {
   "cell_type": "code",
   "execution_count": 105,
   "id": "a4ebeaa5",
   "metadata": {},
   "outputs": [],
   "source": [
    "anchors = train.anchor.unique()"
   ]
  },
  {
   "cell_type": "code",
   "execution_count": 106,
   "metadata": {},
   "outputs": [
    {
     "name": "stdout",
     "output_type": "stream",
     "text": [
      "Amount of diferent anchor values: 733\n"
     ]
    }
   ],
   "source": [
    "print(f\"Amount of diferent anchor values: {len(anchors)}\")"
   ]
  },
  {
   "cell_type": "code",
   "execution_count": 107,
   "id": "89fb9c42",
   "metadata": {},
   "outputs": [],
   "source": [
    "np.random.seed(random_state)\n",
    "np.random.shuffle(anchors)"
   ]
  },
  {
   "cell_type": "code",
   "execution_count": 108,
   "id": "9e0bc096",
   "metadata": {},
   "outputs": [
    {
     "data": {
      "text/plain": [
       "array(['time digital signal', 'antiatherosclerotic', 'filled interior',\n",
       "       'dispersed powder', 'locking formation'], dtype=object)"
      ]
     },
     "execution_count": 108,
     "metadata": {},
     "output_type": "execute_result"
    }
   ],
   "source": [
    "anchors[:5]"
   ]
  },
  {
   "cell_type": "markdown",
   "id": "dd072bc8",
   "metadata": {},
   "source": [
    "This anchor set will work as the basement for the validation set slicing."
   ]
  },
  {
   "cell_type": "code",
   "execution_count": 109,
   "id": "e1bd25bc",
   "metadata": {},
   "outputs": [],
   "source": [
    "val_proportion = 0.25\n",
    "val_size = int(len(anchors)* val_proportion)\n",
    "val_anchors = anchors[:val_size]"
   ]
  },
  {
   "cell_type": "markdown",
   "id": "98adc7ac",
   "metadata": {},
   "source": [
    "Slicing the data (or the over all index) with the validation index into train and validation index."
   ]
  },
  {
   "cell_type": "code",
   "execution_count": 110,
   "id": "3ba3e99b",
   "metadata": {},
   "outputs": [],
   "source": [
    "is_validation = np.isin(train.anchor, val_anchors)\n",
    "idxs = np.arange(len(train))"
   ]
  },
  {
   "cell_type": "code",
   "execution_count": 111,
   "metadata": {},
   "outputs": [
    {
     "data": {
      "text/plain": [
       "(9116, 27357)"
      ]
     },
     "execution_count": 111,
     "metadata": {},
     "output_type": "execute_result"
    }
   ],
   "source": [
    "val_indexes = idxs[is_validation]\n",
    "train_indexes = idxs[~is_validation]\n",
    "len(val_indexes), len(train_indexes)"
   ]
  },
  {
   "cell_type": "markdown",
   "id": "590a2462",
   "metadata": {},
   "source": [
    "Distribution of \"Score\" Values in Train / Val Set"
   ]
  },
  {
   "cell_type": "code",
   "execution_count": 112,
   "id": "9fbc9964",
   "metadata": {},
   "outputs": [
    {
     "data": {
      "text/plain": [
       "0.3623021530138539"
      ]
     },
     "execution_count": 112,
     "metadata": {},
     "output_type": "execute_result"
    }
   ],
   "source": [
    "train.iloc[train_indexes].score.mean()"
   ]
  },
  {
   "cell_type": "code",
   "execution_count": 113,
   "id": "c93f9249",
   "metadata": {},
   "outputs": [
    {
     "data": {
      "text/plain": [
       "0.3613426941641071"
      ]
     },
     "execution_count": 113,
     "metadata": {},
     "output_type": "execute_result"
    }
   ],
   "source": [
    "train.iloc[val_indexes].score.mean()"
   ]
  },
  {
   "cell_type": "markdown",
   "id": "56ea54f1",
   "metadata": {},
   "source": [
    "### Encoding"
   ]
  },
  {
   "cell_type": "markdown",
   "id": "21654e7a",
   "metadata": {},
   "source": [
    "#### Tokenizer Funktion"
   ]
  },
  {
   "cell_type": "code",
   "execution_count": 114,
   "id": "15e0efd3",
   "metadata": {},
   "outputs": [],
   "source": [
    "def tokenize_fkt(text, tokenizer):\n",
    "    MAX_LINE_LENGTH = len(tokenizer(text).input_ids) # removed the tensorflow return\n",
    "    encoded_text = tokenizer.batch_encode_plus(\n",
    "        text,\n",
    "        add_special_tokens=False,\n",
    "        max_length=config.max_line_length,\n",
    "        padding='max_length',\n",
    "        truncation=True,\n",
    "        return_attention_mask=True,\n",
    "        return_token_type_ids=True,\n",
    "        return_tensors=\"tf\"\n",
    "        )\n",
    "\n",
    "    input_ids = np.array(encoded_text[\"input_ids\"], dtype=\"int32\")\n",
    "    attention_masks = np.array(encoded_text[\"attention_mask\"], dtype=\"int32\")\n",
    "    token_type_ids = np.array(encoded_text[\"token_type_ids\"], dtype=\"int32\")\n",
    "\n",
    "    return {\n",
    "        \"input_ids\": input_ids,\n",
    "        \"attention_masks\": attention_masks,\n",
    "        \"token_type_ids\": token_type_ids\n",
    "    }"
   ]
  },
  {
   "cell_type": "markdown",
   "id": "fc38dfde",
   "metadata": {},
   "source": [
    "#### Dataset Train / Val"
   ]
  },
  {
   "cell_type": "code",
   "execution_count": 115,
   "id": "df0e5380",
   "metadata": {},
   "outputs": [],
   "source": [
    "train_encoded = tokenize_fkt(train.loc[train_indexes]['corpus_w_full_context'].tolist(),tokenizer)\n",
    "val_encoded = tokenize_fkt(train.loc[val_indexes]['corpus_w_full_context'].tolist(), tokenizer)\n"
   ]
  },
  {
   "cell_type": "code",
   "execution_count": 116,
   "id": "c3b9d1f8",
   "metadata": {},
   "outputs": [],
   "source": [
    "train_ds = tf.data.Dataset.from_tensor_slices((train_encoded, train.loc[train_indexes]['score'].tolist()))\n",
    "val_ds = tf.data.Dataset.from_tensor_slices((val_encoded, train.loc[val_indexes]['score'].tolist()))"
   ]
  },
  {
   "cell_type": "markdown",
   "id": "72b4f80d",
   "metadata": {},
   "source": [
    "#### Batching Datasets"
   ]
  },
  {
   "cell_type": "code",
   "execution_count": 125,
   "id": "27a916a9",
   "metadata": {},
   "outputs": [],
   "source": [
    "train_ds = (\n",
    "    train_ds\n",
    "    .shuffle(1024)\n",
    "    .batch(config.batch_size)\n",
    "    .prefetch(tf.data.AUTOTUNE)\n",
    ")\n",
    "\n",
    "val_ds = (\n",
    "    val_ds\n",
    "    .batch(config.batch_size)\n",
    "    .prefetch(tf.data.AUTOTUNE)\n",
    ")"
   ]
  },
  {
   "cell_type": "markdown",
   "id": "189157a9",
   "metadata": {},
   "source": [
    "## Model Build"
   ]
  },
  {
   "cell_type": "code",
   "execution_count": 126,
   "id": "c06a56e2",
   "metadata": {},
   "outputs": [],
   "source": [
    "def build_model(config,):\n",
    "    input_ids = tf.keras.Input(shape = (config.max_line_length ), dtype = tf.int32, name=\"input_ids\")\n",
    "    attention_masks = tf.keras.Input(shape = (config.max_line_length), dtype = tf.int32, name=\"attention_masks\")\n",
    "    token_type_ids = tf.keras.Input(shape = (config.max_line_length ), dtype = tf.int32, name=\"token_type_ids\")\n",
    "\n",
    "    base_model = TFAutoModel.from_pretrained(\n",
    "                                    config.base_model,\n",
    "                                    trainable=True,\n",
    "                                    return_dict=True,\n",
    "                                    num_labels=1,\n",
    "                                    output_hidden_states=True,\n",
    "                                    from_pt=True\n",
    "                                )\n",
    "\n",
    "    base_model_out = base_model(\n",
    "                            input_ids = input_ids,\n",
    "                            attention_mask = attention_masks,\n",
    "                            token_type_ids = token_type_ids,\n",
    "                            output_hidden_states=True\n",
    "                            )\n",
    "    \n",
    "    last_hidden_state = base_model_out.last_hidden_state\n",
    "\n",
    "    avg_pool = tf.keras.layers.GlobalAveragePooling1D()(last_hidden_state)\n",
    "    dropout = tf.keras.layers.Dropout(0.3)(avg_pool)\n",
    "    #x = tf.keras.layers.Dense(32, activation='relu')(x)\n",
    "    output = tf.keras.layers.Dense(1, activation=\"sigmoid\")(dropout)\n",
    "\n",
    "    model = tf.keras.models.Model(\n",
    "        inputs = [input_ids, attention_masks, token_type_ids],\n",
    "        outputs = output\n",
    "    )\n",
    "\n",
    "    model.compile(\n",
    "        optimizer = tf.keras.optimizers.Nadam(learning_rate=config.learning_rate),\n",
    "        loss = tf.keras.losses.BinaryCrossentropy()\n",
    "    )\n",
    "\n",
    "    return model\n",
    "    "
   ]
  },
  {
   "cell_type": "code",
   "execution_count": 127,
   "metadata": {},
   "outputs": [
    {
     "name": "stderr",
     "output_type": "stream",
     "text": [
      "Some weights of the PyTorch model were not used when initializing the TF 2.0 model TFRobertaModel: ['lm_head.layer_norm.weight', 'lm_head.dense.bias', 'lm_head.layer_norm.bias', 'lm_head.bias', 'lm_head.decoder.weight', 'lm_head.dense.weight']\n",
      "- This IS expected if you are initializing TFRobertaModel from a PyTorch model trained on another task or with another architecture (e.g. initializing a TFBertForSequenceClassification model from a BertForPreTraining model).\n",
      "- This IS NOT expected if you are initializing TFRobertaModel from a PyTorch model that you expect to be exactly identical (e.g. initializing a TFBertForSequenceClassification model from a BertForSequenceClassification model).\n",
      "All the weights of TFRobertaModel were initialized from the PyTorch model.\n",
      "If your task is similar to the task the model of the checkpoint was trained on, you can already use TFRobertaModel for predictions without further training.\n"
     ]
    }
   ],
   "source": [
    "model = build_model(config)"
   ]
  },
  {
   "cell_type": "code",
   "execution_count": 128,
   "id": "ba023e77",
   "metadata": {},
   "outputs": [
    {
     "name": "stdout",
     "output_type": "stream",
     "text": [
      "Epoch 1/4\n",
      "WARNING:tensorflow:Gradients do not exist for variables ['tf_roberta_model_9/roberta/pooler/dense/kernel:0', 'tf_roberta_model_9/roberta/pooler/dense/bias:0'] when minimizing the loss. If you're using `model.compile()`, did you forget to provide a `loss`argument?\n",
      "WARNING:tensorflow:Gradients do not exist for variables ['tf_roberta_model_9/roberta/pooler/dense/kernel:0', 'tf_roberta_model_9/roberta/pooler/dense/bias:0'] when minimizing the loss. If you're using `model.compile()`, did you forget to provide a `loss`argument?\n"
     ]
    },
    {
     "ename": "KeyboardInterrupt",
     "evalue": "",
     "output_type": "error",
     "traceback": [
      "\u001b[1;31m---------------------------------------------------------------------------\u001b[0m",
      "\u001b[1;31mKeyboardInterrupt\u001b[0m                         Traceback (most recent call last)",
      "\u001b[1;32mf:\\python-workspace\\phrase2phrase-match-ai\\phrase_2_phrase_matching.ipynb Zelle 61\u001b[0m in \u001b[0;36m<cell line: 1>\u001b[1;34m()\u001b[0m\n\u001b[1;32m----> <a href='vscode-notebook-cell:/f%3A/python-workspace/phrase2phrase-match-ai/phrase_2_phrase_matching.ipynb#ch0000070?line=0'>1</a>\u001b[0m history \u001b[39m=\u001b[39m model\u001b[39m.\u001b[39;49mfit(\n\u001b[0;32m      <a href='vscode-notebook-cell:/f%3A/python-workspace/phrase2phrase-match-ai/phrase_2_phrase_matching.ipynb#ch0000070?line=1'>2</a>\u001b[0m     train_ds,\n\u001b[0;32m      <a href='vscode-notebook-cell:/f%3A/python-workspace/phrase2phrase-match-ai/phrase_2_phrase_matching.ipynb#ch0000070?line=2'>3</a>\u001b[0m     validation_data \u001b[39m=\u001b[39;49m val_ds,\n\u001b[0;32m      <a href='vscode-notebook-cell:/f%3A/python-workspace/phrase2phrase-match-ai/phrase_2_phrase_matching.ipynb#ch0000070?line=3'>4</a>\u001b[0m     epochs \u001b[39m=\u001b[39;49m config\u001b[39m.\u001b[39;49mnum_epochs\n\u001b[0;32m      <a href='vscode-notebook-cell:/f%3A/python-workspace/phrase2phrase-match-ai/phrase_2_phrase_matching.ipynb#ch0000070?line=4'>5</a>\u001b[0m )\n",
      "File \u001b[1;32md:\\anaconda3\\envs\\wingpuflake_keras_GPU\\lib\\site-packages\\keras\\utils\\traceback_utils.py:64\u001b[0m, in \u001b[0;36mfilter_traceback.<locals>.error_handler\u001b[1;34m(*args, **kwargs)\u001b[0m\n\u001b[0;32m     62\u001b[0m filtered_tb \u001b[39m=\u001b[39m \u001b[39mNone\u001b[39;00m\n\u001b[0;32m     63\u001b[0m \u001b[39mtry\u001b[39;00m:\n\u001b[1;32m---> 64\u001b[0m   \u001b[39mreturn\u001b[39;00m fn(\u001b[39m*\u001b[39;49margs, \u001b[39m*\u001b[39;49m\u001b[39m*\u001b[39;49mkwargs)\n\u001b[0;32m     65\u001b[0m \u001b[39mexcept\u001b[39;00m \u001b[39mException\u001b[39;00m \u001b[39mas\u001b[39;00m e:  \u001b[39m# pylint: disable=broad-except\u001b[39;00m\n\u001b[0;32m     66\u001b[0m   filtered_tb \u001b[39m=\u001b[39m _process_traceback_frames(e\u001b[39m.\u001b[39m__traceback__)\n",
      "File \u001b[1;32md:\\anaconda3\\envs\\wingpuflake_keras_GPU\\lib\\site-packages\\keras\\engine\\training.py:1384\u001b[0m, in \u001b[0;36mModel.fit\u001b[1;34m(self, x, y, batch_size, epochs, verbose, callbacks, validation_split, validation_data, shuffle, class_weight, sample_weight, initial_epoch, steps_per_epoch, validation_steps, validation_batch_size, validation_freq, max_queue_size, workers, use_multiprocessing)\u001b[0m\n\u001b[0;32m   1377\u001b[0m \u001b[39mwith\u001b[39;00m tf\u001b[39m.\u001b[39mprofiler\u001b[39m.\u001b[39mexperimental\u001b[39m.\u001b[39mTrace(\n\u001b[0;32m   1378\u001b[0m     \u001b[39m'\u001b[39m\u001b[39mtrain\u001b[39m\u001b[39m'\u001b[39m,\n\u001b[0;32m   1379\u001b[0m     epoch_num\u001b[39m=\u001b[39mepoch,\n\u001b[0;32m   1380\u001b[0m     step_num\u001b[39m=\u001b[39mstep,\n\u001b[0;32m   1381\u001b[0m     batch_size\u001b[39m=\u001b[39mbatch_size,\n\u001b[0;32m   1382\u001b[0m     _r\u001b[39m=\u001b[39m\u001b[39m1\u001b[39m):\n\u001b[0;32m   1383\u001b[0m   callbacks\u001b[39m.\u001b[39mon_train_batch_begin(step)\n\u001b[1;32m-> 1384\u001b[0m   tmp_logs \u001b[39m=\u001b[39m \u001b[39mself\u001b[39;49m\u001b[39m.\u001b[39;49mtrain_function(iterator)\n\u001b[0;32m   1385\u001b[0m   \u001b[39mif\u001b[39;00m data_handler\u001b[39m.\u001b[39mshould_sync:\n\u001b[0;32m   1386\u001b[0m     context\u001b[39m.\u001b[39masync_wait()\n",
      "File \u001b[1;32md:\\anaconda3\\envs\\wingpuflake_keras_GPU\\lib\\site-packages\\tensorflow\\python\\util\\traceback_utils.py:150\u001b[0m, in \u001b[0;36mfilter_traceback.<locals>.error_handler\u001b[1;34m(*args, **kwargs)\u001b[0m\n\u001b[0;32m    148\u001b[0m filtered_tb \u001b[39m=\u001b[39m \u001b[39mNone\u001b[39;00m\n\u001b[0;32m    149\u001b[0m \u001b[39mtry\u001b[39;00m:\n\u001b[1;32m--> 150\u001b[0m   \u001b[39mreturn\u001b[39;00m fn(\u001b[39m*\u001b[39;49margs, \u001b[39m*\u001b[39;49m\u001b[39m*\u001b[39;49mkwargs)\n\u001b[0;32m    151\u001b[0m \u001b[39mexcept\u001b[39;00m \u001b[39mException\u001b[39;00m \u001b[39mas\u001b[39;00m e:\n\u001b[0;32m    152\u001b[0m   filtered_tb \u001b[39m=\u001b[39m _process_traceback_frames(e\u001b[39m.\u001b[39m__traceback__)\n",
      "File \u001b[1;32md:\\anaconda3\\envs\\wingpuflake_keras_GPU\\lib\\site-packages\\tensorflow\\python\\eager\\def_function.py:915\u001b[0m, in \u001b[0;36mFunction.__call__\u001b[1;34m(self, *args, **kwds)\u001b[0m\n\u001b[0;32m    912\u001b[0m compiler \u001b[39m=\u001b[39m \u001b[39m\"\u001b[39m\u001b[39mxla\u001b[39m\u001b[39m\"\u001b[39m \u001b[39mif\u001b[39;00m \u001b[39mself\u001b[39m\u001b[39m.\u001b[39m_jit_compile \u001b[39melse\u001b[39;00m \u001b[39m\"\u001b[39m\u001b[39mnonXla\u001b[39m\u001b[39m\"\u001b[39m\n\u001b[0;32m    914\u001b[0m \u001b[39mwith\u001b[39;00m OptionalXlaContext(\u001b[39mself\u001b[39m\u001b[39m.\u001b[39m_jit_compile):\n\u001b[1;32m--> 915\u001b[0m   result \u001b[39m=\u001b[39m \u001b[39mself\u001b[39;49m\u001b[39m.\u001b[39;49m_call(\u001b[39m*\u001b[39;49margs, \u001b[39m*\u001b[39;49m\u001b[39m*\u001b[39;49mkwds)\n\u001b[0;32m    917\u001b[0m new_tracing_count \u001b[39m=\u001b[39m \u001b[39mself\u001b[39m\u001b[39m.\u001b[39mexperimental_get_tracing_count()\n\u001b[0;32m    918\u001b[0m without_tracing \u001b[39m=\u001b[39m (tracing_count \u001b[39m==\u001b[39m new_tracing_count)\n",
      "File \u001b[1;32md:\\anaconda3\\envs\\wingpuflake_keras_GPU\\lib\\site-packages\\tensorflow\\python\\eager\\def_function.py:980\u001b[0m, in \u001b[0;36mFunction._call\u001b[1;34m(self, *args, **kwds)\u001b[0m\n\u001b[0;32m    976\u001b[0m     \u001b[39mpass\u001b[39;00m  \u001b[39m# Fall through to cond-based initialization.\u001b[39;00m\n\u001b[0;32m    977\u001b[0m   \u001b[39melse\u001b[39;00m:\n\u001b[0;32m    978\u001b[0m     \u001b[39m# Lifting succeeded, so variables are initialized and we can run the\u001b[39;00m\n\u001b[0;32m    979\u001b[0m     \u001b[39m# stateless function.\u001b[39;00m\n\u001b[1;32m--> 980\u001b[0m     \u001b[39mreturn\u001b[39;00m \u001b[39mself\u001b[39;49m\u001b[39m.\u001b[39;49m_stateless_fn(\u001b[39m*\u001b[39;49margs, \u001b[39m*\u001b[39;49m\u001b[39m*\u001b[39;49mkwds)\n\u001b[0;32m    981\u001b[0m \u001b[39melse\u001b[39;00m:\n\u001b[0;32m    982\u001b[0m   _, _, _, filtered_flat_args \u001b[39m=\u001b[39m \\\n\u001b[0;32m    983\u001b[0m       \u001b[39mself\u001b[39m\u001b[39m.\u001b[39m_stateful_fn\u001b[39m.\u001b[39m_function_spec\u001b[39m.\u001b[39mcanonicalize_function_inputs(  \u001b[39m# pylint: disable=protected-access\u001b[39;00m\n\u001b[0;32m    984\u001b[0m           \u001b[39m*\u001b[39margs, \u001b[39m*\u001b[39m\u001b[39m*\u001b[39mkwds)\n",
      "File \u001b[1;32md:\\anaconda3\\envs\\wingpuflake_keras_GPU\\lib\\site-packages\\tensorflow\\python\\eager\\function.py:2956\u001b[0m, in \u001b[0;36mFunction.__call__\u001b[1;34m(self, *args, **kwargs)\u001b[0m\n\u001b[0;32m   2953\u001b[0m \u001b[39mwith\u001b[39;00m \u001b[39mself\u001b[39m\u001b[39m.\u001b[39m_lock:\n\u001b[0;32m   2954\u001b[0m   (graph_function,\n\u001b[0;32m   2955\u001b[0m    filtered_flat_args) \u001b[39m=\u001b[39m \u001b[39mself\u001b[39m\u001b[39m.\u001b[39m_maybe_define_function(args, kwargs)\n\u001b[1;32m-> 2956\u001b[0m \u001b[39mreturn\u001b[39;00m graph_function\u001b[39m.\u001b[39;49m_call_flat(\n\u001b[0;32m   2957\u001b[0m     filtered_flat_args, captured_inputs\u001b[39m=\u001b[39;49mgraph_function\u001b[39m.\u001b[39;49mcaptured_inputs)\n",
      "File \u001b[1;32md:\\anaconda3\\envs\\wingpuflake_keras_GPU\\lib\\site-packages\\tensorflow\\python\\eager\\function.py:1853\u001b[0m, in \u001b[0;36mConcreteFunction._call_flat\u001b[1;34m(self, args, captured_inputs, cancellation_manager)\u001b[0m\n\u001b[0;32m   1849\u001b[0m possible_gradient_type \u001b[39m=\u001b[39m gradients_util\u001b[39m.\u001b[39mPossibleTapeGradientTypes(args)\n\u001b[0;32m   1850\u001b[0m \u001b[39mif\u001b[39;00m (possible_gradient_type \u001b[39m==\u001b[39m gradients_util\u001b[39m.\u001b[39mPOSSIBLE_GRADIENT_TYPES_NONE\n\u001b[0;32m   1851\u001b[0m     \u001b[39mand\u001b[39;00m executing_eagerly):\n\u001b[0;32m   1852\u001b[0m   \u001b[39m# No tape is watching; skip to running the function.\u001b[39;00m\n\u001b[1;32m-> 1853\u001b[0m   \u001b[39mreturn\u001b[39;00m \u001b[39mself\u001b[39m\u001b[39m.\u001b[39m_build_call_outputs(\u001b[39mself\u001b[39;49m\u001b[39m.\u001b[39;49m_inference_function\u001b[39m.\u001b[39;49mcall(\n\u001b[0;32m   1854\u001b[0m       ctx, args, cancellation_manager\u001b[39m=\u001b[39;49mcancellation_manager))\n\u001b[0;32m   1855\u001b[0m forward_backward \u001b[39m=\u001b[39m \u001b[39mself\u001b[39m\u001b[39m.\u001b[39m_select_forward_and_backward_functions(\n\u001b[0;32m   1856\u001b[0m     args,\n\u001b[0;32m   1857\u001b[0m     possible_gradient_type,\n\u001b[0;32m   1858\u001b[0m     executing_eagerly)\n\u001b[0;32m   1859\u001b[0m forward_function, args_with_tangents \u001b[39m=\u001b[39m forward_backward\u001b[39m.\u001b[39mforward()\n",
      "File \u001b[1;32md:\\anaconda3\\envs\\wingpuflake_keras_GPU\\lib\\site-packages\\tensorflow\\python\\eager\\function.py:499\u001b[0m, in \u001b[0;36m_EagerDefinedFunction.call\u001b[1;34m(self, ctx, args, cancellation_manager)\u001b[0m\n\u001b[0;32m    497\u001b[0m \u001b[39mwith\u001b[39;00m _InterpolateFunctionError(\u001b[39mself\u001b[39m):\n\u001b[0;32m    498\u001b[0m   \u001b[39mif\u001b[39;00m cancellation_manager \u001b[39mis\u001b[39;00m \u001b[39mNone\u001b[39;00m:\n\u001b[1;32m--> 499\u001b[0m     outputs \u001b[39m=\u001b[39m execute\u001b[39m.\u001b[39;49mexecute(\n\u001b[0;32m    500\u001b[0m         \u001b[39mstr\u001b[39;49m(\u001b[39mself\u001b[39;49m\u001b[39m.\u001b[39;49msignature\u001b[39m.\u001b[39;49mname),\n\u001b[0;32m    501\u001b[0m         num_outputs\u001b[39m=\u001b[39;49m\u001b[39mself\u001b[39;49m\u001b[39m.\u001b[39;49m_num_outputs,\n\u001b[0;32m    502\u001b[0m         inputs\u001b[39m=\u001b[39;49margs,\n\u001b[0;32m    503\u001b[0m         attrs\u001b[39m=\u001b[39;49mattrs,\n\u001b[0;32m    504\u001b[0m         ctx\u001b[39m=\u001b[39;49mctx)\n\u001b[0;32m    505\u001b[0m   \u001b[39melse\u001b[39;00m:\n\u001b[0;32m    506\u001b[0m     outputs \u001b[39m=\u001b[39m execute\u001b[39m.\u001b[39mexecute_with_cancellation(\n\u001b[0;32m    507\u001b[0m         \u001b[39mstr\u001b[39m(\u001b[39mself\u001b[39m\u001b[39m.\u001b[39msignature\u001b[39m.\u001b[39mname),\n\u001b[0;32m    508\u001b[0m         num_outputs\u001b[39m=\u001b[39m\u001b[39mself\u001b[39m\u001b[39m.\u001b[39m_num_outputs,\n\u001b[1;32m   (...)\u001b[0m\n\u001b[0;32m    511\u001b[0m         ctx\u001b[39m=\u001b[39mctx,\n\u001b[0;32m    512\u001b[0m         cancellation_manager\u001b[39m=\u001b[39mcancellation_manager)\n",
      "File \u001b[1;32md:\\anaconda3\\envs\\wingpuflake_keras_GPU\\lib\\site-packages\\tensorflow\\python\\eager\\execute.py:54\u001b[0m, in \u001b[0;36mquick_execute\u001b[1;34m(op_name, num_outputs, inputs, attrs, ctx, name)\u001b[0m\n\u001b[0;32m     52\u001b[0m \u001b[39mtry\u001b[39;00m:\n\u001b[0;32m     53\u001b[0m   ctx\u001b[39m.\u001b[39mensure_initialized()\n\u001b[1;32m---> 54\u001b[0m   tensors \u001b[39m=\u001b[39m pywrap_tfe\u001b[39m.\u001b[39;49mTFE_Py_Execute(ctx\u001b[39m.\u001b[39;49m_handle, device_name, op_name,\n\u001b[0;32m     55\u001b[0m                                       inputs, attrs, num_outputs)\n\u001b[0;32m     56\u001b[0m \u001b[39mexcept\u001b[39;00m core\u001b[39m.\u001b[39m_NotOkStatusException \u001b[39mas\u001b[39;00m e:\n\u001b[0;32m     57\u001b[0m   \u001b[39mif\u001b[39;00m name \u001b[39mis\u001b[39;00m \u001b[39mnot\u001b[39;00m \u001b[39mNone\u001b[39;00m:\n",
      "\u001b[1;31mKeyboardInterrupt\u001b[0m: "
     ]
    }
   ],
   "source": [
    "history = model.fit(\n",
    "    train_ds,\n",
    "    validation_data = val_ds,\n",
    "    epochs = config.num_epochs\n",
    ")"
   ]
  },
  {
   "cell_type": "code",
   "execution_count": null,
   "id": "6a8ca3ae",
   "metadata": {},
   "outputs": [],
   "source": []
  },
  {
   "cell_type": "code",
   "execution_count": null,
   "id": "4a047a58",
   "metadata": {},
   "outputs": [],
   "source": []
  },
  {
   "cell_type": "code",
   "execution_count": null,
   "id": "9490cda6",
   "metadata": {},
   "outputs": [],
   "source": []
  },
  {
   "cell_type": "code",
   "execution_count": null,
   "id": "06be4c81",
   "metadata": {},
   "outputs": [],
   "source": []
  },
  {
   "cell_type": "code",
   "execution_count": null,
   "id": "74425ca8",
   "metadata": {},
   "outputs": [],
   "source": []
  },
  {
   "cell_type": "code",
   "execution_count": 39,
   "id": "3b157a74",
   "metadata": {},
   "outputs": [],
   "source": [
    "from transformers import DataCollatorWithPadding\n",
    "\n",
    "# using the huggingfaces offert ways of converting a huggingface dataset into a TF dataset with the necessary \n",
    "# shuffle and batchsize configs\n",
    "def train_model(dds, model, config):\n",
    "        data_collator = DataCollatorWithPadding(tokenizer=tokenizer, return_tensors='tf')\n",
    "        train_tf_ds = dds['train'].to_tf_dataset(\n",
    "                columns=[\"input_ids\", \"attention_mask\"],\n",
    "                label_cols=[\"labels\"],\n",
    "                batch_size=config.batch_size,\n",
    "                collate_fn=data_collator,\n",
    "                shuffle=True\n",
    "        )\n",
    "\n",
    "        val_tf_ds = dds['val'].to_tf_dataset(\n",
    "                columns=[\"input_ids\", \"attention_mask\"],\n",
    "                label_cols=[\"labels\"],\n",
    "                batch_size=config.batch_size,\n",
    "                collate_fn=data_collator,\n",
    "                shuffle=True,\n",
    "        )\n",
    "\n",
    "\n",
    "        model.fit(\n",
    "                train_tf_ds,\n",
    "                validation_data = val_tf_ds,\n",
    "                epochs = config.num_epochs\n",
    "                )\n",
    "\n",
    "\n"
   ]
  },
  {
   "cell_type": "code",
   "execution_count": 40,
   "metadata": {},
   "outputs": [],
   "source": [
    "data_collator = DataCollatorWithPadding(tokenizer=tokenizer, return_tensors='tf')\n",
    "train_tf_ds = dds['train'].to_tf_dataset(\n",
    "        columns=[\"input_ids\", \"attention_mask\"],\n",
    "        label_cols=[\"labels\"],\n",
    "        batch_size=config.batch_size,\n",
    "        collate_fn=data_collator,\n",
    "        shuffle=True\n",
    ")\n",
    "\n",
    "val_tf_ds = dds['val'].to_tf_dataset(\n",
    "        columns=[\"input_ids\", \"attention_mask\"],\n",
    "        label_cols=[\"labels\"],\n",
    "        batch_size=config.batch_size,\n",
    "        collate_fn=data_collator,\n",
    "        shuffle=True,\n",
    ")"
   ]
  },
  {
   "cell_type": "code",
   "execution_count": 41,
   "id": "685808fe",
   "metadata": {},
   "outputs": [],
   "source": [
    "#dds['train'] = dds['train'].rename_column('input_ids','input_1')\n",
    "#dds['train'] = dds['train'].rename_column('attention_mask','input_2')"
   ]
  },
  {
   "cell_type": "code",
   "execution_count": 42,
   "id": "664730fd",
   "metadata": {},
   "outputs": [],
   "source": [
    "#dds['train'] = dds['train'].rename_column('input_1','input_ids')\n",
    "#dds['train'] = dds['train'].rename_column('input_2','attention_mask')"
   ]
  },
  {
   "cell_type": "code",
   "execution_count": 43,
   "id": "8e9bec25",
   "metadata": {},
   "outputs": [
    {
     "data": {
      "text/plain": [
       "DatasetDict({\n",
       "    train: Dataset({\n",
       "        features: ['labels', 'class', 'subclass', 'group', 'main_group', 'context_token', 'corpus', 'input_ids', 'attention_mask'],\n",
       "        num_rows: 27357\n",
       "    })\n",
       "    val: Dataset({\n",
       "        features: ['labels', 'class', 'subclass', 'group', 'main_group', 'context_token', 'corpus', 'input_ids', 'attention_mask'],\n",
       "        num_rows: 9116\n",
       "    })\n",
       "})"
      ]
     },
     "execution_count": 43,
     "metadata": {},
     "output_type": "execute_result"
    }
   ],
   "source": [
    "dds"
   ]
  },
  {
   "cell_type": "code",
   "execution_count": null,
   "id": "c44e4d34",
   "metadata": {},
   "outputs": [],
   "source": []
  },
  {
   "cell_type": "code",
   "execution_count": null,
   "id": "dafbc69b",
   "metadata": {},
   "outputs": [],
   "source": []
  },
  {
   "cell_type": "code",
   "execution_count": null,
   "id": "084b276d",
   "metadata": {},
   "outputs": [],
   "source": []
  },
  {
   "cell_type": "code",
   "execution_count": null,
   "metadata": {},
   "outputs": [],
   "source": []
  },
  {
   "cell_type": "code",
   "execution_count": 193,
   "id": "64533c43",
   "metadata": {},
   "outputs": [
    {
     "data": {
      "text/plain": [
       "<PrefetchDataset element_spec=({'input_ids': TensorSpec(shape=(None, 135), dtype=tf.int64, name=None), 'attention_mask': TensorSpec(shape=(None, 135), dtype=tf.int64, name=None)}, TensorSpec(shape=(None,), dtype=tf.float32, name=None))>"
      ]
     },
     "execution_count": 193,
     "metadata": {},
     "output_type": "execute_result"
    }
   ],
   "source": [
    "train_tf_ds.map\n"
   ]
  },
  {
   "cell_type": "code",
   "execution_count": null,
   "id": "834e9d09",
   "metadata": {},
   "outputs": [],
   "source": [
    "def tokenize_text(text, tokenizer, max_line_length):\n",
    "    encoded_text = tokenizer.batch_decode_plus(\n",
    "        text,\n",
    "        padding='max_length',\n",
    "        truncation=True,\n",
    "        max_length=max_line_length,\n",
    "        return_tensors='tf',\n",
    "        )\n",
    "    \n",
    "    input_ids = np.array(encoded_text[\"input_ids\"], dtype=\"int32\")\n",
    "    attention_masks = np.array(encoded_text[\"attention_mask\"], dtype=\"int32\")\n",
    "    \n",
    "    return {}\n"
   ]
  },
  {
   "cell_type": "code",
   "execution_count": 191,
   "id": "883df46e",
   "metadata": {},
   "outputs": [
    {
     "ename": "ValueError",
     "evalue": "Failed to convert a NumPy array to a Tensor (Unsupported object type float).",
     "output_type": "error",
     "traceback": [
      "\u001b[1;31m---------------------------------------------------------------------------\u001b[0m",
      "\u001b[1;31mTypeError\u001b[0m                                 Traceback (most recent call last)",
      "File \u001b[1;32md:\\anaconda3\\envs\\wingpuflake_keras_GPU\\lib\\site-packages\\tensorflow\\python\\data\\util\\structure.py:102\u001b[0m, in \u001b[0;36mnormalize_element\u001b[1;34m(element, element_signature)\u001b[0m\n\u001b[0;32m    101\u001b[0m   \u001b[39mif\u001b[39;00m spec \u001b[39mis\u001b[39;00m \u001b[39mNone\u001b[39;00m:\n\u001b[1;32m--> 102\u001b[0m     spec \u001b[39m=\u001b[39m type_spec_from_value(t, use_fallback\u001b[39m=\u001b[39;49m\u001b[39mFalse\u001b[39;49;00m)\n\u001b[0;32m    103\u001b[0m \u001b[39mexcept\u001b[39;00m \u001b[39mTypeError\u001b[39;00m:\n\u001b[0;32m    104\u001b[0m   \u001b[39m# TypeError indicates it was not possible to compute a `TypeSpec` for\u001b[39;00m\n\u001b[0;32m    105\u001b[0m   \u001b[39m# the value. As a fallback try converting the value to a tensor.\u001b[39;00m\n",
      "File \u001b[1;32md:\\anaconda3\\envs\\wingpuflake_keras_GPU\\lib\\site-packages\\tensorflow\\python\\data\\util\\structure.py:485\u001b[0m, in \u001b[0;36mtype_spec_from_value\u001b[1;34m(element, use_fallback)\u001b[0m\n\u001b[0;32m    482\u001b[0m     logging\u001b[39m.\u001b[39mvlog(\n\u001b[0;32m    483\u001b[0m         \u001b[39m3\u001b[39m, \u001b[39m\"\u001b[39m\u001b[39mFailed to convert \u001b[39m\u001b[39m%r\u001b[39;00m\u001b[39m to tensor: \u001b[39m\u001b[39m%s\u001b[39;00m\u001b[39m\"\u001b[39m \u001b[39m%\u001b[39m (\u001b[39mtype\u001b[39m(element)\u001b[39m.\u001b[39m\u001b[39m__name__\u001b[39m, e))\n\u001b[1;32m--> 485\u001b[0m \u001b[39mraise\u001b[39;00m \u001b[39mTypeError\u001b[39;00m(\u001b[39m\"\u001b[39m\u001b[39mCould not build a `TypeSpec` for \u001b[39m\u001b[39m{}\u001b[39;00m\u001b[39m with type \u001b[39m\u001b[39m{}\u001b[39;00m\u001b[39m\"\u001b[39m\u001b[39m.\u001b[39mformat(\n\u001b[0;32m    486\u001b[0m     element,\n\u001b[0;32m    487\u001b[0m     \u001b[39mtype\u001b[39m(element)\u001b[39m.\u001b[39m\u001b[39m__name__\u001b[39m))\n",
      "\u001b[1;31mTypeError\u001b[0m: Could not build a `TypeSpec` for                      id        anchor                  target context  score  \\\n0      37d61fd2272659b1     abatement  abatement of pollution     A47   0.50   \n1      7b9652b17b68b7a4     abatement          act of abating     A47   0.75   \n2      36d72442aefd8232     abatement         active catalyst     A47   0.25   \n3      5296b0c19e1ce60e     abatement     eliminating process     A47   0.50   \n4      54c1e3b9184cb5b6     abatement           forest region     A47   0.00   \n...                 ...           ...                     ...     ...    ...   \n36468  8e1386cbefd7f245  wood article          wooden article     B44   1.00   \n36469  42d9e032d1cd3242  wood article              wooden box     B44   0.50   \n36470  208654ccb9e14fa3  wood article           wooden handle     B44   0.50   \n36471  756ec035e694722b  wood article         wooden material     B44   0.75   \n36472  8d135da0b55b8c88  wood article        wooden substrate     B44   0.50   \n\n                                                   title section  class  \\\n0      FURNITURE  DOMESTIC ARTICLES OR APPLIANCES  CO...       A   47.0   \n1      FURNITURE  DOMESTIC ARTICLES OR APPLIANCES  CO...       A   47.0   \n2      FURNITURE  DOMESTIC ARTICLES OR APPLIANCES  CO...       A   47.0   \n3      FURNITURE  DOMESTIC ARTICLES OR APPLIANCES  CO...       A   47.0   \n4      FURNITURE  DOMESTIC ARTICLES OR APPLIANCES  CO...       A   47.0   \n...                                                  ...     ...    ...   \n36468                                    DECORATIVE ARTS       B   44.0   \n36469                                    DECORATIVE ARTS       B   44.0   \n36470                                    DECORATIVE ARTS       B   44.0   \n36471                                    DECORATIVE ARTS       B   44.0   \n36472                                    DECORATIVE ARTS       B   44.0   \n\n      subclass  group  main_group context_token  \\\n0          NaN    NaN         NaN         [A47]   \n1          NaN    NaN         NaN         [A47]   \n2          NaN    NaN         NaN         [A47]   \n3          NaN    NaN         NaN         [A47]   \n4          NaN    NaN         NaN         [A47]   \n...        ...    ...         ...           ...   \n36468      NaN    NaN         NaN         [B44]   \n36469      NaN    NaN         NaN         [B44]   \n36470      NaN    NaN         NaN         [B44]   \n36471      NaN    NaN         NaN         [B44]   \n36472      NaN    NaN         NaN         [B44]   \n\n                                    corpus  \\\n0      abatement</s>abatement of pollution   \n1              abatement</s>act of abating   \n2             abatement</s>active catalyst   \n3         abatement</s>eliminating process   \n4               abatement</s>forest region   \n...                                    ...   \n36468       wood article</s>wooden article   \n36469           wood article</s>wooden box   \n36470        wood article</s>wooden handle   \n36471      wood article</s>wooden material   \n36472     wood article</s>wooden substrate   \n\n                                   corpus_w_context  \\\n0      [A47]</s>abatement</s>abatement of pollution   \n1              [A47]</s>abatement</s>act of abating   \n2             [A47]</s>abatement</s>active catalyst   \n3         [A47]</s>abatement</s>eliminating process   \n4               [A47]</s>abatement</s>forest region   \n...                                             ...   \n36468       [B44]</s>wood article</s>wooden article   \n36469           [B44]</s>wood article</s>wooden box   \n36470        [B44]</s>wood article</s>wooden handle   \n36471      [B44]</s>wood article</s>wooden material   \n36472     [B44]</s>wood article</s>wooden substrate   \n\n                                   corpus_w_full_context  \n0      [A47]</s>abatement</s>abatement of pollution</...  \n1      [A47]</s>abatement</s>act of abating</s>FURNIT...  \n2      [A47]</s>abatement</s>active catalyst</s>FURNI...  \n3      [A47]</s>abatement</s>eliminating process</s>F...  \n4      [A47]</s>abatement</s>forest region</s>FURNITU...  \n...                                                  ...  \n36468  [B44]</s>wood article</s>wooden article</s>DEC...  \n36469  [B44]</s>wood article</s>wooden box</s>DECORAT...  \n36470  [B44]</s>wood article</s>wooden handle</s>DECO...  \n36471  [B44]</s>wood article</s>wooden material</s>DE...  \n36472  [B44]</s>wood article</s>wooden substrate</s>D...  \n\n[36473 rows x 15 columns] with type DataFrame",
      "\nDuring handling of the above exception, another exception occurred:\n",
      "\u001b[1;31mValueError\u001b[0m                                Traceback (most recent call last)",
      "\u001b[1;32mf:\\python-workspace\\phrase2phrase-match-ai\\phrase_2_phrase_matching.ipynb Cell 65'\u001b[0m in \u001b[0;36m<cell line: 5>\u001b[1;34m()\u001b[0m\n\u001b[0;32m      <a href='vscode-notebook-cell:/f%3A/python-workspace/phrase2phrase-match-ai/phrase_2_phrase_matching.ipynb#ch0000177?line=0'>1</a>\u001b[0m \u001b[39m#### Dataset erstellen erstmal\u001b[39;00m\n\u001b[0;32m      <a href='vscode-notebook-cell:/f%3A/python-workspace/phrase2phrase-match-ai/phrase_2_phrase_matching.ipynb#ch0000177?line=1'>2</a>\u001b[0m \n\u001b[0;32m      <a href='vscode-notebook-cell:/f%3A/python-workspace/phrase2phrase-match-ai/phrase_2_phrase_matching.ipynb#ch0000177?line=2'>3</a>\u001b[0m \u001b[39m#Dataset.from_pandas(train).rename_column('score', 'labels')\u001b[39;00m\n\u001b[1;32m----> <a href='vscode-notebook-cell:/f%3A/python-workspace/phrase2phrase-match-ai/phrase_2_phrase_matching.ipynb#ch0000177?line=4'>5</a>\u001b[0m tf\u001b[39m.\u001b[39;49mdata\u001b[39m.\u001b[39;49mDataset\u001b[39m.\u001b[39;49mfrom_tensor_slices(train)\n",
      "File \u001b[1;32md:\\anaconda3\\envs\\wingpuflake_keras_GPU\\lib\\site-packages\\tensorflow\\python\\data\\ops\\dataset_ops.py:793\u001b[0m, in \u001b[0;36mDatasetV2.from_tensor_slices\u001b[1;34m(tensors, name)\u001b[0m\n\u001b[0;32m    715\u001b[0m \u001b[39m@staticmethod\u001b[39m\n\u001b[0;32m    716\u001b[0m \u001b[39mdef\u001b[39;00m \u001b[39mfrom_tensor_slices\u001b[39m(tensors, name\u001b[39m=\u001b[39m\u001b[39mNone\u001b[39;00m):\n\u001b[0;32m    717\u001b[0m   \u001b[39m\"\"\"Creates a `Dataset` whose elements are slices of the given tensors.\u001b[39;00m\n\u001b[0;32m    718\u001b[0m \n\u001b[0;32m    719\u001b[0m \u001b[39m  The given tensors are sliced along their first dimension. This operation\u001b[39;00m\n\u001b[1;32m   (...)\u001b[0m\n\u001b[0;32m    791\u001b[0m \u001b[39m    Dataset: A `Dataset`.\u001b[39;00m\n\u001b[0;32m    792\u001b[0m \u001b[39m  \"\"\"\u001b[39;00m\n\u001b[1;32m--> 793\u001b[0m   \u001b[39mreturn\u001b[39;00m TensorSliceDataset(tensors, name\u001b[39m=\u001b[39;49mname)\n",
      "File \u001b[1;32md:\\anaconda3\\envs\\wingpuflake_keras_GPU\\lib\\site-packages\\tensorflow\\python\\data\\ops\\dataset_ops.py:4477\u001b[0m, in \u001b[0;36mTensorSliceDataset.__init__\u001b[1;34m(self, element, is_files, name)\u001b[0m\n\u001b[0;32m   4475\u001b[0m \u001b[39mdef\u001b[39;00m \u001b[39m__init__\u001b[39m(\u001b[39mself\u001b[39m, element, is_files\u001b[39m=\u001b[39m\u001b[39mFalse\u001b[39;00m, name\u001b[39m=\u001b[39m\u001b[39mNone\u001b[39;00m):\n\u001b[0;32m   4476\u001b[0m   \u001b[39m\"\"\"See `Dataset.from_tensor_slices()` for details.\"\"\"\u001b[39;00m\n\u001b[1;32m-> 4477\u001b[0m   element \u001b[39m=\u001b[39m structure\u001b[39m.\u001b[39;49mnormalize_element(element)\n\u001b[0;32m   4478\u001b[0m   batched_spec \u001b[39m=\u001b[39m structure\u001b[39m.\u001b[39mtype_spec_from_value(element)\n\u001b[0;32m   4479\u001b[0m   \u001b[39mself\u001b[39m\u001b[39m.\u001b[39m_tensors \u001b[39m=\u001b[39m structure\u001b[39m.\u001b[39mto_batched_tensor_list(batched_spec, element)\n",
      "File \u001b[1;32md:\\anaconda3\\envs\\wingpuflake_keras_GPU\\lib\\site-packages\\tensorflow\\python\\data\\util\\structure.py:107\u001b[0m, in \u001b[0;36mnormalize_element\u001b[1;34m(element, element_signature)\u001b[0m\n\u001b[0;32m    102\u001b[0m     spec \u001b[39m=\u001b[39m type_spec_from_value(t, use_fallback\u001b[39m=\u001b[39m\u001b[39mFalse\u001b[39;00m)\n\u001b[0;32m    103\u001b[0m \u001b[39mexcept\u001b[39;00m \u001b[39mTypeError\u001b[39;00m:\n\u001b[0;32m    104\u001b[0m   \u001b[39m# TypeError indicates it was not possible to compute a `TypeSpec` for\u001b[39;00m\n\u001b[0;32m    105\u001b[0m   \u001b[39m# the value. As a fallback try converting the value to a tensor.\u001b[39;00m\n\u001b[0;32m    106\u001b[0m   normalized_components\u001b[39m.\u001b[39mappend(\n\u001b[1;32m--> 107\u001b[0m       ops\u001b[39m.\u001b[39;49mconvert_to_tensor(t, name\u001b[39m=\u001b[39;49m\u001b[39m\"\u001b[39;49m\u001b[39mcomponent_\u001b[39;49m\u001b[39m%d\u001b[39;49;00m\u001b[39m\"\u001b[39;49m \u001b[39m%\u001b[39;49m i))\n\u001b[0;32m    108\u001b[0m \u001b[39melse\u001b[39;00m:\n\u001b[0;32m    109\u001b[0m   \u001b[39mif\u001b[39;00m \u001b[39misinstance\u001b[39m(spec, sparse_tensor\u001b[39m.\u001b[39mSparseTensorSpec):\n",
      "File \u001b[1;32md:\\anaconda3\\envs\\wingpuflake_keras_GPU\\lib\\site-packages\\tensorflow\\python\\profiler\\trace.py:183\u001b[0m, in \u001b[0;36mtrace_wrapper.<locals>.inner_wrapper.<locals>.wrapped\u001b[1;34m(*args, **kwargs)\u001b[0m\n\u001b[0;32m    181\u001b[0m   \u001b[39mwith\u001b[39;00m Trace(trace_name, \u001b[39m*\u001b[39m\u001b[39m*\u001b[39mtrace_kwargs):\n\u001b[0;32m    182\u001b[0m     \u001b[39mreturn\u001b[39;00m func(\u001b[39m*\u001b[39margs, \u001b[39m*\u001b[39m\u001b[39m*\u001b[39mkwargs)\n\u001b[1;32m--> 183\u001b[0m \u001b[39mreturn\u001b[39;00m func(\u001b[39m*\u001b[39;49margs, \u001b[39m*\u001b[39;49m\u001b[39m*\u001b[39;49mkwargs)\n",
      "File \u001b[1;32md:\\anaconda3\\envs\\wingpuflake_keras_GPU\\lib\\site-packages\\tensorflow\\python\\framework\\ops.py:1695\u001b[0m, in \u001b[0;36mconvert_to_tensor\u001b[1;34m(value, dtype, name, as_ref, preferred_dtype, dtype_hint, ctx, accepted_result_types)\u001b[0m\n\u001b[0;32m   1690\u001b[0m       \u001b[39mraise\u001b[39;00m \u001b[39mTypeError\u001b[39;00m(\u001b[39m\"\u001b[39m\u001b[39mconvert_to_tensor did not convert to \u001b[39m\u001b[39m\"\u001b[39m\n\u001b[0;32m   1691\u001b[0m                       \u001b[39m\"\u001b[39m\u001b[39mthe preferred dtype: \u001b[39m\u001b[39m%s\u001b[39;00m\u001b[39m vs \u001b[39m\u001b[39m%s\u001b[39;00m\u001b[39m \u001b[39m\u001b[39m\"\u001b[39m \u001b[39m%\u001b[39m\n\u001b[0;32m   1692\u001b[0m                       (ret\u001b[39m.\u001b[39mdtype\u001b[39m.\u001b[39mbase_dtype, preferred_dtype\u001b[39m.\u001b[39mbase_dtype))\n\u001b[0;32m   1694\u001b[0m \u001b[39mif\u001b[39;00m ret \u001b[39mis\u001b[39;00m \u001b[39mNone\u001b[39;00m:\n\u001b[1;32m-> 1695\u001b[0m   ret \u001b[39m=\u001b[39m conversion_func(value, dtype\u001b[39m=\u001b[39;49mdtype, name\u001b[39m=\u001b[39;49mname, as_ref\u001b[39m=\u001b[39;49mas_ref)\n\u001b[0;32m   1697\u001b[0m \u001b[39mif\u001b[39;00m ret \u001b[39mis\u001b[39;00m \u001b[39mNotImplemented\u001b[39m:\n\u001b[0;32m   1698\u001b[0m   \u001b[39mcontinue\u001b[39;00m\n",
      "File \u001b[1;32md:\\anaconda3\\envs\\wingpuflake_keras_GPU\\lib\\site-packages\\tensorflow\\python\\framework\\constant_op.py:343\u001b[0m, in \u001b[0;36m_constant_tensor_conversion_function\u001b[1;34m(v, dtype, name, as_ref)\u001b[0m\n\u001b[0;32m    340\u001b[0m \u001b[39mdef\u001b[39;00m \u001b[39m_constant_tensor_conversion_function\u001b[39m(v, dtype\u001b[39m=\u001b[39m\u001b[39mNone\u001b[39;00m, name\u001b[39m=\u001b[39m\u001b[39mNone\u001b[39;00m,\n\u001b[0;32m    341\u001b[0m                                          as_ref\u001b[39m=\u001b[39m\u001b[39mFalse\u001b[39;00m):\n\u001b[0;32m    342\u001b[0m   _ \u001b[39m=\u001b[39m as_ref\n\u001b[1;32m--> 343\u001b[0m   \u001b[39mreturn\u001b[39;00m constant(v, dtype\u001b[39m=\u001b[39;49mdtype, name\u001b[39m=\u001b[39;49mname)\n",
      "File \u001b[1;32md:\\anaconda3\\envs\\wingpuflake_keras_GPU\\lib\\site-packages\\tensorflow\\python\\framework\\constant_op.py:267\u001b[0m, in \u001b[0;36mconstant\u001b[1;34m(value, dtype, shape, name)\u001b[0m\n\u001b[0;32m    170\u001b[0m \u001b[39m@tf_export\u001b[39m(\u001b[39m\"\u001b[39m\u001b[39mconstant\u001b[39m\u001b[39m\"\u001b[39m, v1\u001b[39m=\u001b[39m[])\n\u001b[0;32m    171\u001b[0m \u001b[39mdef\u001b[39;00m \u001b[39mconstant\u001b[39m(value, dtype\u001b[39m=\u001b[39m\u001b[39mNone\u001b[39;00m, shape\u001b[39m=\u001b[39m\u001b[39mNone\u001b[39;00m, name\u001b[39m=\u001b[39m\u001b[39m\"\u001b[39m\u001b[39mConst\u001b[39m\u001b[39m\"\u001b[39m):\n\u001b[0;32m    172\u001b[0m   \u001b[39m\"\"\"Creates a constant tensor from a tensor-like object.\u001b[39;00m\n\u001b[0;32m    173\u001b[0m \n\u001b[0;32m    174\u001b[0m \u001b[39m  Note: All eager `tf.Tensor` values are immutable (in contrast to\u001b[39;00m\n\u001b[1;32m   (...)\u001b[0m\n\u001b[0;32m    265\u001b[0m \u001b[39m    ValueError: if called on a symbolic tensor.\u001b[39;00m\n\u001b[0;32m    266\u001b[0m \u001b[39m  \"\"\"\u001b[39;00m\n\u001b[1;32m--> 267\u001b[0m   \u001b[39mreturn\u001b[39;00m _constant_impl(value, dtype, shape, name, verify_shape\u001b[39m=\u001b[39;49m\u001b[39mFalse\u001b[39;49;00m,\n\u001b[0;32m    268\u001b[0m                         allow_broadcast\u001b[39m=\u001b[39;49m\u001b[39mTrue\u001b[39;49;00m)\n",
      "File \u001b[1;32md:\\anaconda3\\envs\\wingpuflake_keras_GPU\\lib\\site-packages\\tensorflow\\python\\framework\\constant_op.py:279\u001b[0m, in \u001b[0;36m_constant_impl\u001b[1;34m(value, dtype, shape, name, verify_shape, allow_broadcast)\u001b[0m\n\u001b[0;32m    277\u001b[0m     \u001b[39mwith\u001b[39;00m trace\u001b[39m.\u001b[39mTrace(\u001b[39m\"\u001b[39m\u001b[39mtf.constant\u001b[39m\u001b[39m\"\u001b[39m):\n\u001b[0;32m    278\u001b[0m       \u001b[39mreturn\u001b[39;00m _constant_eager_impl(ctx, value, dtype, shape, verify_shape)\n\u001b[1;32m--> 279\u001b[0m   \u001b[39mreturn\u001b[39;00m _constant_eager_impl(ctx, value, dtype, shape, verify_shape)\n\u001b[0;32m    281\u001b[0m g \u001b[39m=\u001b[39m ops\u001b[39m.\u001b[39mget_default_graph()\n\u001b[0;32m    282\u001b[0m tensor_value \u001b[39m=\u001b[39m attr_value_pb2\u001b[39m.\u001b[39mAttrValue()\n",
      "File \u001b[1;32md:\\anaconda3\\envs\\wingpuflake_keras_GPU\\lib\\site-packages\\tensorflow\\python\\framework\\constant_op.py:304\u001b[0m, in \u001b[0;36m_constant_eager_impl\u001b[1;34m(ctx, value, dtype, shape, verify_shape)\u001b[0m\n\u001b[0;32m    302\u001b[0m \u001b[39mdef\u001b[39;00m \u001b[39m_constant_eager_impl\u001b[39m(ctx, value, dtype, shape, verify_shape):\n\u001b[0;32m    303\u001b[0m   \u001b[39m\"\"\"Creates a constant on the current device.\"\"\"\u001b[39;00m\n\u001b[1;32m--> 304\u001b[0m   t \u001b[39m=\u001b[39m convert_to_eager_tensor(value, ctx, dtype)\n\u001b[0;32m    305\u001b[0m   \u001b[39mif\u001b[39;00m shape \u001b[39mis\u001b[39;00m \u001b[39mNone\u001b[39;00m:\n\u001b[0;32m    306\u001b[0m     \u001b[39mreturn\u001b[39;00m t\n",
      "File \u001b[1;32md:\\anaconda3\\envs\\wingpuflake_keras_GPU\\lib\\site-packages\\tensorflow\\python\\framework\\constant_op.py:102\u001b[0m, in \u001b[0;36mconvert_to_eager_tensor\u001b[1;34m(value, ctx, dtype)\u001b[0m\n\u001b[0;32m    100\u001b[0m     dtype \u001b[39m=\u001b[39m dtypes\u001b[39m.\u001b[39mas_dtype(dtype)\u001b[39m.\u001b[39mas_datatype_enum\n\u001b[0;32m    101\u001b[0m ctx\u001b[39m.\u001b[39mensure_initialized()\n\u001b[1;32m--> 102\u001b[0m \u001b[39mreturn\u001b[39;00m ops\u001b[39m.\u001b[39;49mEagerTensor(value, ctx\u001b[39m.\u001b[39;49mdevice_name, dtype)\n",
      "\u001b[1;31mValueError\u001b[0m: Failed to convert a NumPy array to a Tensor (Unsupported object type float)."
     ]
    }
   ],
   "source": [
    "#### Dataset erstellen erstmal\n",
    "\n",
    "#Dataset.from_pandas(train).rename_column('score', 'labels')\n",
    "\n",
    "def create_dataset(df, text_column, max_line_length):\n",
    "    \n",
    "    \n",
    "    tf.data.Dataset.from_tensor_slices(train)"
   ]
  },
  {
   "cell_type": "markdown",
   "id": "858c5da9",
   "metadata": {},
   "source": []
  },
  {
   "cell_type": "code",
   "execution_count": null,
   "id": "6619ffa3",
   "metadata": {},
   "outputs": [],
   "source": []
  },
  {
   "cell_type": "code",
   "execution_count": null,
   "id": "d3e5a51e",
   "metadata": {},
   "outputs": [],
   "source": []
  },
  {
   "cell_type": "code",
   "execution_count": null,
   "metadata": {},
   "outputs": [],
   "source": []
  },
  {
   "cell_type": "code",
   "execution_count": 42,
   "id": "1c0bc21b",
   "metadata": {},
   "outputs": [],
   "source": [
    "def train_model(dds):\n",
    "    train_dataset = dds['train'].to_tf_dataset\n",
    "    val_dataset = dds['val'].to_tf_dataset\n",
    "\n",
    "    train_data = (train_dataset\n",
    "                  .shuffle(1024)\n",
    "                  .batch(config.batch_size)\n",
    "                  .prefetch(tf.data.AUTOTUNE)\n",
    "                  )\n",
    "\n",
    "    val_data = (val_dataset\n",
    "                .batch(config.batch_size)\n",
    "                .prefecht(tf.data.AUTOTUNE))"
   ]
  },
  {
   "cell_type": "code",
   "execution_count": 43,
   "metadata": {},
   "outputs": [
    {
     "ename": "AttributeError",
     "evalue": "'function' object has no attribute 'shuffle'",
     "output_type": "error",
     "traceback": [
      "\u001b[1;31m---------------------------------------------------------------------------\u001b[0m",
      "\u001b[1;31mAttributeError\u001b[0m                            Traceback (most recent call last)",
      "\u001b[1;32mf:\\python-workspace\\phrase2phrase-match-ai\\phrase_2_phrase_matching.ipynb Cell 120'\u001b[0m in \u001b[0;36m<cell line: 1>\u001b[1;34m()\u001b[0m\n\u001b[1;32m----> <a href='vscode-notebook-cell:/f%3A/python-workspace/phrase2phrase-match-ai/phrase_2_phrase_matching.ipynb#ch0000121?line=0'>1</a>\u001b[0m train_model(dds)\n",
      "\u001b[1;32mf:\\python-workspace\\phrase2phrase-match-ai\\phrase_2_phrase_matching.ipynb Cell 62'\u001b[0m in \u001b[0;36mtrain_model\u001b[1;34m(dds)\u001b[0m\n\u001b[0;32m      <a href='vscode-notebook-cell:/f%3A/python-workspace/phrase2phrase-match-ai/phrase_2_phrase_matching.ipynb#ch0000063?line=1'>2</a>\u001b[0m train_dataset \u001b[39m=\u001b[39m dds[\u001b[39m'\u001b[39m\u001b[39mtrain\u001b[39m\u001b[39m'\u001b[39m]\u001b[39m.\u001b[39mto_tf_dataset\n\u001b[0;32m      <a href='vscode-notebook-cell:/f%3A/python-workspace/phrase2phrase-match-ai/phrase_2_phrase_matching.ipynb#ch0000063?line=2'>3</a>\u001b[0m val_dataset \u001b[39m=\u001b[39m dds[\u001b[39m'\u001b[39m\u001b[39mval\u001b[39m\u001b[39m'\u001b[39m]\u001b[39m.\u001b[39mto_tf_dataset\n\u001b[1;32m----> <a href='vscode-notebook-cell:/f%3A/python-workspace/phrase2phrase-match-ai/phrase_2_phrase_matching.ipynb#ch0000063?line=4'>5</a>\u001b[0m train_data \u001b[39m=\u001b[39m (train_dataset\n\u001b[0;32m      <a href='vscode-notebook-cell:/f%3A/python-workspace/phrase2phrase-match-ai/phrase_2_phrase_matching.ipynb#ch0000063?line=5'>6</a>\u001b[0m               \u001b[39m.\u001b[39;49mshuffle(\u001b[39m1024\u001b[39m)\n\u001b[0;32m      <a href='vscode-notebook-cell:/f%3A/python-workspace/phrase2phrase-match-ai/phrase_2_phrase_matching.ipynb#ch0000063?line=6'>7</a>\u001b[0m               \u001b[39m.\u001b[39mbatch(config\u001b[39m.\u001b[39mbatch_size)\n\u001b[0;32m      <a href='vscode-notebook-cell:/f%3A/python-workspace/phrase2phrase-match-ai/phrase_2_phrase_matching.ipynb#ch0000063?line=7'>8</a>\u001b[0m               \u001b[39m.\u001b[39mprefetch(tf\u001b[39m.\u001b[39mdata\u001b[39m.\u001b[39mAUTOTUNE)\n\u001b[0;32m      <a href='vscode-notebook-cell:/f%3A/python-workspace/phrase2phrase-match-ai/phrase_2_phrase_matching.ipynb#ch0000063?line=8'>9</a>\u001b[0m               )\n\u001b[0;32m     <a href='vscode-notebook-cell:/f%3A/python-workspace/phrase2phrase-match-ai/phrase_2_phrase_matching.ipynb#ch0000063?line=10'>11</a>\u001b[0m val_data \u001b[39m=\u001b[39m (val_dataset\n\u001b[0;32m     <a href='vscode-notebook-cell:/f%3A/python-workspace/phrase2phrase-match-ai/phrase_2_phrase_matching.ipynb#ch0000063?line=11'>12</a>\u001b[0m             \u001b[39m.\u001b[39mbatch(config\u001b[39m.\u001b[39mbatch_size)\n\u001b[0;32m     <a href='vscode-notebook-cell:/f%3A/python-workspace/phrase2phrase-match-ai/phrase_2_phrase_matching.ipynb#ch0000063?line=12'>13</a>\u001b[0m             \u001b[39m.\u001b[39mprefecht(tf\u001b[39m.\u001b[39mdata\u001b[39m.\u001b[39mAUTOTUNE))\n",
      "\u001b[1;31mAttributeError\u001b[0m: 'function' object has no attribute 'shuffle'"
     ]
    }
   ],
   "source": [
    "train_model(dds)"
   ]
  },
  {
   "cell_type": "code",
   "execution_count": null,
   "id": "b7e55f9f",
   "metadata": {},
   "outputs": [],
   "source": []
  },
  {
   "cell_type": "code",
   "execution_count": null,
   "id": "7609ba55",
   "metadata": {},
   "outputs": [],
   "source": []
  },
  {
   "cell_type": "code",
   "execution_count": null,
   "id": "fa5e6b78",
   "metadata": {},
   "outputs": [],
   "source": [
    "from transformers import DataCollatorWithPadding\n",
    "\n",
    "data_collator = DataCollatorWithPadding(tokenizer=tokenizer, return_tensors=\"tf\")\n",
    "tf_dataset = dataset.to_tf_dataset(\n",
    "    columns=[\"input_ids\", \"token_type_ids\", \"attention_mask\"],\n",
    "    label_cols=[\"labels\"],\n",
    "    batch_size=2,\n",
    "    collate_fn=data_collator,\n",
    "    shuffle=True\n",
    ")\n",
    "\n",
    "# https://huggingface.co/docs/datasets/use_dataset"
   ]
  },
  {
   "cell_type": "code",
   "execution_count": null,
   "id": "af4beaba",
   "metadata": {},
   "outputs": [],
   "source": []
  },
  {
   "cell_type": "code",
   "execution_count": null,
   "id": "14479477",
   "metadata": {
    "execution": {
     "iopub.execute_input": "2022-06-21T07:25:51.833296Z",
     "iopub.status.busy": "2022-06-21T07:25:51.832206Z",
     "iopub.status.idle": "2022-06-21T07:25:51.837304Z",
     "shell.execute_reply": "2022-06-21T07:25:51.836567Z"
    },
    "papermill": {
     "duration": 0.190913,
     "end_time": "2022-06-21T07:25:51.839067",
     "exception": false,
     "start_time": "2022-06-21T07:25:51.648154",
     "status": "completed"
    },
    "tags": []
   },
   "outputs": [
    {
     "name": "stdout",
     "output_type": "stream",
     "text": [
      "Number of labels, that came from deberta model: 5\n"
     ]
    }
   ],
   "source": [
    "print(f'Number of labels, that came from deberta model: {model_pretrained.num_labels}')"
   ]
  },
  {
   "cell_type": "code",
   "execution_count": null,
   "id": "9aa7eabc",
   "metadata": {
    "execution": {
     "iopub.execute_input": "2022-06-21T07:25:52.203637Z",
     "iopub.status.busy": "2022-06-21T07:25:52.203269Z",
     "iopub.status.idle": "2022-06-21T07:25:57.861003Z",
     "shell.execute_reply": "2022-06-21T07:25:57.860059Z"
    },
    "papermill": {
     "duration": 5.841971,
     "end_time": "2022-06-21T07:25:57.863225",
     "exception": false,
     "start_time": "2022-06-21T07:25:52.021254",
     "status": "completed"
    },
    "tags": []
   },
   "outputs": [],
   "source": [
    "_input_ids_ = tf.keras.Input(shape = (MAX_LINE_LENGTH_BERT, ), dtype = tf.int32)\n",
    "_attention_mask_ = tf.keras.Input(shape = (MAX_LINE_LENGTH_BERT, ), dtype = tf.int32)\n",
    "\n",
    "x = model_pretrained(\n",
    "                input_ids = _input_ids_,\n",
    "                attention_mask = _attention_mask_,\n",
    "                output_hidden_states=True\n",
    "                )\n",
    "#print(x)\n",
    "#print('-----------------------------------')\n",
    "#print(x.hidden_states)\n",
    "#print('-----------------------------------')\n",
    "#print(x[0].hidden_states[-1])\n",
    "#print('-----------------------------------')\n",
    "#print(x.last_hidden_state)\n",
    "x = tf.keras.layers.GlobalAveragePooling1D()(x.hidden_states[-1])\n",
    "x = tf.keras.layers.Dropout(0.3)(x)\n",
    "#x = tf.keras.layers.Dense(32, activation='relu')(x)\n",
    "output = tf.keras.layers.Dense(5, activation='softmax')(x)\n",
    "\n",
    "model2 = tf.keras.Model(inputs = [_input_ids_, _attention_mask_], \n",
    "                        outputs = output\n",
    "                        )"
   ]
  },
  {
   "cell_type": "code",
   "execution_count": null,
   "id": "8a8d461b",
   "metadata": {
    "execution": {
     "iopub.execute_input": "2022-06-21T07:25:58.237823Z",
     "iopub.status.busy": "2022-06-21T07:25:58.236880Z",
     "iopub.status.idle": "2022-06-21T07:25:58.252474Z",
     "shell.execute_reply": "2022-06-21T07:25:58.251771Z"
    },
    "papermill": {
     "duration": 0.204648,
     "end_time": "2022-06-21T07:25:58.254187",
     "exception": false,
     "start_time": "2022-06-21T07:25:58.049539",
     "status": "completed"
    },
    "tags": []
   },
   "outputs": [],
   "source": [
    "model2.compile(loss='sparse_categorical_crossentropy', optimizer='Nadam', metrics=['accuracy'])"
   ]
  },
  {
   "cell_type": "code",
   "execution_count": null,
   "id": "7a62654a",
   "metadata": {
    "execution": {
     "iopub.execute_input": "2022-06-21T07:25:58.618386Z",
     "iopub.status.busy": "2022-06-21T07:25:58.617626Z",
     "iopub.status.idle": "2022-06-21T07:25:58.635279Z",
     "shell.execute_reply": "2022-06-21T07:25:58.634476Z"
    },
    "papermill": {
     "duration": 0.200859,
     "end_time": "2022-06-21T07:25:58.637447",
     "exception": false,
     "start_time": "2022-06-21T07:25:58.436588",
     "status": "completed"
    },
    "tags": []
   },
   "outputs": [
    {
     "name": "stdout",
     "output_type": "stream",
     "text": [
      "Model: \"model\"\n",
      "__________________________________________________________________________________________________\n",
      "Layer (type)                    Output Shape         Param #     Connected to                     \n",
      "==================================================================================================\n",
      "input_1 (InputLayer)            [(None, 127)]        0                                            \n",
      "__________________________________________________________________________________________________\n",
      "input_2 (InputLayer)            [(None, 127)]        0                                            \n",
      "__________________________________________________________________________________________________\n",
      "tf_roberta_for_sequence_classif TFSequenceClassifier 124649477   input_1[0][0]                    \n",
      "                                                                 input_2[0][0]                    \n",
      "__________________________________________________________________________________________________\n",
      "global_average_pooling1d (Globa (None, 768)          0           tf_roberta_for_sequence_classific\n",
      "__________________________________________________________________________________________________\n",
      "dropout_39 (Dropout)            (None, 768)          0           global_average_pooling1d[0][0]   \n",
      "__________________________________________________________________________________________________\n",
      "dense_1 (Dense)                 (None, 5)            3845        dropout_39[0][0]                 \n",
      "==================================================================================================\n",
      "Total params: 124,653,322\n",
      "Trainable params: 124,653,322\n",
      "Non-trainable params: 0\n",
      "__________________________________________________________________________________________________\n"
     ]
    }
   ],
   "source": [
    "model2.summary()"
   ]
  },
  {
   "cell_type": "code",
   "execution_count": null,
   "id": "927dbcdd",
   "metadata": {},
   "outputs": [],
   "source": []
  },
  {
   "cell_type": "code",
   "execution_count": null,
   "id": "e3d78898",
   "metadata": {},
   "outputs": [],
   "source": []
  },
  {
   "cell_type": "code",
   "execution_count": null,
   "id": "d162b6ce",
   "metadata": {},
   "outputs": [],
   "source": []
  },
  {
   "cell_type": "code",
   "execution_count": null,
   "id": "d03c9c95",
   "metadata": {},
   "outputs": [],
   "source": []
  },
  {
   "cell_type": "markdown",
   "id": "d280b2e1",
   "metadata": {},
   "source": [
    "# Glove"
   ]
  },
  {
   "cell_type": "markdown",
   "id": "46c3f18d",
   "metadata": {
    "papermill": {
     "duration": 0.02198,
     "end_time": "2022-06-21T07:11:19.047242",
     "exception": false,
     "start_time": "2022-06-21T07:11:19.025262",
     "status": "completed"
    },
    "tags": []
   },
   "source": [
    "#### Identifing the features and the target."
   ]
  },
  {
   "cell_type": "code",
   "execution_count": 17,
   "id": "e855b5c0",
   "metadata": {
    "execution": {
     "iopub.execute_input": "2022-06-21T07:11:19.091520Z",
     "iopub.status.busy": "2022-06-21T07:11:19.091191Z",
     "iopub.status.idle": "2022-06-21T07:11:19.110326Z",
     "shell.execute_reply": "2022-06-21T07:11:19.109582Z"
    },
    "papermill": {
     "duration": 0.043627,
     "end_time": "2022-06-21T07:11:19.112413",
     "exception": false,
     "start_time": "2022-06-21T07:11:19.068786",
     "status": "completed"
    },
    "tags": []
   },
   "outputs": [],
   "source": [
    "y = train[['id','score']].copy()\n",
    "X = train[['id','anchor','target','context', 'corpus', 'title', 'corpus_w_context', 'corpus_w_full_context']].copy()"
   ]
  },
  {
   "cell_type": "markdown",
   "id": "217afedc",
   "metadata": {
    "papermill": {
     "duration": 0.022,
     "end_time": "2022-06-21T07:11:19.156991",
     "exception": false,
     "start_time": "2022-06-21T07:11:19.134991",
     "status": "completed"
    },
    "tags": []
   },
   "source": [
    "## Training - Validation Split"
   ]
  },
  {
   "cell_type": "code",
   "execution_count": 18,
   "id": "6a247ee1",
   "metadata": {
    "execution": {
     "iopub.execute_input": "2022-06-21T07:11:19.202269Z",
     "iopub.status.busy": "2022-06-21T07:11:19.201950Z",
     "iopub.status.idle": "2022-06-21T07:11:19.233829Z",
     "shell.execute_reply": "2022-06-21T07:11:19.233065Z"
    },
    "papermill": {
     "duration": 0.056055,
     "end_time": "2022-06-21T07:11:19.235575",
     "exception": false,
     "start_time": "2022-06-21T07:11:19.179520",
     "status": "completed"
    },
    "tags": []
   },
   "outputs": [],
   "source": [
    "X_train, X_val, y_train, y_val = train_test_split(X, y, test_size=0.3, stratify=y['score'])"
   ]
  },
  {
   "cell_type": "code",
   "execution_count": 19,
   "id": "71ef2dcb",
   "metadata": {
    "execution": {
     "iopub.execute_input": "2022-06-21T07:11:19.279612Z",
     "iopub.status.busy": "2022-06-21T07:11:19.279191Z",
     "iopub.status.idle": "2022-06-21T07:11:19.289189Z",
     "shell.execute_reply": "2022-06-21T07:11:19.288466Z"
    },
    "papermill": {
     "duration": 0.03398,
     "end_time": "2022-06-21T07:11:19.291078",
     "exception": false,
     "start_time": "2022-06-21T07:11:19.257098",
     "status": "completed"
    },
    "tags": []
   },
   "outputs": [
    {
     "name": "stdout",
     "output_type": "stream",
     "text": [
      "Length of training_target - list: 25531\n",
      "Length of training_content - list: 25531\n",
      "Length of training_content_w_context - list: 25531\n",
      "Length of training_content_full - list: 25531\n",
      "Length of validating_content - list: 10942\n",
      "Length of validating_content_w_context - list: 10942\n",
      "Length of validating_content_full - list: 10942\n",
      "Length of test_content - list: 36\n",
      "Length of test_content_full - list: 36\n"
     ]
    }
   ],
   "source": [
    "training_target = X_train['target']\n",
    "print(f'Length of training_target - list: {len(training_target)}')\n",
    "\n",
    "training_content = X_train['corpus']\n",
    "print(f'Length of training_content - list: {len(training_content)}')\n",
    "\n",
    "training_content_w_context = X_train['corpus_w_context']\n",
    "print(f'Length of training_content_w_context - list: {len(training_content_w_context)}')\n",
    "\n",
    "training_content_full = X_train['corpus_w_full_context']\n",
    "print(f'Length of training_content_full - list: {len(training_content_full)}')\n",
    "\n",
    "\n",
    "validating_content = X_val['corpus']\n",
    "print(f'Length of validating_content - list: {len(validating_content)}')\n",
    "\n",
    "validating_content_w_context = X_val['corpus_w_context']\n",
    "print(f'Length of validating_content_w_context - list: {len(validating_content_w_context)}')\n",
    "\n",
    "validating_content_full = X_val['corpus_w_full_context']\n",
    "print(f'Length of validating_content_full - list: {len(validating_content_full)}')\n",
    "\n",
    "\n",
    "test_content = test['corpus']\n",
    "print(f'Length of test_content - list: {len(test_content)}')\n",
    "\n",
    "test_content_full = test['corpus_w_full_context']\n",
    "print(f'Length of test_content_full - list: {len(test_content_full)}')\n",
    "\n",
    "training_labels = y_train['score']\n",
    "validating_labels = y_val['score']\n",
    "\n",
    "training_labels = np.asarray(training_labels)\n",
    "validating_labels = np.asarray(validating_labels)"
   ]
  },
  {
   "cell_type": "markdown",
   "id": "a73fa5e8",
   "metadata": {
    "papermill": {
     "duration": 0.021728,
     "end_time": "2022-06-21T07:11:19.334353",
     "exception": false,
     "start_time": "2022-06-21T07:11:19.312625",
     "status": "completed"
    },
    "tags": []
   },
   "source": [
    "#### Label Encoding"
   ]
  },
  {
   "cell_type": "code",
   "execution_count": 20,
   "id": "f00a7db6",
   "metadata": {
    "execution": {
     "iopub.execute_input": "2022-06-21T07:11:19.378534Z",
     "iopub.status.busy": "2022-06-21T07:11:19.377785Z",
     "iopub.status.idle": "2022-06-21T07:11:19.385884Z",
     "shell.execute_reply": "2022-06-21T07:11:19.385139Z"
    },
    "papermill": {
     "duration": 0.031952,
     "end_time": "2022-06-21T07:11:19.387522",
     "exception": false,
     "start_time": "2022-06-21T07:11:19.355570",
     "status": "completed"
    },
    "tags": []
   },
   "outputs": [],
   "source": [
    "encoder = LabelEncoder()\n",
    "encoder.fit(y_train['score'])\n",
    "\n",
    "training_labels = encoder.transform(training_labels)\n",
    "validating_labels = encoder.transform(validating_labels)\n",
    "\n",
    "training_labels = training_labels.reshape(-1, 1)\n",
    "validating_labels = validating_labels.reshape(-1, 1)"
   ]
  },
  {
   "cell_type": "markdown",
   "id": "3dc175ce",
   "metadata": {
    "papermill": {
     "duration": 0.021805,
     "end_time": "2022-06-21T07:11:19.431000",
     "exception": false,
     "start_time": "2022-06-21T07:11:19.409195",
     "status": "completed"
    },
    "tags": []
   },
   "source": [
    "## Data Cleaning"
   ]
  },
  {
   "cell_type": "markdown",
   "id": "c0286e4e",
   "metadata": {
    "papermill": {
     "duration": 0.021131,
     "end_time": "2022-06-21T07:11:19.473427",
     "exception": false,
     "start_time": "2022-06-21T07:11:19.452296",
     "status": "completed"
    },
    "tags": []
   },
   "source": [
    "### Tokenization, Encoding and Padding"
   ]
  },
  {
   "cell_type": "code",
   "execution_count": 21,
   "id": "581ef266",
   "metadata": {
    "execution": {
     "iopub.execute_input": "2022-06-21T07:11:19.517853Z",
     "iopub.status.busy": "2022-06-21T07:11:19.517105Z",
     "iopub.status.idle": "2022-06-21T07:11:19.523268Z",
     "shell.execute_reply": "2022-06-21T07:11:19.522559Z"
    },
    "papermill": {
     "duration": 0.030283,
     "end_time": "2022-06-21T07:11:19.525022",
     "exception": false,
     "start_time": "2022-06-21T07:11:19.494739",
     "status": "completed"
    },
    "tags": []
   },
   "outputs": [],
   "source": [
    "def extract_words(document, alpha=True):\n",
    "    '''Extracing words from a sentence or full text.\n",
    "\n",
    "    Parameters\n",
    "    ----------\n",
    "    document: str\n",
    "        Text that needs to be tokenized by nltk word_tokenize.\n",
    "    alpha: bool\n",
    "        Keep only letters or not. \n",
    "    \n",
    "    Returns\n",
    "    -------\n",
    "    set\n",
    "        A set of words from the given text.\n",
    "    '''\n",
    "    if alpha == True:\n",
    "        return set(\n",
    "            word.lower() for word in nltk.word_tokenize(document)\n",
    "            if any(c.isalpha() for c in word)\n",
    "        )\n",
    "    else:\n",
    "        return set(\n",
    "            word.lower() for word in nltk.word_tokenize(document)\n",
    "        )\n"
   ]
  },
  {
   "cell_type": "code",
   "execution_count": 22,
   "id": "2fee3125",
   "metadata": {
    "execution": {
     "iopub.execute_input": "2022-06-21T07:11:19.570527Z",
     "iopub.status.busy": "2022-06-21T07:11:19.570160Z",
     "iopub.status.idle": "2022-06-21T07:11:19.574811Z",
     "shell.execute_reply": "2022-06-21T07:11:19.574117Z"
    },
    "papermill": {
     "duration": 0.02911,
     "end_time": "2022-06-21T07:11:19.576351",
     "exception": false,
     "start_time": "2022-06-21T07:11:19.547241",
     "status": "completed"
    },
    "tags": []
   },
   "outputs": [],
   "source": [
    "def process_docs(docs):\n",
    "    content = []\n",
    "    for doc in docs:\n",
    "        content.append(extract_words(doc))\n",
    "    return content\n",
    "\n",
    "def max_length(lines):\n",
    "    return max([len(s.split()) for s in lines])"
   ]
  },
  {
   "cell_type": "code",
   "execution_count": 23,
   "id": "56f411eb",
   "metadata": {
    "execution": {
     "iopub.execute_input": "2022-06-21T07:11:19.620544Z",
     "iopub.status.busy": "2022-06-21T07:11:19.619832Z",
     "iopub.status.idle": "2022-06-21T07:11:19.624944Z",
     "shell.execute_reply": "2022-06-21T07:11:19.624265Z"
    },
    "papermill": {
     "duration": 0.0288,
     "end_time": "2022-06-21T07:11:19.626593",
     "exception": false,
     "start_time": "2022-06-21T07:11:19.597793",
     "status": "completed"
    },
    "tags": []
   },
   "outputs": [],
   "source": [
    "def create_tokenizer(lines):\n",
    "    tokenizer = Tokenizer()\n",
    "    tokenizer.fit_on_texts(lines)\n",
    "    return tokenizer\n",
    "\n",
    "def encode_text(tokenizer, lines, length):\n",
    "    sequences = tokenizer.texts_to_sequences(lines)\n",
    "    padded = pad_sequences(sequences, maxlen=length)\n",
    "    return padded\n"
   ]
  },
  {
   "cell_type": "code",
   "execution_count": 24,
   "id": "0afec2e7",
   "metadata": {
    "execution": {
     "iopub.execute_input": "2022-06-21T07:11:19.670979Z",
     "iopub.status.busy": "2022-06-21T07:11:19.670711Z",
     "iopub.status.idle": "2022-06-21T07:11:20.105466Z",
     "shell.execute_reply": "2022-06-21T07:11:20.104589Z"
    },
    "papermill": {
     "duration": 0.460181,
     "end_time": "2022-06-21T07:11:20.108053",
     "exception": false,
     "start_time": "2022-06-21T07:11:19.647872",
     "status": "completed"
    },
    "tags": []
   },
   "outputs": [],
   "source": [
    "tokenizer = create_tokenizer(training_content_full)"
   ]
  },
  {
   "cell_type": "code",
   "execution_count": 25,
   "id": "e1aa7330",
   "metadata": {
    "execution": {
     "iopub.execute_input": "2022-06-21T07:11:20.157227Z",
     "iopub.status.busy": "2022-06-21T07:11:20.156847Z",
     "iopub.status.idle": "2022-06-21T07:11:20.189074Z",
     "shell.execute_reply": "2022-06-21T07:11:20.188213Z"
    },
    "papermill": {
     "duration": 0.059413,
     "end_time": "2022-06-21T07:11:20.191003",
     "exception": false,
     "start_time": "2022-06-21T07:11:20.131590",
     "status": "completed"
    },
    "tags": []
   },
   "outputs": [],
   "source": [
    "vocab_size = len(tokenizer.word_index) + 1\n",
    "max_line_length = max_length(training_content_full)\n",
    "word_count = tokenizer.word_counts\n",
    "word_index = tokenizer.word_index\n",
    "oov_tok = \"<OOV>\"\n"
   ]
  },
  {
   "cell_type": "code",
   "execution_count": 26,
   "id": "f3c8b9db",
   "metadata": {
    "execution": {
     "iopub.execute_input": "2022-06-21T07:11:20.237130Z",
     "iopub.status.busy": "2022-06-21T07:11:20.236624Z",
     "iopub.status.idle": "2022-06-21T07:11:20.870516Z",
     "shell.execute_reply": "2022-06-21T07:11:20.869465Z"
    },
    "papermill": {
     "duration": 0.659693,
     "end_time": "2022-06-21T07:11:20.873361",
     "exception": false,
     "start_time": "2022-06-21T07:11:20.213668",
     "status": "completed"
    },
    "tags": []
   },
   "outputs": [
    {
     "name": "stdout",
     "output_type": "stream",
     "text": [
      "Shape training set (encoded): (25531, 52)\n",
      "Shape validating set (encoded): (10942, 52)\n",
      "Vocabulary size: 7856\n",
      "Max line lenght: 52\n"
     ]
    }
   ],
   "source": [
    "training_content_enc = encode_text(tokenizer, training_content_full, max_line_length)\n",
    "print(f'Shape training set (encoded): {training_content_enc.shape}')\n",
    "\n",
    "validating_content_enc = encode_text(tokenizer, validating_content_full, max_line_length)\n",
    "print(f'Shape validating set (encoded): {validating_content_enc.shape}')\n",
    "\n",
    "print(f'Vocabulary size: {vocab_size}')\n",
    "print(f'Max line lenght: {max_line_length}')"
   ]
  },
  {
   "cell_type": "markdown",
   "id": "6f99f549",
   "metadata": {
    "papermill": {
     "duration": 0.02206,
     "end_time": "2022-06-21T07:11:20.919172",
     "exception": false,
     "start_time": "2022-06-21T07:11:20.897112",
     "status": "completed"
    },
    "tags": []
   },
   "source": [
    "# Helpers for Deep Neural Network Training"
   ]
  },
  {
   "cell_type": "markdown",
   "id": "0e00fd57",
   "metadata": {
    "papermill": {
     "duration": 0.022213,
     "end_time": "2022-06-21T07:11:20.963329",
     "exception": false,
     "start_time": "2022-06-21T07:11:20.941116",
     "status": "completed"
    },
    "tags": []
   },
   "source": [
    "#### Params for the Glove based model"
   ]
  },
  {
   "cell_type": "code",
   "execution_count": 27,
   "id": "72f0de72",
   "metadata": {
    "execution": {
     "iopub.execute_input": "2022-06-21T07:11:21.011118Z",
     "iopub.status.busy": "2022-06-21T07:11:21.010636Z",
     "iopub.status.idle": "2022-06-21T07:11:21.015882Z",
     "shell.execute_reply": "2022-06-21T07:11:21.015135Z"
    },
    "papermill": {
     "duration": 0.034562,
     "end_time": "2022-06-21T07:11:21.019692",
     "exception": false,
     "start_time": "2022-06-21T07:11:20.985130",
     "status": "completed"
    },
    "tags": []
   },
   "outputs": [],
   "source": [
    "# Main params for the model\n",
    "embedding_dim = 300 # according to the pretrained network\n",
    "hits = 0\n",
    "misses = 0\n",
    "lr = 0.0000008\n",
    "batch_size = 512\n",
    "num_epochs = 50"
   ]
  },
  {
   "cell_type": "markdown",
   "id": "756d232d",
   "metadata": {
    "papermill": {
     "duration": 0.032692,
     "end_time": "2022-06-21T07:11:21.085050",
     "exception": false,
     "start_time": "2022-06-21T07:11:21.052358",
     "status": "completed"
    },
    "tags": []
   },
   "source": [
    "#### Params for Deberta/Roberta based model\n",
    "I will use here a Config class, a way which I have seen quite a lot on Kaggle. I am not sure about this approach but I will give it a try. I can see the benefit of reinitializing the hyperparameters and so on and a probable approach of using some kind of grid search for multiple models and and and. "
   ]
  },
  {
   "cell_type": "code",
   "execution_count": 31,
   "id": "ba461f89",
   "metadata": {
    "execution": {
     "iopub.execute_input": "2022-06-21T07:11:21.137472Z",
     "iopub.status.busy": "2022-06-21T07:11:21.137125Z",
     "iopub.status.idle": "2022-06-21T07:11:21.141363Z",
     "shell.execute_reply": "2022-06-21T07:11:21.140644Z"
    },
    "papermill": {
     "duration": 0.029666,
     "end_time": "2022-06-21T07:11:21.143018",
     "exception": false,
     "start_time": "2022-06-21T07:11:21.113352",
     "status": "completed"
    },
    "tags": []
   },
   "outputs": [],
   "source": [
    "#class Config():\n",
    "#    learning_rate = 6e-6\n",
    "#    num_epochs = 5\n",
    "#    batch_size = 16\n",
    "#    decay = 0.01\n",
    "#\n",
    "#    root_logdir_tb = \"../../tensorboard-logs\"   # tensorboard logdir\n",
    "#\n",
    "#    def __init__(self, **kwargs):\n",
    "#        for k, v in kwargs.items():\n",
    "#            if k in self.__dict__:\n",
    "#                setattr(self, k, v)\n",
    "#            else:\n",
    "#                raise KeyError(k)\n",
    "#        \n",
    "#\n",
    "#\n",
    "#config = Config()"
   ]
  },
  {
   "cell_type": "code",
   "execution_count": 34,
   "id": "a8ec7b49",
   "metadata": {
    "execution": {
     "iopub.execute_input": "2022-06-21T07:11:21.189805Z",
     "iopub.status.busy": "2022-06-21T07:11:21.189067Z",
     "iopub.status.idle": "2022-06-21T07:11:22.117638Z",
     "shell.execute_reply": "2022-06-21T07:11:22.116620Z"
    },
    "papermill": {
     "duration": 0.955245,
     "end_time": "2022-06-21T07:11:22.120147",
     "exception": false,
     "start_time": "2022-06-21T07:11:21.164902",
     "status": "completed"
    },
    "tags": []
   },
   "outputs": [
    {
     "ename": "NameError",
     "evalue": "name 'self' is not defined",
     "output_type": "error",
     "traceback": [
      "\u001b[1;31m---------------------------------------------------------------------------\u001b[0m",
      "\u001b[1;31mNameError\u001b[0m                                 Traceback (most recent call last)",
      "\u001b[1;32mf:\\python-workspace\\phrase2phrase-match-ai\\phrase_2_phrase_matching.ipynb Cell 56'\u001b[0m in \u001b[0;36m<cell line: 46>\u001b[1;34m()\u001b[0m\n\u001b[0;32m     <a href='vscode-notebook-cell:/f%3A/python-workspace/phrase2phrase-match-ai/phrase_2_phrase_matching.ipynb#ch0000055?line=43'>44</a>\u001b[0m tensorboard_callback \u001b[39m=\u001b[39m tf\u001b[39m.\u001b[39mkeras\u001b[39m.\u001b[39mcallbacks\u001b[39m.\u001b[39mTensorBoard(log_dir\u001b[39m=\u001b[39mget_run_logdir(config\u001b[39m.\u001b[39mroot_logdir_tb,\u001b[39m\"\u001b[39m\u001b[39mnlp_phrase2phrase\u001b[39m\u001b[39m\"\u001b[39m), histogram_freq\u001b[39m=\u001b[39m\u001b[39m1\u001b[39m)\n\u001b[0;32m     <a href='vscode-notebook-cell:/f%3A/python-workspace/phrase2phrase-match-ai/phrase_2_phrase_matching.ipynb#ch0000055?line=44'>45</a>\u001b[0m tensorboard_callback_roberta \u001b[39m=\u001b[39m tf\u001b[39m.\u001b[39mkeras\u001b[39m.\u001b[39mcallbacks\u001b[39m.\u001b[39mTensorBoard(log_dir\u001b[39m=\u001b[39mget_run_logdir(config\u001b[39m.\u001b[39mroot_logdir_tb,\u001b[39m\"\u001b[39m\u001b[39mnlp_phrase2phrase_roberta\u001b[39m\u001b[39m\"\u001b[39m), histogram_freq\u001b[39m=\u001b[39m\u001b[39m1\u001b[39m)\n\u001b[1;32m---> <a href='vscode-notebook-cell:/f%3A/python-workspace/phrase2phrase-match-ai/phrase_2_phrase_matching.ipynb#ch0000055?line=45'>46</a>\u001b[0m lr_callback_roberta \u001b[39m=\u001b[39m tf\u001b[39m.\u001b[39mkeras\u001b[39m.\u001b[39mcallbacks\u001b[39m.\u001b[39mLearningRateScheduler(lr_scheduler(config, \u001b[39mself\u001b[39;49m\u001b[39m.\u001b[39mepoch))\n\u001b[0;32m     <a href='vscode-notebook-cell:/f%3A/python-workspace/phrase2phrase-match-ai/phrase_2_phrase_matching.ipynb#ch0000055?line=47'>48</a>\u001b[0m checkpoint_cb_roberta \u001b[39m=\u001b[39m keras\u001b[39m.\u001b[39mcallbacks\u001b[39m.\u001b[39mModelCheckpoint(\u001b[39m\"\u001b[39m\u001b[39mtrained_model_cp.h5\u001b[39m\u001b[39m\"\u001b[39m, save_best_only\u001b[39m=\u001b[39m\u001b[39mTrue\u001b[39;00m, save_weights_only\u001b[39m=\u001b[39m\u001b[39mTrue\u001b[39;00m, monitor\u001b[39m=\u001b[39m\u001b[39m'\u001b[39m\u001b[39mval_loss\u001b[39m\u001b[39m'\u001b[39m, save_freq\u001b[39m=\u001b[39m\u001b[39m'\u001b[39m\u001b[39mepoch\u001b[39m\u001b[39m'\u001b[39m)\n\u001b[0;32m     <a href='vscode-notebook-cell:/f%3A/python-workspace/phrase2phrase-match-ai/phrase_2_phrase_matching.ipynb#ch0000055?line=48'>49</a>\u001b[0m earlystopping_roberta \u001b[39m=\u001b[39m keras\u001b[39m.\u001b[39mcallbacks\u001b[39m.\u001b[39mEarlyStopping(monitor\u001b[39m=\u001b[39m\u001b[39m'\u001b[39m\u001b[39mval_loss\u001b[39m\u001b[39m'\u001b[39m, patience\u001b[39m=\u001b[39m\u001b[39m3\u001b[39m, restore_best_weights\u001b[39m=\u001b[39m\u001b[39mTrue\u001b[39;00m)\n",
      "\u001b[1;31mNameError\u001b[0m: name 'self' is not defined"
     ]
    }
   ],
   "source": [
    "from keras.callbacks import ReduceLROnPlateau\n",
    "\n",
    "# Tensorboard logging structure function\n",
    "root_logdir = \"../../tensorboard-logs\"\n",
    "\n",
    "def get_run_logdir(root_logdir, project):\n",
    "    '''\n",
    "    Returns logdir to the Tensorboard log for a specific project.\n",
    "\n",
    "            Parameters:\n",
    "                    root_logdir (str) : basic logdir from Tensorboard\n",
    "                    project (str): projectname that will be logged in TB\n",
    "\n",
    "            Returns:\n",
    "                    os.path (str): Path to the final logdir\n",
    "    '''\n",
    "    import time\n",
    "    run_id = time.strftime(\"run_%Y_%m_%d-%H_%M_%S\")\n",
    "    project_logdir = os.path.join(root_logdir,project)\n",
    "    return os.path.join(project_logdir, run_id)\n",
    "\n",
    "\n",
    "def lr_scheduler(epoch):\n",
    "  \"\"\"\n",
    "  Returns a custom learning rate that decreases as epochs progress.\n",
    "  \"\"\"\n",
    "  #decay = config.decay\n",
    "  #init_lr = config.learning_rate \n",
    "\n",
    "  learning_rate = config.learning_rate * (1 / (1 + config.decay * epoch))\n",
    "\n",
    "  tf.summary.scalar('learning rate', data=learning_rate, step=epoch)\n",
    "  return learning_rate\n",
    "\n",
    "\n",
    "def lr_scheduler_2(epoch):\n",
    "    learning_rate = 2e-6 # 0.000006\n",
    "    if epoch == 0:\n",
    "        return learning_rate * 0.06 #0.000006\n",
    "    else:\n",
    "        return learning_rate * (0.9**epoch)\n",
    "\n",
    "\n",
    "tensorboard_callback = tf.keras.callbacks.TensorBoard(log_dir=get_run_logdir(config.root_logdir_tb,\"nlp_phrase2phrase\"), histogram_freq=1)\n",
    "tensorboard_callback_roberta = tf.keras.callbacks.TensorBoard(log_dir=get_run_logdir(config.root_logdir_tb,\"nlp_phrase2phrase_roberta\"), histogram_freq=1)\n",
    "lr_callback_roberta = tf.keras.callbacks.LearningRateScheduler(lr_scheduler)\n",
    "\n",
    "checkpoint_cb_roberta = keras.callbacks.ModelCheckpoint(\"trained_model_cp.h5\", save_best_only=True, save_weights_only=True, monitor='val_loss', save_freq='epoch')\n",
    "earlystopping_roberta = keras.callbacks.EarlyStopping(monitor='val_loss', patience=3, restore_best_weights=True)"
   ]
  },
  {
   "cell_type": "code",
   "execution_count": 28,
   "id": "4206ebf8",
   "metadata": {
    "execution": {
     "iopub.execute_input": "2022-06-21T07:11:22.167908Z",
     "iopub.status.busy": "2022-06-21T07:11:22.167215Z",
     "iopub.status.idle": "2022-06-21T07:11:22.643078Z",
     "shell.execute_reply": "2022-06-21T07:11:22.642247Z"
    },
    "papermill": {
     "duration": 0.501498,
     "end_time": "2022-06-21T07:11:22.644889",
     "exception": false,
     "start_time": "2022-06-21T07:11:22.143391",
     "status": "completed"
    },
    "tags": []
   },
   "outputs": [
    {
     "name": "stderr",
     "output_type": "stream",
     "text": [
      "2022-06-21 07:11:22.170196: I tensorflow/stream_executor/cuda/cuda_gpu_executor.cc:937] successful NUMA node read from SysFS had negative value (-1), but there must be at least one NUMA node, so returning NUMA node zero\n",
      "2022-06-21 07:11:22.171221: I tensorflow/stream_executor/cuda/cuda_gpu_executor.cc:937] successful NUMA node read from SysFS had negative value (-1), but there must be at least one NUMA node, so returning NUMA node zero\n",
      "2022-06-21 07:11:22.171953: I tensorflow/stream_executor/cuda/cuda_gpu_executor.cc:937] successful NUMA node read from SysFS had negative value (-1), but there must be at least one NUMA node, so returning NUMA node zero\n",
      "2022-06-21 07:11:22.172736: I tensorflow/stream_executor/cuda/cuda_gpu_executor.cc:937] successful NUMA node read from SysFS had negative value (-1), but there must be at least one NUMA node, so returning NUMA node zero\n",
      "2022-06-21 07:11:22.173397: I tensorflow/stream_executor/cuda/cuda_gpu_executor.cc:937] successful NUMA node read from SysFS had negative value (-1), but there must be at least one NUMA node, so returning NUMA node zero\n",
      "2022-06-21 07:11:22.173981: I tensorflow/core/common_runtime/gpu/gpu_device.cc:1510] Created device /job:localhost/replica:0/task:0/device:GPU:0 with 15047 MB memory:  -> device: 0, name: Tesla P100-PCIE-16GB, pci bus id: 0000:00:04.0, compute capability: 6.0\n"
     ]
    },
    {
     "data": {
      "text/plain": [
       "[<matplotlib.lines.Line2D at 0x7fbb9d269450>]"
      ]
     },
     "execution_count": 28,
     "metadata": {},
     "output_type": "execute_result"
    },
    {
     "data": {
      "image/png": "[encoded data removed]",
      "text/plain": [
       "<Figure size 432x288 with 1 Axes>"
      ]
     },
     "metadata": {
      "needs_background": "light"
     },
     "output_type": "display_data"
    }
   ],
   "source": [
    "plt.plot([lr_scheduler(e) for e in range(10)])"
   ]
  },
  {
   "cell_type": "markdown",
   "id": "c631f008",
   "metadata": {
    "papermill": {
     "duration": 0.022345,
     "end_time": "2022-06-21T07:11:22.690108",
     "exception": false,
     "start_time": "2022-06-21T07:11:22.667763",
     "status": "completed"
    },
    "tags": []
   },
   "source": [
    "## Model Development \"Glove\""
   ]
  },
  {
   "cell_type": "markdown",
   "id": "699dc9ba",
   "metadata": {
    "papermill": {
     "duration": 0.022791,
     "end_time": "2022-06-21T07:11:22.735528",
     "exception": false,
     "start_time": "2022-06-21T07:11:22.712737",
     "status": "completed"
    },
    "tags": []
   },
   "source": [
    "### Pre-Trained Embeddings Load"
   ]
  },
  {
   "cell_type": "code",
   "execution_count": 29,
   "id": "8e8b5116",
   "metadata": {
    "execution": {
     "iopub.execute_input": "2022-06-21T07:11:22.782625Z",
     "iopub.status.busy": "2022-06-21T07:11:22.782188Z",
     "iopub.status.idle": "2022-06-21T07:11:57.051176Z",
     "shell.execute_reply": "2022-06-21T07:11:57.050085Z"
    },
    "papermill": {
     "duration": 34.316889,
     "end_time": "2022-06-21T07:11:57.075628",
     "exception": false,
     "start_time": "2022-06-21T07:11:22.758739",
     "status": "completed"
    },
    "tags": []
   },
   "outputs": [
    {
     "name": "stdout",
     "output_type": "stream",
     "text": [
      "Found 400000 word vectors.\n"
     ]
    }
   ],
   "source": [
    "embeddings_index = {}\n",
    "with open(path_to_glove_file ,encoding=\"utf8\") as f:\n",
    "    for line in f:\n",
    "        word, coefs = line.split(maxsplit=1)\n",
    "        coefs = np.fromstring(coefs, \"f\", sep=\" \")\n",
    "        embeddings_index[word] = coefs\n",
    "\n",
    "print(f\"Found {len(embeddings_index)} word vectors.\")"
   ]
  },
  {
   "cell_type": "markdown",
   "id": "bb323017",
   "metadata": {
    "papermill": {
     "duration": 0.021974,
     "end_time": "2022-06-21T07:11:57.120901",
     "exception": false,
     "start_time": "2022-06-21T07:11:57.098927",
     "status": "completed"
    },
    "tags": []
   },
   "source": [
    "Preparing a corresponding embedding matrix for the Embedding layer in Keras.\n",
    "\n",
    "According to the choosen pre-trained embedding matrix we need to set the embedding dimension on 100."
   ]
  },
  {
   "cell_type": "code",
   "execution_count": 30,
   "id": "cbb6cf8c",
   "metadata": {
    "execution": {
     "iopub.execute_input": "2022-06-21T07:11:57.169003Z",
     "iopub.status.busy": "2022-06-21T07:11:57.168446Z",
     "iopub.status.idle": "2022-06-21T07:11:57.194375Z",
     "shell.execute_reply": "2022-06-21T07:11:57.193359Z"
    },
    "papermill": {
     "duration": 0.051633,
     "end_time": "2022-06-21T07:11:57.196202",
     "exception": false,
     "start_time": "2022-06-21T07:11:57.144569",
     "status": "completed"
    },
    "tags": []
   },
   "outputs": [
    {
     "name": "stdout",
     "output_type": "stream",
     "text": [
      "Converted 7282 words (573 misses)\n"
     ]
    }
   ],
   "source": [
    "embedding_matrix = np.zeros((vocab_size, embedding_dim))\n",
    "for word, i in tokenizer.word_index.items():\n",
    "    embedding_vector = embeddings_index.get(word)\n",
    "    if embedding_vector is not None:\n",
    "        embedding_matrix[i] = embedding_vector\n",
    "        hits += 1\n",
    "    else:\n",
    "        misses += 1\n",
    "\n",
    "print(f\"Converted {hits} words ({misses} misses)\")"
   ]
  },
  {
   "cell_type": "markdown",
   "id": "defe475c",
   "metadata": {
    "papermill": {
     "duration": 0.022444,
     "end_time": "2022-06-21T07:11:57.242492",
     "exception": false,
     "start_time": "2022-06-21T07:11:57.220048",
     "status": "completed"
    },
    "tags": []
   },
   "source": [
    "### Model Building\n",
    "#### The new Embedding Layer\n",
    "Now loading the pre-trained word embedding matrix into the embedding layer. According to the pre-trained embedding load the trainable param needst to be set on \"False\"."
   ]
  },
  {
   "cell_type": "code",
   "execution_count": 31,
   "id": "a3a78636",
   "metadata": {
    "execution": {
     "iopub.execute_input": "2022-06-21T07:11:57.291976Z",
     "iopub.status.busy": "2022-06-21T07:11:57.291183Z",
     "iopub.status.idle": "2022-06-21T07:11:59.013672Z",
     "shell.execute_reply": "2022-06-21T07:11:59.012854Z"
    },
    "papermill": {
     "duration": 1.74816,
     "end_time": "2022-06-21T07:11:59.015867",
     "exception": false,
     "start_time": "2022-06-21T07:11:57.267707",
     "status": "completed"
    },
    "tags": []
   },
   "outputs": [],
   "source": [
    "model = tf.keras.models.Sequential(\n",
    "    [\n",
    "    keras.layers.Embedding(    \n",
    "        vocab_size,\n",
    "        embedding_dim,\n",
    "        input_shape = [None],\n",
    "        input_length=max_line_length,\n",
    "        mask_zero=True,\n",
    "        weights=[embedding_matrix],\n",
    "        trainable = False),\n",
    "    keras.layers.SpatialDropout1D(0.3),\n",
    "    keras.layers.LSTM(300, return_sequences=True),\n",
    "    keras.layers.LSTM(300),\n",
    "    keras.layers.BatchNormalization(),\n",
    "    keras.layers.Activation('relu'),\n",
    "    keras.layers.Dropout(0.5),\n",
    "    keras.layers.Dense(5, activation='softmax' )\n",
    "    ]\n",
    ")\n"
   ]
  },
  {
   "cell_type": "code",
   "execution_count": 32,
   "id": "c4368c94",
   "metadata": {
    "execution": {
     "iopub.execute_input": "2022-06-21T07:11:59.063297Z",
     "iopub.status.busy": "2022-06-21T07:11:59.062972Z",
     "iopub.status.idle": "2022-06-21T07:11:59.075720Z",
     "shell.execute_reply": "2022-06-21T07:11:59.075018Z"
    },
    "papermill": {
     "duration": 0.038389,
     "end_time": "2022-06-21T07:11:59.077500",
     "exception": false,
     "start_time": "2022-06-21T07:11:59.039111",
     "status": "completed"
    },
    "tags": []
   },
   "outputs": [],
   "source": [
    "model.compile(loss='sparse_categorical_crossentropy',\n",
    "                #optimizer=keras.optimizers.Nadam(learning_rate=lr, beta_1=mmt),\n",
    "                optimizer=keras.optimizers.Adam(),\n",
    "                metrics=['accuracy']\n",
    "                )"
   ]
  },
  {
   "cell_type": "code",
   "execution_count": 33,
   "id": "dd77370f",
   "metadata": {
    "execution": {
     "iopub.execute_input": "2022-06-21T07:11:59.124295Z",
     "iopub.status.busy": "2022-06-21T07:11:59.123961Z",
     "iopub.status.idle": "2022-06-21T07:11:59.130053Z",
     "shell.execute_reply": "2022-06-21T07:11:59.129332Z"
    },
    "papermill": {
     "duration": 0.031322,
     "end_time": "2022-06-21T07:11:59.131942",
     "exception": false,
     "start_time": "2022-06-21T07:11:59.100620",
     "status": "completed"
    },
    "tags": []
   },
   "outputs": [
    {
     "name": "stdout",
     "output_type": "stream",
     "text": [
      "Model: \"sequential\"\n",
      "_________________________________________________________________\n",
      "Layer (type)                 Output Shape              Param #   \n",
      "=================================================================\n",
      "embedding (Embedding)        (None, None, 300)         2356800   \n",
      "_________________________________________________________________\n",
      "spatial_dropout1d (SpatialDr (None, None, 300)         0         \n",
      "_________________________________________________________________\n",
      "lstm (LSTM)                  (None, None, 300)         721200    \n",
      "_________________________________________________________________\n",
      "lstm_1 (LSTM)                (None, 300)               721200    \n",
      "_________________________________________________________________\n",
      "batch_normalization (BatchNo (None, 300)               1200      \n",
      "_________________________________________________________________\n",
      "activation (Activation)      (None, 300)               0         \n",
      "_________________________________________________________________\n",
      "dropout (Dropout)            (None, 300)               0         \n",
      "_________________________________________________________________\n",
      "dense (Dense)                (None, 5)                 1505      \n",
      "=================================================================\n",
      "Total params: 3,801,905\n",
      "Trainable params: 1,444,505\n",
      "Non-trainable params: 2,357,400\n",
      "_________________________________________________________________\n"
     ]
    }
   ],
   "source": [
    "model.summary()"
   ]
  },
  {
   "cell_type": "code",
   "execution_count": 34,
   "id": "a0501ba7",
   "metadata": {
    "execution": {
     "iopub.execute_input": "2022-06-21T07:11:59.178277Z",
     "iopub.status.busy": "2022-06-21T07:11:59.177683Z",
     "iopub.status.idle": "2022-06-21T07:12:00.252358Z",
     "shell.execute_reply": "2022-06-21T07:12:00.251435Z"
    },
    "papermill": {
     "duration": 1.099992,
     "end_time": "2022-06-21T07:12:00.254420",
     "exception": false,
     "start_time": "2022-06-21T07:11:59.154428",
     "status": "completed"
    },
    "tags": []
   },
   "outputs": [
    {
     "data": {
      "image/png": "[encoded data removed]",
      "text/plain": [
       "<IPython.core.display.Image object>"
      ]
     },
     "execution_count": 34,
     "metadata": {},
     "output_type": "execute_result"
    }
   ],
   "source": [
    "tf.keras.utils.plot_model(model, show_shapes=True, to_file='multichannel.png')"
   ]
  },
  {
   "cell_type": "code",
   "execution_count": 35,
   "id": "f0df4612",
   "metadata": {
    "execution": {
     "iopub.execute_input": "2022-06-21T07:12:00.305014Z",
     "iopub.status.busy": "2022-06-21T07:12:00.304696Z",
     "iopub.status.idle": "2022-06-21T07:25:27.566310Z",
     "shell.execute_reply": "2022-06-21T07:25:27.565464Z"
    },
    "papermill": {
     "duration": 807.289569,
     "end_time": "2022-06-21T07:25:27.568715",
     "exception": false,
     "start_time": "2022-06-21T07:12:00.279146",
     "status": "completed"
    },
    "tags": []
   },
   "outputs": [
    {
     "name": "stderr",
     "output_type": "stream",
     "text": [
      "2022-06-21 07:12:00.377649: I tensorflow/compiler/mlir/mlir_graph_optimization_pass.cc:185] None of the MLIR Optimization Passes are enabled (registered 2)\n"
     ]
    },
    {
     "name": "stdout",
     "output_type": "stream",
     "text": [
      "Epoch 1/50\n",
      " 1/50 [..............................] - ETA: 6:07 - loss: 1.9897 - accuracy: 0.2422"
     ]
    },
    {
     "name": "stderr",
     "output_type": "stream",
     "text": [
      "2022-06-21 07:12:08.132921: I tensorflow/core/profiler/lib/profiler_session.cc:131] Profiler session initializing.\n",
      "2022-06-21 07:12:08.132984: I tensorflow/core/profiler/lib/profiler_session.cc:146] Profiler session started.\n"
     ]
    },
    {
     "name": "stdout",
     "output_type": "stream",
     "text": [
      " 2/50 [>.............................] - ETA: 50s - loss: 1.9632 - accuracy: 0.2598 "
     ]
    },
    {
     "name": "stderr",
     "output_type": "stream",
     "text": [
      "2022-06-21 07:12:08.995871: I tensorflow/core/profiler/lib/profiler_session.cc:66] Profiler session collecting data.\n",
      "2022-06-21 07:12:09.004620: I tensorflow/core/profiler/internal/gpu/cupti_tracer.cc:1748] CUPTI activity buffer flushed\n",
      "2022-06-21 07:12:09.221344: I tensorflow/core/profiler/internal/gpu/cupti_collector.cc:673]  GpuTracer has collected 10150 callback api events and 10147 activity events. \n",
      "2022-06-21 07:12:09.643867: I tensorflow/core/profiler/lib/profiler_session.cc:164] Profiler session tear down.\n",
      "2022-06-21 07:12:10.121994: I tensorflow/core/profiler/rpc/client/save_profile.cc:136] Creating directory: ../../tensorboard-logs/nlp_phrase2phrase/run_2022_06_21-07_11_21/train/plugins/profile/2022_06_21_07_12_09\n",
      "\n",
      "2022-06-21 07:12:10.400009: I tensorflow/core/profiler/rpc/client/save_profile.cc:142] Dumped gzipped tool data for trace.json.gz to ../../tensorboard-logs/nlp_phrase2phrase/run_2022_06_21-07_11_21/train/plugins/profile/2022_06_21_07_12_09/e135b173123e.trace.json.gz\n",
      "2022-06-21 07:12:10.770881: I tensorflow/core/profiler/rpc/client/save_profile.cc:136] Creating directory: ../../tensorboard-logs/nlp_phrase2phrase/run_2022_06_21-07_11_21/train/plugins/profile/2022_06_21_07_12_09\n",
      "\n",
      "2022-06-21 07:12:10.789034: I tensorflow/core/profiler/rpc/client/save_profile.cc:142] Dumped gzipped tool data for memory_profile.json.gz to ../../tensorboard-logs/nlp_phrase2phrase/run_2022_06_21-07_11_21/train/plugins/profile/2022_06_21_07_12_09/e135b173123e.memory_profile.json.gz\n",
      "2022-06-21 07:12:10.796297: I tensorflow/core/profiler/rpc/client/capture_profile.cc:251] Creating directory: ../../tensorboard-logs/nlp_phrase2phrase/run_2022_06_21-07_11_21/train/plugins/profile/2022_06_21_07_12_09\n",
      "Dumped tool data for xplane.pb to ../../tensorboard-logs/nlp_phrase2phrase/run_2022_06_21-07_11_21/train/plugins/profile/2022_06_21_07_12_09/e135b173123e.xplane.pb\n",
      "Dumped tool data for overview_page.pb to ../../tensorboard-logs/nlp_phrase2phrase/run_2022_06_21-07_11_21/train/plugins/profile/2022_06_21_07_12_09/e135b173123e.overview_page.pb\n",
      "Dumped tool data for input_pipeline.pb to ../../tensorboard-logs/nlp_phrase2phrase/run_2022_06_21-07_11_21/train/plugins/profile/2022_06_21_07_12_09/e135b173123e.input_pipeline.pb\n",
      "Dumped tool data for tensorflow_stats.pb to ../../tensorboard-logs/nlp_phrase2phrase/run_2022_06_21-07_11_21/train/plugins/profile/2022_06_21_07_12_09/e135b173123e.tensorflow_stats.pb\n",
      "Dumped tool data for kernel_stats.pb to ../../tensorboard-logs/nlp_phrase2phrase/run_2022_06_21-07_11_21/train/plugins/profile/2022_06_21_07_12_09/e135b173123e.kernel_stats.pb\n",
      "\n"
     ]
    },
    {
     "name": "stdout",
     "output_type": "stream",
     "text": [
      "50/50 [==============================] - 26s 378ms/step - loss: 1.6421 - accuracy: 0.3196 - val_loss: 1.5235 - val_accuracy: 0.3640\n",
      "Epoch 2/50\n",
      "50/50 [==============================] - 14s 291ms/step - loss: 1.4434 - accuracy: 0.3573 - val_loss: 1.4999 - val_accuracy: 0.3281\n",
      "Epoch 3/50\n",
      "50/50 [==============================] - 16s 323ms/step - loss: 1.3806 - accuracy: 0.3824 - val_loss: 1.4935 - val_accuracy: 0.3258\n",
      "Epoch 4/50\n",
      "50/50 [==============================] - 14s 283ms/step - loss: 1.3574 - accuracy: 0.3945 - val_loss: 1.4785 - val_accuracy: 0.3694\n",
      "Epoch 5/50\n",
      "50/50 [==============================] - 15s 303ms/step - loss: 1.3427 - accuracy: 0.4061 - val_loss: 1.4818 - val_accuracy: 0.3515\n",
      "Epoch 6/50\n",
      "50/50 [==============================] - 14s 284ms/step - loss: 1.3282 - accuracy: 0.4177 - val_loss: 1.4625 - val_accuracy: 0.3699\n",
      "Epoch 7/50\n",
      "50/50 [==============================] - 15s 299ms/step - loss: 1.3147 - accuracy: 0.4255 - val_loss: 1.4385 - val_accuracy: 0.3950\n",
      "Epoch 8/50\n",
      "50/50 [==============================] - 15s 294ms/step - loss: 1.2970 - accuracy: 0.4369 - val_loss: 1.4115 - val_accuracy: 0.4018\n",
      "Epoch 9/50\n",
      "50/50 [==============================] - 15s 295ms/step - loss: 1.2805 - accuracy: 0.4461 - val_loss: 1.3625 - val_accuracy: 0.4047\n",
      "Epoch 10/50\n",
      "50/50 [==============================] - 14s 286ms/step - loss: 1.2630 - accuracy: 0.4609 - val_loss: 1.3538 - val_accuracy: 0.4081\n",
      "Epoch 11/50\n",
      "50/50 [==============================] - 15s 305ms/step - loss: 1.2483 - accuracy: 0.4665 - val_loss: 1.3098 - val_accuracy: 0.4352\n",
      "Epoch 12/50\n",
      "50/50 [==============================] - 15s 300ms/step - loss: 1.2194 - accuracy: 0.4779 - val_loss: 1.2815 - val_accuracy: 0.4464\n",
      "Epoch 13/50\n",
      "50/50 [==============================] - 15s 300ms/step - loss: 1.1999 - accuracy: 0.4909 - val_loss: 1.2706 - val_accuracy: 0.4568\n",
      "Epoch 14/50\n",
      "50/50 [==============================] - 14s 272ms/step - loss: 1.1779 - accuracy: 0.4998 - val_loss: 1.2831 - val_accuracy: 0.4493\n",
      "Epoch 15/50\n",
      "50/50 [==============================] - 15s 293ms/step - loss: 1.1565 - accuracy: 0.5147 - val_loss: 1.2614 - val_accuracy: 0.4652\n",
      "Epoch 16/50\n",
      "50/50 [==============================] - 14s 289ms/step - loss: 1.1333 - accuracy: 0.5248 - val_loss: 1.2975 - val_accuracy: 0.4531\n",
      "Epoch 17/50\n",
      "50/50 [==============================] - 14s 274ms/step - loss: 1.1101 - accuracy: 0.5391 - val_loss: 1.2610 - val_accuracy: 0.4687\n",
      "Epoch 18/50\n",
      "50/50 [==============================] - 15s 294ms/step - loss: 1.0773 - accuracy: 0.5502 - val_loss: 1.2322 - val_accuracy: 0.4872\n",
      "Epoch 19/50\n",
      "50/50 [==============================] - 14s 289ms/step - loss: 1.0519 - accuracy: 0.5665 - val_loss: 1.2263 - val_accuracy: 0.4989\n",
      "Epoch 20/50\n",
      "50/50 [==============================] - 15s 305ms/step - loss: 1.0341 - accuracy: 0.5725 - val_loss: 1.2073 - val_accuracy: 0.4976\n",
      "Epoch 21/50\n",
      "50/50 [==============================] - 14s 288ms/step - loss: 0.9998 - accuracy: 0.5851 - val_loss: 1.2865 - val_accuracy: 0.5009\n",
      "Epoch 22/50\n",
      "50/50 [==============================] - 15s 306ms/step - loss: 0.9734 - accuracy: 0.5984 - val_loss: 1.2073 - val_accuracy: 0.5179\n",
      "Epoch 23/50\n",
      "50/50 [==============================] - 14s 287ms/step - loss: 0.9445 - accuracy: 0.6109 - val_loss: 1.2226 - val_accuracy: 0.5217\n",
      "Epoch 24/50\n",
      "50/50 [==============================] - 16s 311ms/step - loss: 0.9163 - accuracy: 0.6246 - val_loss: 1.2014 - val_accuracy: 0.5329\n",
      "Epoch 25/50\n",
      "50/50 [==============================] - 14s 285ms/step - loss: 0.8852 - accuracy: 0.6371 - val_loss: 1.2462 - val_accuracy: 0.5262\n",
      "Epoch 26/50\n",
      "50/50 [==============================] - 15s 307ms/step - loss: 0.8631 - accuracy: 0.6497 - val_loss: 1.2667 - val_accuracy: 0.5187\n",
      "Epoch 27/50\n",
      "50/50 [==============================] - 14s 278ms/step - loss: 0.8351 - accuracy: 0.6628 - val_loss: 1.1930 - val_accuracy: 0.5384\n",
      "Epoch 28/50\n",
      "50/50 [==============================] - 15s 306ms/step - loss: 0.8073 - accuracy: 0.6730 - val_loss: 1.3079 - val_accuracy: 0.5374\n",
      "Epoch 29/50\n",
      "50/50 [==============================] - 15s 296ms/step - loss: 0.7738 - accuracy: 0.6858 - val_loss: 1.3263 - val_accuracy: 0.5482\n",
      "Epoch 30/50\n",
      "50/50 [==============================] - 14s 290ms/step - loss: 0.7485 - accuracy: 0.6999 - val_loss: 1.2690 - val_accuracy: 0.5567\n",
      "Epoch 31/50\n",
      "50/50 [==============================] - 14s 287ms/step - loss: 0.7198 - accuracy: 0.7100 - val_loss: 1.2419 - val_accuracy: 0.5588\n",
      "Epoch 32/50\n",
      "50/50 [==============================] - 14s 290ms/step - loss: 0.7103 - accuracy: 0.7126 - val_loss: 1.2266 - val_accuracy: 0.5647\n",
      "Epoch 33/50\n",
      "50/50 [==============================] - 15s 309ms/step - loss: 0.6756 - accuracy: 0.7282 - val_loss: 1.2549 - val_accuracy: 0.5617\n",
      "Epoch 34/50\n",
      "50/50 [==============================] - 14s 279ms/step - loss: 0.6520 - accuracy: 0.7375 - val_loss: 1.2494 - val_accuracy: 0.5564\n",
      "Epoch 35/50\n",
      "50/50 [==============================] - 15s 294ms/step - loss: 0.6282 - accuracy: 0.7495 - val_loss: 1.2964 - val_accuracy: 0.5638\n",
      "Epoch 36/50\n",
      "50/50 [==============================] - 15s 292ms/step - loss: 0.6065 - accuracy: 0.7574 - val_loss: 1.3895 - val_accuracy: 0.5635\n",
      "Epoch 37/50\n",
      "50/50 [==============================] - 15s 310ms/step - loss: 0.5846 - accuracy: 0.7668 - val_loss: 1.2855 - val_accuracy: 0.5634\n",
      "Epoch 38/50\n",
      "50/50 [==============================] - 14s 282ms/step - loss: 0.5651 - accuracy: 0.7728 - val_loss: 1.3381 - val_accuracy: 0.5670\n",
      "Epoch 39/50\n",
      "50/50 [==============================] - 15s 306ms/step - loss: 0.5456 - accuracy: 0.7819 - val_loss: 1.3401 - val_accuracy: 0.5760\n",
      "Epoch 40/50\n",
      "50/50 [==============================] - 15s 294ms/step - loss: 0.5227 - accuracy: 0.7939 - val_loss: 1.4202 - val_accuracy: 0.5638\n",
      "Epoch 41/50\n",
      "50/50 [==============================] - 15s 304ms/step - loss: 0.5057 - accuracy: 0.7973 - val_loss: 1.4490 - val_accuracy: 0.5711\n",
      "Epoch 42/50\n",
      "50/50 [==============================] - 15s 299ms/step - loss: 0.4909 - accuracy: 0.8098 - val_loss: 1.4949 - val_accuracy: 0.5701\n",
      "Epoch 43/50\n",
      "50/50 [==============================] - 14s 285ms/step - loss: 0.4668 - accuracy: 0.8151 - val_loss: 1.3801 - val_accuracy: 0.5774\n",
      "Epoch 44/50\n",
      "50/50 [==============================] - 15s 291ms/step - loss: 0.4519 - accuracy: 0.8210 - val_loss: 1.5050 - val_accuracy: 0.5756\n",
      "Epoch 45/50\n",
      "50/50 [==============================] - 16s 323ms/step - loss: 0.4350 - accuracy: 0.8310 - val_loss: 1.4976 - val_accuracy: 0.5737\n",
      "Epoch 46/50\n",
      "50/50 [==============================] - 14s 276ms/step - loss: 0.4250 - accuracy: 0.8344 - val_loss: 1.5871 - val_accuracy: 0.5803\n",
      "Epoch 47/50\n",
      "50/50 [==============================] - 14s 273ms/step - loss: 0.4135 - accuracy: 0.8389 - val_loss: 1.5180 - val_accuracy: 0.5685\n",
      "Epoch 48/50\n",
      "50/50 [==============================] - 14s 283ms/step - loss: 0.3924 - accuracy: 0.8474 - val_loss: 1.5392 - val_accuracy: 0.5790\n",
      "Epoch 49/50\n",
      "50/50 [==============================] - 15s 294ms/step - loss: 0.3797 - accuracy: 0.8525 - val_loss: 1.5005 - val_accuracy: 0.5730\n",
      "Epoch 50/50\n",
      "50/50 [==============================] - 14s 290ms/step - loss: 0.3703 - accuracy: 0.8540 - val_loss: 1.5724 - val_accuracy: 0.5723\n"
     ]
    }
   ],
   "source": [
    "history = model.fit(\n",
    "    np.asarray(training_content_enc),\n",
    "    np.asarray(training_labels),\n",
    "    batch_size=batch_size,      # small batch size are better but costs a lot of time\n",
    "    epochs=num_epochs,\n",
    "    validation_data=(\n",
    "        np.asarray(validating_content_enc),\n",
    "        np.asarray(validating_labels)),\n",
    "    verbose=1,\n",
    "    callbacks=[tensorboard_callback])"
   ]
  },
  {
   "cell_type": "code",
   "execution_count": 36,
   "id": "a3daf311",
   "metadata": {
    "execution": {
     "iopub.execute_input": "2022-06-21T07:25:27.929961Z",
     "iopub.status.busy": "2022-06-21T07:25:27.929611Z",
     "iopub.status.idle": "2022-06-21T07:25:27.933609Z",
     "shell.execute_reply": "2022-06-21T07:25:27.932747Z"
    },
    "papermill": {
     "duration": 0.185621,
     "end_time": "2022-06-21T07:25:27.935616",
     "exception": false,
     "start_time": "2022-06-21T07:25:27.749995",
     "status": "completed"
    },
    "tags": []
   },
   "outputs": [],
   "source": [
    "#model.save(\"LSTM_model_label_encoding_4.h5\")"
   ]
  },
  {
   "cell_type": "markdown",
   "id": "ad92333e",
   "metadata": {
    "papermill": {
     "duration": 0.22233,
     "end_time": "2022-06-21T07:25:28.339885",
     "exception": false,
     "start_time": "2022-06-21T07:25:28.117555",
     "status": "completed"
    },
    "tags": []
   },
   "source": [
    "# Second Model Development based on Deberta 🤗"
   ]
  },
  {
   "cell_type": "markdown",
   "id": "cd2fc7c7",
   "metadata": {
    "papermill": {
     "duration": 0.182525,
     "end_time": "2022-06-21T07:25:37.338297",
     "exception": false,
     "start_time": "2022-06-21T07:25:37.155772",
     "status": "completed"
    },
    "tags": []
   },
   "source": [
    "## Trying around Huggingfaces Model and Tokenizer Structure\n",
    "The following small try and errors for getting familiar with this framework is based on this huggingface documentation: https://huggingface.co/docs/transformers/glossary#:~:text=token%3A%20a%20part%20of%20a,based%20deep%20learning%20model%20architecture.\n",
    "\n",
    "And this might be interesting for the Tokenizer topic as well: https://huggingface.co/docs/transformers/preprocessing\n"
   ]
  },
  {
   "cell_type": "markdown",
   "id": "17b7bc5a",
   "metadata": {
    "papermill": {
     "duration": 0.183719,
     "end_time": "2022-06-21T07:25:37.705907",
     "exception": false,
     "start_time": "2022-06-21T07:25:37.522188",
     "status": "completed"
    },
    "tags": []
   },
   "source": [
    "### Experiments with Deberta Tokenizer (🤗)\n",
    "Converting a test sentence with doberta tokenizer"
   ]
  },
  {
   "cell_type": "code",
   "execution_count": 40,
   "id": "c1e3dc91",
   "metadata": {
    "execution": {
     "iopub.execute_input": "2022-06-21T07:25:38.115871Z",
     "iopub.status.busy": "2022-06-21T07:25:38.115515Z",
     "iopub.status.idle": "2022-06-21T07:25:38.128347Z",
     "shell.execute_reply": "2022-06-21T07:25:38.127611Z"
    },
    "papermill": {
     "duration": 0.241706,
     "end_time": "2022-06-21T07:25:38.130396",
     "exception": false,
     "start_time": "2022-06-21T07:25:37.888690",
     "status": "completed"
    },
    "tags": []
   },
   "outputs": [],
   "source": [
    "test_text_tok = tokenizer('This is a Test')"
   ]
  },
  {
   "cell_type": "markdown",
   "id": "f41b9018",
   "metadata": {
    "papermill": {
     "duration": 0.195036,
     "end_time": "2022-06-21T07:25:38.509194",
     "exception": false,
     "start_time": "2022-06-21T07:25:38.314158",
     "status": "completed"
    },
    "tags": []
   },
   "source": [
    "Printing the results"
   ]
  },
  {
   "cell_type": "code",
   "execution_count": 41,
   "id": "f15c7aad",
   "metadata": {
    "execution": {
     "iopub.execute_input": "2022-06-21T07:25:38.878970Z",
     "iopub.status.busy": "2022-06-21T07:25:38.878620Z",
     "iopub.status.idle": "2022-06-21T07:25:38.884294Z",
     "shell.execute_reply": "2022-06-21T07:25:38.883469Z"
    },
    "papermill": {
     "duration": 0.195611,
     "end_time": "2022-06-21T07:25:38.887297",
     "exception": false,
     "start_time": "2022-06-21T07:25:38.691686",
     "status": "completed"
    },
    "tags": []
   },
   "outputs": [
    {
     "data": {
      "text/plain": [
       "{'input_ids': [0, 713, 16, 10, 4500, 2], 'attention_mask': [1, 1, 1, 1, 1, 1]}"
      ]
     },
     "execution_count": 41,
     "metadata": {},
     "output_type": "execute_result"
    }
   ],
   "source": [
    "test_text_tok"
   ]
  },
  {
   "cell_type": "markdown",
   "id": "a5b8f6e0",
   "metadata": {
    "papermill": {
     "duration": 0.182095,
     "end_time": "2022-06-21T07:25:39.252928",
     "exception": false,
     "start_time": "2022-06-21T07:25:39.070833",
     "status": "completed"
    },
    "tags": []
   },
   "source": [
    "Printing the encoded results of the test sentence"
   ]
  },
  {
   "cell_type": "code",
   "execution_count": 42,
   "id": "bf22e459",
   "metadata": {
    "execution": {
     "iopub.execute_input": "2022-06-21T07:25:39.615599Z",
     "iopub.status.busy": "2022-06-21T07:25:39.615194Z",
     "iopub.status.idle": "2022-06-21T07:25:39.620925Z",
     "shell.execute_reply": "2022-06-21T07:25:39.619997Z"
    },
    "papermill": {
     "duration": 0.188764,
     "end_time": "2022-06-21T07:25:39.622908",
     "exception": false,
     "start_time": "2022-06-21T07:25:39.434144",
     "status": "completed"
    },
    "tags": []
   },
   "outputs": [
    {
     "data": {
      "text/plain": [
       "[0, 713, 16, 10, 4500, 2]"
      ]
     },
     "execution_count": 42,
     "metadata": {},
     "output_type": "execute_result"
    }
   ],
   "source": [
    "test_text_tok[\"input_ids\"]"
   ]
  },
  {
   "cell_type": "markdown",
   "id": "ec51941d",
   "metadata": {
    "papermill": {
     "duration": 0.180495,
     "end_time": "2022-06-21T07:25:39.985135",
     "exception": false,
     "start_time": "2022-06-21T07:25:39.804640",
     "status": "completed"
    },
    "tags": []
   },
   "source": [
    "Decoding the encoded test sentence back to its original form"
   ]
  },
  {
   "cell_type": "code",
   "execution_count": 43,
   "id": "7358c3b7",
   "metadata": {
    "execution": {
     "iopub.execute_input": "2022-06-21T07:25:40.468983Z",
     "iopub.status.busy": "2022-06-21T07:25:40.468505Z",
     "iopub.status.idle": "2022-06-21T07:25:41.674974Z",
     "shell.execute_reply": "2022-06-21T07:25:41.674178Z"
    },
    "papermill": {
     "duration": 1.507657,
     "end_time": "2022-06-21T07:25:41.676842",
     "exception": false,
     "start_time": "2022-06-21T07:25:40.169185",
     "status": "completed"
    },
    "tags": []
   },
   "outputs": [
    {
     "data": {
      "text/plain": [
       "'<s>This is a Test</s>'"
      ]
     },
     "execution_count": 43,
     "metadata": {},
     "output_type": "execute_result"
    }
   ],
   "source": [
    "tokenizer.decode(test_text_tok[\"input_ids\"])"
   ]
  },
  {
   "cell_type": "markdown",
   "id": "4a94a529",
   "metadata": {
    "papermill": {
     "duration": 0.179856,
     "end_time": "2022-06-21T07:25:42.039171",
     "exception": false,
     "start_time": "2022-06-21T07:25:41.859315",
     "status": "completed"
    },
    "tags": []
   },
   "source": [
    "#### Attention Mask"
   ]
  },
  {
   "cell_type": "code",
   "execution_count": 44,
   "id": "8d23bff4",
   "metadata": {
    "execution": {
     "iopub.execute_input": "2022-06-21T07:25:42.423462Z",
     "iopub.status.busy": "2022-06-21T07:25:42.422180Z",
     "iopub.status.idle": "2022-06-21T07:25:42.427236Z",
     "shell.execute_reply": "2022-06-21T07:25:42.426367Z"
    },
    "papermill": {
     "duration": 0.207232,
     "end_time": "2022-06-21T07:25:42.429218",
     "exception": false,
     "start_time": "2022-06-21T07:25:42.221986",
     "status": "completed"
    },
    "tags": []
   },
   "outputs": [],
   "source": [
    "sentence_a = \"This is a test\"\n",
    "sentence_b = \"This is a test as well but its longer, much longer, longer than any other test could be\""
   ]
  },
  {
   "cell_type": "markdown",
   "id": "d85ee836",
   "metadata": {
    "papermill": {
     "duration": 0.182004,
     "end_time": "2022-06-21T07:25:42.792464",
     "exception": false,
     "start_time": "2022-06-21T07:25:42.610460",
     "status": "completed"
    },
    "tags": []
   },
   "source": [
    "Encoding both sentences and retrieving the ids only"
   ]
  },
  {
   "cell_type": "code",
   "execution_count": 45,
   "id": "49b94d6f",
   "metadata": {
    "execution": {
     "iopub.execute_input": "2022-06-21T07:25:43.158109Z",
     "iopub.status.busy": "2022-06-21T07:25:43.157341Z",
     "iopub.status.idle": "2022-06-21T07:25:43.163613Z",
     "shell.execute_reply": "2022-06-21T07:25:43.162767Z"
    },
    "papermill": {
     "duration": 0.190676,
     "end_time": "2022-06-21T07:25:43.165567",
     "exception": false,
     "start_time": "2022-06-21T07:25:42.974891",
     "status": "completed"
    },
    "tags": []
   },
   "outputs": [
    {
     "name": "stdout",
     "output_type": "stream",
     "text": [
      "sentence a encoded: [0, 713, 16, 10, 1296, 2]\n",
      "sentence b encoded: [0, 713, 16, 10, 1296, 25, 157, 53, 63, 1181, 6, 203, 1181, 6, 1181, 87, 143, 97, 1296, 115, 28, 2]\n"
     ]
    }
   ],
   "source": [
    "encoded_sen_a = tokenizer(sentence_a)[\"input_ids\"]\n",
    "encoded_sen_b = tokenizer(sentence_b)[\"input_ids\"]\n",
    "\n",
    "print(f'sentence a encoded: {encoded_sen_a}')\n",
    "print(f'sentence b encoded: {encoded_sen_b}')"
   ]
  },
  {
   "cell_type": "markdown",
   "id": "51ad15b4",
   "metadata": {
    "papermill": {
     "duration": 0.298956,
     "end_time": "2022-06-21T07:25:43.719843",
     "exception": false,
     "start_time": "2022-06-21T07:25:43.420887",
     "status": "completed"
    },
    "tags": []
   },
   "source": [
    "Once again tokenizing the sentences but with padding activated"
   ]
  },
  {
   "cell_type": "code",
   "execution_count": 46,
   "id": "57231043",
   "metadata": {
    "execution": {
     "iopub.execute_input": "2022-06-21T07:25:44.178968Z",
     "iopub.status.busy": "2022-06-21T07:25:44.178614Z",
     "iopub.status.idle": "2022-06-21T07:25:44.184697Z",
     "shell.execute_reply": "2022-06-21T07:25:44.183946Z"
    },
    "papermill": {
     "duration": 0.234206,
     "end_time": "2022-06-21T07:25:44.186510",
     "exception": false,
     "start_time": "2022-06-21T07:25:43.952304",
     "status": "completed"
    },
    "tags": []
   },
   "outputs": [
    {
     "name": "stdout",
     "output_type": "stream",
     "text": [
      "Sentences encoded: [[0, 713, 16, 10, 1296, 2, 1, 1, 1, 1, 1, 1, 1, 1, 1, 1, 1, 1, 1, 1, 1, 1], [0, 713, 16, 10, 1296, 25, 157, 53, 63, 1181, 6, 203, 1181, 6, 1181, 87, 143, 97, 1296, 115, 28, 2]]\n",
      "Sentences att.msk: [[1, 1, 1, 1, 1, 1, 0, 0, 0, 0, 0, 0, 0, 0, 0, 0, 0, 0, 0, 0, 0, 0], [1, 1, 1, 1, 1, 1, 1, 1, 1, 1, 1, 1, 1, 1, 1, 1, 1, 1, 1, 1, 1, 1]]\n"
     ]
    }
   ],
   "source": [
    "padded_sentences = tokenizer([sentence_a, sentence_b], padding=True)\n",
    "\n",
    "print(f'Sentences encoded: {padded_sentences[\"input_ids\"]}')\n",
    "print(f'Sentences att.msk: {padded_sentences[\"attention_mask\"]}')"
   ]
  },
  {
   "cell_type": "markdown",
   "id": "40db6bbe",
   "metadata": {
    "papermill": {
     "duration": 0.181386,
     "end_time": "2022-06-21T07:25:44.549709",
     "exception": false,
     "start_time": "2022-06-21T07:25:44.368323",
     "status": "completed"
    },
    "tags": []
   },
   "source": [
    "### Processing the Data for Roberta Model"
   ]
  },
  {
   "cell_type": "code",
   "execution_count": 47,
   "id": "02d2ee2a",
   "metadata": {
    "execution": {
     "iopub.execute_input": "2022-06-21T07:25:44.913375Z",
     "iopub.status.busy": "2022-06-21T07:25:44.913021Z",
     "iopub.status.idle": "2022-06-21T07:25:47.278334Z",
     "shell.execute_reply": "2022-06-21T07:25:47.277381Z"
    },
    "papermill": {
     "duration": 2.549706,
     "end_time": "2022-06-21T07:25:47.280698",
     "exception": false,
     "start_time": "2022-06-21T07:25:44.730992",
     "status": "completed"
    },
    "tags": []
   },
   "outputs": [
    {
     "name": "stderr",
     "output_type": "stream",
     "text": [
      "Asking to truncate to max_length but no maximum length is provided and the model has no predefined maximum length. Default to no truncation.\n"
     ]
    },
    {
     "name": "stdout",
     "output_type": "stream",
     "text": [
      "Maximum sentence length is: 127\n"
     ]
    }
   ],
   "source": [
    "MAX_LINE_LENGTH_BERT = len(tokenizer(X_train['corpus_w_full_context'].tolist(), padding=True, truncation=True, return_tensors=\"tf\")[1])\n",
    "print(f\"Maximum sentence length is: {MAX_LINE_LENGTH_BERT}\")"
   ]
  },
  {
   "cell_type": "code",
   "execution_count": 48,
   "id": "ebc84b84",
   "metadata": {
    "execution": {
     "iopub.execute_input": "2022-06-21T07:25:47.651678Z",
     "iopub.status.busy": "2022-06-21T07:25:47.649922Z",
     "iopub.status.idle": "2022-06-21T07:25:47.655710Z",
     "shell.execute_reply": "2022-06-21T07:25:47.654938Z"
    },
    "papermill": {
     "duration": 0.192756,
     "end_time": "2022-06-21T07:25:47.657343",
     "exception": false,
     "start_time": "2022-06-21T07:25:47.464587",
     "status": "completed"
    },
    "tags": []
   },
   "outputs": [],
   "source": [
    "def preprocess_function(examples):\n",
    "    return tokenizer(examples['corpus_w_full_context'].tolist(), padding='max_length', truncation=True, return_tensors=\"tf\", max_length=MAX_LINE_LENGTH_BERT)"
   ]
  },
  {
   "cell_type": "code",
   "execution_count": 49,
   "id": "d19cac5d",
   "metadata": {
    "execution": {
     "iopub.execute_input": "2022-06-21T07:25:48.025218Z",
     "iopub.status.busy": "2022-06-21T07:25:48.024440Z",
     "iopub.status.idle": "2022-06-21T07:25:51.034301Z",
     "shell.execute_reply": "2022-06-21T07:25:51.032692Z"
    },
    "papermill": {
     "duration": 3.194891,
     "end_time": "2022-06-21T07:25:51.036140",
     "exception": false,
     "start_time": "2022-06-21T07:25:47.841249",
     "status": "completed"
    },
    "tags": []
   },
   "outputs": [
    {
     "name": "stdout",
     "output_type": "stream",
     "text": [
      "Length of the train-sentences [padded]: 127\n",
      "Length of the val-sentences [padded]: 127\n"
     ]
    }
   ],
   "source": [
    "#X_train.map(preprocess_function, batched=True)\n",
    "train_encoded = preprocess_function(X_train)\n",
    "val_encoded = preprocess_function(X_val)\n",
    "\n",
    "print(f'Length of the train-sentences [padded]: {train_encoded[\"input_ids\"].shape[1]}')\n",
    "print(f'Length of the val-sentences [padded]: {val_encoded[\"input_ids\"].shape[1]}')"
   ]
  },
  {
   "cell_type": "code",
   "execution_count": null,
   "id": "4f16509c",
   "metadata": {},
   "outputs": [],
   "source": []
  },
  {
   "cell_type": "code",
   "execution_count": null,
   "id": "69f2f3c7",
   "metadata": {},
   "outputs": [],
   "source": []
  },
  {
   "cell_type": "code",
   "execution_count": null,
   "id": "65349e7f",
   "metadata": {},
   "outputs": [],
   "source": []
  },
  {
   "cell_type": "code",
   "execution_count": null,
   "id": "3270d3d1",
   "metadata": {},
   "outputs": [],
   "source": []
  },
  {
   "cell_type": "code",
   "execution_count": null,
   "id": "3d8b5233",
   "metadata": {},
   "outputs": [],
   "source": []
  },
  {
   "cell_type": "markdown",
   "id": "54853c4a",
   "metadata": {
    "papermill": {
     "duration": 0.185469,
     "end_time": "2022-06-21T07:25:59.005744",
     "exception": false,
     "start_time": "2022-06-21T07:25:58.820275",
     "status": "completed"
    },
    "tags": []
   },
   "source": [
    "### Model Fit"
   ]
  },
  {
   "cell_type": "code",
   "execution_count": 54,
   "id": "dd690451",
   "metadata": {
    "execution": {
     "iopub.execute_input": "2022-06-21T07:25:59.411126Z",
     "iopub.status.busy": "2022-06-21T07:25:59.410773Z",
     "iopub.status.idle": "2022-06-21T08:13:45.952776Z",
     "shell.execute_reply": "2022-06-21T08:13:45.951922Z"
    },
    "papermill": {
     "duration": 2866.726383,
     "end_time": "2022-06-21T08:13:45.954993",
     "exception": false,
     "start_time": "2022-06-21T07:25:59.228610",
     "status": "completed"
    },
    "tags": []
   },
   "outputs": [
    {
     "name": "stdout",
     "output_type": "stream",
     "text": [
      "Epoch 1/5\n",
      "   1/1596 [..............................] - ETA: 11:11:19 - loss: 2.2024 - accuracy: 0.2500"
     ]
    },
    {
     "name": "stderr",
     "output_type": "stream",
     "text": [
      "2022-06-21 07:26:25.360399: I tensorflow/core/profiler/lib/profiler_session.cc:131] Profiler session initializing.\n",
      "2022-06-21 07:26:25.360466: I tensorflow/core/profiler/lib/profiler_session.cc:146] Profiler session started.\n"
     ]
    },
    {
     "name": "stdout",
     "output_type": "stream",
     "text": [
      "   2/1596 [..............................] - ETA: 38:14 - loss: 1.8822 - accuracy: 0.2812   "
     ]
    },
    {
     "name": "stderr",
     "output_type": "stream",
     "text": [
      "2022-06-21 07:26:27.528726: I tensorflow/core/profiler/lib/profiler_session.cc:66] Profiler session collecting data.\n",
      "2022-06-21 07:26:27.541542: I tensorflow/core/profiler/internal/gpu/cupti_tracer.cc:1748] CUPTI activity buffer flushed\n",
      "2022-06-21 07:26:27.763945: I tensorflow/core/profiler/internal/gpu/cupti_collector.cc:673]  GpuTracer has collected 6331 callback api events and 6328 activity events. \n",
      "2022-06-21 07:26:27.917951: I tensorflow/core/profiler/lib/profiler_session.cc:164] Profiler session tear down.\n",
      "2022-06-21 07:26:28.163498: I tensorflow/core/profiler/rpc/client/save_profile.cc:136] Creating directory: ../../tensorboard-logs/nlp_phrase2phrase_roberta/run_2022_06_21-07_11_21/train/plugins/profile/2022_06_21_07_26_27\n",
      "\n",
      "2022-06-21 07:26:28.279422: I tensorflow/core/profiler/rpc/client/save_profile.cc:142] Dumped gzipped tool data for trace.json.gz to ../../tensorboard-logs/nlp_phrase2phrase_roberta/run_2022_06_21-07_11_21/train/plugins/profile/2022_06_21_07_26_27/e135b173123e.trace.json.gz\n",
      "2022-06-21 07:26:28.545005: I tensorflow/core/profiler/rpc/client/save_profile.cc:136] Creating directory: ../../tensorboard-logs/nlp_phrase2phrase_roberta/run_2022_06_21-07_11_21/train/plugins/profile/2022_06_21_07_26_27\n",
      "\n",
      "2022-06-21 07:26:28.556545: I tensorflow/core/profiler/rpc/client/save_profile.cc:142] Dumped gzipped tool data for memory_profile.json.gz to ../../tensorboard-logs/nlp_phrase2phrase_roberta/run_2022_06_21-07_11_21/train/plugins/profile/2022_06_21_07_26_27/e135b173123e.memory_profile.json.gz\n",
      "2022-06-21 07:26:28.568861: I tensorflow/core/profiler/rpc/client/capture_profile.cc:251] Creating directory: ../../tensorboard-logs/nlp_phrase2phrase_roberta/run_2022_06_21-07_11_21/train/plugins/profile/2022_06_21_07_26_27\n",
      "Dumped tool data for xplane.pb to ../../tensorboard-logs/nlp_phrase2phrase_roberta/run_2022_06_21-07_11_21/train/plugins/profile/2022_06_21_07_26_27/e135b173123e.xplane.pb\n",
      "Dumped tool data for overview_page.pb to ../../tensorboard-logs/nlp_phrase2phrase_roberta/run_2022_06_21-07_11_21/train/plugins/profile/2022_06_21_07_26_27/e135b173123e.overview_page.pb\n",
      "Dumped tool data for input_pipeline.pb to ../../tensorboard-logs/nlp_phrase2phrase_roberta/run_2022_06_21-07_11_21/train/plugins/profile/2022_06_21_07_26_27/e135b173123e.input_pipeline.pb\n",
      "Dumped tool data for tensorflow_stats.pb to ../../tensorboard-logs/nlp_phrase2phrase_roberta/run_2022_06_21-07_11_21/train/plugins/profile/2022_06_21_07_26_27/e135b173123e.tensorflow_stats.pb\n",
      "Dumped tool data for kernel_stats.pb to ../../tensorboard-logs/nlp_phrase2phrase_roberta/run_2022_06_21-07_11_21/train/plugins/profile/2022_06_21_07_26_27/e135b173123e.kernel_stats.pb\n",
      "\n"
     ]
    },
    {
     "name": "stdout",
     "output_type": "stream",
     "text": [
      "1596/1596 [==============================] - 578s 347ms/step - loss: 1.5361 - accuracy: 0.3089 - val_loss: 1.4040 - val_accuracy: 0.3586\n"
     ]
    },
    {
     "name": "stderr",
     "output_type": "stream",
     "text": [
      "2022-06-21 07:35:46.887727: W tensorflow/core/framework/cpu_allocator_impl.cc:80] Allocation of 4632422400 exceeds 10% of free system memory.\n"
     ]
    },
    {
     "name": "stdout",
     "output_type": "stream",
     "text": [
      "Epoch 2/5\n",
      "1596/1596 [==============================] - 546s 342ms/step - loss: 1.2417 - accuracy: 0.4685 - val_loss: 1.0323 - val_accuracy: 0.5801\n"
     ]
    },
    {
     "name": "stderr",
     "output_type": "stream",
     "text": [
      "2022-06-21 07:45:12.148124: W tensorflow/core/framework/cpu_allocator_impl.cc:80] Allocation of 4632422400 exceeds 10% of free system memory.\n"
     ]
    },
    {
     "name": "stdout",
     "output_type": "stream",
     "text": [
      "Epoch 3/5\n",
      "1596/1596 [==============================] - 544s 341ms/step - loss: 1.0364 - accuracy: 0.5710 - val_loss: 0.9435 - val_accuracy: 0.6201\n"
     ]
    },
    {
     "name": "stderr",
     "output_type": "stream",
     "text": [
      "2022-06-21 07:54:32.973025: W tensorflow/core/framework/cpu_allocator_impl.cc:80] Allocation of 4632422400 exceeds 10% of free system memory.\n"
     ]
    },
    {
     "name": "stdout",
     "output_type": "stream",
     "text": [
      "Epoch 4/5\n",
      "1596/1596 [==============================] - 546s 342ms/step - loss: 0.9626 - accuracy: 0.6065 - val_loss: 0.9301 - val_accuracy: 0.6278\n"
     ]
    },
    {
     "name": "stderr",
     "output_type": "stream",
     "text": [
      "2022-06-21 08:03:57.655724: W tensorflow/core/framework/cpu_allocator_impl.cc:80] Allocation of 4632422400 exceeds 10% of free system memory.\n"
     ]
    },
    {
     "name": "stdout",
     "output_type": "stream",
     "text": [
      "Epoch 5/5\n",
      "1596/1596 [==============================] - 546s 342ms/step - loss: 0.9139 - accuracy: 0.6250 - val_loss: 0.9118 - val_accuracy: 0.6364\n"
     ]
    },
    {
     "name": "stderr",
     "output_type": "stream",
     "text": [
      "2022-06-21 08:13:19.987625: W tensorflow/core/framework/cpu_allocator_impl.cc:80] Allocation of 4632422400 exceeds 10% of free system memory.\n"
     ]
    }
   ],
   "source": [
    "history_model2 = model2.fit(x=(np.asarray(train_encoded['input_ids']),\n",
    "                                np.asarray(train_encoded['attention_mask'])\n",
    "                                ),\n",
    "                                y=np.asarray(training_labels).ravel(),\n",
    "                                validation_data=((np.asarray(val_encoded['input_ids']),\n",
    "                                                  np.asarray(val_encoded['attention_mask'])),\n",
    "                                                np.asarray(validating_labels)\n",
    "                                                ),\n",
    "                                epochs=num_epochs_roberta,\n",
    "                                batch_size=batch_size_roberta,\n",
    "                                callbacks =[tensorboard_callback_roberta,\n",
    "                                            lr_callback_roberta,\n",
    "                                            checkpoint_cb_roberta,\n",
    "                                            earlystopping_roberta]) #lr_callback rlrop"
   ]
  },
  {
   "cell_type": "code",
   "execution_count": 55,
   "id": "5a621610",
   "metadata": {
    "execution": {
     "iopub.execute_input": "2022-06-21T08:13:47.386894Z",
     "iopub.status.busy": "2022-06-21T08:13:47.386235Z",
     "iopub.status.idle": "2022-06-21T08:13:50.574423Z",
     "shell.execute_reply": "2022-06-21T08:13:50.573460Z"
    },
    "papermill": {
     "duration": 3.872796,
     "end_time": "2022-06-21T08:13:50.577719",
     "exception": false,
     "start_time": "2022-06-21T08:13:46.704923",
     "status": "completed"
    },
    "tags": []
   },
   "outputs": [],
   "source": [
    "model2.save(\"roberta_trained_10_epochs_specialtokens.h5\")"
   ]
  },
  {
   "cell_type": "code",
   "execution_count": 56,
   "id": "1bf7d965",
   "metadata": {
    "execution": {
     "iopub.execute_input": "2022-06-21T08:13:52.405397Z",
     "iopub.status.busy": "2022-06-21T08:13:52.405048Z",
     "iopub.status.idle": "2022-06-21T08:13:52.408989Z",
     "shell.execute_reply": "2022-06-21T08:13:52.408184Z"
    },
    "papermill": {
     "duration": 0.810834,
     "end_time": "2022-06-21T08:13:52.410861",
     "exception": false,
     "start_time": "2022-06-21T08:13:51.600027",
     "status": "completed"
    },
    "tags": []
   },
   "outputs": [],
   "source": [
    "#from keras.models import load_model\n",
    "# Or load the saved model from the callback : deberta_trained_model.h5\n",
    "# model2.load_weights('deberta_trained_model.h5') #deberta_trained_10_epochs_decay_lr_1 # deberta_trained_3_epochs_decay_lr"
   ]
  },
  {
   "cell_type": "markdown",
   "id": "8c09e4f4",
   "metadata": {
    "papermill": {
     "duration": 0.689944,
     "end_time": "2022-06-21T08:13:56.126043",
     "exception": false,
     "start_time": "2022-06-21T08:13:55.436099",
     "status": "completed"
    },
    "tags": []
   },
   "source": [
    "# Evaluation"
   ]
  },
  {
   "cell_type": "markdown",
   "id": "75d9656b",
   "metadata": {
    "papermill": {
     "duration": 0.691231,
     "end_time": "2022-06-21T08:13:57.814744",
     "exception": false,
     "start_time": "2022-06-21T08:13:57.123513",
     "status": "completed"
    },
    "tags": []
   },
   "source": [
    "## Test with all Validation Data [Glove]"
   ]
  },
  {
   "cell_type": "code",
   "execution_count": 57,
   "id": "b25ea8c0",
   "metadata": {
    "execution": {
     "iopub.execute_input": "2022-06-21T08:13:59.276301Z",
     "iopub.status.busy": "2022-06-21T08:13:59.275750Z",
     "iopub.status.idle": "2022-06-21T08:14:06.139908Z",
     "shell.execute_reply": "2022-06-21T08:14:06.138994Z"
    },
    "papermill": {
     "duration": 7.580358,
     "end_time": "2022-06-21T08:14:06.141950",
     "exception": false,
     "start_time": "2022-06-21T08:13:58.561592",
     "status": "completed"
    },
    "tags": []
   },
   "outputs": [
    {
     "name": "stdout",
     "output_type": "stream",
     "text": [
      "Models validation loss: 1.5723557472229004 - Models validation accuracy: 0.5722902417182922\n"
     ]
    }
   ],
   "source": [
    "evaluation_glove = model.evaluate(np.asarray(validating_content_enc),\n",
    "                             np.asarray(validating_labels), verbose=0)\n",
    "    \n",
    "print(f'Models validation loss: {evaluation_glove[0]} - Models validation accuracy: {evaluation_glove[1]}')"
   ]
  },
  {
   "cell_type": "markdown",
   "id": "4be07519",
   "metadata": {
    "papermill": {
     "duration": 0.917923,
     "end_time": "2022-06-21T08:14:07.812078",
     "exception": false,
     "start_time": "2022-06-21T08:14:06.894155",
     "status": "completed"
    },
    "tags": []
   },
   "source": [
    "#### Accuracy Curve"
   ]
  },
  {
   "cell_type": "code",
   "execution_count": 58,
   "id": "f6cacd70",
   "metadata": {
    "execution": {
     "iopub.execute_input": "2022-06-21T08:14:09.256345Z",
     "iopub.status.busy": "2022-06-21T08:14:09.255996Z",
     "iopub.status.idle": "2022-06-21T08:14:09.452218Z",
     "shell.execute_reply": "2022-06-21T08:14:09.451420Z"
    },
    "papermill": {
     "duration": 0.889041,
     "end_time": "2022-06-21T08:14:09.454960",
     "exception": false,
     "start_time": "2022-06-21T08:14:08.565919",
     "status": "completed"
    },
    "tags": []
   },
   "outputs": [
    {
     "data": {
      "text/plain": [
       "Text(0.5, 1.0, 'lrate=8e-07')"
      ]
     },
     "execution_count": 58,
     "metadata": {},
     "output_type": "execute_result"
    },
    {
     "data": {
      "image/png": "[encoded data removed]",
      "text/plain": [
       "<Figure size 432x288 with 1 Axes>"
      ]
     },
     "metadata": {
      "needs_background": "light"
     },
     "output_type": "display_data"
    }
   ],
   "source": [
    "plt.plot(history.history['accuracy'], label='train')\n",
    "plt.plot(history.history['val_accuracy'], label='test')\n",
    "plt.title('lrate='+str(lr), pad=-50)"
   ]
  },
  {
   "cell_type": "markdown",
   "id": "a002ce5f",
   "metadata": {
    "papermill": {
     "duration": 0.742095,
     "end_time": "2022-06-21T08:14:10.938265",
     "exception": false,
     "start_time": "2022-06-21T08:14:10.196170",
     "status": "completed"
    },
    "tags": []
   },
   "source": [
    "#### Loss Curve"
   ]
  },
  {
   "cell_type": "code",
   "execution_count": 59,
   "id": "391c613c",
   "metadata": {
    "execution": {
     "iopub.execute_input": "2022-06-21T08:14:12.318423Z",
     "iopub.status.busy": "2022-06-21T08:14:12.318001Z",
     "iopub.status.idle": "2022-06-21T08:14:12.501997Z",
     "shell.execute_reply": "2022-06-21T08:14:12.501251Z"
    },
    "papermill": {
     "duration": 0.871629,
     "end_time": "2022-06-21T08:14:12.503796",
     "exception": false,
     "start_time": "2022-06-21T08:14:11.632167",
     "status": "completed"
    },
    "tags": []
   },
   "outputs": [
    {
     "data": {
      "text/plain": [
       "[<matplotlib.lines.Line2D at 0x7fb796777c10>]"
      ]
     },
     "execution_count": 59,
     "metadata": {},
     "output_type": "execute_result"
    },
    {
     "data": {
      "image/png": "[encoded data removed]",
      "text/plain": [
       "<Figure size 432x288 with 1 Axes>"
      ]
     },
     "metadata": {
      "needs_background": "light"
     },
     "output_type": "display_data"
    }
   ],
   "source": [
    "plt.plot(history.history['loss'])\n",
    "plt.plot(history.history['val_loss'])"
   ]
  },
  {
   "cell_type": "markdown",
   "id": "a3883a3c",
   "metadata": {
    "papermill": {
     "duration": 0.678807,
     "end_time": "2022-06-21T08:14:13.926736",
     "exception": false,
     "start_time": "2022-06-21T08:14:13.247929",
     "status": "completed"
    },
    "tags": []
   },
   "source": [
    "## Test with all Validation Data [Roberta]"
   ]
  },
  {
   "cell_type": "code",
   "execution_count": 60,
   "id": "c54c63b3",
   "metadata": {
    "execution": {
     "iopub.execute_input": "2022-06-21T08:14:15.364562Z",
     "iopub.status.busy": "2022-06-21T08:14:15.364174Z",
     "iopub.status.idle": "2022-06-21T08:15:12.149863Z",
     "shell.execute_reply": "2022-06-21T08:15:12.145695Z"
    },
    "papermill": {
     "duration": 58.226502,
     "end_time": "2022-06-21T08:15:12.837863",
     "exception": false,
     "start_time": "2022-06-21T08:14:14.611361",
     "status": "completed"
    },
    "tags": []
   },
   "outputs": [
    {
     "name": "stdout",
     "output_type": "stream",
     "text": [
      "Models validation loss: 0.9118158221244812 - Models validation accuracy: 0.6363553404808044\n"
     ]
    }
   ],
   "source": [
    "evaluation_roberta = model2.evaluate((np.asarray(val_encoded['input_ids']),\n",
    "                              np.asarray(val_encoded['attention_mask']),\n",
    "                             ),\n",
    "                             validating_labels, verbose=0)\n",
    "\n",
    "print(f'Models validation loss: {evaluation_roberta[0]} - Models validation accuracy: {evaluation_roberta[1]}')"
   ]
  },
  {
   "cell_type": "markdown",
   "id": "bcb2a433",
   "metadata": {
    "papermill": {
     "duration": 0.789984,
     "end_time": "2022-06-21T08:15:14.507616",
     "exception": false,
     "start_time": "2022-06-21T08:15:13.717632",
     "status": "completed"
    },
    "tags": []
   },
   "source": [
    "#### Accuracy Curve"
   ]
  },
  {
   "cell_type": "code",
   "execution_count": 61,
   "id": "283a4d9f",
   "metadata": {
    "execution": {
     "iopub.execute_input": "2022-06-21T08:15:15.904582Z",
     "iopub.status.busy": "2022-06-21T08:15:15.904197Z",
     "iopub.status.idle": "2022-06-21T08:15:16.130342Z",
     "shell.execute_reply": "2022-06-21T08:15:16.129480Z"
    },
    "papermill": {
     "duration": 0.915594,
     "end_time": "2022-06-21T08:15:16.132171",
     "exception": false,
     "start_time": "2022-06-21T08:15:15.216577",
     "status": "completed"
    },
    "tags": []
   },
   "outputs": [
    {
     "data": {
      "text/plain": [
       "Text(0.5, 1.0, 'lrate=8e-07')"
      ]
     },
     "execution_count": 61,
     "metadata": {},
     "output_type": "execute_result"
    },
    {
     "data": {
      "image/png": "[encoded data removed]",
      "text/plain": [
       "<Figure size 432x288 with 1 Axes>"
      ]
     },
     "metadata": {
      "needs_background": "light"
     },
     "output_type": "display_data"
    }
   ],
   "source": [
    "plt.plot(history_model2.history['accuracy'], label='train')\n",
    "plt.plot(history_model2.history['val_accuracy'], label='test')\n",
    "plt.title('lrate='+str(lr), pad=-50)"
   ]
  },
  {
   "cell_type": "markdown",
   "id": "65edb6f1",
   "metadata": {
    "papermill": {
     "duration": 0.682035,
     "end_time": "2022-06-21T08:15:17.607002",
     "exception": false,
     "start_time": "2022-06-21T08:15:16.924967",
     "status": "completed"
    },
    "tags": []
   },
   "source": [
    "#### Loss Curve"
   ]
  },
  {
   "cell_type": "code",
   "execution_count": 62,
   "id": "cc6eadfd",
   "metadata": {
    "execution": {
     "iopub.execute_input": "2022-06-21T08:15:19.066127Z",
     "iopub.status.busy": "2022-06-21T08:15:19.065320Z",
     "iopub.status.idle": "2022-06-21T08:15:19.261668Z",
     "shell.execute_reply": "2022-06-21T08:15:19.260820Z"
    },
    "papermill": {
     "duration": 0.896119,
     "end_time": "2022-06-21T08:15:19.263730",
     "exception": false,
     "start_time": "2022-06-21T08:15:18.367611",
     "status": "completed"
    },
    "tags": []
   },
   "outputs": [
    {
     "data": {
      "text/plain": [
       "[<matplotlib.lines.Line2D at 0x7fb7966d70d0>]"
      ]
     },
     "execution_count": 62,
     "metadata": {},
     "output_type": "execute_result"
    },
    {
     "data": {
      "image/png": "[encoded data removed]",
      "text/plain": [
       "<Figure size 432x288 with 1 Axes>"
      ]
     },
     "metadata": {
      "needs_background": "light"
     },
     "output_type": "display_data"
    }
   ],
   "source": [
    "plt.plot(history_model2.history['loss'])\n",
    "plt.plot(history_model2.history['val_loss'])"
   ]
  },
  {
   "cell_type": "markdown",
   "id": "b9961750",
   "metadata": {
    "papermill": {
     "duration": 0.742733,
     "end_time": "2022-06-21T08:15:20.699473",
     "exception": false,
     "start_time": "2022-06-21T08:15:19.956740",
     "status": "completed"
    },
    "tags": []
   },
   "source": [
    "# Submission File"
   ]
  },
  {
   "cell_type": "markdown",
   "id": "36782573",
   "metadata": {
    "papermill": {
     "duration": 0.749132,
     "end_time": "2022-06-21T08:15:22.150926",
     "exception": false,
     "start_time": "2022-06-21T08:15:21.401794",
     "status": "completed"
    },
    "tags": []
   },
   "source": [
    "## Training on all Data"
   ]
  },
  {
   "cell_type": "markdown",
   "id": "faa639c3",
   "metadata": {
    "papermill": {
     "duration": 0.691666,
     "end_time": "2022-06-21T08:15:23.526545",
     "exception": false,
     "start_time": "2022-06-21T08:15:22.834879",
     "status": "completed"
    },
    "tags": []
   },
   "source": [
    "## Prediction of Test File Values"
   ]
  },
  {
   "cell_type": "code",
   "execution_count": 63,
   "id": "de148d85",
   "metadata": {
    "execution": {
     "iopub.execute_input": "2022-06-21T08:15:25.236203Z",
     "iopub.status.busy": "2022-06-21T08:15:25.235857Z",
     "iopub.status.idle": "2022-06-21T08:15:25.251930Z",
     "shell.execute_reply": "2022-06-21T08:15:25.251103Z"
    },
    "papermill": {
     "duration": 0.944517,
     "end_time": "2022-06-21T08:15:25.253826",
     "exception": false,
     "start_time": "2022-06-21T08:15:24.309309",
     "status": "completed"
    },
    "tags": []
   },
   "outputs": [],
   "source": [
    "#competition_file = pd.DataFrame(columns=['score'])\n",
    "competition_file = pd.read_csv(PHRASES_PATH + \"/sample_submission.csv\")"
   ]
  },
  {
   "cell_type": "code",
   "execution_count": 64,
   "id": "598426b2",
   "metadata": {
    "execution": {
     "iopub.execute_input": "2022-06-21T08:15:26.691643Z",
     "iopub.status.busy": "2022-06-21T08:15:26.691276Z",
     "iopub.status.idle": "2022-06-21T08:15:26.699783Z",
     "shell.execute_reply": "2022-06-21T08:15:26.699079Z"
    },
    "papermill": {
     "duration": 0.757613,
     "end_time": "2022-06-21T08:15:26.701568",
     "exception": false,
     "start_time": "2022-06-21T08:15:25.943955",
     "status": "completed"
    },
    "tags": []
   },
   "outputs": [],
   "source": [
    "test_encoded = preprocess_function(test)"
   ]
  },
  {
   "cell_type": "code",
   "execution_count": 65,
   "id": "40c628f9",
   "metadata": {
    "execution": {
     "iopub.execute_input": "2022-06-21T08:15:28.074281Z",
     "iopub.status.busy": "2022-06-21T08:15:28.073935Z",
     "iopub.status.idle": "2022-06-21T08:15:30.779752Z",
     "shell.execute_reply": "2022-06-21T08:15:30.778919Z"
    },
    "papermill": {
     "duration": 3.395468,
     "end_time": "2022-06-21T08:15:30.781906",
     "exception": false,
     "start_time": "2022-06-21T08:15:27.386438",
     "status": "completed"
    },
    "tags": []
   },
   "outputs": [],
   "source": [
    "test_prediction = model2.predict((np.asarray(test_encoded['input_ids']),\n",
    "                                  np.asarray(test_encoded['attention_mask']) \n",
    "                                  ))"
   ]
  },
  {
   "cell_type": "code",
   "execution_count": 66,
   "id": "c5f95530",
   "metadata": {
    "execution": {
     "iopub.execute_input": "2022-06-21T08:15:32.236182Z",
     "iopub.status.busy": "2022-06-21T08:15:32.235270Z",
     "iopub.status.idle": "2022-06-21T08:15:32.240628Z",
     "shell.execute_reply": "2022-06-21T08:15:32.239871Z"
    },
    "papermill": {
     "duration": 0.702957,
     "end_time": "2022-06-21T08:15:32.242425",
     "exception": false,
     "start_time": "2022-06-21T08:15:31.539468",
     "status": "completed"
    },
    "tags": []
   },
   "outputs": [],
   "source": [
    "competition_file['score'] = encoder.inverse_transform(np.argmax(test_prediction, axis=1))"
   ]
  },
  {
   "cell_type": "code",
   "execution_count": 67,
   "id": "a9d68faa",
   "metadata": {
    "execution": {
     "iopub.execute_input": "2022-06-21T08:15:33.674509Z",
     "iopub.status.busy": "2022-06-21T08:15:33.674143Z",
     "iopub.status.idle": "2022-06-21T08:15:33.861104Z",
     "shell.execute_reply": "2022-06-21T08:15:33.860248Z"
    },
    "papermill": {
     "duration": 0.872058,
     "end_time": "2022-06-21T08:15:33.862954",
     "exception": false,
     "start_time": "2022-06-21T08:15:32.990896",
     "status": "completed"
    },
    "tags": []
   },
   "outputs": [
    {
     "data": {
      "text/plain": [
       "<AxesSubplot:>"
      ]
     },
     "execution_count": 67,
     "metadata": {},
     "output_type": "execute_result"
    },
    {
     "data": {
      "image/png": "[encoded data removed]",
      "text/plain": [
       "<Figure size 432x288 with 1 Axes>"
      ]
     },
     "metadata": {
      "needs_background": "light"
     },
     "output_type": "display_data"
    }
   ],
   "source": [
    "competition_file['score'].hist()"
   ]
  },
  {
   "cell_type": "code",
   "execution_count": 68,
   "id": "45f238ef",
   "metadata": {
    "execution": {
     "iopub.execute_input": "2022-06-21T08:15:35.369190Z",
     "iopub.status.busy": "2022-06-21T08:15:35.368663Z",
     "iopub.status.idle": "2022-06-21T08:15:35.380267Z",
     "shell.execute_reply": "2022-06-21T08:15:35.379319Z"
    },
    "papermill": {
     "duration": 0.825722,
     "end_time": "2022-06-21T08:15:35.383673",
     "exception": false,
     "start_time": "2022-06-21T08:15:34.557951",
     "status": "completed"
    },
    "tags": []
   },
   "outputs": [],
   "source": [
    "competition_file.to_csv('submission.csv', index=False)"
   ]
  },
  {
   "cell_type": "code",
   "execution_count": null,
   "id": "14993f0a",
   "metadata": {
    "papermill": {
     "duration": 0.750863,
     "end_time": "2022-06-21T08:15:37.027713",
     "exception": false,
     "start_time": "2022-06-21T08:15:36.276850",
     "status": "completed"
    },
    "tags": []
   },
   "outputs": [],
   "source": []
  }
 ],
 "metadata": {
  "kernelspec": {
   "display_name": "Python 3.8.13 ('wingpuflake_keras_GPU')",
   "language": "python",
   "name": "python3"
  },
  "language_info": {
   "codemirror_mode": {
    "name": "ipython",
    "version": 3
   },
   "file_extension": ".py",
   "mimetype": "text/x-python",
   "name": "python",
   "nbconvert_exporter": "python",
   "pygments_lexer": "ipython3",
   "version": "3.8.13"
  },
  "papermill": {
   "default_parameters": {},
   "duration": 3886.783291,
   "end_time": "2022-06-21T08:15:40.594219",
   "environment_variables": {},
   "exception": null,
   "input_path": "__notebook__.ipynb",
   "output_path": "__notebook__.ipynb",
   "parameters": {},
   "start_time": "2022-06-21T07:10:53.810928",
   "version": "2.3.4"
  },
  "vscode": {
   "interpreter": {
    "hash": "9f886a0e7e4bdf7e8f253b33537ca1c5dcae8e086cc45ba5445b111bc8663c61"
   }
  }
 },
 "nbformat": 4,
 "nbformat_minor": 5
}
