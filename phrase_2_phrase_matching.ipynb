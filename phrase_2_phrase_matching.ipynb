{
 "cells": [
  {
   "cell_type": "markdown",
   "metadata": {},
   "source": [
    "# Introduction"
   ]
  },
  {
   "cell_type": "markdown",
   "metadata": {},
   "source": [
    "# Imports and Datasets"
   ]
  },
  {
   "cell_type": "code",
   "execution_count": 61,
   "metadata": {},
   "outputs": [
    {
     "name": "stdout",
     "output_type": "stream",
     "text": [
      "Tensorflow Version: 2.8.0\n",
      "Keras Version: 2.8.0\n",
      "---Tensorflow is running with GPU Power now---\n",
      "Device mapping:\n",
      "/job:localhost/replica:0/task:0/device:GPU:0 -> device: 0, name: NVIDIA GeForce RTX 2080 Ti, pci bus id: 0000:04:00.0, compute capability: 7.5\n",
      "/job:localhost/replica:0/task:0/device:GPU:1 -> device: 1, name: NVIDIA GeForce RTX 2080 Ti, pci bus id: 0000:09:00.0, compute capability: 7.5\n",
      "\n",
      "f:\\python-workspace\\phrase2phrase-match-ai\\data\\input\\us-patent-phrase-to-phrase-matching\\sample_submission.csv\n",
      "f:\\python-workspace\\phrase2phrase-match-ai\\data\\input\\us-patent-phrase-to-phrase-matching\\test.csv\n",
      "f:\\python-workspace\\phrase2phrase-match-ai\\data\\input\\us-patent-phrase-to-phrase-matching\\train.csv\n"
     ]
    }
   ],
   "source": [
    "import sys\n",
    "assert sys.version_info >= (3,5)\n",
    "import os\n",
    "import pathlib\n",
    "\n",
    "# Is this notebook running on Colab or Kaggle?\n",
    "IS_COLAB = \"google.colab\" in sys.modules\n",
    "IS_KAGGLE = \"kaggle_secrets\" in sys.modules\n",
    "\n",
    "import numpy as np\n",
    "import pandas as pd\n",
    "import matplotlib.pyplot as plt\n",
    "from functools import partial\n",
    "import seaborn as sns\n",
    "\n",
    "from sklearn.model_selection import train_test_split\n",
    "from sklearn.pipeline import Pipeline\n",
    "from sklearn.preprocessing import StandardScaler\n",
    "from sklearn.preprocessing import Normalizer\n",
    "from sklearn.preprocessing import LabelEncoder\n",
    "\n",
    "import nltk\n",
    "from string import punctuation\n",
    "from collections import Counter\n",
    "\n",
    "from scipy.spatial.distance import cosine\n",
    "\n",
    "import tensorflow as tf\n",
    "from tensorflow import keras\n",
    "from keras.preprocessing.text import Tokenizer\n",
    "from keras.preprocessing.sequence import pad_sequences\n",
    "from keras import layers\n",
    "from keras.layers import Embedding, LSTM, Dense, Dropout, CuDNNLSTM, Bidirectional\n",
    "from keras.layers.merge import concatenate\n",
    "\n",
    "#import mlflow\n",
    "#from mlflow import log_metric, log_param, log_artifacts\n",
    "#import mlflow.tensorflow\n",
    "#from mlflow import pyfunc\n",
    "\n",
    "assert tf.__version__ >= \"2.0\"\n",
    "\n",
    "print(f\"Tensorflow Version: {tf.__version__}\")\n",
    "print(f\"Keras Version: {keras.__version__}\")\n",
    "\n",
    "if not tf.config.list_physical_devices('GPU'):\n",
    "    print(\"No GPU was detected. LSTMs and CNNs can be very slow without a GPU.\")\n",
    "    if IS_COLAB:\n",
    "        print(\"Go to Runtime > Change runtime and select a GPU hardware accelerator.\")\n",
    "    if IS_KAGGLE:\n",
    "        print(\"Go to Settings > Accelerator and select GPU.\")\n",
    "else:\n",
    "    print(f'---Tensorflow is running with GPU Power now---')\n",
    "    sess = tf.compat.v1.Session(config=tf.compat.v1.ConfigProto(log_device_placement=True))\n",
    "    \n",
    "\n",
    "\n",
    "random_state=42\n",
    "tf.random.set_seed(random_state)\n",
    "np.random.seed(random_state)\n",
    "\n",
    "iskaggle = os.environ.get('KAGGLE_KERNEL_RUN_TYPE','')\n",
    "#kaggle = 0 # Kaggle path active = 1\n",
    "\n",
    "MAIN_PATH = os.getcwd()\n",
    "\n",
    "# change your local path here\n",
    "if iskaggle:\n",
    "    DATA_PATH = os.path.join(MAIN_PATH, 'input')\n",
    "    PHRASES_PATH = os.path.join(DATA_PATH, 'us-patent-phrase-to-phrase-matching')\n",
    "else:\n",
    "    DATA_PATH = os.path.join(MAIN_PATH, 'data')\n",
    "    PHRASES_PATH = os.path.join(DATA_PATH,'input\\\\us-patent-phrase-to-phrase-matching')\n",
    "\n",
    "\n",
    "\n",
    "for dirname, _, filenames in os.walk(PHRASES_PATH): \n",
    "    for filename in filenames:\n",
    "        print(os.path.join(dirname, filename))\n",
    "        "
   ]
  },
  {
   "cell_type": "code",
   "execution_count": 62,
   "metadata": {},
   "outputs": [
    {
     "data": {
      "text/plain": [
       "'f:\\\\python-workspace\\\\phrase2phrase-match-ai\\\\data'"
      ]
     },
     "execution_count": 62,
     "metadata": {},
     "output_type": "execute_result"
    }
   ],
   "source": [
    "DATA_PATH"
   ]
  },
  {
   "cell_type": "markdown",
   "metadata": {},
   "source": [
    "# Get the Data"
   ]
  },
  {
   "cell_type": "code",
   "execution_count": 63,
   "metadata": {},
   "outputs": [],
   "source": [
    "# Data path and file\n",
    "CSV_FILE_TRAIN='train.csv'\n",
    "CSV_FILE_TEST='test.csv'\n",
    "CSV_FILE_CPC='titles.csv'\n",
    "CPC_PATH='input\\\\cpc-codes'\n",
    "\n",
    "def load_csv_data(path, csv_file):\n",
    "    csv_path = os.path.join(path, csv_file)\n",
    "    return pd.read_csv(csv_path)\n",
    "\n",
    "def load_csv_data_manuel(path, csv_file):\n",
    "    csv_path = os.path.join(path, csv_file)\n",
    "    csv_file = open(csv_path, 'r')\n",
    "    csv_data = csv_file.readlines()\n",
    "    csv_file.close()\n",
    "    return csv_data\n",
    "    \n",
    "\n",
    "train = load_csv_data(PHRASES_PATH,CSV_FILE_TRAIN)\n",
    "test = load_csv_data(PHRASES_PATH,CSV_FILE_TEST)\n",
    "cpc_code = load_csv_data(os.path.join(DATA_PATH, CPC_PATH), CSV_FILE_CPC)"
   ]
  },
  {
   "cell_type": "code",
   "execution_count": 64,
   "metadata": {},
   "outputs": [],
   "source": [
    "train = train.join(cpc_code.set_index('code'), on = 'context')\n",
    "test = test.join(cpc_code.set_index('code'), on = 'context')"
   ]
  },
  {
   "cell_type": "markdown",
   "metadata": {},
   "source": [
    "# Data Understanding"
   ]
  },
  {
   "cell_type": "markdown",
   "metadata": {},
   "source": [
    "## Given Attributes\n",
    "- id - a unique identifier for a pair of phrases\n",
    "- anchor - the first phrase\n",
    "- target - the second phrase\n",
    "- context - the CPC classification (version 2021.05), which indicates the subject within which the similarity is to be scored\n",
    "- score - the similarity. This is sourced from a combination of one or more manual expert ratings.\n",
    "\n",
    "\n",
    "## Score\n",
    "The scores are in the 0-1 range with increments of 0.25 with the following meanings:\n",
    "\n",
    "- 1.0 - Very close match. This is typically an exact match except possibly for differences in conjugation, quantity (e.g. singular vs. plural), and addition or removal of stopwords (e.g. “the”, “and”, “or”).\n",
    "- 0.75 - Close synonym, e.g. “mobile phone” vs. “cellphone”. This also includes abbreviations, e.g. \"TCP\" -> \"transmission control protocol\".\n",
    "- 0.5 - Synonyms which don’t have the same meaning (same function, same properties). This includes broad-narrow (hyponym) and narrow-broad (hypernym) matches.\n",
    "- 0.25 - Somewhat related, e.g. the two phrases are in the same high level domain but are not synonyms. This also includes antonyms.\n",
    "- 0.0 - Unrelated."
   ]
  },
  {
   "cell_type": "code",
   "execution_count": 65,
   "metadata": {},
   "outputs": [
    {
     "data": {
      "text/plain": [
       "component composite coating              152\n",
       "sheet supply roller                      150\n",
       "source voltage                           140\n",
       "perfluoroalkyl group                     136\n",
       "el display                               135\n",
       "                                        ... \n",
       "plug nozzle                                2\n",
       "shannon                                    2\n",
       "dry coating composition1                   2\n",
       "peripheral nervous system stimulation      1\n",
       "conduct conducting material                1\n",
       "Name: anchor, Length: 733, dtype: int64"
      ]
     },
     "execution_count": 65,
     "metadata": {},
     "output_type": "execute_result"
    }
   ],
   "source": [
    "train['anchor'].value_counts()"
   ]
  },
  {
   "cell_type": "markdown",
   "metadata": {},
   "source": [
    "The anchor value has 733 different values. Lets look at the target value."
   ]
  },
  {
   "cell_type": "code",
   "execution_count": 66,
   "metadata": {},
   "outputs": [
    {
     "data": {
      "text/plain": [
       "composition                    24\n",
       "data                           22\n",
       "metal                          22\n",
       "motor                          22\n",
       "assembly                       21\n",
       "                               ..\n",
       "switching switch over valve     1\n",
       "switching switch off valve      1\n",
       "switching over valve            1\n",
       "switching off valve             1\n",
       "wooden substrate                1\n",
       "Name: target, Length: 29340, dtype: int64"
      ]
     },
     "execution_count": 66,
     "metadata": {},
     "output_type": "execute_result"
    }
   ],
   "source": [
    "train['target'].value_counts()"
   ]
  },
  {
   "cell_type": "markdown",
   "metadata": {},
   "source": [
    "The target looks a little bit different. Here we have 29,340 different values."
   ]
  },
  {
   "cell_type": "code",
   "execution_count": 67,
   "metadata": {},
   "outputs": [
    {
     "data": {
      "text/plain": [
       "0.50    12300\n",
       "0.25    11519\n",
       "0.00     7471\n",
       "0.75     4029\n",
       "1.00     1154\n",
       "Name: score, dtype: int64"
      ]
     },
     "execution_count": 67,
     "metadata": {},
     "output_type": "execute_result"
    }
   ],
   "source": [
    "train['score'].value_counts()"
   ]
  },
  {
   "cell_type": "code",
   "execution_count": 68,
   "metadata": {},
   "outputs": [
    {
     "data": {
      "text/plain": [
       "<AxesSubplot:>"
      ]
     },
     "execution_count": 68,
     "metadata": {},
     "output_type": "execute_result"
    },
    {
     "data": {
      "image/png": "[encoded data removed]",
      "text/plain": [
       "<Figure size 432x288 with 1 Axes>"
      ]
     },
     "metadata": {
      "needs_background": "light"
     },
     "output_type": "display_data"
    }
   ],
   "source": [
    "train['score'].value_counts().sort_index().plot.bar()"
   ]
  },
  {
   "cell_type": "code",
   "execution_count": 69,
   "metadata": {},
   "outputs": [
    {
     "data": {
      "text/html": [
       "<div>\n",
       "<style scoped>\n",
       "    .dataframe tbody tr th:only-of-type {\n",
       "        vertical-align: middle;\n",
       "    }\n",
       "\n",
       "    .dataframe tbody tr th {\n",
       "        vertical-align: top;\n",
       "    }\n",
       "\n",
       "    .dataframe thead th {\n",
       "        text-align: right;\n",
       "    }\n",
       "</style>\n",
       "<table border=\"1\" class=\"dataframe\">\n",
       "  <thead>\n",
       "    <tr style=\"text-align: right;\">\n",
       "      <th></th>\n",
       "      <th></th>\n",
       "      <th>id</th>\n",
       "      <th>target</th>\n",
       "      <th>score</th>\n",
       "      <th>title</th>\n",
       "      <th>section</th>\n",
       "      <th>class</th>\n",
       "      <th>subclass</th>\n",
       "      <th>group</th>\n",
       "      <th>main_group</th>\n",
       "    </tr>\n",
       "    <tr>\n",
       "      <th>anchor</th>\n",
       "      <th>context</th>\n",
       "      <th></th>\n",
       "      <th></th>\n",
       "      <th></th>\n",
       "      <th></th>\n",
       "      <th></th>\n",
       "      <th></th>\n",
       "      <th></th>\n",
       "      <th></th>\n",
       "      <th></th>\n",
       "    </tr>\n",
       "  </thead>\n",
       "  <tbody>\n",
       "    <tr>\n",
       "      <th rowspan=\"5\" valign=\"top\">abatement</th>\n",
       "      <th>A47</th>\n",
       "      <td>21</td>\n",
       "      <td>21</td>\n",
       "      <td>21</td>\n",
       "      <td>21</td>\n",
       "      <td>21</td>\n",
       "      <td>21</td>\n",
       "      <td>0</td>\n",
       "      <td>0</td>\n",
       "      <td>0</td>\n",
       "    </tr>\n",
       "    <tr>\n",
       "      <th>A61</th>\n",
       "      <td>3</td>\n",
       "      <td>3</td>\n",
       "      <td>3</td>\n",
       "      <td>3</td>\n",
       "      <td>3</td>\n",
       "      <td>3</td>\n",
       "      <td>0</td>\n",
       "      <td>0</td>\n",
       "      <td>0</td>\n",
       "    </tr>\n",
       "    <tr>\n",
       "      <th>A62</th>\n",
       "      <td>1</td>\n",
       "      <td>1</td>\n",
       "      <td>1</td>\n",
       "      <td>1</td>\n",
       "      <td>1</td>\n",
       "      <td>1</td>\n",
       "      <td>0</td>\n",
       "      <td>0</td>\n",
       "      <td>0</td>\n",
       "    </tr>\n",
       "    <tr>\n",
       "      <th>C01</th>\n",
       "      <td>1</td>\n",
       "      <td>1</td>\n",
       "      <td>1</td>\n",
       "      <td>1</td>\n",
       "      <td>1</td>\n",
       "      <td>1</td>\n",
       "      <td>0</td>\n",
       "      <td>0</td>\n",
       "      <td>0</td>\n",
       "    </tr>\n",
       "    <tr>\n",
       "      <th>F16</th>\n",
       "      <td>1</td>\n",
       "      <td>1</td>\n",
       "      <td>1</td>\n",
       "      <td>1</td>\n",
       "      <td>1</td>\n",
       "      <td>1</td>\n",
       "      <td>0</td>\n",
       "      <td>0</td>\n",
       "      <td>0</td>\n",
       "    </tr>\n",
       "    <tr>\n",
       "      <th>...</th>\n",
       "      <th>...</th>\n",
       "      <td>...</td>\n",
       "      <td>...</td>\n",
       "      <td>...</td>\n",
       "      <td>...</td>\n",
       "      <td>...</td>\n",
       "      <td>...</td>\n",
       "      <td>...</td>\n",
       "      <td>...</td>\n",
       "      <td>...</td>\n",
       "    </tr>\n",
       "    <tr>\n",
       "      <th rowspan=\"2\" valign=\"top\">wiring trough</th>\n",
       "      <th>F16</th>\n",
       "      <td>27</td>\n",
       "      <td>27</td>\n",
       "      <td>27</td>\n",
       "      <td>27</td>\n",
       "      <td>27</td>\n",
       "      <td>27</td>\n",
       "      <td>0</td>\n",
       "      <td>0</td>\n",
       "      <td>0</td>\n",
       "    </tr>\n",
       "    <tr>\n",
       "      <th>H02</th>\n",
       "      <td>18</td>\n",
       "      <td>18</td>\n",
       "      <td>18</td>\n",
       "      <td>18</td>\n",
       "      <td>18</td>\n",
       "      <td>18</td>\n",
       "      <td>0</td>\n",
       "      <td>0</td>\n",
       "      <td>0</td>\n",
       "    </tr>\n",
       "    <tr>\n",
       "      <th rowspan=\"3\" valign=\"top\">wood article</th>\n",
       "      <th>B05</th>\n",
       "      <td>28</td>\n",
       "      <td>28</td>\n",
       "      <td>28</td>\n",
       "      <td>28</td>\n",
       "      <td>28</td>\n",
       "      <td>28</td>\n",
       "      <td>0</td>\n",
       "      <td>0</td>\n",
       "      <td>0</td>\n",
       "    </tr>\n",
       "    <tr>\n",
       "      <th>B27</th>\n",
       "      <td>1</td>\n",
       "      <td>1</td>\n",
       "      <td>1</td>\n",
       "      <td>1</td>\n",
       "      <td>1</td>\n",
       "      <td>1</td>\n",
       "      <td>0</td>\n",
       "      <td>0</td>\n",
       "      <td>0</td>\n",
       "    </tr>\n",
       "    <tr>\n",
       "      <th>B44</th>\n",
       "      <td>27</td>\n",
       "      <td>27</td>\n",
       "      <td>27</td>\n",
       "      <td>27</td>\n",
       "      <td>27</td>\n",
       "      <td>27</td>\n",
       "      <td>0</td>\n",
       "      <td>0</td>\n",
       "      <td>0</td>\n",
       "    </tr>\n",
       "  </tbody>\n",
       "</table>\n",
       "<p>1699 rows × 9 columns</p>\n",
       "</div>"
      ],
      "text/plain": [
       "                       id  target  score  title  section  class  subclass  \\\n",
       "anchor        context                                                       \n",
       "abatement     A47      21      21     21     21       21     21         0   \n",
       "              A61       3       3      3      3        3      3         0   \n",
       "              A62       1       1      1      1        1      1         0   \n",
       "              C01       1       1      1      1        1      1         0   \n",
       "              F16       1       1      1      1        1      1         0   \n",
       "...                    ..     ...    ...    ...      ...    ...       ...   \n",
       "wiring trough F16      27      27     27     27       27     27         0   \n",
       "              H02      18      18     18     18       18     18         0   \n",
       "wood article  B05      28      28     28     28       28     28         0   \n",
       "              B27       1       1      1      1        1      1         0   \n",
       "              B44      27      27     27     27       27     27         0   \n",
       "\n",
       "                       group  main_group  \n",
       "anchor        context                     \n",
       "abatement     A47          0           0  \n",
       "              A61          0           0  \n",
       "              A62          0           0  \n",
       "              C01          0           0  \n",
       "              F16          0           0  \n",
       "...                      ...         ...  \n",
       "wiring trough F16          0           0  \n",
       "              H02          0           0  \n",
       "wood article  B05          0           0  \n",
       "              B27          0           0  \n",
       "              B44          0           0  \n",
       "\n",
       "[1699 rows x 9 columns]"
      ]
     },
     "execution_count": 69,
     "metadata": {},
     "output_type": "execute_result"
    }
   ],
   "source": [
    "train.groupby(['anchor', 'context']).count()"
   ]
  },
  {
   "cell_type": "markdown",
   "metadata": {},
   "source": [
    "# Data Preparation"
   ]
  },
  {
   "cell_type": "code",
   "execution_count": 70,
   "metadata": {},
   "outputs": [],
   "source": [
    "train['corpus'] = train['anchor'] + ' ' + train['target']\n",
    "train['corpus_w_context'] = train['corpus'] + ' ' +  train['context']\n",
    "train['corpus_w_full_context'] = train['corpus'] + ' ' + train['title']\n",
    "\n",
    "test['corpus'] = test['anchor'] + ' ' + test['target']"
   ]
  },
  {
   "cell_type": "markdown",
   "metadata": {},
   "source": [
    "#### Identifing the features and the target."
   ]
  },
  {
   "cell_type": "code",
   "execution_count": 71,
   "metadata": {},
   "outputs": [],
   "source": [
    "y = train[['id','score']].copy()\n",
    "X = train[['id','anchor','target','context', 'corpus', 'corpus_w_context', 'corpus_w_full_context']].copy()"
   ]
  },
  {
   "cell_type": "markdown",
   "metadata": {},
   "source": [
    "## Training - Validation Split"
   ]
  },
  {
   "cell_type": "code",
   "execution_count": 72,
   "metadata": {},
   "outputs": [],
   "source": [
    "X_train, X_val, y_train, y_val = train_test_split(X, y, test_size=0.3, stratify=y['score'])"
   ]
  },
  {
   "cell_type": "code",
   "execution_count": 73,
   "metadata": {},
   "outputs": [
    {
     "name": "stdout",
     "output_type": "stream",
     "text": [
      "Length of training_target - list: 25531\n",
      "Length of training_content - list: 25531\n",
      "Length of training_content_w_context - list: 25531\n",
      "Length of training_content_full - list: 25531\n",
      "Length of validating_content - list: 10942\n",
      "Length of validating_content_w_context - list: 10942\n",
      "Length of validating_content_full - list: 10942\n",
      "Length of test_content - list: 36\n"
     ]
    }
   ],
   "source": [
    "training_target = X_train['target']\n",
    "print(f'Length of training_target - list: {len(training_target)}')\n",
    "\n",
    "training_content = X_train['corpus']\n",
    "print(f'Length of training_content - list: {len(training_content)}')\n",
    "\n",
    "training_content_w_context = X_train['corpus_w_context']\n",
    "print(f'Length of training_content_w_context - list: {len(training_content_w_context)}')\n",
    "\n",
    "training_content_full = X_train['corpus_w_full_context']\n",
    "print(f'Length of training_content_full - list: {len(training_content_full)}')\n",
    "\n",
    "\n",
    "validating_content = X_val['corpus']\n",
    "print(f'Length of validating_content - list: {len(validating_content)}')\n",
    "\n",
    "validating_content_w_context = X_val['corpus_w_context']\n",
    "print(f'Length of validating_content_w_context - list: {len(validating_content_w_context)}')\n",
    "\n",
    "validating_content_full = X_val['corpus_w_full_context']\n",
    "print(f'Length of validating_content_full - list: {len(validating_content_full)}')\n",
    "\n",
    "\n",
    "test_content = test['corpus']\n",
    "print(f'Length of test_content - list: {len(test_content)}')\n",
    "\n",
    "\n",
    "training_labels = y_train['score']\n",
    "validating_labels = y_val['score']\n",
    "\n",
    "training_labels = np.array(training_labels)\n",
    "validating_labels = np.array(validating_labels)"
   ]
  },
  {
   "cell_type": "markdown",
   "metadata": {},
   "source": [
    "#### Label Encoding"
   ]
  },
  {
   "cell_type": "code",
   "execution_count": 74,
   "metadata": {},
   "outputs": [],
   "source": [
    "encoder = LabelEncoder()\n",
    "encoder.fit(y_train['score'])\n",
    "\n",
    "training_labels = encoder.transform(training_labels)\n",
    "validating_labels_enc = encoder.transform(validating_labels)\n",
    "\n",
    "training_labels = training_labels.reshape(-1, 1)\n",
    "validating_labels_enc = validating_labels_enc.reshape(-1, 1)"
   ]
  },
  {
   "cell_type": "markdown",
   "metadata": {},
   "source": [
    "## Data Cleaning"
   ]
  },
  {
   "cell_type": "markdown",
   "metadata": {},
   "source": [
    "### Tokenization, Encoding and Padding"
   ]
  },
  {
   "cell_type": "code",
   "execution_count": 75,
   "metadata": {},
   "outputs": [
    {
     "name": "stderr",
     "output_type": "stream",
     "text": [
      "[nltk_data] Downloading package punkt to\n",
      "[nltk_data]     C:\\Users\\lemke\\AppData\\Roaming\\nltk_data...\n",
      "[nltk_data]   Package punkt is already up-to-date!\n"
     ]
    },
    {
     "data": {
      "text/plain": [
       "True"
      ]
     },
     "execution_count": 75,
     "metadata": {},
     "output_type": "execute_result"
    }
   ],
   "source": [
    "nltk.download('punkt') # downloading nltk punctuation"
   ]
  },
  {
   "cell_type": "code",
   "execution_count": 76,
   "metadata": {},
   "outputs": [],
   "source": [
    "def extract_words(document, alpha=True):\n",
    "    '''Extracing words from a sentence or full text.\n",
    "\n",
    "    Parameters\n",
    "    ----------\n",
    "    document: str\n",
    "        Text that needs to be tokenized by nltk word_tokenize.\n",
    "    alpha: bool\n",
    "        Keep only letters or not. \n",
    "    \n",
    "    Returns\n",
    "    -------\n",
    "    set\n",
    "        A set of words from the given text.\n",
    "    '''\n",
    "    if alpha == True:\n",
    "        return set(\n",
    "            word.lower() for word in nltk.word_tokenize(document)\n",
    "            if any(c.isalpha() for c in word)\n",
    "        )\n",
    "    else:\n",
    "        return set(\n",
    "            word.lower() for word in nltk.word_tokenize(document)\n",
    "        )\n"
   ]
  },
  {
   "cell_type": "code",
   "execution_count": 77,
   "metadata": {},
   "outputs": [],
   "source": [
    "def process_docs(docs):\n",
    "    content = []\n",
    "    for doc in docs:\n",
    "        content.append(extract_words(doc))\n",
    "    return content\n",
    "\n",
    "def max_length(lines):\n",
    "    return max([len(s.split()) for s in lines])"
   ]
  },
  {
   "cell_type": "code",
   "execution_count": 78,
   "metadata": {},
   "outputs": [],
   "source": [
    "def create_tokenizer(lines):\n",
    "    tokenizer = Tokenizer()\n",
    "    tokenizer.fit_on_texts(lines)\n",
    "    return tokenizer\n",
    "\n",
    "def encode_text(tokenizer, lines, length):\n",
    "    sequences = tokenizer.texts_to_sequences(lines)\n",
    "    padded = pad_sequences(sequences, maxlen=length)\n",
    "    return padded\n"
   ]
  },
  {
   "cell_type": "code",
   "execution_count": 79,
   "metadata": {},
   "outputs": [],
   "source": [
    "tokenizer = create_tokenizer(training_content_full)"
   ]
  },
  {
   "cell_type": "code",
   "execution_count": 80,
   "metadata": {},
   "outputs": [],
   "source": [
    "# Embedding params\n",
    "vocab_size = len(tokenizer.word_index) + 1\n",
    "max_line_length = max_length(training_content_full)\n",
    "word_count = tokenizer.word_counts\n",
    "word_index = tokenizer.word_index\n",
    "oov_tok = \"<OOV>\"\n"
   ]
  },
  {
   "cell_type": "code",
   "execution_count": 81,
   "metadata": {},
   "outputs": [
    {
     "name": "stdout",
     "output_type": "stream",
     "text": [
      "Shape training set (encoded): (25531, 51)\n",
      "Shape validating set (encoded): (10942, 51)\n",
      "Vocabulary size: 7750\n",
      "Max line lenght: 51\n"
     ]
    }
   ],
   "source": [
    "training_content_enc = encode_text(tokenizer, training_content, max_line_length)\n",
    "print(f'Shape training set (encoded): {training_content_enc.shape}')\n",
    "\n",
    "validating_content_enc = encode_text(tokenizer, validating_content, max_line_length)\n",
    "print(f'Shape validating set (encoded): {validating_content_enc.shape}')\n",
    "\n",
    "print(f'Vocabulary size: {vocab_size}')\n",
    "print(f'Max line lenght: {max_line_length}')"
   ]
  },
  {
   "cell_type": "markdown",
   "metadata": {},
   "source": [
    "# Model Development"
   ]
  },
  {
   "cell_type": "markdown",
   "metadata": {},
   "source": [
    "## Pre-Trained Embeddings Load"
   ]
  },
  {
   "cell_type": "code",
   "execution_count": 82,
   "metadata": {},
   "outputs": [],
   "source": [
    "path_to_glove_file = os.path.join(\n",
    "    os.getcwd(), \"data\\\\glove.6B\\\\glove.6B.300d.txt\"\n",
    ")"
   ]
  },
  {
   "cell_type": "code",
   "execution_count": 83,
   "metadata": {},
   "outputs": [
    {
     "name": "stdout",
     "output_type": "stream",
     "text": [
      "Found 400000 word vectors.\n"
     ]
    }
   ],
   "source": [
    "embeddings_index = {}\n",
    "with open(path_to_glove_file ,encoding=\"utf8\") as f:\n",
    "    for line in f:\n",
    "        word, coefs = line.split(maxsplit=1)\n",
    "        coefs = np.fromstring(coefs, \"f\", sep=\" \")\n",
    "        embeddings_index[word] = coefs\n",
    "\n",
    "print(f\"Found {len(embeddings_index)} word vectors.\")"
   ]
  },
  {
   "cell_type": "markdown",
   "metadata": {},
   "source": [
    "Preparing a corresponding embedding matrix for the Embedding layer in Keras.\n",
    "\n",
    "According to the choosen pre-trained embedding matrix we need to set the embedding dimension on 100."
   ]
  },
  {
   "cell_type": "code",
   "execution_count": 84,
   "metadata": {},
   "outputs": [
    {
     "name": "stdout",
     "output_type": "stream",
     "text": [
      "Converted 7245 words (504 misses)\n"
     ]
    }
   ],
   "source": [
    "num_tokens = vocab_size #+ 1 # + 2\n",
    "embedding_dim = 300\n",
    "hits = 0\n",
    "misses = 0\n",
    "lr = 0.01\n",
    "\n",
    "embedding_matrix = np.zeros((vocab_size, embedding_dim))\n",
    "for word, i in tokenizer.word_index.items():\n",
    "    embedding_vector = embeddings_index.get(word)\n",
    "    if embedding_vector is not None:\n",
    "        embedding_matrix[i] = embedding_vector\n",
    "        hits += 1\n",
    "    else:\n",
    "        misses += 1\n",
    "\n",
    "print(f\"Converted {hits} words ({misses} misses)\")"
   ]
  },
  {
   "cell_type": "markdown",
   "metadata": {},
   "source": [
    "### The new Embedding Layer\n",
    "Now loading the pre-trained word embedding matrix into the embedding layer. According to the pre-trained embedding load the trainable param needst to be set on \"False\"."
   ]
  },
  {
   "cell_type": "markdown",
   "metadata": {},
   "source": [
    "## Model Building"
   ]
  },
  {
   "cell_type": "code",
   "execution_count": 85,
   "metadata": {},
   "outputs": [],
   "source": [
    "model = tf.keras.models.Sequential(\n",
    "    [\n",
    "    tf.keras.layers.Embedding(    \n",
    "        vocab_size,\n",
    "        embedding_dim,\n",
    "        input_length=max_line_length,\n",
    "        mask_zero=False,\n",
    "        weights=[embedding_matrix],\n",
    "        trainable = False),\n",
    "    tf.keras.layers.SpatialDropout1D(0.5),\n",
    "    tf.keras.layers.Bidirectional(tf.keras.layers.LSTM(100)),\n",
    "    tf.keras.layers.BatchNormalization(),\n",
    "    tf.keras.layers.Dropout(0.5), ## mal mit einbauen \n",
    "    tf.keras.layers.Dense(128),\n",
    "    tf.keras.layers.BatchNormalization(),\n",
    "    tf.keras.layers.Activation('relu'),\n",
    "    tf.keras.layers.Dropout(0.3),\n",
    "    tf.keras.layers.Dense(64),\n",
    "    tf.keras.layers.BatchNormalization(),\n",
    "    tf.keras.layers.Activation('relu'),\n",
    "    tf.keras.layers.Dropout(0.3),\n",
    "    tf.keras.layers.Dense(32),\n",
    "    tf.keras.layers.BatchNormalization(),\n",
    "    tf.keras.layers.Activation('relu'),\n",
    "    tf.keras.layers.Dropout(0.3),\n",
    "    #tf.keras.layers.Dense(16),\n",
    "    #tf.keras.layers.BatchNormalization(),\n",
    "    #tf.keras.layers.Activation('relu'),\n",
    "    #tf.keras.layers.Dropout(0.3),\n",
    "    tf.keras.layers.Dense(5, activation='softmax' )\n",
    "    ]\n",
    ")"
   ]
  },
  {
   "cell_type": "code",
   "execution_count": 86,
   "metadata": {},
   "outputs": [],
   "source": [
    "model.compile(loss='sparse_categorical_crossentropy',\n",
    "                #optimizer=keras.optimizers.Nadam(learning_rate=lr, beta_1=mmt),\n",
    "                #optimizer=keras.optimizers.SGD(momentum=mmt, nesterov=False),\n",
    "                optimizer=keras.optimizers.Adam(),\n",
    "                metrics=['accuracy']\n",
    "                )"
   ]
  },
  {
   "cell_type": "code",
   "execution_count": 87,
   "metadata": {},
   "outputs": [
    {
     "name": "stdout",
     "output_type": "stream",
     "text": [
      "Model: \"sequential_2\"\n",
      "_________________________________________________________________\n",
      " Layer (type)                Output Shape              Param #   \n",
      "=================================================================\n",
      " embedding_2 (Embedding)     (None, 51, 300)           2325000   \n",
      "                                                                 \n",
      " spatial_dropout1d_2 (Spatia  (None, 51, 300)          0         \n",
      " lDropout1D)                                                     \n",
      "                                                                 \n",
      " bidirectional_2 (Bidirectio  (None, 200)              320800    \n",
      " nal)                                                            \n",
      "                                                                 \n",
      " batch_normalization_8 (Batc  (None, 200)              800       \n",
      " hNormalization)                                                 \n",
      "                                                                 \n",
      " dropout_8 (Dropout)         (None, 200)               0         \n",
      "                                                                 \n",
      " dense_8 (Dense)             (None, 128)               25728     \n",
      "                                                                 \n",
      " batch_normalization_9 (Batc  (None, 128)              512       \n",
      " hNormalization)                                                 \n",
      "                                                                 \n",
      " activation_6 (Activation)   (None, 128)               0         \n",
      "                                                                 \n",
      " dropout_9 (Dropout)         (None, 128)               0         \n",
      "                                                                 \n",
      " dense_9 (Dense)             (None, 64)                8256      \n",
      "                                                                 \n",
      " batch_normalization_10 (Bat  (None, 64)               256       \n",
      " chNormalization)                                                \n",
      "                                                                 \n",
      " activation_7 (Activation)   (None, 64)                0         \n",
      "                                                                 \n",
      " dropout_10 (Dropout)        (None, 64)                0         \n",
      "                                                                 \n",
      " dense_10 (Dense)            (None, 32)                2080      \n",
      "                                                                 \n",
      " batch_normalization_11 (Bat  (None, 32)               128       \n",
      " chNormalization)                                                \n",
      "                                                                 \n",
      " activation_8 (Activation)   (None, 32)                0         \n",
      "                                                                 \n",
      " dropout_11 (Dropout)        (None, 32)                0         \n",
      "                                                                 \n",
      " dense_11 (Dense)            (None, 5)                 165       \n",
      "                                                                 \n",
      "=================================================================\n",
      "Total params: 2,683,725\n",
      "Trainable params: 357,877\n",
      "Non-trainable params: 2,325,848\n",
      "_________________________________________________________________\n"
     ]
    }
   ],
   "source": [
    "model.summary()"
   ]
  },
  {
   "cell_type": "code",
   "execution_count": 88,
   "metadata": {},
   "outputs": [
    {
     "name": "stdout",
     "output_type": "stream",
     "text": [
      "You must install pydot (`pip install pydot`) and install graphviz (see instructions at https://graphviz.gitlab.io/download/) for plot_model/model_to_dot to work.\n"
     ]
    }
   ],
   "source": [
    "tf.keras.utils.plot_model(model, show_shapes=True, to_file='multichannel.png')"
   ]
  },
  {
   "cell_type": "code",
   "execution_count": 89,
   "metadata": {},
   "outputs": [],
   "source": [
    "# Tensorboard logging structure function\n",
    "root_logdir = \"../../tensorboard-logs\"\n",
    "\n",
    "def get_run_logdir(root_logdir, project):\n",
    "    '''\n",
    "    Returns logdir to the Tensorboard log for a specific project.\n",
    "\n",
    "            Parameters:\n",
    "                    root_logdir (str) : basic logdir from Tensorboard\n",
    "                    project (str): projectname that will be logged in TB\n",
    "\n",
    "            Returns:\n",
    "                    os.path (str): Path to the final logdir\n",
    "    '''\n",
    "    import time\n",
    "    run_id = time.strftime(\"run_%Y_%m_%d-%H_%M_%S\")\n",
    "    project_logdir = os.path.join(root_logdir,project)\n",
    "    return os.path.join(project_logdir, run_id)\n",
    "\n",
    "\n",
    "#def lr_schedule(epoch):\n",
    "#  \"\"\"\n",
    "#  Returns a custom learning rate that decreases as epochs progress.\n",
    "#  \"\"\"\n",
    "#  learning_rate = 0.2\n",
    "#  if epoch > 10:\n",
    "#    learning_rate = 0.02\n",
    "#  if epoch > 20:\n",
    "#    learning_rate = 0.01\n",
    "#  if epoch > 50:\n",
    "#    learning_rate = 0.005\n",
    "#\n",
    "#  tf.summary.scalar('learning rate', data=learning_rate, step=epoch)\n",
    "#  return learning_rate\n",
    "\n",
    "tensorboard_callback = tf.keras.callbacks.TensorBoard(log_dir=get_run_logdir(root_logdir,\"nlp_phrase2phrase\"), histogram_freq=1)\n",
    "#lr_callback = tf.keras.callbacks.LearningRateScheduler(lr_schedule)"
   ]
  },
  {
   "cell_type": "code",
   "execution_count": 90,
   "metadata": {},
   "outputs": [
    {
     "name": "stdout",
     "output_type": "stream",
     "text": [
      "Epoch 1/200\n",
      "1419/1419 [==============================] - 34s 22ms/step - loss: 1.4866 - accuracy: 0.3219 - val_loss: 1.3842 - val_accuracy: 0.3640\n",
      "Epoch 2/200\n",
      "1419/1419 [==============================] - 30s 21ms/step - loss: 1.4032 - accuracy: 0.3595 - val_loss: 1.3754 - val_accuracy: 0.3805\n",
      "Epoch 3/200\n",
      "1419/1419 [==============================] - 28s 20ms/step - loss: 1.3836 - accuracy: 0.3659 - val_loss: 1.3647 - val_accuracy: 0.3692\n",
      "Epoch 4/200\n",
      "1419/1419 [==============================] - 27s 19ms/step - loss: 1.3686 - accuracy: 0.3825 - val_loss: 1.3506 - val_accuracy: 0.3853\n",
      "Epoch 5/200\n",
      "1419/1419 [==============================] - 29s 20ms/step - loss: 1.3534 - accuracy: 0.3939 - val_loss: 1.3200 - val_accuracy: 0.4207\n",
      "Epoch 6/200\n",
      "1419/1419 [==============================] - 28s 20ms/step - loss: 1.3345 - accuracy: 0.4109 - val_loss: 1.3046 - val_accuracy: 0.4228\n",
      "Epoch 7/200\n",
      "1419/1419 [==============================] - 28s 20ms/step - loss: 1.3189 - accuracy: 0.4215 - val_loss: 1.2987 - val_accuracy: 0.4373\n",
      "Epoch 8/200\n",
      "1419/1419 [==============================] - 30s 21ms/step - loss: 1.3029 - accuracy: 0.4395 - val_loss: 1.2744 - val_accuracy: 0.4482\n",
      "Epoch 9/200\n",
      "1419/1419 [==============================] - 30s 21ms/step - loss: 1.2867 - accuracy: 0.4501 - val_loss: 1.2573 - val_accuracy: 0.4605\n",
      "Epoch 10/200\n",
      "1419/1419 [==============================] - 30s 21ms/step - loss: 1.2692 - accuracy: 0.4576 - val_loss: 1.2397 - val_accuracy: 0.4719\n",
      "Epoch 11/200\n",
      "1419/1419 [==============================] - 30s 21ms/step - loss: 1.2575 - accuracy: 0.4631 - val_loss: 1.2367 - val_accuracy: 0.4706\n",
      "Epoch 12/200\n",
      "1419/1419 [==============================] - 29s 20ms/step - loss: 1.2431 - accuracy: 0.4742 - val_loss: 1.2266 - val_accuracy: 0.4782\n",
      "Epoch 13/200\n",
      "1419/1419 [==============================] - 31s 22ms/step - loss: 1.2278 - accuracy: 0.4811 - val_loss: 1.2087 - val_accuracy: 0.4831\n",
      "Epoch 14/200\n",
      "1419/1419 [==============================] - 29s 21ms/step - loss: 1.2171 - accuracy: 0.4862 - val_loss: 1.2107 - val_accuracy: 0.4850\n",
      "Epoch 15/200\n",
      "1419/1419 [==============================] - 30s 21ms/step - loss: 1.2072 - accuracy: 0.4902 - val_loss: 1.1947 - val_accuracy: 0.4925\n",
      "Epoch 16/200\n",
      "1419/1419 [==============================] - 29s 21ms/step - loss: 1.1991 - accuracy: 0.4952 - val_loss: 1.1915 - val_accuracy: 0.4911\n",
      "Epoch 17/200\n",
      "1419/1419 [==============================] - 30s 21ms/step - loss: 1.1904 - accuracy: 0.4992 - val_loss: 1.1931 - val_accuracy: 0.4964\n",
      "Epoch 18/200\n",
      "1419/1419 [==============================] - 29s 21ms/step - loss: 1.1795 - accuracy: 0.5048 - val_loss: 1.1823 - val_accuracy: 0.4973\n",
      "Epoch 19/200\n",
      "1419/1419 [==============================] - 30s 21ms/step - loss: 1.1719 - accuracy: 0.5108 - val_loss: 1.1820 - val_accuracy: 0.4963\n",
      "Epoch 20/200\n",
      "1419/1419 [==============================] - 29s 20ms/step - loss: 1.1610 - accuracy: 0.5121 - val_loss: 1.1703 - val_accuracy: 0.5005\n",
      "Epoch 21/200\n",
      "1419/1419 [==============================] - 28s 20ms/step - loss: 1.1524 - accuracy: 0.5198 - val_loss: 1.1736 - val_accuracy: 0.5032\n",
      "Epoch 22/200\n",
      "1419/1419 [==============================] - 30s 21ms/step - loss: 1.1554 - accuracy: 0.5115 - val_loss: 1.1766 - val_accuracy: 0.5069\n",
      "Epoch 23/200\n",
      "1419/1419 [==============================] - 29s 20ms/step - loss: 1.1362 - accuracy: 0.5258 - val_loss: 1.1661 - val_accuracy: 0.5080\n",
      "Epoch 24/200\n",
      "1419/1419 [==============================] - 29s 21ms/step - loss: 1.1441 - accuracy: 0.5238 - val_loss: 1.1605 - val_accuracy: 0.5151\n",
      "Epoch 25/200\n",
      "1419/1419 [==============================] - 29s 20ms/step - loss: 1.1313 - accuracy: 0.5297 - val_loss: 1.1582 - val_accuracy: 0.5109\n",
      "Epoch 26/200\n",
      "1419/1419 [==============================] - 30s 21ms/step - loss: 1.1276 - accuracy: 0.5276 - val_loss: 1.1598 - val_accuracy: 0.5155\n",
      "Epoch 27/200\n",
      "1419/1419 [==============================] - 30s 21ms/step - loss: 1.1226 - accuracy: 0.5299 - val_loss: 1.1637 - val_accuracy: 0.5135\n",
      "Epoch 28/200\n",
      "1419/1419 [==============================] - 30s 21ms/step - loss: 1.1258 - accuracy: 0.5312 - val_loss: 1.1490 - val_accuracy: 0.5169\n",
      "Epoch 29/200\n",
      "1419/1419 [==============================] - 31s 22ms/step - loss: 1.1148 - accuracy: 0.5366 - val_loss: 1.1508 - val_accuracy: 0.5192\n",
      "Epoch 30/200\n",
      "1419/1419 [==============================] - 30s 21ms/step - loss: 1.1115 - accuracy: 0.5353 - val_loss: 1.1499 - val_accuracy: 0.5148\n",
      "Epoch 31/200\n",
      "1419/1419 [==============================] - 31s 22ms/step - loss: 1.1083 - accuracy: 0.5392 - val_loss: 1.1584 - val_accuracy: 0.5111\n",
      "Epoch 32/200\n",
      "1419/1419 [==============================] - 31s 22ms/step - loss: 1.1040 - accuracy: 0.5408 - val_loss: 1.1489 - val_accuracy: 0.5200\n",
      "Epoch 33/200\n",
      "1419/1419 [==============================] - 31s 22ms/step - loss: 1.0956 - accuracy: 0.5470 - val_loss: 1.1518 - val_accuracy: 0.5217\n",
      "Epoch 34/200\n",
      "1419/1419 [==============================] - 31s 22ms/step - loss: 1.0984 - accuracy: 0.5409 - val_loss: 1.1401 - val_accuracy: 0.5215\n",
      "Epoch 35/200\n",
      "1419/1419 [==============================] - 29s 20ms/step - loss: 1.0942 - accuracy: 0.5483 - val_loss: 1.1416 - val_accuracy: 0.5214\n",
      "Epoch 36/200\n",
      "1419/1419 [==============================] - 30s 21ms/step - loss: 1.0909 - accuracy: 0.5482 - val_loss: 1.1469 - val_accuracy: 0.5229\n",
      "Epoch 37/200\n",
      "1419/1419 [==============================] - 30s 21ms/step - loss: 1.0889 - accuracy: 0.5460 - val_loss: 1.1450 - val_accuracy: 0.5240\n",
      "Epoch 38/200\n",
      "1419/1419 [==============================] - 30s 21ms/step - loss: 1.0836 - accuracy: 0.5486 - val_loss: 1.1347 - val_accuracy: 0.5269\n",
      "Epoch 39/200\n",
      "1419/1419 [==============================] - 29s 20ms/step - loss: 1.0816 - accuracy: 0.5514 - val_loss: 1.1426 - val_accuracy: 0.5293\n",
      "Epoch 40/200\n",
      "1419/1419 [==============================] - 28s 19ms/step - loss: 1.0784 - accuracy: 0.5540 - val_loss: 1.1355 - val_accuracy: 0.5240\n",
      "Epoch 41/200\n",
      "1419/1419 [==============================] - 29s 20ms/step - loss: 1.0783 - accuracy: 0.5513 - val_loss: 1.1364 - val_accuracy: 0.5282\n",
      "Epoch 42/200\n",
      "1419/1419 [==============================] - 28s 20ms/step - loss: 1.0749 - accuracy: 0.5537 - val_loss: 1.1450 - val_accuracy: 0.5252\n",
      "Epoch 43/200\n",
      "1419/1419 [==============================] - 29s 20ms/step - loss: 1.0686 - accuracy: 0.5567 - val_loss: 1.1367 - val_accuracy: 0.5303\n",
      "Epoch 44/200\n",
      "1419/1419 [==============================] - 29s 20ms/step - loss: 1.0622 - accuracy: 0.5614 - val_loss: 1.1383 - val_accuracy: 0.5269\n",
      "Epoch 45/200\n",
      "1419/1419 [==============================] - 28s 20ms/step - loss: 1.0662 - accuracy: 0.5575 - val_loss: 1.1302 - val_accuracy: 0.5276\n",
      "Epoch 46/200\n",
      "1419/1419 [==============================] - 27s 19ms/step - loss: 1.0674 - accuracy: 0.5571 - val_loss: 1.1388 - val_accuracy: 0.5286\n",
      "Epoch 47/200\n",
      "1419/1419 [==============================] - 27s 19ms/step - loss: 1.0573 - accuracy: 0.5659 - val_loss: 1.1439 - val_accuracy: 0.5271\n",
      "Epoch 48/200\n",
      "1419/1419 [==============================] - 27s 19ms/step - loss: 1.0614 - accuracy: 0.5607 - val_loss: 1.1265 - val_accuracy: 0.5315\n",
      "Epoch 49/200\n",
      "1419/1419 [==============================] - 27s 19ms/step - loss: 1.0615 - accuracy: 0.5632 - val_loss: 1.1370 - val_accuracy: 0.5295\n",
      "Epoch 50/200\n",
      "1419/1419 [==============================] - 27s 19ms/step - loss: 1.0590 - accuracy: 0.5603 - val_loss: 1.1343 - val_accuracy: 0.5248\n",
      "Epoch 51/200\n",
      "1419/1419 [==============================] - 28s 20ms/step - loss: 1.0553 - accuracy: 0.5572 - val_loss: 1.1381 - val_accuracy: 0.5246\n",
      "Epoch 52/200\n",
      "1419/1419 [==============================] - 28s 20ms/step - loss: 1.0467 - accuracy: 0.5666 - val_loss: 1.1435 - val_accuracy: 0.5280\n",
      "Epoch 53/200\n",
      "1419/1419 [==============================] - 28s 20ms/step - loss: 1.0525 - accuracy: 0.5655 - val_loss: 1.1382 - val_accuracy: 0.5280\n",
      "Epoch 54/200\n",
      "1419/1419 [==============================] - 30s 21ms/step - loss: 1.0489 - accuracy: 0.5653 - val_loss: 1.1351 - val_accuracy: 0.5331\n",
      "Epoch 55/200\n",
      "1419/1419 [==============================] - 30s 21ms/step - loss: 1.0484 - accuracy: 0.5670 - val_loss: 1.1403 - val_accuracy: 0.5313\n",
      "Epoch 56/200\n",
      "1419/1419 [==============================] - 30s 21ms/step - loss: 1.0511 - accuracy: 0.5649 - val_loss: 1.1346 - val_accuracy: 0.5338\n",
      "Epoch 57/200\n",
      "1419/1419 [==============================] - 31s 22ms/step - loss: 1.2214 - accuracy: 0.4753 - val_loss: 1.2967 - val_accuracy: 0.4297\n",
      "Epoch 58/200\n",
      "1419/1419 [==============================] - 31s 22ms/step - loss: 1.0840 - accuracy: 0.5502 - val_loss: 1.1219 - val_accuracy: 0.5324\n",
      "Epoch 59/200\n",
      "1419/1419 [==============================] - 30s 21ms/step - loss: 1.0529 - accuracy: 0.5632 - val_loss: 1.1317 - val_accuracy: 0.5312\n",
      "Epoch 60/200\n",
      "1419/1419 [==============================] - 30s 21ms/step - loss: 1.0407 - accuracy: 0.5720 - val_loss: 1.1289 - val_accuracy: 0.5334\n",
      "Epoch 61/200\n",
      "1419/1419 [==============================] - 31s 22ms/step - loss: 1.0518 - accuracy: 0.5677 - val_loss: 1.1279 - val_accuracy: 0.5333\n",
      "Epoch 62/200\n",
      "1419/1419 [==============================] - 31s 22ms/step - loss: 1.0376 - accuracy: 0.5718 - val_loss: 1.1321 - val_accuracy: 0.5337\n",
      "Epoch 63/200\n",
      "1419/1419 [==============================] - 31s 22ms/step - loss: 1.0390 - accuracy: 0.5717 - val_loss: 1.1314 - val_accuracy: 0.5325\n",
      "Epoch 64/200\n",
      "1419/1419 [==============================] - 29s 20ms/step - loss: 1.0394 - accuracy: 0.5704 - val_loss: 1.1297 - val_accuracy: 0.5368\n",
      "Epoch 65/200\n",
      "1419/1419 [==============================] - 30s 21ms/step - loss: 1.0417 - accuracy: 0.5713 - val_loss: 1.1259 - val_accuracy: 0.5365\n",
      "Epoch 66/200\n",
      "1419/1419 [==============================] - 32s 23ms/step - loss: 1.0363 - accuracy: 0.5749 - val_loss: 1.1283 - val_accuracy: 0.5350\n",
      "Epoch 67/200\n",
      "1419/1419 [==============================] - 27s 19ms/step - loss: 1.0357 - accuracy: 0.5720 - val_loss: 1.1296 - val_accuracy: 0.5328\n",
      "Epoch 68/200\n",
      "1419/1419 [==============================] - 29s 21ms/step - loss: 1.0374 - accuracy: 0.5733 - val_loss: 1.1364 - val_accuracy: 0.5326\n",
      "Epoch 69/200\n",
      "1419/1419 [==============================] - 28s 20ms/step - loss: 1.0288 - accuracy: 0.5728 - val_loss: 1.1407 - val_accuracy: 0.5345\n",
      "Epoch 70/200\n",
      "1419/1419 [==============================] - 32s 23ms/step - loss: 1.0312 - accuracy: 0.5758 - val_loss: 1.1336 - val_accuracy: 0.5316\n",
      "Epoch 71/200\n",
      "1419/1419 [==============================] - 29s 20ms/step - loss: 1.0520 - accuracy: 0.5687 - val_loss: 1.1410 - val_accuracy: 0.5285\n",
      "Epoch 72/200\n",
      "1419/1419 [==============================] - 30s 21ms/step - loss: 1.0327 - accuracy: 0.5777 - val_loss: 1.1225 - val_accuracy: 0.5331\n",
      "Epoch 73/200\n",
      "1419/1419 [==============================] - 30s 21ms/step - loss: 1.0290 - accuracy: 0.5738 - val_loss: 1.1297 - val_accuracy: 0.5323\n",
      "Epoch 74/200\n",
      "1419/1419 [==============================] - 30s 21ms/step - loss: 1.0354 - accuracy: 0.5735 - val_loss: 1.1300 - val_accuracy: 0.5306\n",
      "Epoch 75/200\n",
      "1419/1419 [==============================] - 29s 21ms/step - loss: 1.0310 - accuracy: 0.5724 - val_loss: 1.1267 - val_accuracy: 0.5357\n",
      "Epoch 76/200\n",
      "1419/1419 [==============================] - 29s 20ms/step - loss: 1.0311 - accuracy: 0.5749 - val_loss: 1.1323 - val_accuracy: 0.5312\n",
      "Epoch 77/200\n",
      "1419/1419 [==============================] - 30s 21ms/step - loss: 1.0207 - accuracy: 0.5846 - val_loss: 1.1450 - val_accuracy: 0.5357\n",
      "Epoch 78/200\n",
      "1419/1419 [==============================] - 29s 20ms/step - loss: 1.0215 - accuracy: 0.5792 - val_loss: 1.1358 - val_accuracy: 0.5383\n",
      "Epoch 79/200\n",
      "1419/1419 [==============================] - 28s 20ms/step - loss: 1.0193 - accuracy: 0.5786 - val_loss: 1.1428 - val_accuracy: 0.5364\n",
      "Epoch 80/200\n",
      "1419/1419 [==============================] - 29s 20ms/step - loss: 1.0213 - accuracy: 0.5790 - val_loss: 1.1448 - val_accuracy: 0.5374\n",
      "Epoch 81/200\n",
      "1419/1419 [==============================] - 29s 20ms/step - loss: 1.0167 - accuracy: 0.5822 - val_loss: 1.1446 - val_accuracy: 0.5339\n",
      "Epoch 82/200\n",
      "1419/1419 [==============================] - 29s 21ms/step - loss: 1.0247 - accuracy: 0.5773 - val_loss: 1.1255 - val_accuracy: 0.5352\n",
      "Epoch 83/200\n",
      "1419/1419 [==============================] - 29s 20ms/step - loss: 1.0213 - accuracy: 0.5820 - val_loss: 1.1295 - val_accuracy: 0.5374\n",
      "Epoch 84/200\n",
      "1419/1419 [==============================] - 28s 20ms/step - loss: 1.0202 - accuracy: 0.5802 - val_loss: 1.1349 - val_accuracy: 0.5323\n",
      "Epoch 85/200\n",
      "1419/1419 [==============================] - 28s 20ms/step - loss: 1.0150 - accuracy: 0.5856 - val_loss: 1.1382 - val_accuracy: 0.5343\n",
      "Epoch 86/200\n",
      "1419/1419 [==============================] - 30s 21ms/step - loss: 1.0153 - accuracy: 0.5821 - val_loss: 1.1323 - val_accuracy: 0.5357\n",
      "Epoch 87/200\n",
      "1419/1419 [==============================] - 30s 21ms/step - loss: 1.0175 - accuracy: 0.5826 - val_loss: 1.1279 - val_accuracy: 0.5388\n",
      "Epoch 88/200\n",
      "1419/1419 [==============================] - 29s 21ms/step - loss: 1.0168 - accuracy: 0.5831 - val_loss: 1.1391 - val_accuracy: 0.5337\n",
      "Epoch 89/200\n",
      "1419/1419 [==============================] - 29s 20ms/step - loss: 1.0057 - accuracy: 0.5834 - val_loss: 1.1305 - val_accuracy: 0.5344\n",
      "Epoch 90/200\n",
      "1419/1419 [==============================] - 29s 21ms/step - loss: 1.0173 - accuracy: 0.5847 - val_loss: 1.1212 - val_accuracy: 0.5406\n",
      "Epoch 91/200\n",
      "1419/1419 [==============================] - 29s 21ms/step - loss: 1.0109 - accuracy: 0.5822 - val_loss: 1.1324 - val_accuracy: 0.5377\n",
      "Epoch 92/200\n",
      "1419/1419 [==============================] - 29s 21ms/step - loss: 1.0152 - accuracy: 0.5798 - val_loss: 1.1279 - val_accuracy: 0.5374\n",
      "Epoch 93/200\n",
      "1419/1419 [==============================] - 30s 21ms/step - loss: 1.0142 - accuracy: 0.5801 - val_loss: 1.1295 - val_accuracy: 0.5372\n",
      "Epoch 94/200\n",
      "1419/1419 [==============================] - 30s 21ms/step - loss: 1.0051 - accuracy: 0.5851 - val_loss: 1.1250 - val_accuracy: 0.5354\n",
      "Epoch 95/200\n",
      "1419/1419 [==============================] - 30s 21ms/step - loss: 1.0147 - accuracy: 0.5854 - val_loss: 1.1317 - val_accuracy: 0.5391\n",
      "Epoch 96/200\n",
      "1419/1419 [==============================] - 28s 20ms/step - loss: 1.0073 - accuracy: 0.5895 - val_loss: 1.1227 - val_accuracy: 0.5324\n",
      "Epoch 97/200\n",
      "1419/1419 [==============================] - 28s 20ms/step - loss: 1.0101 - accuracy: 0.5845 - val_loss: 1.1315 - val_accuracy: 0.5333\n",
      "Epoch 98/200\n",
      "1419/1419 [==============================] - 32s 22ms/step - loss: 1.0056 - accuracy: 0.5883 - val_loss: 1.1327 - val_accuracy: 0.5378\n",
      "Epoch 99/200\n",
      "1419/1419 [==============================] - 32s 23ms/step - loss: 1.0025 - accuracy: 0.5894 - val_loss: 1.1293 - val_accuracy: 0.5367\n",
      "Epoch 100/200\n",
      "1419/1419 [==============================] - 29s 21ms/step - loss: 1.0007 - accuracy: 0.5918 - val_loss: 1.1346 - val_accuracy: 0.5350\n",
      "Epoch 101/200\n",
      "1419/1419 [==============================] - 28s 20ms/step - loss: 1.0094 - accuracy: 0.5847 - val_loss: 1.1332 - val_accuracy: 0.5353\n",
      "Epoch 102/200\n",
      "1419/1419 [==============================] - 29s 20ms/step - loss: 1.0033 - accuracy: 0.5855 - val_loss: 1.1314 - val_accuracy: 0.5336\n",
      "Epoch 103/200\n",
      "1419/1419 [==============================] - 32s 22ms/step - loss: 1.0029 - accuracy: 0.5882 - val_loss: 1.1294 - val_accuracy: 0.5360\n",
      "Epoch 104/200\n",
      "1419/1419 [==============================] - 31s 22ms/step - loss: 0.9948 - accuracy: 0.5923 - val_loss: 1.1325 - val_accuracy: 0.5383\n",
      "Epoch 105/200\n",
      "1419/1419 [==============================] - 30s 21ms/step - loss: 0.9956 - accuracy: 0.5942 - val_loss: 1.1412 - val_accuracy: 0.5349\n",
      "Epoch 106/200\n",
      "1419/1419 [==============================] - 31s 22ms/step - loss: 1.0122 - accuracy: 0.5826 - val_loss: 1.1282 - val_accuracy: 0.5374\n",
      "Epoch 107/200\n",
      "1419/1419 [==============================] - 31s 22ms/step - loss: 1.0042 - accuracy: 0.5891 - val_loss: 1.1365 - val_accuracy: 0.5399\n",
      "Epoch 108/200\n",
      "1419/1419 [==============================] - 32s 22ms/step - loss: 0.9947 - accuracy: 0.5942 - val_loss: 1.1440 - val_accuracy: 0.5409\n",
      "Epoch 109/200\n",
      "1419/1419 [==============================] - 30s 21ms/step - loss: 0.9960 - accuracy: 0.5909 - val_loss: 1.1327 - val_accuracy: 0.5410\n",
      "Epoch 110/200\n",
      "1419/1419 [==============================] - 30s 21ms/step - loss: 1.0084 - accuracy: 0.5873 - val_loss: 1.1307 - val_accuracy: 0.5416\n",
      "Epoch 111/200\n",
      "1419/1419 [==============================] - 32s 22ms/step - loss: 1.0005 - accuracy: 0.5898 - val_loss: 1.1279 - val_accuracy: 0.5397\n",
      "Epoch 112/200\n",
      "1419/1419 [==============================] - 30s 21ms/step - loss: 1.0073 - accuracy: 0.5852 - val_loss: 1.1262 - val_accuracy: 0.5428\n",
      "Epoch 113/200\n",
      "1419/1419 [==============================] - 30s 21ms/step - loss: 0.9976 - accuracy: 0.5881 - val_loss: 1.1307 - val_accuracy: 0.5394\n",
      "Epoch 114/200\n",
      "1419/1419 [==============================] - 31s 22ms/step - loss: 0.9992 - accuracy: 0.5939 - val_loss: 1.1344 - val_accuracy: 0.5393\n",
      "Epoch 115/200\n",
      "1419/1419 [==============================] - 29s 21ms/step - loss: 1.0077 - accuracy: 0.5898 - val_loss: 1.1270 - val_accuracy: 0.5419\n",
      "Epoch 116/200\n",
      "1419/1419 [==============================] - 29s 20ms/step - loss: 0.9968 - accuracy: 0.5949 - val_loss: 1.1373 - val_accuracy: 0.5425\n",
      "Epoch 117/200\n",
      "1419/1419 [==============================] - 30s 21ms/step - loss: 1.0048 - accuracy: 0.5912 - val_loss: 1.1394 - val_accuracy: 0.5389\n",
      "Epoch 118/200\n",
      "1419/1419 [==============================] - 28s 20ms/step - loss: 1.0044 - accuracy: 0.5872 - val_loss: 1.1285 - val_accuracy: 0.5380\n",
      "Epoch 119/200\n",
      "1419/1419 [==============================] - 28s 20ms/step - loss: 0.9880 - accuracy: 0.5941 - val_loss: 1.1283 - val_accuracy: 0.5374\n",
      "Epoch 120/200\n",
      "1419/1419 [==============================] - 29s 21ms/step - loss: 0.9902 - accuracy: 0.5911 - val_loss: 1.1289 - val_accuracy: 0.5409\n",
      "Epoch 121/200\n",
      "1419/1419 [==============================] - 29s 20ms/step - loss: 1.1428 - accuracy: 0.5271 - val_loss: 1.1327 - val_accuracy: 0.5443\n",
      "Epoch 122/200\n",
      "1419/1419 [==============================] - 29s 21ms/step - loss: 1.0024 - accuracy: 0.5910 - val_loss: 1.1273 - val_accuracy: 0.5350\n",
      "Epoch 123/200\n",
      "1419/1419 [==============================] - 29s 20ms/step - loss: 0.9928 - accuracy: 0.5930 - val_loss: 1.1389 - val_accuracy: 0.5395\n",
      "Epoch 124/200\n",
      "1419/1419 [==============================] - 26s 19ms/step - loss: 0.9987 - accuracy: 0.5918 - val_loss: 1.1317 - val_accuracy: 0.5387\n",
      "Epoch 125/200\n",
      "1419/1419 [==============================] - 27s 19ms/step - loss: 0.9912 - accuracy: 0.5964 - val_loss: 1.1340 - val_accuracy: 0.5323\n",
      "Epoch 126/200\n",
      "1419/1419 [==============================] - 28s 20ms/step - loss: 0.9906 - accuracy: 0.5950 - val_loss: 1.1425 - val_accuracy: 0.5375\n",
      "Epoch 127/200\n",
      "1419/1419 [==============================] - 29s 20ms/step - loss: 0.9914 - accuracy: 0.5975 - val_loss: 1.1347 - val_accuracy: 0.5401\n",
      "Epoch 128/200\n",
      "1419/1419 [==============================] - 28s 19ms/step - loss: 0.9917 - accuracy: 0.5911 - val_loss: 1.1529 - val_accuracy: 0.5259\n",
      "Epoch 129/200\n",
      "1419/1419 [==============================] - 28s 20ms/step - loss: 0.9927 - accuracy: 0.5934 - val_loss: 1.1367 - val_accuracy: 0.5319\n",
      "Epoch 130/200\n",
      "1419/1419 [==============================] - 29s 20ms/step - loss: 0.9937 - accuracy: 0.5957 - val_loss: 1.1329 - val_accuracy: 0.5349\n",
      "Epoch 131/200\n",
      "1419/1419 [==============================] - 29s 21ms/step - loss: 0.9960 - accuracy: 0.5898 - val_loss: 1.1226 - val_accuracy: 0.5394\n",
      "Epoch 132/200\n",
      "1419/1419 [==============================] - 28s 20ms/step - loss: 0.9904 - accuracy: 0.5928 - val_loss: 1.1395 - val_accuracy: 0.5346\n",
      "Epoch 133/200\n",
      "1419/1419 [==============================] - 30s 21ms/step - loss: 0.9918 - accuracy: 0.5936 - val_loss: 1.1334 - val_accuracy: 0.5362\n",
      "Epoch 134/200\n",
      "1419/1419 [==============================] - 30s 21ms/step - loss: 0.9935 - accuracy: 0.5953 - val_loss: 1.1254 - val_accuracy: 0.5379\n",
      "Epoch 135/200\n",
      "1419/1419 [==============================] - 29s 20ms/step - loss: 0.9843 - accuracy: 0.5971 - val_loss: 1.1395 - val_accuracy: 0.5361\n",
      "Epoch 136/200\n",
      "1419/1419 [==============================] - 30s 21ms/step - loss: 0.9830 - accuracy: 0.5995 - val_loss: 1.1381 - val_accuracy: 0.5388\n",
      "Epoch 137/200\n",
      "1419/1419 [==============================] - 30s 21ms/step - loss: 0.9933 - accuracy: 0.5966 - val_loss: 1.1152 - val_accuracy: 0.5421\n",
      "Epoch 138/200\n",
      "1419/1419 [==============================] - 28s 20ms/step - loss: 0.9890 - accuracy: 0.5963 - val_loss: 1.1296 - val_accuracy: 0.5395\n",
      "Epoch 139/200\n",
      "1419/1419 [==============================] - 28s 20ms/step - loss: 0.9908 - accuracy: 0.5969 - val_loss: 1.1227 - val_accuracy: 0.5386\n",
      "Epoch 140/200\n",
      "1419/1419 [==============================] - 28s 20ms/step - loss: 0.9954 - accuracy: 0.5932 - val_loss: 1.1329 - val_accuracy: 0.5428\n",
      "Epoch 141/200\n",
      "1419/1419 [==============================] - 29s 20ms/step - loss: 0.9887 - accuracy: 0.5974 - val_loss: 1.1310 - val_accuracy: 0.5394\n",
      "Epoch 142/200\n",
      "1419/1419 [==============================] - 27s 19ms/step - loss: 0.9906 - accuracy: 0.5941 - val_loss: 1.1375 - val_accuracy: 0.5366\n",
      "Epoch 143/200\n",
      "1419/1419 [==============================] - 28s 19ms/step - loss: 0.9896 - accuracy: 0.5943 - val_loss: 1.1300 - val_accuracy: 0.5398\n",
      "Epoch 144/200\n",
      "1419/1419 [==============================] - 28s 20ms/step - loss: 0.9899 - accuracy: 0.5960 - val_loss: 1.1286 - val_accuracy: 0.5418\n",
      "Epoch 145/200\n",
      "1419/1419 [==============================] - 29s 20ms/step - loss: 1.1150 - accuracy: 0.5376 - val_loss: 1.1306 - val_accuracy: 0.5387\n",
      "Epoch 146/200\n",
      "1419/1419 [==============================] - 27s 19ms/step - loss: 0.9913 - accuracy: 0.5932 - val_loss: 1.1323 - val_accuracy: 0.5361\n",
      "Epoch 147/200\n",
      "1419/1419 [==============================] - 29s 20ms/step - loss: 0.9900 - accuracy: 0.5938 - val_loss: 1.1308 - val_accuracy: 0.5399\n",
      "Epoch 148/200\n",
      "1419/1419 [==============================] - 28s 20ms/step - loss: 0.9915 - accuracy: 0.5941 - val_loss: 1.1288 - val_accuracy: 0.5377\n",
      "Epoch 149/200\n",
      "1419/1419 [==============================] - 28s 20ms/step - loss: 1.0202 - accuracy: 0.5853 - val_loss: 1.1368 - val_accuracy: 0.5372\n",
      "Epoch 150/200\n",
      "1419/1419 [==============================] - 28s 20ms/step - loss: 0.9873 - accuracy: 0.5983 - val_loss: 1.1325 - val_accuracy: 0.5379\n",
      "Epoch 151/200\n",
      "1419/1419 [==============================] - 26s 18ms/step - loss: 0.9898 - accuracy: 0.5996 - val_loss: 1.1288 - val_accuracy: 0.5372\n",
      "Epoch 152/200\n",
      "1419/1419 [==============================] - 28s 19ms/step - loss: 0.9865 - accuracy: 0.5958 - val_loss: 1.1312 - val_accuracy: 0.5372\n",
      "Epoch 153/200\n",
      "1419/1419 [==============================] - 29s 20ms/step - loss: 0.9933 - accuracy: 0.5949 - val_loss: 1.1315 - val_accuracy: 0.5326\n",
      "Epoch 154/200\n",
      "1419/1419 [==============================] - 27s 19ms/step - loss: 0.9851 - accuracy: 0.5990 - val_loss: 1.1388 - val_accuracy: 0.5354\n",
      "Epoch 155/200\n",
      "1419/1419 [==============================] - 26s 18ms/step - loss: 0.9849 - accuracy: 0.5966 - val_loss: 1.1373 - val_accuracy: 0.5368\n",
      "Epoch 156/200\n",
      "1419/1419 [==============================] - 26s 19ms/step - loss: 0.9848 - accuracy: 0.5958 - val_loss: 1.1325 - val_accuracy: 0.5366\n",
      "Epoch 157/200\n",
      "1419/1419 [==============================] - 26s 18ms/step - loss: 0.9868 - accuracy: 0.5926 - val_loss: 1.1371 - val_accuracy: 0.5361\n",
      "Epoch 158/200\n",
      "1419/1419 [==============================] - 26s 18ms/step - loss: 0.9912 - accuracy: 0.5970 - val_loss: 1.1305 - val_accuracy: 0.5395\n",
      "Epoch 159/200\n",
      "1419/1419 [==============================] - 27s 19ms/step - loss: 0.9796 - accuracy: 0.5986 - val_loss: 1.1483 - val_accuracy: 0.5413\n",
      "Epoch 160/200\n",
      "1419/1419 [==============================] - 27s 19ms/step - loss: 0.9768 - accuracy: 0.6041 - val_loss: 1.1374 - val_accuracy: 0.5419\n",
      "Epoch 161/200\n",
      "1419/1419 [==============================] - 27s 19ms/step - loss: 0.9794 - accuracy: 0.5986 - val_loss: 1.1433 - val_accuracy: 0.5398\n",
      "Epoch 162/200\n",
      "1419/1419 [==============================] - 26s 19ms/step - loss: 0.9861 - accuracy: 0.5982 - val_loss: 1.1454 - val_accuracy: 0.5366\n",
      "Epoch 163/200\n",
      "1419/1419 [==============================] - 26s 18ms/step - loss: 0.9864 - accuracy: 0.5948 - val_loss: 1.1311 - val_accuracy: 0.5390\n",
      "Epoch 164/200\n",
      "1419/1419 [==============================] - 26s 18ms/step - loss: 0.9823 - accuracy: 0.5963 - val_loss: 1.1336 - val_accuracy: 0.5391\n",
      "Epoch 165/200\n",
      "1419/1419 [==============================] - 26s 18ms/step - loss: 0.9865 - accuracy: 0.5973 - val_loss: 1.1305 - val_accuracy: 0.5412\n",
      "Epoch 166/200\n",
      "1419/1419 [==============================] - 27s 19ms/step - loss: 0.9827 - accuracy: 0.5970 - val_loss: 1.1246 - val_accuracy: 0.5427\n",
      "Epoch 167/200\n",
      "1419/1419 [==============================] - 27s 19ms/step - loss: 0.9832 - accuracy: 0.6000 - val_loss: 1.1303 - val_accuracy: 0.5395\n",
      "Epoch 168/200\n",
      "1419/1419 [==============================] - 27s 19ms/step - loss: 0.9836 - accuracy: 0.5990 - val_loss: 1.1452 - val_accuracy: 0.5408\n",
      "Epoch 169/200\n",
      "1419/1419 [==============================] - 28s 20ms/step - loss: 0.9899 - accuracy: 0.5988 - val_loss: 1.1456 - val_accuracy: 0.5377\n",
      "Epoch 170/200\n",
      "1419/1419 [==============================] - 27s 19ms/step - loss: 0.9838 - accuracy: 0.5995 - val_loss: 1.1313 - val_accuracy: 0.5379\n",
      "Epoch 171/200\n",
      "1419/1419 [==============================] - 29s 21ms/step - loss: 0.9813 - accuracy: 0.6022 - val_loss: 1.1308 - val_accuracy: 0.5402\n",
      "Epoch 172/200\n",
      "1419/1419 [==============================] - 29s 20ms/step - loss: 0.9792 - accuracy: 0.5997 - val_loss: 1.1418 - val_accuracy: 0.5397\n",
      "Epoch 173/200\n",
      "1419/1419 [==============================] - 29s 20ms/step - loss: 0.9762 - accuracy: 0.6042 - val_loss: 1.1445 - val_accuracy: 0.5430\n",
      "Epoch 174/200\n",
      "1419/1419 [==============================] - 28s 20ms/step - loss: 1.0036 - accuracy: 0.5897 - val_loss: 1.1257 - val_accuracy: 0.5391\n",
      "Epoch 175/200\n",
      "1419/1419 [==============================] - 28s 20ms/step - loss: 0.9822 - accuracy: 0.6030 - val_loss: 1.1320 - val_accuracy: 0.5433\n",
      "Epoch 176/200\n",
      "1419/1419 [==============================] - 27s 19ms/step - loss: 0.9692 - accuracy: 0.6092 - val_loss: 1.1322 - val_accuracy: 0.5375\n",
      "Epoch 177/200\n",
      "1419/1419 [==============================] - 26s 19ms/step - loss: 0.9788 - accuracy: 0.6025 - val_loss: 1.1326 - val_accuracy: 0.5371\n",
      "Epoch 178/200\n",
      "1419/1419 [==============================] - 26s 18ms/step - loss: 0.9806 - accuracy: 0.5997 - val_loss: 1.1255 - val_accuracy: 0.5424\n",
      "Epoch 179/200\n",
      "1419/1419 [==============================] - 28s 20ms/step - loss: 0.9827 - accuracy: 0.6016 - val_loss: 1.1357 - val_accuracy: 0.5393\n",
      "Epoch 180/200\n",
      "1419/1419 [==============================] - 28s 20ms/step - loss: 0.9788 - accuracy: 0.5977 - val_loss: 1.1281 - val_accuracy: 0.5420\n",
      "Epoch 181/200\n",
      "1419/1419 [==============================] - 28s 20ms/step - loss: 0.9810 - accuracy: 0.6000 - val_loss: 1.1361 - val_accuracy: 0.5387\n",
      "Epoch 182/200\n",
      "1419/1419 [==============================] - 29s 21ms/step - loss: 0.9750 - accuracy: 0.6029 - val_loss: 1.1293 - val_accuracy: 0.5400\n",
      "Epoch 183/200\n",
      "1419/1419 [==============================] - 27s 19ms/step - loss: 0.9768 - accuracy: 0.6021 - val_loss: 1.1246 - val_accuracy: 0.5484\n",
      "Epoch 184/200\n",
      "1419/1419 [==============================] - 26s 18ms/step - loss: 0.9806 - accuracy: 0.6022 - val_loss: 1.1510 - val_accuracy: 0.5353\n",
      "Epoch 185/200\n",
      "1419/1419 [==============================] - 26s 18ms/step - loss: 1.0750 - accuracy: 0.5603 - val_loss: 1.1370 - val_accuracy: 0.5377\n",
      "Epoch 186/200\n",
      "1419/1419 [==============================] - 28s 20ms/step - loss: 0.9840 - accuracy: 0.5953 - val_loss: 1.1386 - val_accuracy: 0.5406\n",
      "Epoch 187/200\n",
      "1419/1419 [==============================] - 29s 20ms/step - loss: 0.9763 - accuracy: 0.6003 - val_loss: 1.1259 - val_accuracy: 0.5432\n",
      "Epoch 188/200\n",
      "1419/1419 [==============================] - 30s 21ms/step - loss: 0.9718 - accuracy: 0.6070 - val_loss: 1.1343 - val_accuracy: 0.5395\n",
      "Epoch 189/200\n",
      "1419/1419 [==============================] - 29s 20ms/step - loss: 0.9777 - accuracy: 0.6011 - val_loss: 1.1345 - val_accuracy: 0.5368\n",
      "Epoch 190/200\n",
      "1419/1419 [==============================] - 31s 22ms/step - loss: 0.9855 - accuracy: 0.6000 - val_loss: 1.1347 - val_accuracy: 0.5451\n",
      "Epoch 191/200\n",
      "1419/1419 [==============================] - 28s 20ms/step - loss: 0.9712 - accuracy: 0.6052 - val_loss: 1.1424 - val_accuracy: 0.5390\n",
      "Epoch 192/200\n",
      "1419/1419 [==============================] - 30s 21ms/step - loss: 0.9767 - accuracy: 0.6038 - val_loss: 1.1393 - val_accuracy: 0.5370\n",
      "Epoch 193/200\n",
      "1419/1419 [==============================] - 29s 21ms/step - loss: 0.9693 - accuracy: 0.6074 - val_loss: 1.1419 - val_accuracy: 0.5441\n",
      "Epoch 194/200\n",
      "1419/1419 [==============================] - 30s 21ms/step - loss: 0.9808 - accuracy: 0.5982 - val_loss: 1.1412 - val_accuracy: 0.5427\n",
      "Epoch 195/200\n",
      "1419/1419 [==============================] - 31s 22ms/step - loss: 0.9703 - accuracy: 0.6036 - val_loss: 1.1452 - val_accuracy: 0.5412\n",
      "Epoch 196/200\n",
      "1419/1419 [==============================] - 29s 21ms/step - loss: 0.9728 - accuracy: 0.6049 - val_loss: 1.1411 - val_accuracy: 0.5424\n",
      "Epoch 197/200\n",
      "1419/1419 [==============================] - 30s 21ms/step - loss: 0.9801 - accuracy: 0.6010 - val_loss: 1.1334 - val_accuracy: 0.5414\n",
      "Epoch 198/200\n",
      "1419/1419 [==============================] - 29s 20ms/step - loss: 0.9818 - accuracy: 0.6019 - val_loss: 1.1341 - val_accuracy: 0.5359\n",
      "Epoch 199/200\n",
      "1419/1419 [==============================] - 28s 20ms/step - loss: 0.9678 - accuracy: 0.6066 - val_loss: 1.1404 - val_accuracy: 0.5356\n",
      "Epoch 200/200\n",
      "1419/1419 [==============================] - 29s 21ms/step - loss: 0.9703 - accuracy: 0.6077 - val_loss: 1.1501 - val_accuracy: 0.5302\n"
     ]
    }
   ],
   "source": [
    "num_epochs = 200\n",
    "\n",
    "history = model.fit(\n",
    "    training_content_enc,\n",
    "    training_labels,\n",
    "    batch_size=18,      # small batch size are better but costs a lot of time\n",
    "    epochs=num_epochs,\n",
    "    validation_data=(\n",
    "        validating_content_enc,\n",
    "        validating_labels_enc),\n",
    "    verbose=1,\n",
    "    callbacks=[tensorboard_callback])"
   ]
  },
  {
   "cell_type": "code",
   "execution_count": 91,
   "metadata": {},
   "outputs": [],
   "source": [
    "model.save(\"LSTM_model_label_encoding_4.h5\")"
   ]
  },
  {
   "cell_type": "markdown",
   "metadata": {},
   "source": [
    "# Evaluation"
   ]
  },
  {
   "cell_type": "markdown",
   "metadata": {},
   "source": [
    "## Single Value Test (Validation Data)"
   ]
  },
  {
   "cell_type": "code",
   "execution_count": 92,
   "metadata": {},
   "outputs": [
    {
     "name": "stdout",
     "output_type": "stream",
     "text": [
      "Encoded label for this validation set: [2]\n"
     ]
    }
   ],
   "source": [
    "print(f'Encoded label for this validation set: {validating_labels_enc[2486]}')"
   ]
  },
  {
   "cell_type": "code",
   "execution_count": 93,
   "metadata": {},
   "outputs": [
    {
     "name": "stdout",
     "output_type": "stream",
     "text": [
      "Decoded value of the validation label: [0.5]\n"
     ]
    }
   ],
   "source": [
    "print(f'Decoded value of the validation label: {encoder.inverse_transform(validating_labels_enc[2486])}')"
   ]
  },
  {
   "cell_type": "code",
   "execution_count": 94,
   "metadata": {},
   "outputs": [
    {
     "name": "stdout",
     "output_type": "stream",
     "text": [
      "Models prediciton for this single validation data is: [0.75]\n"
     ]
    }
   ],
   "source": [
    "prediction_value = np.argmax(model.predict(validating_content_enc[np.newaxis , 2486]))\n",
    "print(f'Models prediciton for this single validation data is: {encoder.inverse_transform([prediction_value])}')"
   ]
  },
  {
   "cell_type": "markdown",
   "metadata": {},
   "source": [
    "## Test with all Validation Data"
   ]
  },
  {
   "cell_type": "code",
   "execution_count": 95,
   "metadata": {},
   "outputs": [],
   "source": [
    "predictions = model.predict(validating_content_enc)"
   ]
  },
  {
   "cell_type": "code",
   "execution_count": 99,
   "metadata": {},
   "outputs": [
    {
     "name": "stdout",
     "output_type": "stream",
     "text": [
      "Models accuracy is - 0.5301589965820312 %\n"
     ]
    }
   ],
   "source": [
    "evaluation = model.evaluate(validating_content_enc, validating_labels_enc, verbose=0)\n",
    "print(f'Models accuracy is - {evaluation[1]}')"
   ]
  },
  {
   "cell_type": "code",
   "execution_count": 97,
   "metadata": {},
   "outputs": [
    {
     "data": {
      "text/plain": [
       "[<matplotlib.lines.Line2D at 0x1a0bf340340>]"
      ]
     },
     "execution_count": 97,
     "metadata": {},
     "output_type": "execute_result"
    },
    {
     "data": {
      "image/png": "[encoded data removed]",
      "text/plain": [
       "<Figure size 432x288 with 1 Axes>"
      ]
     },
     "metadata": {
      "needs_background": "light"
     },
     "output_type": "display_data"
    }
   ],
   "source": [
    "plt.plot(history.history['loss'])\n",
    "plt.plot(history.history['val_loss'])"
   ]
  },
  {
   "cell_type": "markdown",
   "metadata": {},
   "source": [
    "# Submission File"
   ]
  },
  {
   "cell_type": "markdown",
   "metadata": {},
   "source": [
    "## Training on all Data"
   ]
  },
  {
   "cell_type": "markdown",
   "metadata": {},
   "source": [
    "## Prediction of Test File Values"
   ]
  },
  {
   "cell_type": "code",
   "execution_count": null,
   "metadata": {},
   "outputs": [],
   "source": [
    "mnist_competition_file = pd.DataFrame(columns=['id','score'])"
   ]
  },
  {
   "cell_type": "code",
   "execution_count": null,
   "metadata": {},
   "outputs": [],
   "source": [
    "# Encoding test data.\n",
    "test_content_enc = encode_text(tokenizer, test_content, max_line_length)\n",
    "print(f'Shape training set (encoded): {test_content_enc.shape}')"
   ]
  }
 ],
 "metadata": {
  "interpreter": {
   "hash": "9f886a0e7e4bdf7e8f253b33537ca1c5dcae8e086cc45ba5445b111bc8663c61"
  },
  "kernelspec": {
   "display_name": "Python 3 (ipykernel)",
   "language": "python",
   "name": "python3"
  },
  "language_info": {
   "codemirror_mode": {
    "name": "ipython",
    "version": 3
   },
   "file_extension": ".py",
   "mimetype": "text/x-python",
   "name": "python",
   "nbconvert_exporter": "python",
   "pygments_lexer": "ipython3",
   "version": "3.8.13"
  }
 },
 "nbformat": 4,
 "nbformat_minor": 2
}
