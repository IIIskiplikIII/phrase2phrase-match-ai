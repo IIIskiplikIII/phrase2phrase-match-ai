{
 "cells": [
  {
   "cell_type": "markdown",
   "id": "8ec671fa",
   "metadata": {
    "papermill": {
     "duration": 0.022206,
     "end_time": "2022-06-21T07:11:02.021009",
     "exception": false,
     "start_time": "2022-06-21T07:11:01.998803",
     "status": "completed"
    },
    "tags": []
   },
   "source": [
    "# Introduction\n",
    "Hi visitor,\n",
    "this is my first NLP project and my first competition on Kaggle. I am familliar with the theoretical basics of NLP but never did a project on this topics especially with some pretrained models. So this is it. \n",
    "\n",
    "In this project I tried two approaches of pre-trained model us. One where I load the pre-trained model manually in the embeddings layer and use that layer as a part of my model (glove) and the other one based on Huggingfaces🤗 framework, where I use the from_pretrained() function which loads the whole model (with all layers).\n",
    "\n",
    "After the Competition:\n",
    "For a better learning process I recaped my work and compared it with other competitions contributors work. One main notebook here was Jeremy Howards \"Iterate like a grandmaster!\". I used a lot of his approaches in this notebook in the recap phase. If you want to see my initial approach where I got around 70% accuracy you should take a look at version 14. This was the version that I submitted to the competition. All work after this version is part of the recap phase and therefore full of inspiring code parts of other contributors\n",
    "\n",
    "INFO: According to the Kaggle dataset situation, I could find the Deberta base model there for Tensorflow therefore I needed to choose the roBerta model. So it could therefore occur the situation you find some variable / model / checkpoint names that are still named after deberta and not roberta. I will try to fix this one after the other.\n",
    "And according to the current state of competition I focused on the Deberta/Roberta approach only which made my comment out the Glove model section. I will reactivate it in the final version of this notebook.\n",
    "\n",
    "I thereforce ask you to bear with?! 🤗"
   ]
  },
  {
   "cell_type": "markdown",
   "id": "dea160ea",
   "metadata": {
    "papermill": {
     "duration": 0.02074,
     "end_time": "2022-06-21T07:11:02.063820",
     "exception": false,
     "start_time": "2022-06-21T07:11:02.043080",
     "status": "completed"
    },
    "tags": []
   },
   "source": [
    "# Imports and Datasets"
   ]
  },
  {
   "cell_type": "code",
   "execution_count": 1,
   "id": "fad67e2f",
   "metadata": {
    "execution": {
     "iopub.execute_input": "2022-06-21T07:11:02.107160Z",
     "iopub.status.busy": "2022-06-21T07:11:02.106365Z",
     "iopub.status.idle": "2022-06-21T07:11:16.532330Z",
     "shell.execute_reply": "2022-06-21T07:11:16.531564Z"
    },
    "papermill": {
     "duration": 14.449925,
     "end_time": "2022-06-21T07:11:16.534173",
     "exception": false,
     "start_time": "2022-06-21T07:11:02.084248",
     "status": "completed"
    },
    "tags": []
   },
   "outputs": [
    {
     "name": "stderr",
     "output_type": "stream",
     "text": [
      "d:\\anaconda3\\envs\\wingpuflake_keras_GPU\\lib\\site-packages\\tqdm\\auto.py:22: TqdmWarning: IProgress not found. Please update jupyter and ipywidgets. See https://ipywidgets.readthedocs.io/en/stable/user_install.html\n",
      "  from .autonotebook import tqdm as notebook_tqdm\n"
     ]
    },
    {
     "name": "stdout",
     "output_type": "stream",
     "text": [
      "Tensorflow Version: 2.8.0\n",
      "Keras Version: 2.8.0\n",
      "---Tensorflow is running with GPU Power now---\n",
      "Device mapping:\n",
      "/job:localhost/replica:0/task:0/device:GPU:0 -> device: 0, name: NVIDIA GeForce RTX 2080 Ti, pci bus id: 0000:04:00.0, compute capability: 7.5\n",
      "/job:localhost/replica:0/task:0/device:GPU:1 -> device: 1, name: NVIDIA GeForce RTX 2080 Ti, pci bus id: 0000:09:00.0, compute capability: 7.5\n",
      "\n",
      "f:\\python-workspace\\phrase2phrase-match-ai\\data\\input\\us-patent-phrase-to-phrase-matching\\sample_submission.csv\n",
      "f:\\python-workspace\\phrase2phrase-match-ai\\data\\input\\us-patent-phrase-to-phrase-matching\\test.csv\n",
      "f:\\python-workspace\\phrase2phrase-match-ai\\data\\input\\us-patent-phrase-to-phrase-matching\\train.csv\n"
     ]
    }
   ],
   "source": [
    "import sys\n",
    "assert sys.version_info >= (3,5)\n",
    "import os\n",
    "import pathlib\n",
    "\n",
    "# Is this notebook running on Colab or Kaggle?\n",
    "IS_COLAB = \"google.colab\" in sys.modules\n",
    "IS_KAGGLE = \"kaggle_secrets\" in sys.modules\n",
    "\n",
    "import numpy as np\n",
    "import pandas as pd\n",
    "import matplotlib.pyplot as plt\n",
    "from functools import partial\n",
    "import seaborn as sns\n",
    "from datasets import Dataset\n",
    "from datasets import DatasetDict\n",
    "\n",
    "from sklearn.model_selection import train_test_split\n",
    "from sklearn.pipeline import Pipeline\n",
    "from sklearn.preprocessing import StandardScaler\n",
    "from sklearn.preprocessing import Normalizer\n",
    "from sklearn.preprocessing import LabelEncoder\n",
    "\n",
    "import nltk\n",
    "from string import punctuation\n",
    "from collections import Counter\n",
    "\n",
    "from scipy.spatial.distance import cosine\n",
    "\n",
    "import tensorflow as tf\n",
    "from tensorflow import keras\n",
    "import tensorflow_datasets as tfds\n",
    "from keras.preprocessing.text import Tokenizer\n",
    "from keras.preprocessing.sequence import pad_sequences\n",
    "from keras import layers\n",
    "from keras.layers import Embedding, LSTM, Dense, Dropout, CuDNNLSTM, Bidirectional\n",
    "from keras.layers.merge import concatenate\n",
    "from transformers import TrainingArguments\n",
    "from transformers import BertTokenizer, TFDebertaModel\n",
    "from transformers import RobertaTokenizer, TFRobertaModel, TFRobertaForSequenceClassification\n",
    "from transformers import TFAutoModel\n",
    "\n",
    "#import mlflow\n",
    "#from mlflow import log_metric, log_param, log_artifacts\n",
    "#import mlflow.tensorflow\n",
    "#from mlflow import pyfunc\n",
    "\n",
    "assert tf.__version__ >= \"2.0\"\n",
    "\n",
    "print(f\"Tensorflow Version: {tf.__version__}\")\n",
    "print(f\"Keras Version: {keras.__version__}\")\n",
    "\n",
    "if not tf.config.list_physical_devices('GPU'):\n",
    "    print(\"No GPU was detected. LSTMs and CNNs can be very slow without a GPU.\")\n",
    "    if IS_COLAB:\n",
    "        print(\"Go to Runtime > Change runtime and select a GPU hardware accelerator.\")\n",
    "    if IS_KAGGLE:\n",
    "        print(\"Go to Settings > Accelerator and select GPU.\")\n",
    "else:\n",
    "    print(f'---Tensorflow is running with GPU Power now---')\n",
    "    sess = tf.compat.v1.Session(config=tf.compat.v1.ConfigProto(log_device_placement=True))\n",
    "    \n",
    "\n",
    "\n",
    "random_state=42\n",
    "tf.random.set_seed(random_state)\n",
    "np.random.seed(random_state)\n",
    "\n",
    "iskaggle = os.environ.get('KAGGLE_KERNEL_RUN_TYPE','')\n",
    "#kaggle = 0 # Kaggle path active = 1\n",
    "\n",
    "MAIN_PATH = os.getcwd()\n",
    "\n",
    "# change your local path here\n",
    "if iskaggle:\n",
    "    DATA_PATH = os.path.join(MAIN_PATH, '../input')\n",
    "    PHRASES_PATH = os.path.join(DATA_PATH, 'us-patent-phrase-to-phrase-matching')\n",
    "else:\n",
    "    DATA_PATH = os.path.join(MAIN_PATH, 'data')\n",
    "    PHRASES_PATH = os.path.join(DATA_PATH,'input\\\\us-patent-phrase-to-phrase-matching')\n",
    "\n",
    "\n",
    "\n",
    "for dirname, _, filenames in os.walk(PHRASES_PATH): \n",
    "    for filename in filenames:\n",
    "        print(os.path.join(dirname, filename))\n",
    "        "
   ]
  },
  {
   "cell_type": "markdown",
   "id": "966ccef5",
   "metadata": {
    "papermill": {
     "duration": 0.021357,
     "end_time": "2022-06-21T07:11:16.576849",
     "exception": false,
     "start_time": "2022-06-21T07:11:16.555492",
     "status": "completed"
    },
    "tags": []
   },
   "source": [
    "# Get the Data"
   ]
  },
  {
   "cell_type": "code",
   "execution_count": 2,
   "id": "34d141f8",
   "metadata": {
    "execution": {
     "iopub.execute_input": "2022-06-21T07:11:16.619305Z",
     "iopub.status.busy": "2022-06-21T07:11:16.618758Z",
     "iopub.status.idle": "2022-06-21T07:11:17.384724Z",
     "shell.execute_reply": "2022-06-21T07:11:17.383675Z"
    },
    "papermill": {
     "duration": 0.789531,
     "end_time": "2022-06-21T07:11:17.386787",
     "exception": false,
     "start_time": "2022-06-21T07:11:16.597256",
     "status": "completed"
    },
    "tags": []
   },
   "outputs": [
    {
     "name": "stdout",
     "output_type": "stream",
     "text": [
      "Length of loaded trainset: 36473\n",
      "Length of loaded testset: 36\n",
      "Length of loaded competition file: 36\n",
      "Length of loaded cpc_codeset: 260476\n"
     ]
    }
   ],
   "source": [
    "# Data path and file\n",
    "CSV_FILE_TRAIN='train.csv'\n",
    "CSV_FILE_TEST='test.csv'\n",
    "CSV_FILE_COMF='sample_submission.csv'\n",
    "CSV_FILE_CPC='titles.csv'\n",
    "CPC_PATH='cpc-codes'\n",
    "DEBERTA_PATH='huggingface-deberta-variants'\n",
    "ROBERTA_PATH='roberta-base'\n",
    "\n",
    "def load_csv_data(path, csv_file):\n",
    "    csv_path = os.path.join(path, csv_file)\n",
    "    return pd.read_csv(csv_path)\n",
    "\n",
    "def load_csv_data_manuel(path, csv_file):\n",
    "    csv_path = os.path.join(path, csv_file)\n",
    "    csv_file = open(csv_path, 'r')\n",
    "    csv_data = csv_file.readlines()\n",
    "    csv_file.close()\n",
    "    return csv_data\n",
    "    \n",
    "\n",
    "train = load_csv_data(PHRASES_PATH,CSV_FILE_TRAIN)\n",
    "test = load_csv_data(PHRASES_PATH,CSV_FILE_TEST)\n",
    "competition_file = load_csv_data(PHRASES_PATH,CSV_FILE_COMF)\n",
    "cpc_code = load_csv_data(os.path.join(DATA_PATH, CPC_PATH), CSV_FILE_CPC)\n",
    "\n",
    "\n",
    "print(f'Length of loaded trainset: {len(train)}')\n",
    "print(f'Length of loaded testset: {len(test)}')\n",
    "print(f'Length of loaded competition file: {len(competition_file)}')\n",
    "print(f'Length of loaded cpc_codeset: {len(cpc_code)}')"
   ]
  },
  {
   "cell_type": "code",
   "execution_count": 3,
   "id": "121f94ac",
   "metadata": {
    "execution": {
     "iopub.execute_input": "2022-06-21T07:11:17.430575Z",
     "iopub.status.busy": "2022-06-21T07:11:17.429720Z",
     "iopub.status.idle": "2022-06-21T07:11:17.597165Z",
     "shell.execute_reply": "2022-06-21T07:11:17.596374Z"
    },
    "papermill": {
     "duration": 0.191338,
     "end_time": "2022-06-21T07:11:17.599201",
     "exception": false,
     "start_time": "2022-06-21T07:11:17.407863",
     "status": "completed"
    },
    "tags": []
   },
   "outputs": [],
   "source": [
    "train = train.join(cpc_code.set_index('code'), on = 'context')\n",
    "test = test.join(cpc_code.set_index('code'), on = 'context')"
   ]
  },
  {
   "cell_type": "markdown",
   "id": "c0aabd2b",
   "metadata": {
    "papermill": {
     "duration": 0.020359,
     "end_time": "2022-06-21T07:11:17.640941",
     "exception": false,
     "start_time": "2022-06-21T07:11:17.620582",
     "status": "completed"
    },
    "tags": []
   },
   "source": [
    "## Loading Model Files"
   ]
  },
  {
   "cell_type": "code",
   "execution_count": 4,
   "id": "232e14dd",
   "metadata": {
    "execution": {
     "iopub.execute_input": "2022-06-21T07:11:17.683069Z",
     "iopub.status.busy": "2022-06-21T07:11:17.682738Z",
     "iopub.status.idle": "2022-06-21T07:11:17.687276Z",
     "shell.execute_reply": "2022-06-21T07:11:17.686461Z"
    },
    "papermill": {
     "duration": 0.027769,
     "end_time": "2022-06-21T07:11:17.688916",
     "exception": false,
     "start_time": "2022-06-21T07:11:17.661147",
     "status": "completed"
    },
    "tags": []
   },
   "outputs": [],
   "source": [
    "# change your local path here\n",
    "if iskaggle:\n",
    "    path_to_glove_file = os.path.join(DATA_PATH, 'glove6b/glove.6B.300d.txt') # kaggle datasource location\n",
    "else:\n",
    "    path_to_glove_file = os.path.join(DATA_PATH,'glove.6B\\\\glove.6B.300d.txt')"
   ]
  },
  {
   "cell_type": "code",
   "execution_count": 5,
   "id": "373c51f3",
   "metadata": {
    "execution": {
     "iopub.execute_input": "2022-06-21T07:11:17.730625Z",
     "iopub.status.busy": "2022-06-21T07:11:17.730352Z",
     "iopub.status.idle": "2022-06-21T07:11:17.734146Z",
     "shell.execute_reply": "2022-06-21T07:11:17.733465Z"
    },
    "papermill": {
     "duration": 0.026451,
     "end_time": "2022-06-21T07:11:17.735809",
     "exception": false,
     "start_time": "2022-06-21T07:11:17.709358",
     "status": "completed"
    },
    "tags": []
   },
   "outputs": [],
   "source": [
    "if iskaggle:\n",
    "    DEBERTA_BASE = os.path.join(DATA_PATH, DEBERTA_PATH + '/deberta-base/deberta-base') # kaggle datasource location\n",
    "else:\n",
    "    DEBERTA_BASE = 'microsoft/deberta-base'"
   ]
  },
  {
   "cell_type": "code",
   "execution_count": 6,
   "id": "1ade49a6",
   "metadata": {
    "execution": {
     "iopub.execute_input": "2022-06-21T07:11:17.778079Z",
     "iopub.status.busy": "2022-06-21T07:11:17.777834Z",
     "iopub.status.idle": "2022-06-21T07:11:17.781701Z",
     "shell.execute_reply": "2022-06-21T07:11:17.780885Z"
    },
    "papermill": {
     "duration": 0.027393,
     "end_time": "2022-06-21T07:11:17.783566",
     "exception": false,
     "start_time": "2022-06-21T07:11:17.756173",
     "status": "completed"
    },
    "tags": []
   },
   "outputs": [],
   "source": [
    "if iskaggle:\n",
    "    ROBERTA_BASE = os.path.join(DATA_PATH, ROBERTA_PATH) # kaggle datasource location\n",
    "else:\n",
    "    ROBERTA_BASE = 'roberta-base'"
   ]
  },
  {
   "cell_type": "markdown",
   "id": "924a8e2e",
   "metadata": {
    "papermill": {
     "duration": 0.020152,
     "end_time": "2022-06-21T07:11:17.824009",
     "exception": false,
     "start_time": "2022-06-21T07:11:17.803857",
     "status": "completed"
    },
    "tags": []
   },
   "source": [
    "# Data Understanding"
   ]
  },
  {
   "cell_type": "markdown",
   "id": "660e29b2",
   "metadata": {
    "papermill": {
     "duration": 0.020289,
     "end_time": "2022-06-21T07:11:17.864877",
     "exception": false,
     "start_time": "2022-06-21T07:11:17.844588",
     "status": "completed"
    },
    "tags": []
   },
   "source": [
    "## Given Attributes\n",
    "- id - a unique identifier for a pair of phrases\n",
    "- anchor - the first phrase\n",
    "- target - the second phrase\n",
    "- context - the CPC classification (version 2021.05), which indicates the subject within which the similarity is to be scored\n",
    "- score - the similarity. This is sourced from a combination of one or more manual expert ratings.\n",
    "\n",
    "\n",
    "## Score\n",
    "The scores are in the 0-1 range with increments of 0.25 with the following meanings:\n",
    "\n",
    "- 1.0 - Very close match. This is typically an exact match except possibly for differences in conjugation, quantity (e.g. singular vs. plural), and addition or removal of stopwords (e.g. “the”, “and”, “or”).\n",
    "- 0.75 - Close synonym, e.g. “mobile phone” vs. “cellphone”. This also includes abbreviations, e.g. \"TCP\" -> \"transmission control protocol\".\n",
    "- 0.5 - Synonyms which don’t have the same meaning (same function, same properties). This includes broad-narrow (hyponym) and narrow-broad (hypernym) matches.\n",
    "- 0.25 - Somewhat related, e.g. the two phrases are in the same high level domain but are not synonyms. This also includes antonyms.\n",
    "- 0.0 - Unrelated."
   ]
  },
  {
   "cell_type": "code",
   "execution_count": 7,
   "id": "2b2be211",
   "metadata": {
    "execution": {
     "iopub.execute_input": "2022-06-21T07:11:17.907158Z",
     "iopub.status.busy": "2022-06-21T07:11:17.906820Z",
     "iopub.status.idle": "2022-06-21T07:11:17.924971Z",
     "shell.execute_reply": "2022-06-21T07:11:17.924208Z"
    },
    "papermill": {
     "duration": 0.04155,
     "end_time": "2022-06-21T07:11:17.926609",
     "exception": false,
     "start_time": "2022-06-21T07:11:17.885059",
     "status": "completed"
    },
    "tags": []
   },
   "outputs": [
    {
     "data": {
      "text/plain": [
       "component composite coating              152\n",
       "sheet supply roller                      150\n",
       "source voltage                           140\n",
       "perfluoroalkyl group                     136\n",
       "el display                               135\n",
       "                                        ... \n",
       "plug nozzle                                2\n",
       "shannon                                    2\n",
       "dry coating composition1                   2\n",
       "peripheral nervous system stimulation      1\n",
       "conduct conducting material                1\n",
       "Name: anchor, Length: 733, dtype: int64"
      ]
     },
     "execution_count": 7,
     "metadata": {},
     "output_type": "execute_result"
    }
   ],
   "source": [
    "train['anchor'].value_counts(dropna=False)"
   ]
  },
  {
   "cell_type": "markdown",
   "id": "9967916c",
   "metadata": {
    "papermill": {
     "duration": 0.021466,
     "end_time": "2022-06-21T07:11:17.968895",
     "exception": false,
     "start_time": "2022-06-21T07:11:17.947429",
     "status": "completed"
    },
    "tags": []
   },
   "source": [
    "The anchor value has 733 different values. Lets look at the target value."
   ]
  },
  {
   "cell_type": "code",
   "execution_count": 8,
   "id": "67cf0c11",
   "metadata": {
    "execution": {
     "iopub.execute_input": "2022-06-21T07:11:18.011661Z",
     "iopub.status.busy": "2022-06-21T07:11:18.011166Z",
     "iopub.status.idle": "2022-06-21T07:11:18.034816Z",
     "shell.execute_reply": "2022-06-21T07:11:18.033973Z"
    },
    "papermill": {
     "duration": 0.047146,
     "end_time": "2022-06-21T07:11:18.036461",
     "exception": false,
     "start_time": "2022-06-21T07:11:17.989315",
     "status": "completed"
    },
    "tags": []
   },
   "outputs": [
    {
     "data": {
      "text/plain": [
       "composition                    24\n",
       "data                           22\n",
       "metal                          22\n",
       "motor                          22\n",
       "assembly                       21\n",
       "                               ..\n",
       "switching switch over valve     1\n",
       "switching switch off valve      1\n",
       "switching over valve            1\n",
       "switching off valve             1\n",
       "wooden substrate                1\n",
       "Name: target, Length: 29340, dtype: int64"
      ]
     },
     "execution_count": 8,
     "metadata": {},
     "output_type": "execute_result"
    }
   ],
   "source": [
    "train['target'].value_counts(dropna=False)"
   ]
  },
  {
   "cell_type": "markdown",
   "id": "010842e0",
   "metadata": {
    "papermill": {
     "duration": 0.020871,
     "end_time": "2022-06-21T07:11:18.077783",
     "exception": false,
     "start_time": "2022-06-21T07:11:18.056912",
     "status": "completed"
    },
    "tags": []
   },
   "source": [
    "The target looks a little bit different. Here we have 29,340 different values."
   ]
  },
  {
   "cell_type": "code",
   "execution_count": 9,
   "id": "97d1727d",
   "metadata": {
    "execution": {
     "iopub.execute_input": "2022-06-21T07:11:18.120115Z",
     "iopub.status.busy": "2022-06-21T07:11:18.119767Z",
     "iopub.status.idle": "2022-06-21T07:11:18.130134Z",
     "shell.execute_reply": "2022-06-21T07:11:18.129130Z"
    },
    "papermill": {
     "duration": 0.033853,
     "end_time": "2022-06-21T07:11:18.132060",
     "exception": false,
     "start_time": "2022-06-21T07:11:18.098207",
     "status": "completed"
    },
    "tags": []
   },
   "outputs": [
    {
     "data": {
      "text/plain": [
       "0.50    12300\n",
       "0.25    11519\n",
       "0.00     7471\n",
       "0.75     4029\n",
       "1.00     1154\n",
       "Name: score, dtype: int64"
      ]
     },
     "execution_count": 9,
     "metadata": {},
     "output_type": "execute_result"
    }
   ],
   "source": [
    "train['score'].value_counts(dropna=False)"
   ]
  },
  {
   "cell_type": "code",
   "execution_count": 10,
   "id": "e47499a6",
   "metadata": {
    "execution": {
     "iopub.execute_input": "2022-06-21T07:11:18.175891Z",
     "iopub.status.busy": "2022-06-21T07:11:18.175448Z",
     "iopub.status.idle": "2022-06-21T07:11:18.376762Z",
     "shell.execute_reply": "2022-06-21T07:11:18.376031Z"
    },
    "papermill": {
     "duration": 0.22489,
     "end_time": "2022-06-21T07:11:18.378471",
     "exception": false,
     "start_time": "2022-06-21T07:11:18.153581",
     "status": "completed"
    },
    "tags": []
   },
   "outputs": [
    {
     "data": {
      "text/plain": [
       "<AxesSubplot:>"
      ]
     },
     "execution_count": 10,
     "metadata": {},
     "output_type": "execute_result"
    },
    {
     "data": {
      "image/png": "[encoded data removed]",
      "text/plain": [
       "<Figure size 432x288 with 1 Axes>"
      ]
     },
     "metadata": {
      "needs_background": "light"
     },
     "output_type": "display_data"
    }
   ],
   "source": [
    "train['score'].value_counts(dropna=False).sort_index().plot.bar()"
   ]
  },
  {
   "cell_type": "code",
   "execution_count": 11,
   "id": "991fb035",
   "metadata": {
    "execution": {
     "iopub.execute_input": "2022-06-21T07:11:18.423877Z",
     "iopub.status.busy": "2022-06-21T07:11:18.423020Z",
     "iopub.status.idle": "2022-06-21T07:11:18.471563Z",
     "shell.execute_reply": "2022-06-21T07:11:18.470647Z"
    },
    "papermill": {
     "duration": 0.073728,
     "end_time": "2022-06-21T07:11:18.474055",
     "exception": false,
     "start_time": "2022-06-21T07:11:18.400327",
     "status": "completed"
    },
    "tags": []
   },
   "outputs": [
    {
     "data": {
      "text/html": [
       "<div>\n",
       "<style scoped>\n",
       "    .dataframe tbody tr th:only-of-type {\n",
       "        vertical-align: middle;\n",
       "    }\n",
       "\n",
       "    .dataframe tbody tr th {\n",
       "        vertical-align: top;\n",
       "    }\n",
       "\n",
       "    .dataframe thead th {\n",
       "        text-align: right;\n",
       "    }\n",
       "</style>\n",
       "<table border=\"1\" class=\"dataframe\">\n",
       "  <thead>\n",
       "    <tr style=\"text-align: right;\">\n",
       "      <th></th>\n",
       "      <th></th>\n",
       "      <th>id</th>\n",
       "      <th>target</th>\n",
       "      <th>score</th>\n",
       "      <th>title</th>\n",
       "      <th>section</th>\n",
       "      <th>class</th>\n",
       "      <th>subclass</th>\n",
       "      <th>group</th>\n",
       "      <th>main_group</th>\n",
       "    </tr>\n",
       "    <tr>\n",
       "      <th>anchor</th>\n",
       "      <th>context</th>\n",
       "      <th></th>\n",
       "      <th></th>\n",
       "      <th></th>\n",
       "      <th></th>\n",
       "      <th></th>\n",
       "      <th></th>\n",
       "      <th></th>\n",
       "      <th></th>\n",
       "      <th></th>\n",
       "    </tr>\n",
       "  </thead>\n",
       "  <tbody>\n",
       "    <tr>\n",
       "      <th rowspan=\"5\" valign=\"top\">abatement</th>\n",
       "      <th>A47</th>\n",
       "      <td>21</td>\n",
       "      <td>21</td>\n",
       "      <td>21</td>\n",
       "      <td>21</td>\n",
       "      <td>21</td>\n",
       "      <td>21</td>\n",
       "      <td>0</td>\n",
       "      <td>0</td>\n",
       "      <td>0</td>\n",
       "    </tr>\n",
       "    <tr>\n",
       "      <th>A61</th>\n",
       "      <td>3</td>\n",
       "      <td>3</td>\n",
       "      <td>3</td>\n",
       "      <td>3</td>\n",
       "      <td>3</td>\n",
       "      <td>3</td>\n",
       "      <td>0</td>\n",
       "      <td>0</td>\n",
       "      <td>0</td>\n",
       "    </tr>\n",
       "    <tr>\n",
       "      <th>A62</th>\n",
       "      <td>1</td>\n",
       "      <td>1</td>\n",
       "      <td>1</td>\n",
       "      <td>1</td>\n",
       "      <td>1</td>\n",
       "      <td>1</td>\n",
       "      <td>0</td>\n",
       "      <td>0</td>\n",
       "      <td>0</td>\n",
       "    </tr>\n",
       "    <tr>\n",
       "      <th>C01</th>\n",
       "      <td>1</td>\n",
       "      <td>1</td>\n",
       "      <td>1</td>\n",
       "      <td>1</td>\n",
       "      <td>1</td>\n",
       "      <td>1</td>\n",
       "      <td>0</td>\n",
       "      <td>0</td>\n",
       "      <td>0</td>\n",
       "    </tr>\n",
       "    <tr>\n",
       "      <th>F16</th>\n",
       "      <td>1</td>\n",
       "      <td>1</td>\n",
       "      <td>1</td>\n",
       "      <td>1</td>\n",
       "      <td>1</td>\n",
       "      <td>1</td>\n",
       "      <td>0</td>\n",
       "      <td>0</td>\n",
       "      <td>0</td>\n",
       "    </tr>\n",
       "    <tr>\n",
       "      <th>...</th>\n",
       "      <th>...</th>\n",
       "      <td>...</td>\n",
       "      <td>...</td>\n",
       "      <td>...</td>\n",
       "      <td>...</td>\n",
       "      <td>...</td>\n",
       "      <td>...</td>\n",
       "      <td>...</td>\n",
       "      <td>...</td>\n",
       "      <td>...</td>\n",
       "    </tr>\n",
       "    <tr>\n",
       "      <th rowspan=\"2\" valign=\"top\">wiring trough</th>\n",
       "      <th>F16</th>\n",
       "      <td>27</td>\n",
       "      <td>27</td>\n",
       "      <td>27</td>\n",
       "      <td>27</td>\n",
       "      <td>27</td>\n",
       "      <td>27</td>\n",
       "      <td>0</td>\n",
       "      <td>0</td>\n",
       "      <td>0</td>\n",
       "    </tr>\n",
       "    <tr>\n",
       "      <th>H02</th>\n",
       "      <td>18</td>\n",
       "      <td>18</td>\n",
       "      <td>18</td>\n",
       "      <td>18</td>\n",
       "      <td>18</td>\n",
       "      <td>18</td>\n",
       "      <td>0</td>\n",
       "      <td>0</td>\n",
       "      <td>0</td>\n",
       "    </tr>\n",
       "    <tr>\n",
       "      <th rowspan=\"3\" valign=\"top\">wood article</th>\n",
       "      <th>B05</th>\n",
       "      <td>28</td>\n",
       "      <td>28</td>\n",
       "      <td>28</td>\n",
       "      <td>28</td>\n",
       "      <td>28</td>\n",
       "      <td>28</td>\n",
       "      <td>0</td>\n",
       "      <td>0</td>\n",
       "      <td>0</td>\n",
       "    </tr>\n",
       "    <tr>\n",
       "      <th>B27</th>\n",
       "      <td>1</td>\n",
       "      <td>1</td>\n",
       "      <td>1</td>\n",
       "      <td>1</td>\n",
       "      <td>1</td>\n",
       "      <td>1</td>\n",
       "      <td>0</td>\n",
       "      <td>0</td>\n",
       "      <td>0</td>\n",
       "    </tr>\n",
       "    <tr>\n",
       "      <th>B44</th>\n",
       "      <td>27</td>\n",
       "      <td>27</td>\n",
       "      <td>27</td>\n",
       "      <td>27</td>\n",
       "      <td>27</td>\n",
       "      <td>27</td>\n",
       "      <td>0</td>\n",
       "      <td>0</td>\n",
       "      <td>0</td>\n",
       "    </tr>\n",
       "  </tbody>\n",
       "</table>\n",
       "<p>1699 rows × 9 columns</p>\n",
       "</div>"
      ],
      "text/plain": [
       "                       id  target  score  title  section  class  subclass  \\\n",
       "anchor        context                                                       \n",
       "abatement     A47      21      21     21     21       21     21         0   \n",
       "              A61       3       3      3      3        3      3         0   \n",
       "              A62       1       1      1      1        1      1         0   \n",
       "              C01       1       1      1      1        1      1         0   \n",
       "              F16       1       1      1      1        1      1         0   \n",
       "...                    ..     ...    ...    ...      ...    ...       ...   \n",
       "wiring trough F16      27      27     27     27       27     27         0   \n",
       "              H02      18      18     18     18       18     18         0   \n",
       "wood article  B05      28      28     28     28       28     28         0   \n",
       "              B27       1       1      1      1        1      1         0   \n",
       "              B44      27      27     27     27       27     27         0   \n",
       "\n",
       "                       group  main_group  \n",
       "anchor        context                     \n",
       "abatement     A47          0           0  \n",
       "              A61          0           0  \n",
       "              A62          0           0  \n",
       "              C01          0           0  \n",
       "              F16          0           0  \n",
       "...                      ...         ...  \n",
       "wiring trough F16          0           0  \n",
       "              H02          0           0  \n",
       "wood article  B05          0           0  \n",
       "              B27          0           0  \n",
       "              B44          0           0  \n",
       "\n",
       "[1699 rows x 9 columns]"
      ]
     },
     "execution_count": 11,
     "metadata": {},
     "output_type": "execute_result"
    }
   ],
   "source": [
    "train.groupby(['anchor', 'context']).count()"
   ]
  },
  {
   "cell_type": "markdown",
   "id": "82f18484",
   "metadata": {},
   "source": [
    "### Configuration"
   ]
  },
  {
   "cell_type": "code",
   "execution_count": 12,
   "id": "c8cfa83e",
   "metadata": {},
   "outputs": [],
   "source": [
    "class Config():\n",
    "    learning_rate = 8e-6\n",
    "    num_epochs = 4\n",
    "    batch_size = 16\n",
    "    decay = 0.01\n",
    "    max_line_length = 135\n",
    "\n",
    "    base_model = ROBERTA_BASE\n",
    "\n",
    "    root_logdir_tb = \"../../tensorboard-logs\"   # tensorboard logdir\n",
    "\n",
    "    def __init__(self, **kwargs):\n",
    "        for k, v in kwargs.items():\n",
    "            if k in self.__dict__:\n",
    "                setattr(self, k, v)\n",
    "            else:\n",
    "                raise KeyError(k)\n",
    "        \n",
    "\n",
    "\n",
    "config = Config()"
   ]
  },
  {
   "cell_type": "markdown",
   "id": "1c9fd976",
   "metadata": {
    "papermill": {
     "duration": 0.02174,
     "end_time": "2022-06-21T07:11:18.517959",
     "exception": false,
     "start_time": "2022-06-21T07:11:18.496219",
     "status": "completed"
    },
    "tags": []
   },
   "source": [
    "# Data Preparation"
   ]
  },
  {
   "cell_type": "markdown",
   "id": "6dcb4855",
   "metadata": {},
   "source": [
    "#### Loading Model"
   ]
  },
  {
   "cell_type": "code",
   "execution_count": 13,
   "id": "942fd052",
   "metadata": {
    "execution": {
     "iopub.execute_input": "2022-06-21T07:25:28.701418Z",
     "iopub.status.busy": "2022-06-21T07:25:28.701060Z",
     "iopub.status.idle": "2022-06-21T07:25:28.716955Z",
     "shell.execute_reply": "2022-06-21T07:25:28.716216Z"
    },
    "papermill": {
     "duration": 0.198283,
     "end_time": "2022-06-21T07:25:28.718853",
     "exception": false,
     "start_time": "2022-06-21T07:25:28.520570",
     "status": "completed"
    },
    "tags": []
   },
   "outputs": [],
   "source": [
    "from transformers import AutoTokenizer\n",
    "from transformers import TFAutoModelForSequenceClassification"
   ]
  },
  {
   "cell_type": "code",
   "execution_count": 14,
   "id": "2b502bd4",
   "metadata": {
    "execution": {
     "iopub.execute_input": "2022-06-21T07:25:29.085564Z",
     "iopub.status.busy": "2022-06-21T07:25:29.085202Z",
     "iopub.status.idle": "2022-06-21T07:25:29.220069Z",
     "shell.execute_reply": "2022-06-21T07:25:29.219283Z"
    },
    "papermill": {
     "duration": 0.321003,
     "end_time": "2022-06-21T07:25:29.221858",
     "exception": false,
     "start_time": "2022-06-21T07:25:28.900855",
     "status": "completed"
    },
    "tags": []
   },
   "outputs": [],
   "source": [
    "tokenizer = AutoTokenizer.from_pretrained(config.base_model)"
   ]
  },
  {
   "cell_type": "code",
   "execution_count": 15,
   "id": "48d08205",
   "metadata": {
    "execution": {
     "iopub.execute_input": "2022-06-21T07:25:29.586346Z",
     "iopub.status.busy": "2022-06-21T07:25:29.585948Z",
     "iopub.status.idle": "2022-06-21T07:25:36.969555Z",
     "shell.execute_reply": "2022-06-21T07:25:36.968755Z"
    },
    "papermill": {
     "duration": 7.567751,
     "end_time": "2022-06-21T07:25:36.971557",
     "exception": false,
     "start_time": "2022-06-21T07:25:29.403806",
     "status": "completed"
    },
    "tags": []
   },
   "outputs": [
    {
     "name": "stderr",
     "output_type": "stream",
     "text": [
      "All model checkpoint layers were used when initializing TFRobertaForSequenceClassification.\n",
      "\n",
      "Some layers of TFRobertaForSequenceClassification were not initialized from the model checkpoint at roberta-base and are newly initialized: ['classifier']\n",
      "You should probably TRAIN this model on a down-stream task to be able to use it for predictions and inference.\n"
     ]
    }
   ],
   "source": [
    "model_pretrained = TFAutoModelForSequenceClassification.from_pretrained(config.base_model, trainable=True, return_dict=True, num_labels=5, output_hidden_states=True)"
   ]
  },
  {
   "cell_type": "code",
   "execution_count": 16,
   "id": "cddaed5b",
   "metadata": {},
   "outputs": [],
   "source": [
    "#tokenizer.add_special_tokens({'additional_special_tokens': context_list})"
   ]
  },
  {
   "cell_type": "markdown",
   "id": "9f0bc05a",
   "metadata": {},
   "source": [
    "#### Building the Input Value for the Model - The Text Corpus"
   ]
  },
  {
   "cell_type": "markdown",
   "id": "4a779b6a",
   "metadata": {},
   "source": [
    "Seperating the loaded cpc titles. They are concatenated by \";\".  "
   ]
  },
  {
   "cell_type": "code",
   "execution_count": 17,
   "id": "108644b0",
   "metadata": {},
   "outputs": [],
   "source": [
    "# Seperating the cpc titles\n",
    "train['title'] = train.title.apply(lambda text: text.split(';'))\n",
    "train['title'] = train.title.apply(lambda context: ' '.join(context))"
   ]
  },
  {
   "cell_type": "markdown",
   "id": "600fdcab",
   "metadata": {
    "papermill": {
     "duration": 0.021974,
     "end_time": "2022-06-21T07:11:18.561571",
     "exception": false,
     "start_time": "2022-06-21T07:11:18.539597",
     "status": "completed"
    },
    "tags": []
   },
   "source": [
    "#### Special Tokens"
   ]
  },
  {
   "cell_type": "code",
   "execution_count": 18,
   "id": "703a57ac",
   "metadata": {},
   "outputs": [
    {
     "name": "stdout",
     "output_type": "stream",
     "text": [
      "Seperater Token: </s>\n"
     ]
    }
   ],
   "source": [
    "sep_token = tokenizer.sep_token\n",
    "print(f'Seperater Token: {sep_token}')"
   ]
  },
  {
   "cell_type": "code",
   "execution_count": 19,
   "id": "3836b316",
   "metadata": {},
   "outputs": [
    {
     "data": {
      "text/plain": [
       "['<s>', '</s>', '<unk>', '<pad>', '<mask>']"
      ]
     },
     "execution_count": 19,
     "metadata": {},
     "output_type": "execute_result"
    }
   ],
   "source": [
    "tokenizer.all_special_tokens"
   ]
  },
  {
   "cell_type": "markdown",
   "id": "7c77ef0d",
   "metadata": {},
   "source": [
    "Defining the context as special token for the Tokenizer"
   ]
  },
  {
   "cell_type": "code",
   "execution_count": 20,
   "id": "3d32ba65",
   "metadata": {
    "execution": {
     "iopub.execute_input": "2022-06-21T07:11:18.606825Z",
     "iopub.status.busy": "2022-06-21T07:11:18.606042Z",
     "iopub.status.idle": "2022-06-21T07:11:18.623976Z",
     "shell.execute_reply": "2022-06-21T07:11:18.623217Z"
    },
    "papermill": {
     "duration": 0.042642,
     "end_time": "2022-06-21T07:11:18.625622",
     "exception": false,
     "start_time": "2022-06-21T07:11:18.582980",
     "status": "completed"
    },
    "tags": []
   },
   "outputs": [],
   "source": [
    "train['context_token'] = '[' + train['context'] + ']'\n",
    "test['context_token'] = '[' + test['context'] + ']'\n",
    "context_list = list(train['context_token'].unique())"
   ]
  },
  {
   "cell_type": "code",
   "execution_count": 21,
   "id": "9e7be38e",
   "metadata": {},
   "outputs": [],
   "source": [
    "train['corpus'] = train['anchor'] + sep_token + train['target']\n",
    "train['corpus_w_context'] = train['context_token'] + sep_token + train['corpus']\n",
    "train['corpus_w_full_context'] = train['context_token'] + sep_token + train['corpus'] + sep_token + train['title']\n",
    "\n",
    "test['corpus'] = test['anchor'] + sep_token + test['target']\n",
    "test['corpus_w_context'] = test['context_token'] + sep_token + test['corpus']\n",
    "test['corpus_w_full_context'] = train['context_token'] + sep_token + test['corpus'] + sep_token + test['title']"
   ]
  },
  {
   "cell_type": "markdown",
   "id": "1a675782",
   "metadata": {},
   "source": [
    "#### Train / Test / Val Data\n"
   ]
  },
  {
   "cell_type": "code",
   "execution_count": 22,
   "id": "a4ebeaa5",
   "metadata": {},
   "outputs": [],
   "source": [
    "anchors = train.anchor.unique()"
   ]
  },
  {
   "cell_type": "code",
   "execution_count": 23,
   "metadata": {},
   "outputs": [
    {
     "name": "stdout",
     "output_type": "stream",
     "text": [
      "Amount of diferent anchor values: 733\n"
     ]
    }
   ],
   "source": [
    "print(f\"Amount of diferent anchor values: {len(anchors)}\")"
   ]
  },
  {
   "cell_type": "code",
   "execution_count": 24,
   "id": "89fb9c42",
   "metadata": {},
   "outputs": [],
   "source": [
    "np.random.seed(random_state)\n",
    "np.random.shuffle(anchors)"
   ]
  },
  {
   "cell_type": "code",
   "execution_count": 25,
   "id": "9e0bc096",
   "metadata": {},
   "outputs": [
    {
     "data": {
      "text/plain": [
       "array(['time digital signal', 'antiatherosclerotic', 'filled interior',\n",
       "       'dispersed powder', 'locking formation'], dtype=object)"
      ]
     },
     "execution_count": 25,
     "metadata": {},
     "output_type": "execute_result"
    }
   ],
   "source": [
    "anchors[:5]"
   ]
  },
  {
   "cell_type": "markdown",
   "id": "dd072bc8",
   "metadata": {},
   "source": [
    "This anchor set will work as the basement for the validation set slicing."
   ]
  },
  {
   "cell_type": "code",
   "execution_count": 26,
   "id": "e1bd25bc",
   "metadata": {},
   "outputs": [],
   "source": [
    "val_proportion = 0.25\n",
    "val_size = int(len(anchors)* val_proportion)\n",
    "val_anchors = anchors[:val_size]"
   ]
  },
  {
   "cell_type": "markdown",
   "id": "98adc7ac",
   "metadata": {},
   "source": [
    "Slicing the data (or the over all index) with the validation index into train and validation index."
   ]
  },
  {
   "cell_type": "code",
   "execution_count": 27,
   "id": "3ba3e99b",
   "metadata": {},
   "outputs": [],
   "source": [
    "is_validation = np.isin(train.anchor, val_anchors)\n",
    "idxs = np.arange(len(train))"
   ]
  },
  {
   "cell_type": "code",
   "execution_count": 28,
   "metadata": {},
   "outputs": [
    {
     "data": {
      "text/plain": [
       "(9116, 27357)"
      ]
     },
     "execution_count": 28,
     "metadata": {},
     "output_type": "execute_result"
    }
   ],
   "source": [
    "val_indexes = idxs[is_validation]\n",
    "train_indexes = idxs[~is_validation]\n",
    "len(val_indexes), len(train_indexes)"
   ]
  },
  {
   "cell_type": "markdown",
   "id": "590a2462",
   "metadata": {},
   "source": [
    "Distribution of \"Score\" Values in Train / Val Set"
   ]
  },
  {
   "cell_type": "code",
   "execution_count": 29,
   "id": "9fbc9964",
   "metadata": {},
   "outputs": [
    {
     "data": {
      "text/plain": [
       "0.3623021530138539"
      ]
     },
     "execution_count": 29,
     "metadata": {},
     "output_type": "execute_result"
    }
   ],
   "source": [
    "train.iloc[train_indexes].score.mean()"
   ]
  },
  {
   "cell_type": "code",
   "execution_count": 30,
   "id": "c93f9249",
   "metadata": {},
   "outputs": [
    {
     "data": {
      "text/plain": [
       "0.3613426941641071"
      ]
     },
     "execution_count": 30,
     "metadata": {},
     "output_type": "execute_result"
    }
   ],
   "source": [
    "train.iloc[val_indexes].score.mean()"
   ]
  },
  {
   "cell_type": "markdown",
   "id": "56ea54f1",
   "metadata": {},
   "source": [
    "### Encoding"
   ]
  },
  {
   "cell_type": "markdown",
   "id": "21654e7a",
   "metadata": {},
   "source": [
    "#### Tokenizer Funktion"
   ]
  },
  {
   "cell_type": "code",
   "execution_count": 31,
   "id": "15e0efd3",
   "metadata": {},
   "outputs": [],
   "source": [
    "def tokenize_fkt(text, tokenizer):\n",
    "    MAX_LINE_LENGTH = len(tokenizer(text).input_ids) # removed the tensorflow return\n",
    "    encoded_text = tokenizer.batch_encode_plus(\n",
    "        text,\n",
    "        add_special_tokens=False,\n",
    "        max_length=config.max_line_length,\n",
    "        padding='max_length',\n",
    "        truncation=True,\n",
    "        return_attention_mask=True,\n",
    "        return_token_type_ids=True,\n",
    "        return_tensors=\"tf\"\n",
    "        )\n",
    "\n",
    "    input_ids = np.array(encoded_text[\"input_ids\"], dtype=\"int32\")\n",
    "    attention_masks = np.array(encoded_text[\"attention_mask\"], dtype=\"int32\")\n",
    "    token_type_ids = np.array(encoded_text[\"token_type_ids\"], dtype=\"int32\")\n",
    "\n",
    "    return {\n",
    "        \"input_ids\": input_ids,\n",
    "        \"attention_masks\": attention_masks,\n",
    "        \"token_type_ids\": token_type_ids\n",
    "    }"
   ]
  },
  {
   "cell_type": "markdown",
   "id": "fc38dfde",
   "metadata": {},
   "source": [
    "#### Dataset Train / Val"
   ]
  },
  {
   "cell_type": "code",
   "execution_count": 32,
   "id": "df0e5380",
   "metadata": {},
   "outputs": [],
   "source": [
    "train_encoded = tokenize_fkt(train.loc[train_indexes]['corpus_w_full_context'].tolist(), tokenizer)\n",
    "val_encoded = tokenize_fkt(train.loc[val_indexes]['corpus_w_full_context'].tolist(), tokenizer)\n"
   ]
  },
  {
   "cell_type": "code",
   "execution_count": 33,
   "id": "c3b9d1f8",
   "metadata": {},
   "outputs": [],
   "source": [
    "train_ds = tf.data.Dataset.from_tensor_slices((train_encoded, train.loc[train_indexes]['score'].tolist()))\n",
    "val_ds = tf.data.Dataset.from_tensor_slices((val_encoded, train.loc[val_indexes]['score'].tolist()))"
   ]
  },
  {
   "cell_type": "markdown",
   "id": "72b4f80d",
   "metadata": {},
   "source": [
    "#### Batching Datasets"
   ]
  },
  {
   "cell_type": "code",
   "execution_count": 34,
   "id": "27a916a9",
   "metadata": {},
   "outputs": [],
   "source": [
    "train_ds = (\n",
    "    train_ds\n",
    "    .shuffle(1024)\n",
    "    .batch(config.batch_size)\n",
    "    .prefetch(tf.data.AUTOTUNE)\n",
    ")\n",
    "\n",
    "val_ds = (\n",
    "    val_ds\n",
    "    .batch(config.batch_size)\n",
    "    .prefetch(tf.data.AUTOTUNE)\n",
    ")"
   ]
  },
  {
   "cell_type": "markdown",
   "id": "189157a9",
   "metadata": {},
   "source": [
    "## Model Build"
   ]
  },
  {
   "cell_type": "code",
   "execution_count": 35,
   "id": "c06a56e2",
   "metadata": {},
   "outputs": [],
   "source": [
    "def build_model(config,):\n",
    "    input_ids = tf.keras.Input(shape = (config.max_line_length ), dtype = tf.int32, name=\"input_ids\")\n",
    "    attention_masks = tf.keras.Input(shape = (config.max_line_length), dtype = tf.int32, name=\"attention_masks\")\n",
    "    token_type_ids = tf.keras.Input(shape = (config.max_line_length ), dtype = tf.int32, name=\"token_type_ids\")\n",
    "\n",
    "    base_model = TFAutoModel.from_pretrained(\n",
    "                                    config.base_model,\n",
    "                                    trainable=True,\n",
    "                                    return_dict=True,\n",
    "                                    num_labels=1,\n",
    "                                    output_hidden_states=True,\n",
    "                                    from_pt=True\n",
    "                                )\n",
    "\n",
    "    base_model_out = base_model(\n",
    "                            input_ids = input_ids,\n",
    "                            attention_mask = attention_masks,\n",
    "                            token_type_ids = token_type_ids,\n",
    "                            output_hidden_states=True\n",
    "                            )\n",
    "    \n",
    "    last_hidden_state = base_model_out.last_hidden_state\n",
    "\n",
    "    avg_pool = tf.keras.layers.GlobalAveragePooling1D()(last_hidden_state)\n",
    "    dropout = tf.keras.layers.Dropout(0.3)(avg_pool)\n",
    "    #x = tf.keras.layers.Dense(32, activation='relu')(x)\n",
    "    output = tf.keras.layers.Dense(1, activation=\"sigmoid\")(dropout)\n",
    "\n",
    "    model = tf.keras.models.Model(\n",
    "        inputs = [input_ids, attention_masks, token_type_ids],\n",
    "        outputs = output\n",
    "    )\n",
    "\n",
    "    model.compile(\n",
    "        optimizer = tf.keras.optimizers.Nadam(learning_rate=config.learning_rate),\n",
    "        loss = tf.keras.losses.BinaryCrossentropy()\n",
    "    )\n",
    "\n",
    "    return model\n",
    "    "
   ]
  },
  {
   "cell_type": "code",
   "execution_count": 36,
   "metadata": {},
   "outputs": [
    {
     "name": "stderr",
     "output_type": "stream",
     "text": [
      "Some weights of the PyTorch model were not used when initializing the TF 2.0 model TFRobertaModel: ['lm_head.layer_norm.bias', 'lm_head.layer_norm.weight', 'lm_head.bias', 'lm_head.dense.weight', 'lm_head.dense.bias', 'lm_head.decoder.weight']\n",
      "- This IS expected if you are initializing TFRobertaModel from a PyTorch model trained on another task or with another architecture (e.g. initializing a TFBertForSequenceClassification model from a BertForPreTraining model).\n",
      "- This IS NOT expected if you are initializing TFRobertaModel from a PyTorch model that you expect to be exactly identical (e.g. initializing a TFBertForSequenceClassification model from a BertForSequenceClassification model).\n",
      "All the weights of TFRobertaModel were initialized from the PyTorch model.\n",
      "If your task is similar to the task the model of the checkpoint was trained on, you can already use TFRobertaModel for predictions without further training.\n"
     ]
    }
   ],
   "source": [
    "model = build_model(config)"
   ]
  },
  {
   "cell_type": "code",
   "execution_count": 41,
   "id": "7a62654a",
   "metadata": {
    "execution": {
     "iopub.execute_input": "2022-06-21T07:25:58.618386Z",
     "iopub.status.busy": "2022-06-21T07:25:58.617626Z",
     "iopub.status.idle": "2022-06-21T07:25:58.635279Z",
     "shell.execute_reply": "2022-06-21T07:25:58.634476Z"
    },
    "papermill": {
     "duration": 0.200859,
     "end_time": "2022-06-21T07:25:58.637447",
     "exception": false,
     "start_time": "2022-06-21T07:25:58.436588",
     "status": "completed"
    },
    "tags": []
   },
   "outputs": [
    {
     "name": "stdout",
     "output_type": "stream",
     "text": [
      "Model: \"model\"\n",
      "__________________________________________________________________________________________________\n",
      " Layer (type)                   Output Shape         Param #     Connected to                     \n",
      "==================================================================================================\n",
      " input_ids (InputLayer)         [(None, 135)]        0           []                               \n",
      "                                                                                                  \n",
      " attention_masks (InputLayer)   [(None, 135)]        0           []                               \n",
      "                                                                                                  \n",
      " token_type_ids (InputLayer)    [(None, 135)]        0           []                               \n",
      "                                                                                                  \n",
      " tf_roberta_model (TFRobertaMod  TFBaseModelOutputWi  124645632  ['input_ids[0][0]',              \n",
      " el)                            thPoolingAndCrossAt               'attention_masks[0][0]',        \n",
      "                                tentions(last_hidde               'token_type_ids[0][0]']         \n",
      "                                n_state=(None, 135,                                               \n",
      "                                 768),                                                            \n",
      "                                 pooler_output=(Non                                               \n",
      "                                e, 768),                                                          \n",
      "                                 past_key_values=No                                               \n",
      "                                ne, hidden_states=(                                               \n",
      "                                (None, 135, 768),                                                 \n",
      "                                 (None, 135, 768),                                                \n",
      "                                 (None, 135, 768),                                                \n",
      "                                 (None, 135, 768),                                                \n",
      "                                 (None, 135, 768),                                                \n",
      "                                 (None, 135, 768),                                                \n",
      "                                 (None, 135, 768),                                                \n",
      "                                 (None, 135, 768),                                                \n",
      "                                 (None, 135, 768),                                                \n",
      "                                 (None, 135, 768),                                                \n",
      "                                 (None, 135, 768),                                                \n",
      "                                 (None, 135, 768),                                                \n",
      "                                 (None, 135, 768)),                                               \n",
      "                                 attentions=None, c                                               \n",
      "                                ross_attentions=Non                                               \n",
      "                                e)                                                                \n",
      "                                                                                                  \n",
      " global_average_pooling1d (Glob  (None, 768)         0           ['tf_roberta_model[0][13]']      \n",
      " alAveragePooling1D)                                                                              \n",
      "                                                                                                  \n",
      " dropout_75 (Dropout)           (None, 768)          0           ['global_average_pooling1d[0][0]'\n",
      "                                                                 ]                                \n",
      "                                                                                                  \n",
      " dense (Dense)                  (None, 1)            769         ['dropout_75[0][0]']             \n",
      "                                                                                                  \n",
      "==================================================================================================\n",
      "Total params: 124,646,401\n",
      "Trainable params: 124,646,401\n",
      "Non-trainable params: 0\n",
      "__________________________________________________________________________________________________\n"
     ]
    }
   ],
   "source": [
    "model.summary()"
   ]
  },
  {
   "cell_type": "code",
   "execution_count": null,
   "id": "a0501ba7",
   "metadata": {
    "execution": {
     "iopub.execute_input": "2022-06-21T07:11:59.178277Z",
     "iopub.status.busy": "2022-06-21T07:11:59.177683Z",
     "iopub.status.idle": "2022-06-21T07:12:00.252358Z",
     "shell.execute_reply": "2022-06-21T07:12:00.251435Z"
    },
    "papermill": {
     "duration": 1.099992,
     "end_time": "2022-06-21T07:12:00.254420",
     "exception": false,
     "start_time": "2022-06-21T07:11:59.154428",
     "status": "completed"
    },
    "tags": []
   },
   "outputs": [
    {
     "name": "stdout",
     "output_type": "stream",
     "text": [
      "You must install pydot (`pip install pydot`) and install graphviz (see instructions at https://graphviz.gitlab.io/download/) for plot_model/model_to_dot to work.\n"
     ]
    }
   ],
   "source": [
    "tf.keras.utils.plot_model(model, show_shapes=True, to_file='multichannel.png')"
   ]
  },
  {
   "cell_type": "markdown",
   "id": "29511206",
   "metadata": {},
   "source": [
    "#### Helpers for Keras Training"
   ]
  },
  {
   "cell_type": "code",
   "execution_count": 42,
   "id": "a8ec7b49",
   "metadata": {
    "execution": {
     "iopub.execute_input": "2022-06-21T07:11:21.189805Z",
     "iopub.status.busy": "2022-06-21T07:11:21.189067Z",
     "iopub.status.idle": "2022-06-21T07:11:22.117638Z",
     "shell.execute_reply": "2022-06-21T07:11:22.116620Z"
    },
    "papermill": {
     "duration": 0.955245,
     "end_time": "2022-06-21T07:11:22.120147",
     "exception": false,
     "start_time": "2022-06-21T07:11:21.164902",
     "status": "completed"
    },
    "tags": []
   },
   "outputs": [],
   "source": [
    "#from keras.callbacks import ReduceLROnPlateau\n",
    "#\n",
    "## Tensorboard logging structure function\n",
    "#root_logdir = \"../../tensorboard-logs\"\n",
    "#\n",
    "#def get_run_logdir(root_logdir, project):\n",
    "#    '''\n",
    "#    Returns logdir to the Tensorboard log for a specific project.\n",
    "#\n",
    "#            Parameters:\n",
    "#                    root_logdir (str) : basic logdir from Tensorboard\n",
    "#                    project (str): projectname that will be logged in TB\n",
    "#\n",
    "#            Returns:\n",
    "#                    os.path (str): Path to the final logdir\n",
    "#    '''\n",
    "#    import time\n",
    "#    run_id = time.strftime(\"run_%Y_%m_%d-%H_%M_%S\")\n",
    "#    project_logdir = os.path.join(root_logdir,project)\n",
    "#    return os.path.join(project_logdir, run_id)\n",
    "#\n",
    "#\n",
    "#def lr_scheduler(epoch):\n",
    "#  \"\"\"\n",
    "#  Returns a custom learning rate that decreases as epochs progress.\n",
    "#  \"\"\"\n",
    "#  #decay = config.decay\n",
    "#  #init_lr = config.learning_rate \n",
    "#\n",
    "#  learning_rate = config.learning_rate * (1 / (1 + config.decay * epoch))\n",
    "#\n",
    "#  tf.summary.scalar('learning rate', data=learning_rate, step=epoch)\n",
    "#  return learning_rate\n",
    "#\n",
    "#\n",
    "#def lr_scheduler_2(epoch):\n",
    "#    learning_rate = 2e-6 # 0.000006\n",
    "#    if epoch == 0:\n",
    "#        return learning_rate * 0.06 #0.000006\n",
    "#    else:\n",
    "#        return learning_rate * (0.9**epoch)\n",
    "#\n",
    "#\n",
    "#tensorboard_callback = tf.keras.callbacks.TensorBoard(log_dir=get_run_logdir(config.root_logdir_tb,\"nlp_phrase2phrase\"), histogram_freq=1)\n",
    "#tensorboard_callback_roberta = tf.keras.callbacks.TensorBoard(log_dir=get_run_logdir(config.root_logdir_tb,\"nlp_phrase2phrase_roberta\"), histogram_freq=1)\n",
    "#lr_callback_roberta = tf.keras.callbacks.LearningRateScheduler(lr_scheduler)\n",
    "#\n",
    "#checkpoint_cb_roberta = keras.callbacks.ModelCheckpoint(\"trained_model_cp.h5\", save_best_only=True, save_weights_only=True, monitor='val_loss', save_freq='epoch')\n",
    "#earlystopping_roberta = keras.callbacks.EarlyStopping(monitor='val_loss', patience=3, restore_best_weights=True)"
   ]
  },
  {
   "cell_type": "code",
   "execution_count": 43,
   "id": "d8b6ba6a",
   "metadata": {},
   "outputs": [],
   "source": [
    "#plt.plot([lr_scheduler(e) for e in range(10)])"
   ]
  },
  {
   "cell_type": "code",
   "execution_count": 37,
   "id": "ba023e77",
   "metadata": {},
   "outputs": [
    {
     "name": "stdout",
     "output_type": "stream",
     "text": [
      "Epoch 1/4\n",
      "WARNING:tensorflow:Gradients do not exist for variables ['tf_roberta_model/roberta/pooler/dense/kernel:0', 'tf_roberta_model/roberta/pooler/dense/bias:0'] when minimizing the loss. If you're using `model.compile()`, did you forget to provide a `loss`argument?\n",
      "WARNING:tensorflow:Gradients do not exist for variables ['tf_roberta_model/roberta/pooler/dense/kernel:0', 'tf_roberta_model/roberta/pooler/dense/bias:0'] when minimizing the loss. If you're using `model.compile()`, did you forget to provide a `loss`argument?\n",
      "1710/1710 [==============================] - 508s 286ms/step - loss: 0.6019 - val_loss: 0.5703\n",
      "Epoch 2/4\n",
      "1710/1710 [==============================] - 489s 286ms/step - loss: 0.5680 - val_loss: 0.5608\n",
      "Epoch 3/4\n",
      "1710/1710 [==============================] - 486s 284ms/step - loss: 0.5526 - val_loss: 0.5636\n",
      "Epoch 4/4\n",
      "1710/1710 [==============================] - 522s 305ms/step - loss: 0.5427 - val_loss: 0.5602\n"
     ]
    }
   ],
   "source": [
    "history = model.fit(\n",
    "    train_ds,\n",
    "    validation_data = val_ds,\n",
    "    epochs = config.num_epochs\n",
    ")"
   ]
  },
  {
   "cell_type": "code",
   "execution_count": 40,
   "id": "524a499d",
   "metadata": {},
   "outputs": [],
   "source": [
    "model.save(\"roberta_trained_01.h5\")"
   ]
  },
  {
   "cell_type": "markdown",
   "id": "a0b85831",
   "metadata": {},
   "source": [
    "#### Loss Curves"
   ]
  },
  {
   "cell_type": "code",
   "execution_count": 39,
   "id": "4a047a58",
   "metadata": {},
   "outputs": [
    {
     "data": {
      "text/plain": [
       "[<matplotlib.lines.Line2D at 0x2196a5c80a0>]"
      ]
     },
     "execution_count": 39,
     "metadata": {},
     "output_type": "execute_result"
    },
    {
     "data": {
      "image/png": "[encoded data removed]",
      "text/plain": [
       "<Figure size 432x288 with 1 Axes>"
      ]
     },
     "metadata": {
      "needs_background": "light"
     },
     "output_type": "display_data"
    }
   ],
   "source": [
    "plt.plot(history.history['loss'])\n",
    "plt.plot(history.history['val_loss'])"
   ]
  },
  {
   "cell_type": "code",
   "execution_count": null,
   "id": "927dbcdd",
   "metadata": {},
   "outputs": [],
   "source": []
  },
  {
   "cell_type": "code",
   "execution_count": null,
   "id": "e3d78898",
   "metadata": {},
   "outputs": [],
   "source": []
  },
  {
   "cell_type": "code",
   "execution_count": null,
   "id": "d162b6ce",
   "metadata": {},
   "outputs": [],
   "source": []
  },
  {
   "cell_type": "code",
   "execution_count": null,
   "id": "d03c9c95",
   "metadata": {},
   "outputs": [],
   "source": []
  },
  {
   "cell_type": "markdown",
   "id": "8c09e4f4",
   "metadata": {
    "papermill": {
     "duration": 0.689944,
     "end_time": "2022-06-21T08:13:56.126043",
     "exception": false,
     "start_time": "2022-06-21T08:13:55.436099",
     "status": "completed"
    },
    "tags": []
   },
   "source": [
    "# Evaluation"
   ]
  },
  {
   "cell_type": "markdown",
   "id": "a3883a3c",
   "metadata": {
    "papermill": {
     "duration": 0.678807,
     "end_time": "2022-06-21T08:14:13.926736",
     "exception": false,
     "start_time": "2022-06-21T08:14:13.247929",
     "status": "completed"
    },
    "tags": []
   },
   "source": [
    "## Test with all Validation Data [Roberta]"
   ]
  },
  {
   "cell_type": "code",
   "execution_count": 60,
   "id": "c54c63b3",
   "metadata": {
    "execution": {
     "iopub.execute_input": "2022-06-21T08:14:15.364562Z",
     "iopub.status.busy": "2022-06-21T08:14:15.364174Z",
     "iopub.status.idle": "2022-06-21T08:15:12.149863Z",
     "shell.execute_reply": "2022-06-21T08:15:12.145695Z"
    },
    "papermill": {
     "duration": 58.226502,
     "end_time": "2022-06-21T08:15:12.837863",
     "exception": false,
     "start_time": "2022-06-21T08:14:14.611361",
     "status": "completed"
    },
    "tags": []
   },
   "outputs": [
    {
     "name": "stdout",
     "output_type": "stream",
     "text": [
      "Models validation loss: 0.9118158221244812 - Models validation accuracy: 0.6363553404808044\n"
     ]
    }
   ],
   "source": [
    "evaluation_roberta = model.evaluate((np.asarray(val_encoded['input_ids']),\n",
    "                              np.asarray(val_encoded['attention_mask']),\n",
    "                             ),\n",
    "                             validating_labels, verbose=0)\n",
    "\n",
    "print(f'Models validation loss: {evaluation_roberta[0]} - Models validation accuracy: {evaluation_roberta[1]}')"
   ]
  },
  {
   "cell_type": "markdown",
   "id": "b9961750",
   "metadata": {
    "papermill": {
     "duration": 0.742733,
     "end_time": "2022-06-21T08:15:20.699473",
     "exception": false,
     "start_time": "2022-06-21T08:15:19.956740",
     "status": "completed"
    },
    "tags": []
   },
   "source": [
    "# Submission File"
   ]
  },
  {
   "cell_type": "markdown",
   "id": "36782573",
   "metadata": {
    "papermill": {
     "duration": 0.749132,
     "end_time": "2022-06-21T08:15:22.150926",
     "exception": false,
     "start_time": "2022-06-21T08:15:21.401794",
     "status": "completed"
    },
    "tags": []
   },
   "source": [
    "## Training on all Data"
   ]
  },
  {
   "cell_type": "markdown",
   "id": "faa639c3",
   "metadata": {
    "papermill": {
     "duration": 0.691666,
     "end_time": "2022-06-21T08:15:23.526545",
     "exception": false,
     "start_time": "2022-06-21T08:15:22.834879",
     "status": "completed"
    },
    "tags": []
   },
   "source": [
    "## Prediction of Test File Values"
   ]
  },
  {
   "cell_type": "code",
   "execution_count": 63,
   "id": "de148d85",
   "metadata": {
    "execution": {
     "iopub.execute_input": "2022-06-21T08:15:25.236203Z",
     "iopub.status.busy": "2022-06-21T08:15:25.235857Z",
     "iopub.status.idle": "2022-06-21T08:15:25.251930Z",
     "shell.execute_reply": "2022-06-21T08:15:25.251103Z"
    },
    "papermill": {
     "duration": 0.944517,
     "end_time": "2022-06-21T08:15:25.253826",
     "exception": false,
     "start_time": "2022-06-21T08:15:24.309309",
     "status": "completed"
    },
    "tags": []
   },
   "outputs": [],
   "source": [
    "#competition_file = pd.DataFrame(columns=['score'])\n",
    "competition_file = pd.read_csv(PHRASES_PATH + \"/sample_submission.csv\")"
   ]
  },
  {
   "cell_type": "code",
   "execution_count": 64,
   "id": "598426b2",
   "metadata": {
    "execution": {
     "iopub.execute_input": "2022-06-21T08:15:26.691643Z",
     "iopub.status.busy": "2022-06-21T08:15:26.691276Z",
     "iopub.status.idle": "2022-06-21T08:15:26.699783Z",
     "shell.execute_reply": "2022-06-21T08:15:26.699079Z"
    },
    "papermill": {
     "duration": 0.757613,
     "end_time": "2022-06-21T08:15:26.701568",
     "exception": false,
     "start_time": "2022-06-21T08:15:25.943955",
     "status": "completed"
    },
    "tags": []
   },
   "outputs": [],
   "source": [
    "test_encoded = preprocess_function(test)"
   ]
  },
  {
   "cell_type": "code",
   "execution_count": 65,
   "id": "40c628f9",
   "metadata": {
    "execution": {
     "iopub.execute_input": "2022-06-21T08:15:28.074281Z",
     "iopub.status.busy": "2022-06-21T08:15:28.073935Z",
     "iopub.status.idle": "2022-06-21T08:15:30.779752Z",
     "shell.execute_reply": "2022-06-21T08:15:30.778919Z"
    },
    "papermill": {
     "duration": 3.395468,
     "end_time": "2022-06-21T08:15:30.781906",
     "exception": false,
     "start_time": "2022-06-21T08:15:27.386438",
     "status": "completed"
    },
    "tags": []
   },
   "outputs": [],
   "source": [
    "test_prediction = model2.predict((np.asarray(test_encoded['input_ids']),\n",
    "                                  np.asarray(test_encoded['attention_mask']) \n",
    "                                  ))"
   ]
  },
  {
   "cell_type": "code",
   "execution_count": 66,
   "id": "c5f95530",
   "metadata": {
    "execution": {
     "iopub.execute_input": "2022-06-21T08:15:32.236182Z",
     "iopub.status.busy": "2022-06-21T08:15:32.235270Z",
     "iopub.status.idle": "2022-06-21T08:15:32.240628Z",
     "shell.execute_reply": "2022-06-21T08:15:32.239871Z"
    },
    "papermill": {
     "duration": 0.702957,
     "end_time": "2022-06-21T08:15:32.242425",
     "exception": false,
     "start_time": "2022-06-21T08:15:31.539468",
     "status": "completed"
    },
    "tags": []
   },
   "outputs": [],
   "source": [
    "competition_file['score'] = encoder.inverse_transform(np.argmax(test_prediction, axis=1))"
   ]
  },
  {
   "cell_type": "code",
   "execution_count": 67,
   "id": "a9d68faa",
   "metadata": {
    "execution": {
     "iopub.execute_input": "2022-06-21T08:15:33.674509Z",
     "iopub.status.busy": "2022-06-21T08:15:33.674143Z",
     "iopub.status.idle": "2022-06-21T08:15:33.861104Z",
     "shell.execute_reply": "2022-06-21T08:15:33.860248Z"
    },
    "papermill": {
     "duration": 0.872058,
     "end_time": "2022-06-21T08:15:33.862954",
     "exception": false,
     "start_time": "2022-06-21T08:15:32.990896",
     "status": "completed"
    },
    "tags": []
   },
   "outputs": [
    {
     "data": {
      "text/plain": [
       "<AxesSubplot:>"
      ]
     },
     "execution_count": 67,
     "metadata": {},
     "output_type": "execute_result"
    },
    {
     "data": {
      "image/png": "[encoded data removed]",
      "text/plain": [
       "<Figure size 432x288 with 1 Axes>"
      ]
     },
     "metadata": {
      "needs_background": "light"
     },
     "output_type": "display_data"
    }
   ],
   "source": [
    "competition_file['score'].hist()"
   ]
  },
  {
   "cell_type": "code",
   "execution_count": 68,
   "id": "45f238ef",
   "metadata": {
    "execution": {
     "iopub.execute_input": "2022-06-21T08:15:35.369190Z",
     "iopub.status.busy": "2022-06-21T08:15:35.368663Z",
     "iopub.status.idle": "2022-06-21T08:15:35.380267Z",
     "shell.execute_reply": "2022-06-21T08:15:35.379319Z"
    },
    "papermill": {
     "duration": 0.825722,
     "end_time": "2022-06-21T08:15:35.383673",
     "exception": false,
     "start_time": "2022-06-21T08:15:34.557951",
     "status": "completed"
    },
    "tags": []
   },
   "outputs": [],
   "source": [
    "competition_file.to_csv('submission.csv', index=False)"
   ]
  },
  {
   "cell_type": "code",
   "execution_count": null,
   "id": "14993f0a",
   "metadata": {
    "papermill": {
     "duration": 0.750863,
     "end_time": "2022-06-21T08:15:37.027713",
     "exception": false,
     "start_time": "2022-06-21T08:15:36.276850",
     "status": "completed"
    },
    "tags": []
   },
   "outputs": [],
   "source": []
  }
 ],
 "metadata": {
  "kernelspec": {
   "display_name": "Python 3.8.13 ('wingpuflake_keras_GPU')",
   "language": "python",
   "name": "python3"
  },
  "language_info": {
   "codemirror_mode": {
    "name": "ipython",
    "version": 3
   },
   "file_extension": ".py",
   "mimetype": "text/x-python",
   "name": "python",
   "nbconvert_exporter": "python",
   "pygments_lexer": "ipython3",
   "version": "3.8.13"
  },
  "papermill": {
   "default_parameters": {},
   "duration": 3886.783291,
   "end_time": "2022-06-21T08:15:40.594219",
   "environment_variables": {},
   "exception": null,
   "input_path": "__notebook__.ipynb",
   "output_path": "__notebook__.ipynb",
   "parameters": {},
   "start_time": "2022-06-21T07:10:53.810928",
   "version": "2.3.4"
  },
  "vscode": {
   "interpreter": {
    "hash": "9f886a0e7e4bdf7e8f253b33537ca1c5dcae8e086cc45ba5445b111bc8663c61"
   }
  }
 },
 "nbformat": 4,
 "nbformat_minor": 5
}
